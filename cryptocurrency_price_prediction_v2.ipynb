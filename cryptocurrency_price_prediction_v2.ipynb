{
 "cells": [
  {
   "cell_type": "code",
   "execution_count": 3,
   "metadata": {},
   "outputs": [
    {
     "name": "stdout",
     "output_type": "stream",
     "text": [
      "Note: you may need to restart the kernel to use updated packages.Collecting pandas\n",
      "  Using cached pandas-2.2.3-cp312-cp312-win_amd64.whl.metadata (19 kB)\n",
      "Collecting numpy>=1.26.0 (from pandas)\n",
      "  Using cached numpy-2.2.1-cp312-cp312-win_amd64.whl.metadata (60 kB)\n",
      "Requirement already satisfied: python-dateutil>=2.8.2 in c:\\users\\sathmika\\appdata\\roaming\\python\\python312\\site-packages (from pandas) (2.9.0.post0)\n",
      "Collecting pytz>=2020.1 (from pandas)\n",
      "  Using cached pytz-2024.2-py2.py3-none-any.whl.metadata (22 kB)\n",
      "Collecting tzdata>=2022.7 (from pandas)\n",
      "  Using cached tzdata-2024.2-py2.py3-none-any.whl.metadata (1.4 kB)\n",
      "Requirement already satisfied: six>=1.5 in c:\\users\\sathmika\\appdata\\roaming\\python\\python312\\site-packages (from python-dateutil>=2.8.2->pandas) (1.16.0)\n",
      "Using cached pandas-2.2.3-cp312-cp312-win_amd64.whl (11.5 MB)\n",
      "Using cached numpy-2.2.1-cp312-cp312-win_amd64.whl (12.6 MB)\n",
      "Using cached pytz-2024.2-py2.py3-none-any.whl (508 kB)\n",
      "Using cached tzdata-2024.2-py2.py3-none-any.whl (346 kB)\n",
      "Installing collected packages: pytz, tzdata, numpy, pandas\n",
      "Successfully installed numpy-2.2.1 pandas-2.2.3 pytz-2024.2 tzdata-2024.2\n",
      "\n"
     ]
    }
   ],
   "source": [
    "pip install pandas"
   ]
  },
  {
   "cell_type": "code",
   "execution_count": 4,
   "metadata": {},
   "outputs": [
    {
     "name": "stdout",
     "output_type": "stream",
     "text": [
      "Requirement already satisfied: numpy in c:\\users\\sathmika\\anaconda3\\envs\\tft\\lib\\site-packages (2.2.1)\n",
      "Note: you may need to restart the kernel to use updated packages.\n"
     ]
    }
   ],
   "source": [
    "pip install numpy"
   ]
  },
  {
   "cell_type": "code",
   "execution_count": 5,
   "metadata": {},
   "outputs": [],
   "source": [
    "import pandas as pd\n",
    "import numpy as np"
   ]
  },
  {
   "cell_type": "code",
   "execution_count": 1,
   "metadata": {},
   "outputs": [],
   "source": [
    "# data preprocessing\n",
    "# load datsets\n"
   ]
  },
  {
   "cell_type": "code",
   "execution_count": 107,
   "metadata": {},
   "outputs": [],
   "source": [
    "BTC_Dataset = pd.read_csv('Datasetsv2/Bitcoin.csv')\n",
    "Gold = pd.read_csv('Datasetsv2/gold_prices.csv')\n",
    "Interst_Rate = pd.read_csv('Datasetsv2/interest_rate.csv')\n",
    "VIX = pd.read_csv('Datasetsv2/VIX_History.csv')"
   ]
  },
  {
   "cell_type": "code",
   "execution_count": 108,
   "metadata": {},
   "outputs": [
    {
     "data": {
      "text/html": [
       "<div>\n",
       "<style scoped>\n",
       "    .dataframe tbody tr th:only-of-type {\n",
       "        vertical-align: middle;\n",
       "    }\n",
       "\n",
       "    .dataframe tbody tr th {\n",
       "        vertical-align: top;\n",
       "    }\n",
       "\n",
       "    .dataframe thead th {\n",
       "        text-align: right;\n",
       "    }\n",
       "</style>\n",
       "<table border=\"1\" class=\"dataframe\">\n",
       "  <thead>\n",
       "    <tr style=\"text-align: right;\">\n",
       "      <th></th>\n",
       "      <th>Date</th>\n",
       "      <th>Price</th>\n",
       "      <th>Open</th>\n",
       "      <th>High</th>\n",
       "      <th>Low</th>\n",
       "      <th>Vol.</th>\n",
       "      <th>Change %</th>\n",
       "    </tr>\n",
       "  </thead>\n",
       "  <tbody>\n",
       "    <tr>\n",
       "      <th>0</th>\n",
       "      <td>01/09/2025</td>\n",
       "      <td>92,539.8</td>\n",
       "      <td>95,066.6</td>\n",
       "      <td>95,323.1</td>\n",
       "      <td>91,241.9</td>\n",
       "      <td>132.78K</td>\n",
       "      <td>-2.66%</td>\n",
       "    </tr>\n",
       "    <tr>\n",
       "      <th>1</th>\n",
       "      <td>01/08/2025</td>\n",
       "      <td>95,066.6</td>\n",
       "      <td>96,938.2</td>\n",
       "      <td>97,266.4</td>\n",
       "      <td>92,716.6</td>\n",
       "      <td>100.36K</td>\n",
       "      <td>-1.92%</td>\n",
       "    </tr>\n",
       "    <tr>\n",
       "      <th>2</th>\n",
       "      <td>01/07/2025</td>\n",
       "      <td>96,929.8</td>\n",
       "      <td>102,247.9</td>\n",
       "      <td>102,678.2</td>\n",
       "      <td>96,201.3</td>\n",
       "      <td>99.77K</td>\n",
       "      <td>-5.20%</td>\n",
       "    </tr>\n",
       "    <tr>\n",
       "      <th>3</th>\n",
       "      <td>01/06/2025</td>\n",
       "      <td>102,248.7</td>\n",
       "      <td>98,373.2</td>\n",
       "      <td>102,474.5</td>\n",
       "      <td>97,932.3</td>\n",
       "      <td>86.73K</td>\n",
       "      <td>3.97%</td>\n",
       "    </tr>\n",
       "    <tr>\n",
       "      <th>4</th>\n",
       "      <td>01/05/2025</td>\n",
       "      <td>98,347.7</td>\n",
       "      <td>98,220.1</td>\n",
       "      <td>98,823.1</td>\n",
       "      <td>97,300.0</td>\n",
       "      <td>31.34K</td>\n",
       "      <td>0.13%</td>\n",
       "    </tr>\n",
       "  </tbody>\n",
       "</table>\n",
       "</div>"
      ],
      "text/plain": [
       "         Date      Price       Open       High       Low     Vol. Change %\n",
       "0  01/09/2025   92,539.8   95,066.6   95,323.1  91,241.9  132.78K   -2.66%\n",
       "1  01/08/2025   95,066.6   96,938.2   97,266.4  92,716.6  100.36K   -1.92%\n",
       "2  01/07/2025   96,929.8  102,247.9  102,678.2  96,201.3   99.77K   -5.20%\n",
       "3  01/06/2025  102,248.7   98,373.2  102,474.5  97,932.3   86.73K    3.97%\n",
       "4  01/05/2025   98,347.7   98,220.1   98,823.1  97,300.0   31.34K    0.13%"
      ]
     },
     "execution_count": 108,
     "metadata": {},
     "output_type": "execute_result"
    }
   ],
   "source": [
    "BTC_Dataset.head()"
   ]
  },
  {
   "cell_type": "code",
   "execution_count": 109,
   "metadata": {},
   "outputs": [
    {
     "name": "stdout",
     "output_type": "stream",
     "text": [
      "Are there any missing values? (np.False_, np.True_, np.False_, np.False_)\n"
     ]
    }
   ],
   "source": [
    "missing_BTC = BTC_Dataset.isnull().any().any()\n",
    "missing_Gold = Gold.isnull().any().any()\n",
    "missing_Interest_Rate = Interst_Rate.isnull().any().any()\n",
    "missing_VIX = VIX.isnull().any().any()\n",
    "print(f\"Are there any missing values? {missing_BTC, missing_Gold, missing_Interest_Rate, missing_VIX}\")"
   ]
  },
  {
   "cell_type": "code",
   "execution_count": 110,
   "metadata": {},
   "outputs": [
    {
     "name": "stdout",
     "output_type": "stream",
     "text": [
      "           date   value\n",
      "3328  1/11/2025     NaN\n",
      "3329  1/12/2025     NaN\n",
      "3330  1/13/2025     NaN\n",
      "3331  1/14/2025     NaN\n",
      "3332  1/15/2025     NaN\n",
      "3333  1/16/2025     NaN\n",
      "3334  1/17/2025     NaN\n",
      "3335  1/18/2025     NaN\n",
      "3336  1/19/2025     NaN\n",
      "3337  1/20/2025     NaN\n",
      "3338  1/21/2025     NaN\n",
      "3339  1/22/2025     NaN\n",
      "3340  1/23/2025     NaN\n",
      "3341  1/24/2025     NaN\n",
      "3342  1/25/2025     NaN\n",
      "3343  1/26/2025     NaN\n",
      "3344  1/27/2025     NaN\n",
      "3345  1/28/2025     NaN\n",
      "3346  1/29/2025     NaN\n",
      "3347  1/30/2025     NaN\n",
      "3348  1/31/2025     NaN\n"
     ]
    }
   ],
   "source": [
    "missing_rows = Gold[Gold.isnull().any(axis=1)]\n",
    "print(missing_rows)\n"
   ]
  },
  {
   "cell_type": "code",
   "execution_count": 111,
   "metadata": {},
   "outputs": [],
   "source": [
    "# drop missing values\n",
    "Gold = Gold.dropna()"
   ]
  },
  {
   "cell_type": "code",
   "execution_count": 112,
   "metadata": {},
   "outputs": [
    {
     "name": "stdout",
     "output_type": "stream",
     "text": [
      "Are there any missing values? (np.False_, np.False_, np.False_, np.False_)\n"
     ]
    }
   ],
   "source": [
    "missing_BTC = BTC_Dataset.isnull().any().any()\n",
    "missing_Gold = Gold.isnull().any().any()\n",
    "missing_Interest_Rate = Interst_Rate.isnull().any().any()\n",
    "missing_VIX = VIX.isnull().any().any()\n",
    "print(f\"Are there any missing values? {missing_BTC, missing_Gold, missing_Interest_Rate, missing_VIX}\")"
   ]
  },
  {
   "cell_type": "code",
   "execution_count": 113,
   "metadata": {},
   "outputs": [],
   "source": [
    "# Drop columns\n",
    "BTC_Dataset = BTC_Dataset.drop(columns=['Open', 'High', 'Low', 'Change %', 'Vol.'])\n",
    "VIX = VIX.drop(columns=['OPEN', 'HIGH', 'LOW'])"
   ]
  },
  {
   "cell_type": "code",
   "execution_count": 114,
   "metadata": {},
   "outputs": [],
   "source": [
    "# convert data types\n",
    "BTC_Dataset['Date'] = pd.to_datetime(BTC_Dataset['Date'])\n",
    "Gold['Date'] = pd.to_datetime(Gold['date'])\n",
    "Interst_Rate['Date'] = pd.to_datetime(Interst_Rate['observation_date'])\n",
    "VIX['Date'] = pd.to_datetime(VIX['DATE'])"
   ]
  },
  {
   "cell_type": "code",
   "execution_count": null,
   "metadata": {},
   "outputs": [],
   "source": [
    "Gold = Gold.drop(columns=['date'])\n",
    "Interst_Rate = Interst_Rate.drop(columns=['observation_date'])\n",
    "VIX = VIX.drop(columns=['DATE'])"
   ]
  },
  {
   "cell_type": "code",
   "execution_count": 120,
   "metadata": {},
   "outputs": [
    {
     "data": {
      "text/html": [
       "<div>\n",
       "<style scoped>\n",
       "    .dataframe tbody tr th:only-of-type {\n",
       "        vertical-align: middle;\n",
       "    }\n",
       "\n",
       "    .dataframe tbody tr th {\n",
       "        vertical-align: top;\n",
       "    }\n",
       "\n",
       "    .dataframe thead th {\n",
       "        text-align: right;\n",
       "    }\n",
       "</style>\n",
       "<table border=\"1\" class=\"dataframe\">\n",
       "  <thead>\n",
       "    <tr style=\"text-align: right;\">\n",
       "      <th></th>\n",
       "      <th>CLOSE</th>\n",
       "    </tr>\n",
       "  </thead>\n",
       "  <tbody>\n",
       "    <tr>\n",
       "      <th>1990-01-02</th>\n",
       "      <td>17.24</td>\n",
       "    </tr>\n",
       "    <tr>\n",
       "      <th>1990-01-03</th>\n",
       "      <td>18.19</td>\n",
       "    </tr>\n",
       "    <tr>\n",
       "      <th>1990-01-04</th>\n",
       "      <td>19.22</td>\n",
       "    </tr>\n",
       "    <tr>\n",
       "      <th>1990-01-05</th>\n",
       "      <td>20.11</td>\n",
       "    </tr>\n",
       "    <tr>\n",
       "      <th>1990-01-06</th>\n",
       "      <td>NaN</td>\n",
       "    </tr>\n",
       "  </tbody>\n",
       "</table>\n",
       "</div>"
      ],
      "text/plain": [
       "            CLOSE\n",
       "1990-01-02  17.24\n",
       "1990-01-03  18.19\n",
       "1990-01-04  19.22\n",
       "1990-01-05  20.11\n",
       "1990-01-06    NaN"
      ]
     },
     "execution_count": 120,
     "metadata": {},
     "output_type": "execute_result"
    }
   ],
   "source": [
    "VIX.head()"
   ]
  },
  {
   "cell_type": "code",
   "execution_count": 105,
   "metadata": {},
   "outputs": [],
   "source": [
    "# remove unwanted dates\n",
    "start_date = '1990-01-02'\n",
    "end_date = '2015-01-09'\n",
    "\n",
    "VIX = VIX[~VIX['Date'].between(start_date, end_date)]"
   ]
  },
  {
   "cell_type": "code",
   "execution_count": null,
   "metadata": {},
   "outputs": [],
   "source": [
    "# reverse the date order to ensure all datasets in the same order\n",
    "VIX = VIX.iloc[::-1].reset_index(drop=True)"
   ]
  },
  {
   "cell_type": "code",
   "execution_count": 116,
   "metadata": {},
   "outputs": [
    {
     "data": {
      "text/html": [
       "<div>\n",
       "<style scoped>\n",
       "    .dataframe tbody tr th:only-of-type {\n",
       "        vertical-align: middle;\n",
       "    }\n",
       "\n",
       "    .dataframe tbody tr th {\n",
       "        vertical-align: top;\n",
       "    }\n",
       "\n",
       "    .dataframe thead th {\n",
       "        text-align: right;\n",
       "    }\n",
       "</style>\n",
       "<table border=\"1\" class=\"dataframe\">\n",
       "  <thead>\n",
       "    <tr style=\"text-align: right;\">\n",
       "      <th></th>\n",
       "      <th>CLOSE</th>\n",
       "      <th>Date</th>\n",
       "    </tr>\n",
       "  </thead>\n",
       "  <tbody>\n",
       "    <tr>\n",
       "      <th>0</th>\n",
       "      <td>17.24</td>\n",
       "      <td>1990-01-02</td>\n",
       "    </tr>\n",
       "    <tr>\n",
       "      <th>1</th>\n",
       "      <td>18.19</td>\n",
       "      <td>1990-01-03</td>\n",
       "    </tr>\n",
       "    <tr>\n",
       "      <th>2</th>\n",
       "      <td>19.22</td>\n",
       "      <td>1990-01-04</td>\n",
       "    </tr>\n",
       "    <tr>\n",
       "      <th>3</th>\n",
       "      <td>20.11</td>\n",
       "      <td>1990-01-05</td>\n",
       "    </tr>\n",
       "    <tr>\n",
       "      <th>4</th>\n",
       "      <td>20.26</td>\n",
       "      <td>1990-01-08</td>\n",
       "    </tr>\n",
       "  </tbody>\n",
       "</table>\n",
       "</div>"
      ],
      "text/plain": [
       "   CLOSE       Date\n",
       "0  17.24 1990-01-02\n",
       "1  18.19 1990-01-03\n",
       "2  19.22 1990-01-04\n",
       "3  20.11 1990-01-05\n",
       "4  20.26 1990-01-08"
      ]
     },
     "execution_count": 116,
     "metadata": {},
     "output_type": "execute_result"
    }
   ],
   "source": [
    "# Gold.dtypes\n",
    "# Interst_Rate.head() -> 2015\n",
    "VIX.head()\n",
    "# BTC_Dataset.head() -> 2025"
   ]
  },
  {
   "cell_type": "code",
   "execution_count": null,
   "metadata": {},
   "outputs": [],
   "source": []
  }
 ],
 "metadata": {
  "kernelspec": {
   "display_name": "tft",
   "language": "python",
   "name": "python3"
  },
  "language_info": {
   "codemirror_mode": {
    "name": "ipython",
    "version": 3
   },
   "file_extension": ".py",
   "mimetype": "text/x-python",
   "name": "python",
   "nbconvert_exporter": "python",
   "pygments_lexer": "ipython3",
   "version": "3.12.8"
  }
 },
 "nbformat": 4,
 "nbformat_minor": 2
}
