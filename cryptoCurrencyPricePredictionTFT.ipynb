{
 "cells": [
  {
   "cell_type": "code",
   "id": "initial_id",
   "metadata": {
    "collapsed": true,
    "ExecuteTime": {
     "end_time": "2024-11-01T16:53:48.772172Z",
     "start_time": "2024-11-01T16:53:39.709460Z"
    }
   },
   "source": [
    "import torch\n",
    "import pandas as pd\n",
    "import numpy as np\n",
    "from pytorch_forecasting import TemporalFusionTransformer, TimeSeriesDataSet\n",
    "from pytorch_forecasting.data import NaNLabelEncoder\n",
    "from pytorch_forecasting.metrics import QuantileLoss\n",
    "from sklearn.preprocessing import MinMaxScaler"
   ],
   "outputs": [],
   "execution_count": 3
  },
  {
   "metadata": {
    "ExecuteTime": {
     "end_time": "2024-11-01T17:00:00.637343Z",
     "start_time": "2024-11-01T17:00:00.615002Z"
    }
   },
   "cell_type": "code",
   "source": [
    "BTC_Dataset = pd.read_csv('datasets/BTC-USD.csv')\n",
    "Gold_Dataset = pd.read_csv('datasets/Gold Price.csv')\n",
    "Google_Trends_Dataset = pd.read_csv('datasets/google_trends.csv')\n",
    "Interest_Rate_Dataset = pd.read_csv('datasets/Interest_rate.csv')\n",
    "VIX_Dataset = pd.read_csv('datasets/vix_historical.csv')"
   ],
   "id": "870d19586e2af314",
   "outputs": [],
   "execution_count": 10
  },
  {
   "metadata": {
    "ExecuteTime": {
     "end_time": "2024-11-01T16:58:41.361050Z",
     "start_time": "2024-11-01T16:58:41.345040Z"
    }
   },
   "cell_type": "code",
   "source": "BTC_Dataset.head()",
   "id": "ab920674e8593088",
   "outputs": [
    {
     "data": {
      "text/plain": [
       "         Date          Open          High          Low        Close  \\\n",
       "0  2019-08-28  10203.426758  10279.366211  9716.656250  9754.422852   \n",
       "1  2019-08-29   9756.786133   9756.786133  9421.629883  9510.200195   \n",
       "2  2019-08-30   9514.844727   9656.124023  9428.302734  9598.173828   \n",
       "3  2019-08-31   9597.539063   9673.220703  9531.799805  9630.664063   \n",
       "4  2019-09-01   9630.592773   9796.755859  9582.944336  9757.970703   \n",
       "\n",
       "     Adj Close       Volume  \n",
       "0  9754.422852  17603790323  \n",
       "1  9510.200195  17045878501  \n",
       "2  9598.173828  13595263986  \n",
       "3  9630.664063  11454806419  \n",
       "4  9757.970703  11445355859  "
      ],
      "text/html": [
       "<div>\n",
       "<style scoped>\n",
       "    .dataframe tbody tr th:only-of-type {\n",
       "        vertical-align: middle;\n",
       "    }\n",
       "\n",
       "    .dataframe tbody tr th {\n",
       "        vertical-align: top;\n",
       "    }\n",
       "\n",
       "    .dataframe thead th {\n",
       "        text-align: right;\n",
       "    }\n",
       "</style>\n",
       "<table border=\"1\" class=\"dataframe\">\n",
       "  <thead>\n",
       "    <tr style=\"text-align: right;\">\n",
       "      <th></th>\n",
       "      <th>Date</th>\n",
       "      <th>Open</th>\n",
       "      <th>High</th>\n",
       "      <th>Low</th>\n",
       "      <th>Close</th>\n",
       "      <th>Adj Close</th>\n",
       "      <th>Volume</th>\n",
       "    </tr>\n",
       "  </thead>\n",
       "  <tbody>\n",
       "    <tr>\n",
       "      <th>0</th>\n",
       "      <td>2019-08-28</td>\n",
       "      <td>10203.426758</td>\n",
       "      <td>10279.366211</td>\n",
       "      <td>9716.656250</td>\n",
       "      <td>9754.422852</td>\n",
       "      <td>9754.422852</td>\n",
       "      <td>17603790323</td>\n",
       "    </tr>\n",
       "    <tr>\n",
       "      <th>1</th>\n",
       "      <td>2019-08-29</td>\n",
       "      <td>9756.786133</td>\n",
       "      <td>9756.786133</td>\n",
       "      <td>9421.629883</td>\n",
       "      <td>9510.200195</td>\n",
       "      <td>9510.200195</td>\n",
       "      <td>17045878501</td>\n",
       "    </tr>\n",
       "    <tr>\n",
       "      <th>2</th>\n",
       "      <td>2019-08-30</td>\n",
       "      <td>9514.844727</td>\n",
       "      <td>9656.124023</td>\n",
       "      <td>9428.302734</td>\n",
       "      <td>9598.173828</td>\n",
       "      <td>9598.173828</td>\n",
       "      <td>13595263986</td>\n",
       "    </tr>\n",
       "    <tr>\n",
       "      <th>3</th>\n",
       "      <td>2019-08-31</td>\n",
       "      <td>9597.539063</td>\n",
       "      <td>9673.220703</td>\n",
       "      <td>9531.799805</td>\n",
       "      <td>9630.664063</td>\n",
       "      <td>9630.664063</td>\n",
       "      <td>11454806419</td>\n",
       "    </tr>\n",
       "    <tr>\n",
       "      <th>4</th>\n",
       "      <td>2019-09-01</td>\n",
       "      <td>9630.592773</td>\n",
       "      <td>9796.755859</td>\n",
       "      <td>9582.944336</td>\n",
       "      <td>9757.970703</td>\n",
       "      <td>9757.970703</td>\n",
       "      <td>11445355859</td>\n",
       "    </tr>\n",
       "  </tbody>\n",
       "</table>\n",
       "</div>"
      ]
     },
     "execution_count": 7,
     "metadata": {},
     "output_type": "execute_result"
    }
   ],
   "execution_count": 7
  },
  {
   "metadata": {},
   "cell_type": "markdown",
   "source": [
    "preprocessing steps\n",
    "    Fill NaN values\n",
    "    Drop unwanted Columns\n",
    "    Convert Data types\n",
    "    Fill missing dates and value with prev values (if necessary)\n",
    "    set same date range (if necessary)\n",
    "    change the date format (if necessary)\n",
    "    remove dates after 2024-08-28 (if necessary)\n",
    "    Reverse the order (if necessary)"
   ],
   "id": "7ef24759b1b9cc8c"
  },
  {
   "metadata": {
    "ExecuteTime": {
     "end_time": "2024-11-01T17:04:38.907027Z",
     "start_time": "2024-11-01T17:04:38.897715Z"
    }
   },
   "cell_type": "code",
   "source": "BTC_Dataset = BTC_Dataset.drop(['Open', 'High', 'Low', 'Adj Close'], axis=1)",
   "id": "288b5d09c5be0197",
   "outputs": [],
   "execution_count": 11
  },
  {
   "metadata": {
    "ExecuteTime": {
     "end_time": "2024-11-01T17:06:21.274850Z",
     "start_time": "2024-11-01T17:06:21.266282Z"
    }
   },
   "cell_type": "code",
   "source": "BTC_Dataset.tail()",
   "id": "4422df80ce136c08",
   "outputs": [
    {
     "data": {
      "text/plain": [
       "            Date         Close       Volume\n",
       "1823  2024-08-24  64178.992188  21430585163\n",
       "1824  2024-08-25  64333.542969  18827683555\n",
       "1825  2024-08-26  62880.660156  27682040631\n",
       "1826  2024-08-27  59504.132813  39103882198\n",
       "1827  2024-08-28  59621.035156  42965946368"
      ],
      "text/html": [
       "<div>\n",
       "<style scoped>\n",
       "    .dataframe tbody tr th:only-of-type {\n",
       "        vertical-align: middle;\n",
       "    }\n",
       "\n",
       "    .dataframe tbody tr th {\n",
       "        vertical-align: top;\n",
       "    }\n",
       "\n",
       "    .dataframe thead th {\n",
       "        text-align: right;\n",
       "    }\n",
       "</style>\n",
       "<table border=\"1\" class=\"dataframe\">\n",
       "  <thead>\n",
       "    <tr style=\"text-align: right;\">\n",
       "      <th></th>\n",
       "      <th>Date</th>\n",
       "      <th>Close</th>\n",
       "      <th>Volume</th>\n",
       "    </tr>\n",
       "  </thead>\n",
       "  <tbody>\n",
       "    <tr>\n",
       "      <th>1823</th>\n",
       "      <td>2024-08-24</td>\n",
       "      <td>64178.992188</td>\n",
       "      <td>21430585163</td>\n",
       "    </tr>\n",
       "    <tr>\n",
       "      <th>1824</th>\n",
       "      <td>2024-08-25</td>\n",
       "      <td>64333.542969</td>\n",
       "      <td>18827683555</td>\n",
       "    </tr>\n",
       "    <tr>\n",
       "      <th>1825</th>\n",
       "      <td>2024-08-26</td>\n",
       "      <td>62880.660156</td>\n",
       "      <td>27682040631</td>\n",
       "    </tr>\n",
       "    <tr>\n",
       "      <th>1826</th>\n",
       "      <td>2024-08-27</td>\n",
       "      <td>59504.132813</td>\n",
       "      <td>39103882198</td>\n",
       "    </tr>\n",
       "    <tr>\n",
       "      <th>1827</th>\n",
       "      <td>2024-08-28</td>\n",
       "      <td>59621.035156</td>\n",
       "      <td>42965946368</td>\n",
       "    </tr>\n",
       "  </tbody>\n",
       "</table>\n",
       "</div>"
      ]
     },
     "execution_count": 15,
     "metadata": {},
     "output_type": "execute_result"
    }
   ],
   "execution_count": 15
  },
  {
   "metadata": {
    "ExecuteTime": {
     "end_time": "2024-11-01T17:06:03.060197Z",
     "start_time": "2024-11-01T17:06:03.054533Z"
    }
   },
   "cell_type": "code",
   "source": [
    "total_nan = BTC_Dataset.isna().sum().sum()\n",
    "print(\"Total number of NaN values in DataFrame:\", total_nan)"
   ],
   "id": "a56a645042f30e44",
   "outputs": [
    {
     "name": "stdout",
     "output_type": "stream",
     "text": [
      "Total number of NaN values in DataFrame: 0\n"
     ]
    }
   ],
   "execution_count": 14
  },
  {
   "metadata": {
    "ExecuteTime": {
     "end_time": "2024-11-01T17:08:07.664242Z",
     "start_time": "2024-11-01T17:08:07.658284Z"
    }
   },
   "cell_type": "code",
   "source": "print(BTC_Dataset.dtypes)",
   "id": "35ac342ee0cf932c",
   "outputs": [
    {
     "name": "stdout",
     "output_type": "stream",
     "text": [
      "Date      datetime64[ns]\n",
      "Close            float64\n",
      "Volume             int64\n",
      "dtype: object\n"
     ]
    }
   ],
   "execution_count": 18
  },
  {
   "metadata": {
    "ExecuteTime": {
     "end_time": "2024-11-01T17:08:05.299088Z",
     "start_time": "2024-11-01T17:08:05.290755Z"
    }
   },
   "cell_type": "code",
   "source": [
    "# convert date data type\n",
    "BTC_Dataset['Date'] = pd.to_datetime(BTC_Dataset['Date'])"
   ],
   "id": "10a5466f55946ed",
   "outputs": [],
   "execution_count": 17
  },
  {
   "metadata": {},
   "cell_type": "code",
   "outputs": [],
   "execution_count": null,
   "source": "",
   "id": "6b0a2ed4cf5e2bb6"
  }
 ],
 "metadata": {
  "kernelspec": {
   "display_name": "Python 3",
   "language": "python",
   "name": "python3"
  },
  "language_info": {
   "codemirror_mode": {
    "name": "ipython",
    "version": 2
   },
   "file_extension": ".py",
   "mimetype": "text/x-python",
   "name": "python",
   "nbconvert_exporter": "python",
   "pygments_lexer": "ipython2",
   "version": "2.7.6"
  }
 },
 "nbformat": 4,
 "nbformat_minor": 5
}
