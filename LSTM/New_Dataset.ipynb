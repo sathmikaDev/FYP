{
 "cells": [
  {
   "cell_type": "code",
   "execution_count": 1,
   "metadata": {},
   "outputs": [],
   "source": [
    "# download eth, xrp, sol data\n",
    "import yfinance as yf\n",
    "import pandas as pd"
   ]
  },
  {
   "cell_type": "code",
   "execution_count": 2,
   "metadata": {},
   "outputs": [
    {
     "name": "stderr",
     "output_type": "stream",
     "text": [
      "[*********************100%***********************]  1 of 1 completed\n"
     ]
    }
   ],
   "source": [
    "# download btc historical data\n",
    "start_date = \"2019-08-01\"\n",
    "end_date = \"2024-09-01\"\n",
    "bitcoin_data = yf.download(\"BTC-USD\", start=start_date, end=end_date)"
   ]
  },
  {
   "cell_type": "code",
   "execution_count": 5,
   "metadata": {},
   "outputs": [
    {
     "data": {
      "text/html": [
       "<div>\n",
       "<style scoped>\n",
       "    .dataframe tbody tr th:only-of-type {\n",
       "        vertical-align: middle;\n",
       "    }\n",
       "\n",
       "    .dataframe tbody tr th {\n",
       "        vertical-align: top;\n",
       "    }\n",
       "\n",
       "    .dataframe thead th {\n",
       "        text-align: right;\n",
       "    }\n",
       "</style>\n",
       "<table border=\"1\" class=\"dataframe\">\n",
       "  <thead>\n",
       "    <tr style=\"text-align: right;\">\n",
       "      <th>Price</th>\n",
       "      <th>Close</th>\n",
       "      <th>High</th>\n",
       "      <th>Low</th>\n",
       "      <th>Open</th>\n",
       "      <th>Volume</th>\n",
       "    </tr>\n",
       "    <tr>\n",
       "      <th>Date</th>\n",
       "      <th></th>\n",
       "      <th></th>\n",
       "      <th></th>\n",
       "      <th></th>\n",
       "      <th></th>\n",
       "    </tr>\n",
       "  </thead>\n",
       "  <tbody>\n",
       "    <tr>\n",
       "      <th>2019-08-01</th>\n",
       "      <td>10399.668945</td>\n",
       "      <td>10446.919922</td>\n",
       "      <td>9922.019531</td>\n",
       "      <td>10077.442383</td>\n",
       "      <td>17165337858</td>\n",
       "    </tr>\n",
       "    <tr>\n",
       "      <th>2019-08-02</th>\n",
       "      <td>10518.174805</td>\n",
       "      <td>10657.953125</td>\n",
       "      <td>10371.013672</td>\n",
       "      <td>10402.042969</td>\n",
       "      <td>17489094082</td>\n",
       "    </tr>\n",
       "    <tr>\n",
       "      <th>2019-08-03</th>\n",
       "      <td>10821.726562</td>\n",
       "      <td>10946.781250</td>\n",
       "      <td>10503.504883</td>\n",
       "      <td>10519.278320</td>\n",
       "      <td>15352685061</td>\n",
       "    </tr>\n",
       "    <tr>\n",
       "      <th>2019-08-04</th>\n",
       "      <td>10970.184570</td>\n",
       "      <td>11009.207031</td>\n",
       "      <td>10620.278320</td>\n",
       "      <td>10821.632812</td>\n",
       "      <td>16530894787</td>\n",
       "    </tr>\n",
       "    <tr>\n",
       "      <th>2019-08-05</th>\n",
       "      <td>11805.653320</td>\n",
       "      <td>11895.091797</td>\n",
       "      <td>10960.735352</td>\n",
       "      <td>10960.735352</td>\n",
       "      <td>23875988832</td>\n",
       "    </tr>\n",
       "  </tbody>\n",
       "</table>\n",
       "</div>"
      ],
      "text/plain": [
       "Price              Close          High           Low          Open  \\\n",
       "Date                                                                 \n",
       "2019-08-01  10399.668945  10446.919922   9922.019531  10077.442383   \n",
       "2019-08-02  10518.174805  10657.953125  10371.013672  10402.042969   \n",
       "2019-08-03  10821.726562  10946.781250  10503.504883  10519.278320   \n",
       "2019-08-04  10970.184570  11009.207031  10620.278320  10821.632812   \n",
       "2019-08-05  11805.653320  11895.091797  10960.735352  10960.735352   \n",
       "\n",
       "Price            Volume  \n",
       "Date                     \n",
       "2019-08-01  17165337858  \n",
       "2019-08-02  17489094082  \n",
       "2019-08-03  15352685061  \n",
       "2019-08-04  16530894787  \n",
       "2019-08-05  23875988832  "
      ]
     },
     "execution_count": 5,
     "metadata": {},
     "output_type": "execute_result"
    }
   ],
   "source": [
    "bitcoin_data.head()"
   ]
  },
  {
   "cell_type": "code",
   "execution_count": 4,
   "metadata": {},
   "outputs": [],
   "source": [
    "bitcoin_data.columns = bitcoin_data.columns.droplevel(1)"
   ]
  },
  {
   "cell_type": "code",
   "execution_count": 6,
   "metadata": {},
   "outputs": [
    {
     "name": "stdout",
     "output_type": "stream",
     "text": [
      "Are there any missing values? False\n"
     ]
    }
   ],
   "source": [
    "# check for missing values\n",
    "bitcoin_data_missing = bitcoin_data.isnull().any().any()\n",
    "print(f\"Are there any missing values? {bitcoin_data_missing}\")"
   ]
  },
  {
   "cell_type": "code",
   "execution_count": 8,
   "metadata": {},
   "outputs": [],
   "source": [
    "bitcoin_data.rename(columns={'Close': 'BTC_Close', 'High':'BTC_High', 'Low':'BTC_Low', 'Open':'BTC_Open','Volume':'BTC_Volume'}, inplace=True)"
   ]
  },
  {
   "cell_type": "code",
   "execution_count": 9,
   "metadata": {},
   "outputs": [],
   "source": [
    "bitcoin_data.to_csv('btc_data.csv')"
   ]
  },
  {
   "cell_type": "code",
   "execution_count": 10,
   "metadata": {},
   "outputs": [],
   "source": [
    "btc_data = pd.read_csv('btc_data.csv')"
   ]
  },
  {
   "cell_type": "code",
   "execution_count": 24,
   "metadata": {},
   "outputs": [
    {
     "data": {
      "text/html": [
       "<div>\n",
       "<style scoped>\n",
       "    .dataframe tbody tr th:only-of-type {\n",
       "        vertical-align: middle;\n",
       "    }\n",
       "\n",
       "    .dataframe tbody tr th {\n",
       "        vertical-align: top;\n",
       "    }\n",
       "\n",
       "    .dataframe thead th {\n",
       "        text-align: right;\n",
       "    }\n",
       "</style>\n",
       "<table border=\"1\" class=\"dataframe\">\n",
       "  <thead>\n",
       "    <tr style=\"text-align: right;\">\n",
       "      <th></th>\n",
       "      <th>Date</th>\n",
       "      <th>BTC_Close</th>\n",
       "      <th>BTC_High</th>\n",
       "      <th>BTC_Low</th>\n",
       "      <th>BTC_Open</th>\n",
       "      <th>BTC_Volume</th>\n",
       "    </tr>\n",
       "  </thead>\n",
       "  <tbody>\n",
       "    <tr>\n",
       "      <th>27</th>\n",
       "      <td>2019-08-28</td>\n",
       "      <td>9754.422852</td>\n",
       "      <td>10279.366211</td>\n",
       "      <td>9716.656250</td>\n",
       "      <td>10203.426758</td>\n",
       "      <td>17603790323</td>\n",
       "    </tr>\n",
       "    <tr>\n",
       "      <th>28</th>\n",
       "      <td>2019-08-29</td>\n",
       "      <td>9510.200195</td>\n",
       "      <td>9756.786133</td>\n",
       "      <td>9421.629883</td>\n",
       "      <td>9756.786133</td>\n",
       "      <td>17045878501</td>\n",
       "    </tr>\n",
       "    <tr>\n",
       "      <th>29</th>\n",
       "      <td>2019-08-30</td>\n",
       "      <td>9598.173828</td>\n",
       "      <td>9656.124023</td>\n",
       "      <td>9428.302734</td>\n",
       "      <td>9514.844727</td>\n",
       "      <td>13595263986</td>\n",
       "    </tr>\n",
       "    <tr>\n",
       "      <th>30</th>\n",
       "      <td>2019-08-31</td>\n",
       "      <td>9630.664062</td>\n",
       "      <td>9673.220703</td>\n",
       "      <td>9531.799805</td>\n",
       "      <td>9597.539062</td>\n",
       "      <td>11454806419</td>\n",
       "    </tr>\n",
       "    <tr>\n",
       "      <th>31</th>\n",
       "      <td>2019-09-01</td>\n",
       "      <td>9757.970703</td>\n",
       "      <td>9796.755859</td>\n",
       "      <td>9582.944336</td>\n",
       "      <td>9630.592773</td>\n",
       "      <td>11445355859</td>\n",
       "    </tr>\n",
       "  </tbody>\n",
       "</table>\n",
       "</div>"
      ],
      "text/plain": [
       "          Date    BTC_Close      BTC_High      BTC_Low      BTC_Open  \\\n",
       "27  2019-08-28  9754.422852  10279.366211  9716.656250  10203.426758   \n",
       "28  2019-08-29  9510.200195   9756.786133  9421.629883   9756.786133   \n",
       "29  2019-08-30  9598.173828   9656.124023  9428.302734   9514.844727   \n",
       "30  2019-08-31  9630.664062   9673.220703  9531.799805   9597.539062   \n",
       "31  2019-09-01  9757.970703   9796.755859  9582.944336   9630.592773   \n",
       "\n",
       "     BTC_Volume  \n",
       "27  17603790323  \n",
       "28  17045878501  \n",
       "29  13595263986  \n",
       "30  11454806419  \n",
       "31  11445355859  "
      ]
     },
     "execution_count": 24,
     "metadata": {},
     "output_type": "execute_result"
    }
   ],
   "source": [
    "btc_data.head()"
   ]
  },
  {
   "cell_type": "code",
   "execution_count": 15,
   "metadata": {},
   "outputs": [],
   "source": [
    "# 2019-08-28 - start\n",
    "# 2024-08-24 - end\n",
    "start_date = '2024-08-24'\n",
    "end_date = '2024-08-31'\n",
    "\n",
    "btc_data = btc_data[~btc_data['Date'].between(start_date, end_date)]"
   ]
  },
  {
   "cell_type": "code",
   "execution_count": null,
   "metadata": {},
   "outputs": [],
   "source": [
    "# remove unwanted dates - tail\n",
    "start_date = '2024-08-24'\n",
    "end_date = '2024-08-31'\n",
    "\n",
    "btc_data = btc_data[~btc_data['Date'].between(start_date, end_date)]"
   ]
  },
  {
   "cell_type": "code",
   "execution_count": 25,
   "metadata": {},
   "outputs": [],
   "source": [
    "gold_data = pd.read_csv('Gold_Preprocessed.csv')"
   ]
  },
  {
   "cell_type": "code",
   "execution_count": 32,
   "metadata": {},
   "outputs": [
    {
     "data": {
      "text/html": [
       "<div>\n",
       "<style scoped>\n",
       "    .dataframe tbody tr th:only-of-type {\n",
       "        vertical-align: middle;\n",
       "    }\n",
       "\n",
       "    .dataframe tbody tr th {\n",
       "        vertical-align: top;\n",
       "    }\n",
       "\n",
       "    .dataframe thead th {\n",
       "        text-align: right;\n",
       "    }\n",
       "</style>\n",
       "<table border=\"1\" class=\"dataframe\">\n",
       "  <thead>\n",
       "    <tr style=\"text-align: right;\">\n",
       "      <th></th>\n",
       "      <th>Date</th>\n",
       "      <th>Gold_Price</th>\n",
       "    </tr>\n",
       "  </thead>\n",
       "  <tbody>\n",
       "    <tr>\n",
       "      <th>3510</th>\n",
       "      <td>2024-08-19</td>\n",
       "      <td>2504.2071</td>\n",
       "    </tr>\n",
       "    <tr>\n",
       "      <th>3511</th>\n",
       "      <td>2024-08-20</td>\n",
       "      <td>2514.0630</td>\n",
       "    </tr>\n",
       "    <tr>\n",
       "      <th>3512</th>\n",
       "      <td>2024-08-21</td>\n",
       "      <td>2512.3987</td>\n",
       "    </tr>\n",
       "    <tr>\n",
       "      <th>3513</th>\n",
       "      <td>2024-08-22</td>\n",
       "      <td>2487.0611</td>\n",
       "    </tr>\n",
       "    <tr>\n",
       "      <th>3514</th>\n",
       "      <td>2024-08-23</td>\n",
       "      <td>2512.4492</td>\n",
       "    </tr>\n",
       "  </tbody>\n",
       "</table>\n",
       "</div>"
      ],
      "text/plain": [
       "            Date  Gold_Price\n",
       "3510  2024-08-19   2504.2071\n",
       "3511  2024-08-20   2514.0630\n",
       "3512  2024-08-21   2512.3987\n",
       "3513  2024-08-22   2487.0611\n",
       "3514  2024-08-23   2512.4492"
      ]
     },
     "execution_count": 32,
     "metadata": {},
     "output_type": "execute_result"
    }
   ],
   "source": [
    "gold_data.tail()"
   ]
  },
  {
   "cell_type": "code",
   "execution_count": 27,
   "metadata": {},
   "outputs": [],
   "source": [
    "# 2015-01-09 - start\n",
    "# 2019-08-28 - end\n",
    "start_date = '2015-01-09'\n",
    "end_date = '2019-08-27'\n",
    "\n",
    "gold_data = gold_data[~gold_data['Date'].between(start_date, end_date)]"
   ]
  },
  {
   "cell_type": "code",
   "execution_count": 31,
   "metadata": {},
   "outputs": [],
   "source": [
    "# 2015-01-09 - start\n",
    "# 2019-08-28 - end\n",
    "start_date = '2024-08-24'\n",
    "end_date = '2025-01-09'\n",
    "\n",
    "gold_data = gold_data[~gold_data['Date'].between(start_date, end_date)]"
   ]
  },
  {
   "cell_type": "code",
   "execution_count": 33,
   "metadata": {},
   "outputs": [],
   "source": [
    "interest_rate = pd.read_csv('Interest_Rate_Preprocessed.csv')"
   ]
  },
  {
   "cell_type": "code",
   "execution_count": 39,
   "metadata": {},
   "outputs": [
    {
     "data": {
      "text/html": [
       "<div>\n",
       "<style scoped>\n",
       "    .dataframe tbody tr th:only-of-type {\n",
       "        vertical-align: middle;\n",
       "    }\n",
       "\n",
       "    .dataframe tbody tr th {\n",
       "        vertical-align: top;\n",
       "    }\n",
       "\n",
       "    .dataframe thead th {\n",
       "        text-align: right;\n",
       "    }\n",
       "</style>\n",
       "<table border=\"1\" class=\"dataframe\">\n",
       "  <thead>\n",
       "    <tr style=\"text-align: right;\">\n",
       "      <th></th>\n",
       "      <th>Date</th>\n",
       "      <th>Interest_Rate</th>\n",
       "    </tr>\n",
       "  </thead>\n",
       "  <tbody>\n",
       "    <tr>\n",
       "      <th>3510</th>\n",
       "      <td>2024-08-19</td>\n",
       "      <td>5.33</td>\n",
       "    </tr>\n",
       "    <tr>\n",
       "      <th>3511</th>\n",
       "      <td>2024-08-20</td>\n",
       "      <td>5.33</td>\n",
       "    </tr>\n",
       "    <tr>\n",
       "      <th>3512</th>\n",
       "      <td>2024-08-21</td>\n",
       "      <td>5.33</td>\n",
       "    </tr>\n",
       "    <tr>\n",
       "      <th>3513</th>\n",
       "      <td>2024-08-22</td>\n",
       "      <td>5.33</td>\n",
       "    </tr>\n",
       "    <tr>\n",
       "      <th>3514</th>\n",
       "      <td>2024-08-23</td>\n",
       "      <td>5.33</td>\n",
       "    </tr>\n",
       "  </tbody>\n",
       "</table>\n",
       "</div>"
      ],
      "text/plain": [
       "            Date  Interest_Rate\n",
       "3510  2024-08-19           5.33\n",
       "3511  2024-08-20           5.33\n",
       "3512  2024-08-21           5.33\n",
       "3513  2024-08-22           5.33\n",
       "3514  2024-08-23           5.33"
      ]
     },
     "execution_count": 39,
     "metadata": {},
     "output_type": "execute_result"
    }
   ],
   "source": [
    "interest_rate.tail()"
   ]
  },
  {
   "cell_type": "code",
   "execution_count": 35,
   "metadata": {},
   "outputs": [],
   "source": [
    "# 2015-01-09 - start\n",
    "# 2019-08-28 - end\n",
    "start_date = '2015-01-09'\n",
    "end_date = '2019-08-27'\n",
    "\n",
    "interest_rate = interest_rate[~interest_rate['Date'].between(start_date, end_date)]"
   ]
  },
  {
   "cell_type": "code",
   "execution_count": 38,
   "metadata": {},
   "outputs": [],
   "source": [
    "start_date = '2024-08-24'\n",
    "end_date = '2025-01-09'\n",
    "\n",
    "interest_rate = interest_rate[~interest_rate['Date'].between(start_date, end_date)]"
   ]
  },
  {
   "cell_type": "code",
   "execution_count": 40,
   "metadata": {},
   "outputs": [],
   "source": [
    "vix_data = pd.read_csv('VIX_Data_Preprocessed.csv')"
   ]
  },
  {
   "cell_type": "code",
   "execution_count": 44,
   "metadata": {},
   "outputs": [
    {
     "data": {
      "text/html": [
       "<div>\n",
       "<style scoped>\n",
       "    .dataframe tbody tr th:only-of-type {\n",
       "        vertical-align: middle;\n",
       "    }\n",
       "\n",
       "    .dataframe tbody tr th {\n",
       "        vertical-align: top;\n",
       "    }\n",
       "\n",
       "    .dataframe thead th {\n",
       "        text-align: right;\n",
       "    }\n",
       "</style>\n",
       "<table border=\"1\" class=\"dataframe\">\n",
       "  <thead>\n",
       "    <tr style=\"text-align: right;\">\n",
       "      <th></th>\n",
       "      <th>Date</th>\n",
       "      <th>VIX_Value</th>\n",
       "    </tr>\n",
       "  </thead>\n",
       "  <tbody>\n",
       "    <tr>\n",
       "      <th>3649</th>\n",
       "      <td>2025-01-05</td>\n",
       "      <td>16.13</td>\n",
       "    </tr>\n",
       "    <tr>\n",
       "      <th>3650</th>\n",
       "      <td>2025-01-06</td>\n",
       "      <td>16.04</td>\n",
       "    </tr>\n",
       "    <tr>\n",
       "      <th>3651</th>\n",
       "      <td>2025-01-07</td>\n",
       "      <td>17.82</td>\n",
       "    </tr>\n",
       "    <tr>\n",
       "      <th>3652</th>\n",
       "      <td>2025-01-08</td>\n",
       "      <td>17.70</td>\n",
       "    </tr>\n",
       "    <tr>\n",
       "      <th>3653</th>\n",
       "      <td>2025-01-09</td>\n",
       "      <td>18.07</td>\n",
       "    </tr>\n",
       "  </tbody>\n",
       "</table>\n",
       "</div>"
      ],
      "text/plain": [
       "            Date  VIX_Value\n",
       "3649  2025-01-05      16.13\n",
       "3650  2025-01-06      16.04\n",
       "3651  2025-01-07      17.82\n",
       "3652  2025-01-08      17.70\n",
       "3653  2025-01-09      18.07"
      ]
     },
     "execution_count": 44,
     "metadata": {},
     "output_type": "execute_result"
    }
   ],
   "source": [
    "vix_data.tail()"
   ]
  },
  {
   "cell_type": "code",
   "execution_count": 42,
   "metadata": {},
   "outputs": [],
   "source": [
    "start_date = '2015-01-09'\n",
    "end_date = '2019-08-27'\n",
    "\n",
    "vix_data = vix_data[~vix_data['Date'].between(start_date, end_date)]"
   ]
  },
  {
   "cell_type": "code",
   "execution_count": 45,
   "metadata": {},
   "outputs": [],
   "source": [
    "start_date = '2024-08-24'\n",
    "end_date = '2025-01-09'\n",
    "\n",
    "vix_data = vix_data[~vix_data['Date'].between(start_date, end_date)]"
   ]
  },
  {
   "cell_type": "code",
   "execution_count": 48,
   "metadata": {},
   "outputs": [],
   "source": [
    "Merged_Not_Scaled_df = btc_data.merge(gold_data, on=\"Date\", how=\"outer\") \\\n",
    "                        .merge(interest_rate, on=\"Date\", how=\"outer\") \\\n",
    "                        .merge(vix_data, on=\"Date\", how=\"outer\")"
   ]
  },
  {
   "cell_type": "code",
   "execution_count": 49,
   "metadata": {},
   "outputs": [
    {
     "data": {
      "text/html": [
       "<div>\n",
       "<style scoped>\n",
       "    .dataframe tbody tr th:only-of-type {\n",
       "        vertical-align: middle;\n",
       "    }\n",
       "\n",
       "    .dataframe tbody tr th {\n",
       "        vertical-align: top;\n",
       "    }\n",
       "\n",
       "    .dataframe thead th {\n",
       "        text-align: right;\n",
       "    }\n",
       "</style>\n",
       "<table border=\"1\" class=\"dataframe\">\n",
       "  <thead>\n",
       "    <tr style=\"text-align: right;\">\n",
       "      <th></th>\n",
       "      <th>Date</th>\n",
       "      <th>BTC_Close</th>\n",
       "      <th>BTC_High</th>\n",
       "      <th>BTC_Low</th>\n",
       "      <th>BTC_Open</th>\n",
       "      <th>BTC_Volume</th>\n",
       "      <th>Gold_Price</th>\n",
       "      <th>Interest_Rate</th>\n",
       "      <th>VIX_Value</th>\n",
       "    </tr>\n",
       "  </thead>\n",
       "  <tbody>\n",
       "    <tr>\n",
       "      <th>0</th>\n",
       "      <td>2019-08-28</td>\n",
       "      <td>9754.422852</td>\n",
       "      <td>10279.366211</td>\n",
       "      <td>9716.656250</td>\n",
       "      <td>10203.426758</td>\n",
       "      <td>17603790323</td>\n",
       "      <td>1541.75</td>\n",
       "      <td>2.12</td>\n",
       "      <td>19.35</td>\n",
       "    </tr>\n",
       "    <tr>\n",
       "      <th>1</th>\n",
       "      <td>2019-08-29</td>\n",
       "      <td>9510.200195</td>\n",
       "      <td>9756.786133</td>\n",
       "      <td>9421.629883</td>\n",
       "      <td>9756.786133</td>\n",
       "      <td>17045878501</td>\n",
       "      <td>1536.65</td>\n",
       "      <td>2.12</td>\n",
       "      <td>17.88</td>\n",
       "    </tr>\n",
       "    <tr>\n",
       "      <th>2</th>\n",
       "      <td>2019-08-30</td>\n",
       "      <td>9598.173828</td>\n",
       "      <td>9656.124023</td>\n",
       "      <td>9428.302734</td>\n",
       "      <td>9514.844727</td>\n",
       "      <td>13595263986</td>\n",
       "      <td>1526.55</td>\n",
       "      <td>2.13</td>\n",
       "      <td>18.98</td>\n",
       "    </tr>\n",
       "    <tr>\n",
       "      <th>3</th>\n",
       "      <td>2019-08-31</td>\n",
       "      <td>9630.664062</td>\n",
       "      <td>9673.220703</td>\n",
       "      <td>9531.799805</td>\n",
       "      <td>9597.539062</td>\n",
       "      <td>11454806419</td>\n",
       "      <td>1526.55</td>\n",
       "      <td>2.13</td>\n",
       "      <td>18.98</td>\n",
       "    </tr>\n",
       "    <tr>\n",
       "      <th>4</th>\n",
       "      <td>2019-09-01</td>\n",
       "      <td>9757.970703</td>\n",
       "      <td>9796.755859</td>\n",
       "      <td>9582.944336</td>\n",
       "      <td>9630.592773</td>\n",
       "      <td>11445355859</td>\n",
       "      <td>1526.55</td>\n",
       "      <td>2.13</td>\n",
       "      <td>18.98</td>\n",
       "    </tr>\n",
       "  </tbody>\n",
       "</table>\n",
       "</div>"
      ],
      "text/plain": [
       "         Date    BTC_Close      BTC_High      BTC_Low      BTC_Open  \\\n",
       "0  2019-08-28  9754.422852  10279.366211  9716.656250  10203.426758   \n",
       "1  2019-08-29  9510.200195   9756.786133  9421.629883   9756.786133   \n",
       "2  2019-08-30  9598.173828   9656.124023  9428.302734   9514.844727   \n",
       "3  2019-08-31  9630.664062   9673.220703  9531.799805   9597.539062   \n",
       "4  2019-09-01  9757.970703   9796.755859  9582.944336   9630.592773   \n",
       "\n",
       "    BTC_Volume  Gold_Price  Interest_Rate  VIX_Value  \n",
       "0  17603790323     1541.75           2.12      19.35  \n",
       "1  17045878501     1536.65           2.12      17.88  \n",
       "2  13595263986     1526.55           2.13      18.98  \n",
       "3  11454806419     1526.55           2.13      18.98  \n",
       "4  11445355859     1526.55           2.13      18.98  "
      ]
     },
     "execution_count": 49,
     "metadata": {},
     "output_type": "execute_result"
    }
   ],
   "source": [
    "Merged_Not_Scaled_df.head()"
   ]
  },
  {
   "cell_type": "code",
   "execution_count": 50,
   "metadata": {},
   "outputs": [],
   "source": [
    "Merged_Not_Scaled_df.to_csv('LSTM_dataset.csv')"
   ]
  },
  {
   "cell_type": "code",
   "execution_count": null,
   "metadata": {},
   "outputs": [],
   "source": []
  }
 ],
 "metadata": {
  "kernelspec": {
   "display_name": "base",
   "language": "python",
   "name": "python3"
  },
  "language_info": {
   "codemirror_mode": {
    "name": "ipython",
    "version": 3
   },
   "file_extension": ".py",
   "mimetype": "text/x-python",
   "name": "python",
   "nbconvert_exporter": "python",
   "pygments_lexer": "ipython3",
   "version": "3.12.4"
  }
 },
 "nbformat": 4,
 "nbformat_minor": 2
}
