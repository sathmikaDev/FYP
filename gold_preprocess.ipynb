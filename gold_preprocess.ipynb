{
 "cells": [
  {
   "cell_type": "code",
   "execution_count": 2,
   "metadata": {},
   "outputs": [],
   "source": [
    "import pandas as pd\n",
    "import numpy as np"
   ]
  },
  {
   "cell_type": "code",
   "execution_count": 100,
   "metadata": {},
   "outputs": [],
   "source": [
    "Gold = pd.read_csv('Datasetsv2/gold_prices.csv')"
   ]
  },
  {
   "cell_type": "code",
   "execution_count": 101,
   "metadata": {},
   "outputs": [
    {
     "name": "stdout",
     "output_type": "stream",
     "text": [
      "Are there any missing values? True\n"
     ]
    }
   ],
   "source": [
    "missing_Gold = Gold.isnull().any().any()\n",
    "print(f\"Are there any missing values? {missing_Gold}\")"
   ]
  },
  {
   "cell_type": "code",
   "execution_count": 102,
   "metadata": {},
   "outputs": [
    {
     "name": "stdout",
     "output_type": "stream",
     "text": [
      "           date   value\n",
      "3328  1/11/2025     NaN\n",
      "3329  1/12/2025     NaN\n",
      "3330  1/13/2025     NaN\n",
      "3331  1/14/2025     NaN\n",
      "3332  1/15/2025     NaN\n",
      "3333  1/16/2025     NaN\n",
      "3334  1/17/2025     NaN\n",
      "3335  1/18/2025     NaN\n",
      "3336  1/19/2025     NaN\n",
      "3337  1/20/2025     NaN\n",
      "3338  1/21/2025     NaN\n",
      "3339  1/22/2025     NaN\n",
      "3340  1/23/2025     NaN\n",
      "3341  1/24/2025     NaN\n",
      "3342  1/25/2025     NaN\n",
      "3343  1/26/2025     NaN\n",
      "3344  1/27/2025     NaN\n",
      "3345  1/28/2025     NaN\n",
      "3346  1/29/2025     NaN\n",
      "3347  1/30/2025     NaN\n",
      "3348  1/31/2025     NaN\n"
     ]
    }
   ],
   "source": [
    "missing_rows = Gold[Gold.isnull().any(axis=1)]\n",
    "print(missing_rows)"
   ]
  },
  {
   "cell_type": "code",
   "execution_count": 103,
   "metadata": {},
   "outputs": [],
   "source": [
    "# drop missing values\n",
    "Gold = Gold.dropna()"
   ]
  },
  {
   "cell_type": "code",
   "execution_count": 104,
   "metadata": {},
   "outputs": [],
   "source": [
    "Gold.rename(columns={'date': 'Date', ' value': 'Gold_Price'}, inplace=True)"
   ]
  },
  {
   "cell_type": "code",
   "execution_count": 105,
   "metadata": {},
   "outputs": [],
   "source": [
    "Gold['Date'] = pd.to_datetime(Gold['Date'])"
   ]
  },
  {
   "cell_type": "code",
   "execution_count": 106,
   "metadata": {},
   "outputs": [
    {
     "name": "stdout",
     "output_type": "stream",
     "text": [
      "Columns in Gold DataFrame: Index(['Date', 'Gold_Price'], dtype='object')\n"
     ]
    }
   ],
   "source": [
    "print(\"Columns in Gold DataFrame:\", Gold.columns)"
   ]
  },
  {
   "cell_type": "code",
   "execution_count": 107,
   "metadata": {},
   "outputs": [],
   "source": [
    "Gold.set_index('Date', inplace=True)\n",
    "\n",
    "# Create a complete date range from the minimum to maximum date in the dataset\n",
    "all_dates = pd.date_range(start=Gold.index.min(), end=Gold.index.max())\n",
    "\n",
    "# Reindex the DataFrame to include all dates, filling missing dates with NaN\n",
    "Gold = Gold.reindex(all_dates)\n",
    "\n",
    "# Forward-fill missing 'Price' values without using 'inplace'\n",
    "Gold['Gold_Price'] = Gold['Gold_Price'].ffill()\n",
    "\n",
    "# Reset the index to make 'Date' a column again\n",
    "Gold.reset_index(inplace=True)\n",
    "Gold.rename(columns={'index': 'Date'}, inplace=True)"
   ]
  },
  {
   "cell_type": "code",
   "execution_count": 108,
   "metadata": {},
   "outputs": [],
   "source": [
    "# remove unwanted dates\n",
    "start_date = '2012-01-12'\n",
    "end_date = '2015-01-08'\n",
    "\n",
    "Gold = Gold[~Gold['Date'].between(start_date, end_date)]"
   ]
  },
  {
   "cell_type": "code",
   "execution_count": 113,
   "metadata": {},
   "outputs": [],
   "source": [
    "Gold = Gold.drop(Gold.index[-1])"
   ]
  },
  {
   "cell_type": "code",
   "execution_count": 115,
   "metadata": {},
   "outputs": [
    {
     "data": {
      "text/html": [
       "<div>\n",
       "<style scoped>\n",
       "    .dataframe tbody tr th:only-of-type {\n",
       "        vertical-align: middle;\n",
       "    }\n",
       "\n",
       "    .dataframe tbody tr th {\n",
       "        vertical-align: top;\n",
       "    }\n",
       "\n",
       "    .dataframe thead th {\n",
       "        text-align: right;\n",
       "    }\n",
       "</style>\n",
       "<table border=\"1\" class=\"dataframe\">\n",
       "  <thead>\n",
       "    <tr style=\"text-align: right;\">\n",
       "      <th></th>\n",
       "      <th>Date</th>\n",
       "      <th>Gold_Price</th>\n",
       "    </tr>\n",
       "  </thead>\n",
       "  <tbody>\n",
       "    <tr>\n",
       "      <th>1092</th>\n",
       "      <td>2015-01-09</td>\n",
       "      <td>1211.25</td>\n",
       "    </tr>\n",
       "    <tr>\n",
       "      <th>1093</th>\n",
       "      <td>2015-01-10</td>\n",
       "      <td>1211.25</td>\n",
       "    </tr>\n",
       "    <tr>\n",
       "      <th>1094</th>\n",
       "      <td>2015-01-11</td>\n",
       "      <td>1211.25</td>\n",
       "    </tr>\n",
       "    <tr>\n",
       "      <th>1095</th>\n",
       "      <td>2015-01-12</td>\n",
       "      <td>1222.00</td>\n",
       "    </tr>\n",
       "    <tr>\n",
       "      <th>1096</th>\n",
       "      <td>2015-01-13</td>\n",
       "      <td>1239.00</td>\n",
       "    </tr>\n",
       "  </tbody>\n",
       "</table>\n",
       "</div>"
      ],
      "text/plain": [
       "           Date  Gold_Price\n",
       "1092 2015-01-09     1211.25\n",
       "1093 2015-01-10     1211.25\n",
       "1094 2015-01-11     1211.25\n",
       "1095 2015-01-12     1222.00\n",
       "1096 2015-01-13     1239.00"
      ]
     },
     "execution_count": 115,
     "metadata": {},
     "output_type": "execute_result"
    }
   ],
   "source": [
    "Gold.head()"
   ]
  },
  {
   "cell_type": "code",
   "execution_count": 119,
   "metadata": {},
   "outputs": [],
   "source": [
    "Gold.to_csv('Datasetsv2/preprocessed/Gold_Preprocessed.csv', index=False)"
   ]
  },
  {
   "cell_type": "code",
   "execution_count": null,
   "metadata": {},
   "outputs": [],
   "source": []
  }
 ],
 "metadata": {
  "kernelspec": {
   "display_name": "tft",
   "language": "python",
   "name": "python3"
  },
  "language_info": {
   "codemirror_mode": {
    "name": "ipython",
    "version": 3
   },
   "file_extension": ".py",
   "mimetype": "text/x-python",
   "name": "python",
   "nbconvert_exporter": "python",
   "pygments_lexer": "ipython3",
   "version": "3.12.8"
  }
 },
 "nbformat": 4,
 "nbformat_minor": 2
}
