{
 "cells": [
  {
   "cell_type": "code",
   "execution_count": 2,
   "metadata": {},
   "outputs": [
    {
     "name": "stdout",
     "output_type": "stream",
     "text": [
      "Collecting twikit==1.7.6Note: you may need to restart the kernel to use updated packages.\n",
      "\n",
      "  Using cached twikit-1.7.6-py3-none-any.whl.metadata (3.7 kB)\n",
      "Collecting httpx (from twikit==1.7.6)\n",
      "  Downloading httpx-0.28.1-py3-none-any.whl.metadata (7.1 kB)\n",
      "Collecting filetype (from twikit==1.7.6)\n",
      "  Using cached filetype-1.2.0-py2.py3-none-any.whl.metadata (6.5 kB)\n",
      "Requirement already satisfied: beautifulsoup4 in c:\\users\\sathmika\\anaconda3\\envs\\tft\\lib\\site-packages (from twikit==1.7.6) (4.12.3)\n",
      "Collecting pyotp (from twikit==1.7.6)\n",
      "  Using cached pyotp-2.9.0-py3-none-any.whl.metadata (9.8 kB)\n",
      "Requirement already satisfied: soupsieve>1.2 in c:\\users\\sathmika\\anaconda3\\envs\\tft\\lib\\site-packages (from beautifulsoup4->twikit==1.7.6) (2.6)\n",
      "Collecting anyio (from httpx->twikit==1.7.6)\n",
      "  Downloading anyio-4.8.0-py3-none-any.whl.metadata (4.6 kB)\n",
      "Requirement already satisfied: certifi in c:\\users\\sathmika\\anaconda3\\envs\\tft\\lib\\site-packages (from httpx->twikit==1.7.6) (2024.12.14)\n",
      "Collecting httpcore==1.* (from httpx->twikit==1.7.6)\n",
      "  Downloading httpcore-1.0.7-py3-none-any.whl.metadata (21 kB)\n",
      "Requirement already satisfied: idna in c:\\users\\sathmika\\anaconda3\\envs\\tft\\lib\\site-packages (from httpx->twikit==1.7.6) (3.10)\n",
      "Collecting h11<0.15,>=0.13 (from httpcore==1.*->httpx->twikit==1.7.6)\n",
      "  Downloading h11-0.14.0-py3-none-any.whl.metadata (8.2 kB)\n",
      "Collecting sniffio>=1.1 (from anyio->httpx->twikit==1.7.6)\n",
      "  Downloading sniffio-1.3.1-py3-none-any.whl.metadata (3.9 kB)\n",
      "Collecting typing_extensions>=4.5 (from anyio->httpx->twikit==1.7.6)\n",
      "  Using cached typing_extensions-4.12.2-py3-none-any.whl.metadata (3.0 kB)\n",
      "Using cached twikit-1.7.6-py3-none-any.whl (109 kB)\n",
      "Using cached filetype-1.2.0-py2.py3-none-any.whl (19 kB)\n",
      "Downloading httpx-0.28.1-py3-none-any.whl (73 kB)\n",
      "Downloading httpcore-1.0.7-py3-none-any.whl (78 kB)\n",
      "Using cached pyotp-2.9.0-py3-none-any.whl (13 kB)\n",
      "Downloading anyio-4.8.0-py3-none-any.whl (96 kB)\n",
      "Downloading h11-0.14.0-py3-none-any.whl (58 kB)\n",
      "Downloading sniffio-1.3.1-py3-none-any.whl (10 kB)\n",
      "Using cached typing_extensions-4.12.2-py3-none-any.whl (37 kB)\n",
      "Installing collected packages: filetype, typing_extensions, sniffio, pyotp, h11, httpcore, anyio, httpx, twikit\n",
      "Successfully installed anyio-4.8.0 filetype-1.2.0 h11-0.14.0 httpcore-1.0.7 httpx-0.28.1 pyotp-2.9.0 sniffio-1.3.1 twikit-1.7.6 typing_extensions-4.12.2\n"
     ]
    }
   ],
   "source": [
    "pip install \"twikit==1.7.6\""
   ]
  },
  {
   "cell_type": "code",
   "execution_count": 3,
   "metadata": {},
   "outputs": [],
   "source": [
    "from twikit import Client, TooManyRequests\n",
    "import time\n",
    "from datetime import datetime\n",
    "import csv\n",
    "from configparser import ConfigParser\n",
    "from random import randint"
   ]
  },
  {
   "cell_type": "code",
   "execution_count": 5,
   "metadata": {},
   "outputs": [
    {
     "ename": "Forbidden",
     "evalue": "status: 403, message: \"{\"errors\":[{\"code\":353,\"message\":\"This request requires a matching csrf cookie and header.\"}]}\"",
     "output_type": "error",
     "traceback": [
      "\u001b[1;31m---------------------------------------------------------------------------\u001b[0m",
      "\u001b[1;31mForbidden\u001b[0m                                 Traceback (most recent call last)",
      "Cell \u001b[1;32mIn[5], line 14\u001b[0m\n\u001b[0;32m     11\u001b[0m \u001b[38;5;66;03m# authenticate to X.com\u001b[39;00m\n\u001b[0;32m     12\u001b[0m \u001b[38;5;66;03m#! user login credentials\u001b[39;00m\n\u001b[0;32m     13\u001b[0m client \u001b[38;5;241m=\u001b[39m Client(\u001b[38;5;124m'\u001b[39m\u001b[38;5;124men-US\u001b[39m\u001b[38;5;124m'\u001b[39m)\n\u001b[1;32m---> 14\u001b[0m \u001b[43mclient\u001b[49m\u001b[38;5;241;43m.\u001b[39;49m\u001b[43mlogin\u001b[49m\u001b[43m(\u001b[49m\u001b[43mauth_info_1\u001b[49m\u001b[38;5;241;43m=\u001b[39;49m\u001b[43musername\u001b[49m\u001b[43m,\u001b[49m\u001b[43m \u001b[49m\u001b[43mauth_info_2\u001b[49m\u001b[38;5;241;43m=\u001b[39;49m\u001b[43memail\u001b[49m\u001b[43m,\u001b[49m\u001b[43m \u001b[49m\u001b[43mpassword\u001b[49m\u001b[38;5;241;43m=\u001b[39;49m\u001b[43mpassword\u001b[49m\u001b[43m)\u001b[49m\n\u001b[0;32m     15\u001b[0m client\u001b[38;5;241m.\u001b[39msave_cookies(\u001b[38;5;124m'\u001b[39m\u001b[38;5;124mcookies.json\u001b[39m\u001b[38;5;124m'\u001b[39m)\n",
      "File \u001b[1;32mc:\\Users\\Sathmika\\anaconda3\\envs\\tft\\Lib\\site-packages\\twikit\\client.py:408\u001b[0m, in \u001b[0;36mClient.login\u001b[1;34m(self, auth_info_1, auth_info_2, password, totp_secret)\u001b[0m\n\u001b[0;32m    392\u001b[0m     flow\u001b[38;5;241m.\u001b[39mexecute_task({\n\u001b[0;32m    393\u001b[0m         \u001b[38;5;124m'\u001b[39m\u001b[38;5;124msubtask_id\u001b[39m\u001b[38;5;124m'\u001b[39m: \u001b[38;5;124m'\u001b[39m\u001b[38;5;124mLoginEnterAlternateIdentifierSubtask\u001b[39m\u001b[38;5;124m'\u001b[39m,\n\u001b[0;32m    394\u001b[0m         \u001b[38;5;124m'\u001b[39m\u001b[38;5;124menter_text\u001b[39m\u001b[38;5;124m'\u001b[39m: {\n\u001b[1;32m   (...)\u001b[0m\n\u001b[0;32m    397\u001b[0m         }\n\u001b[0;32m    398\u001b[0m     })\n\u001b[0;32m    400\u001b[0m flow\u001b[38;5;241m.\u001b[39mexecute_task({\n\u001b[0;32m    401\u001b[0m     \u001b[38;5;124m'\u001b[39m\u001b[38;5;124msubtask_id\u001b[39m\u001b[38;5;124m'\u001b[39m: \u001b[38;5;124m'\u001b[39m\u001b[38;5;124mLoginEnterPassword\u001b[39m\u001b[38;5;124m'\u001b[39m,\n\u001b[0;32m    402\u001b[0m     \u001b[38;5;124m'\u001b[39m\u001b[38;5;124menter_password\u001b[39m\u001b[38;5;124m'\u001b[39m: {\n\u001b[1;32m   (...)\u001b[0m\n\u001b[0;32m    405\u001b[0m     }\n\u001b[0;32m    406\u001b[0m })\n\u001b[1;32m--> 408\u001b[0m \u001b[43mflow\u001b[49m\u001b[38;5;241;43m.\u001b[39;49m\u001b[43mexecute_task\u001b[49m\u001b[43m(\u001b[49m\u001b[43m{\u001b[49m\n\u001b[0;32m    409\u001b[0m \u001b[43m    \u001b[49m\u001b[38;5;124;43m'\u001b[39;49m\u001b[38;5;124;43msubtask_id\u001b[39;49m\u001b[38;5;124;43m'\u001b[39;49m\u001b[43m:\u001b[49m\u001b[43m \u001b[49m\u001b[38;5;124;43m'\u001b[39;49m\u001b[38;5;124;43mAccountDuplicationCheck\u001b[39;49m\u001b[38;5;124;43m'\u001b[39;49m\u001b[43m,\u001b[49m\n\u001b[0;32m    410\u001b[0m \u001b[43m    \u001b[49m\u001b[38;5;124;43m'\u001b[39;49m\u001b[38;5;124;43mcheck_logged_in_account\u001b[39;49m\u001b[38;5;124;43m'\u001b[39;49m\u001b[43m:\u001b[49m\u001b[43m \u001b[49m\u001b[43m{\u001b[49m\n\u001b[0;32m    411\u001b[0m \u001b[43m        \u001b[49m\u001b[38;5;124;43m'\u001b[39;49m\u001b[38;5;124;43mlink\u001b[39;49m\u001b[38;5;124;43m'\u001b[39;49m\u001b[43m:\u001b[49m\u001b[43m \u001b[49m\u001b[38;5;124;43m'\u001b[39;49m\u001b[38;5;124;43mAccountDuplicationCheck_false\u001b[39;49m\u001b[38;5;124;43m'\u001b[39;49m\n\u001b[0;32m    412\u001b[0m \u001b[43m    \u001b[49m\u001b[43m}\u001b[49m\n\u001b[0;32m    413\u001b[0m \u001b[43m\u001b[49m\u001b[43m}\u001b[49m\u001b[43m)\u001b[49m\n\u001b[0;32m    415\u001b[0m \u001b[38;5;28;01mif\u001b[39;00m \u001b[38;5;129;01mnot\u001b[39;00m flow\u001b[38;5;241m.\u001b[39mresponse[\u001b[38;5;124m'\u001b[39m\u001b[38;5;124msubtasks\u001b[39m\u001b[38;5;124m'\u001b[39m]:\n\u001b[0;32m    416\u001b[0m     \u001b[38;5;28;01mreturn\u001b[39;00m\n",
      "File \u001b[1;32mc:\\Users\\Sathmika\\anaconda3\\envs\\tft\\Lib\\site-packages\\twikit\\utils.py:399\u001b[0m, in \u001b[0;36mFlow.execute_task\u001b[1;34m(self, *subtask_inputs, **kwargs)\u001b[0m\n\u001b[0;32m    396\u001b[0m \u001b[38;5;28;01mif\u001b[39;00m subtask_inputs \u001b[38;5;129;01mis\u001b[39;00m \u001b[38;5;129;01mnot\u001b[39;00m \u001b[38;5;28;01mNone\u001b[39;00m:\n\u001b[0;32m    397\u001b[0m     data[\u001b[38;5;124m'\u001b[39m\u001b[38;5;124msubtask_inputs\u001b[39m\u001b[38;5;124m'\u001b[39m] \u001b[38;5;241m=\u001b[39m \u001b[38;5;28mlist\u001b[39m(subtask_inputs)\n\u001b[1;32m--> 399\u001b[0m response, _ \u001b[38;5;241m=\u001b[39m \u001b[38;5;28;43mself\u001b[39;49m\u001b[38;5;241;43m.\u001b[39;49m\u001b[43m_client\u001b[49m\u001b[38;5;241;43m.\u001b[39;49m\u001b[43mpost\u001b[49m\u001b[43m(\u001b[49m\n\u001b[0;32m    400\u001b[0m \u001b[43m    \u001b[49m\u001b[38;5;28;43mself\u001b[39;49m\u001b[38;5;241;43m.\u001b[39;49m\u001b[43mendpoint\u001b[49m\u001b[43m,\u001b[49m\n\u001b[0;32m    401\u001b[0m \u001b[43m    \u001b[49m\u001b[43mdata\u001b[49m\u001b[38;5;241;43m=\u001b[39;49m\u001b[43mjson\u001b[49m\u001b[38;5;241;43m.\u001b[39;49m\u001b[43mdumps\u001b[49m\u001b[43m(\u001b[49m\u001b[43mdata\u001b[49m\u001b[43m)\u001b[49m\u001b[43m,\u001b[49m\n\u001b[0;32m    402\u001b[0m \u001b[43m    \u001b[49m\u001b[43mheaders\u001b[49m\u001b[38;5;241;43m=\u001b[39;49m\u001b[38;5;28;43mself\u001b[39;49m\u001b[38;5;241;43m.\u001b[39;49m\u001b[43mheaders\u001b[49m\u001b[43m,\u001b[49m\n\u001b[0;32m    403\u001b[0m \u001b[43m    \u001b[49m\u001b[38;5;241;43m*\u001b[39;49m\u001b[38;5;241;43m*\u001b[39;49m\u001b[43mkwargs\u001b[49m\n\u001b[0;32m    404\u001b[0m \u001b[43m\u001b[49m\u001b[43m)\u001b[49m\n\u001b[0;32m    405\u001b[0m \u001b[38;5;28mself\u001b[39m\u001b[38;5;241m.\u001b[39mresponse \u001b[38;5;241m=\u001b[39m response\n",
      "File \u001b[1;32mc:\\Users\\Sathmika\\anaconda3\\envs\\tft\\Lib\\site-packages\\twikit\\client.py:172\u001b[0m, in \u001b[0;36mBaseClient.post\u001b[1;34m(self, url, **kwargs)\u001b[0m\n\u001b[0;32m    171\u001b[0m \u001b[38;5;28;01mdef\u001b[39;00m \u001b[38;5;21mpost\u001b[39m(\u001b[38;5;28mself\u001b[39m, url, \u001b[38;5;241m*\u001b[39m\u001b[38;5;241m*\u001b[39mkwargs) \u001b[38;5;241m-\u001b[39m\u001b[38;5;241m>\u001b[39m \u001b[38;5;28mtuple\u001b[39m[\u001b[38;5;28mdict\u001b[39m \u001b[38;5;241m|\u001b[39m Any, httpx\u001b[38;5;241m.\u001b[39mResponse]:\n\u001b[1;32m--> 172\u001b[0m     \u001b[38;5;28;01mreturn\u001b[39;00m \u001b[38;5;28;43mself\u001b[39;49m\u001b[38;5;241;43m.\u001b[39;49m\u001b[43mrequest\u001b[49m\u001b[43m(\u001b[49m\u001b[38;5;124;43m'\u001b[39;49m\u001b[38;5;124;43mPOST\u001b[39;49m\u001b[38;5;124;43m'\u001b[39;49m\u001b[43m,\u001b[49m\u001b[43m \u001b[49m\u001b[43murl\u001b[49m\u001b[43m,\u001b[49m\u001b[43m \u001b[49m\u001b[38;5;241;43m*\u001b[39;49m\u001b[38;5;241;43m*\u001b[39;49m\u001b[43mkwargs\u001b[49m\u001b[43m)\u001b[49m\n",
      "File \u001b[1;32mc:\\Users\\Sathmika\\anaconda3\\envs\\tft\\Lib\\site-packages\\twikit\\client.py:152\u001b[0m, in \u001b[0;36mBaseClient.request\u001b[1;34m(self, method, url, auto_unlock, raise_exception, **kwargs)\u001b[0m\n\u001b[0;32m    150\u001b[0m     \u001b[38;5;28;01mraise\u001b[39;00m Unauthorized(message, headers\u001b[38;5;241m=\u001b[39mresponse\u001b[38;5;241m.\u001b[39mheaders)\n\u001b[0;32m    151\u001b[0m \u001b[38;5;28;01melif\u001b[39;00m status_code \u001b[38;5;241m==\u001b[39m \u001b[38;5;241m403\u001b[39m:\n\u001b[1;32m--> 152\u001b[0m     \u001b[38;5;28;01mraise\u001b[39;00m Forbidden(message, headers\u001b[38;5;241m=\u001b[39mresponse\u001b[38;5;241m.\u001b[39mheaders)\n\u001b[0;32m    153\u001b[0m \u001b[38;5;28;01melif\u001b[39;00m status_code \u001b[38;5;241m==\u001b[39m \u001b[38;5;241m404\u001b[39m:\n\u001b[0;32m    154\u001b[0m     \u001b[38;5;28;01mraise\u001b[39;00m NotFound(message, headers\u001b[38;5;241m=\u001b[39mresponse\u001b[38;5;241m.\u001b[39mheaders)\n",
      "\u001b[1;31mForbidden\u001b[0m: status: 403, message: \"{\"errors\":[{\"code\":353,\"message\":\"This request requires a matching csrf cookie and header.\"}]}\""
     ]
    }
   ],
   "source": [
    "MINIMUM_TWEETS = 10\n",
    "QUERY = 'chatgpt'\n",
    "\n",
    "# login credentials\n",
    "# config = ConfigParser()\n",
    "# config.read('config.ini')\n",
    "username = 'kulunusathmika'\n",
    "email = 'cogeartech@gmail.com'\n",
    "password = 'sathmikaTwitter2025#'\n",
    "\n",
    "# authenticate to X.com\n",
    "#! user login credentials\n",
    "client = Client('en-US')\n",
    "client.login(auth_info_1=username, auth_info_2=email, password=password)\n",
    "client.save_cookies('cookies.json')"
   ]
  },
  {
   "cell_type": "code",
   "execution_count": null,
   "metadata": {},
   "outputs": [],
   "source": []
  }
 ],
 "metadata": {
  "kernelspec": {
   "display_name": "tft",
   "language": "python",
   "name": "python3"
  },
  "language_info": {
   "codemirror_mode": {
    "name": "ipython",
    "version": 3
   },
   "file_extension": ".py",
   "mimetype": "text/x-python",
   "name": "python",
   "nbconvert_exporter": "python",
   "pygments_lexer": "ipython3",
   "version": "3.12.8"
  }
 },
 "nbformat": 4,
 "nbformat_minor": 2
}
