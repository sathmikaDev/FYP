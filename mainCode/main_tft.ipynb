{
 "cells": [
  {
   "cell_type": "code",
   "execution_count": 12,
   "metadata": {
    "scrolled": true
   },
   "outputs": [
    {
     "name": "stdout",
     "output_type": "stream",
     "text": [
      "Collecting pytorch-forecastingNote: you may need to restart the kernel to use updated packages.\n",
      "\n",
      "  Using cached pytorch_forecasting-1.2.0-py3-none-any.whl.metadata (13 kB)\n",
      "Requirement already satisfied: numpy<=3.0.0 in c:\\users\\sathmika\\anaconda3\\envs\\tft\\lib\\site-packages (from pytorch-forecasting) (2.2.1)\n",
      "Collecting torch!=2.0.1,<3.0.0,>=2.0.0 (from pytorch-forecasting)\n",
      "  Using cached torch-2.5.1-cp312-cp312-win_amd64.whl.metadata (28 kB)\n",
      "Collecting lightning<3.0.0,>=2.0.0 (from pytorch-forecasting)\n",
      "  Using cached lightning-2.5.0.post0-py3-none-any.whl.metadata (40 kB)\n",
      "Collecting scipy<2.0,>=1.8 (from pytorch-forecasting)\n",
      "  Downloading scipy-1.15.1-cp312-cp312-win_amd64.whl.metadata (60 kB)\n",
      "Requirement already satisfied: pandas<3.0.0,>=1.3.0 in c:\\users\\sathmika\\anaconda3\\envs\\tft\\lib\\site-packages (from pytorch-forecasting) (2.2.3)\n",
      "Collecting scikit-learn<2.0,>=1.2 (from pytorch-forecasting)\n",
      "  Downloading scikit_learn-1.6.1-cp312-cp312-win_amd64.whl.metadata (15 kB)\n",
      "Collecting PyYAML<8.0,>=5.4 (from lightning<3.0.0,>=2.0.0->pytorch-forecasting)\n",
      "  Using cached PyYAML-6.0.2-cp312-cp312-win_amd64.whl.metadata (2.1 kB)\n",
      "Collecting fsspec<2026.0,>=2022.5.0 (from fsspec[http]<2026.0,>=2022.5.0->lightning<3.0.0,>=2.0.0->pytorch-forecasting)\n",
      "  Using cached fsspec-2024.12.0-py3-none-any.whl.metadata (11 kB)\n",
      "Collecting lightning-utilities<2.0,>=0.10.0 (from lightning<3.0.0,>=2.0.0->pytorch-forecasting)\n",
      "  Using cached lightning_utilities-0.11.9-py3-none-any.whl.metadata (5.2 kB)\n",
      "Requirement already satisfied: packaging<25.0,>=20.0 in c:\\users\\sathmika\\appdata\\roaming\\python\\python312\\site-packages (from lightning<3.0.0,>=2.0.0->pytorch-forecasting) (24.1)\n",
      "Collecting torchmetrics<3.0,>=0.7.0 (from lightning<3.0.0,>=2.0.0->pytorch-forecasting)\n",
      "  Using cached torchmetrics-1.6.1-py3-none-any.whl.metadata (21 kB)\n",
      "Requirement already satisfied: tqdm<6.0,>=4.57.0 in c:\\users\\sathmika\\anaconda3\\envs\\tft\\lib\\site-packages (from lightning<3.0.0,>=2.0.0->pytorch-forecasting) (4.67.1)\n",
      "Requirement already satisfied: typing-extensions<6.0,>=4.4.0 in c:\\users\\sathmika\\anaconda3\\envs\\tft\\lib\\site-packages (from lightning<3.0.0,>=2.0.0->pytorch-forecasting) (4.12.2)\n",
      "Collecting pytorch-lightning (from lightning<3.0.0,>=2.0.0->pytorch-forecasting)\n",
      "  Using cached pytorch_lightning-2.5.0.post0-py3-none-any.whl.metadata (21 kB)\n",
      "Requirement already satisfied: python-dateutil>=2.8.2 in c:\\users\\sathmika\\anaconda3\\envs\\tft\\lib\\site-packages (from pandas<3.0.0,>=1.3.0->pytorch-forecasting) (2.9.0.post0)\n",
      "Requirement already satisfied: pytz>=2020.1 in c:\\users\\sathmika\\anaconda3\\envs\\tft\\lib\\site-packages (from pandas<3.0.0,>=1.3.0->pytorch-forecasting) (2024.2)\n",
      "Requirement already satisfied: tzdata>=2022.7 in c:\\users\\sathmika\\anaconda3\\envs\\tft\\lib\\site-packages (from pandas<3.0.0,>=1.3.0->pytorch-forecasting) (2024.2)\n",
      "Collecting joblib>=1.2.0 (from scikit-learn<2.0,>=1.2->pytorch-forecasting)\n",
      "  Using cached joblib-1.4.2-py3-none-any.whl.metadata (5.4 kB)\n",
      "Collecting threadpoolctl>=3.1.0 (from scikit-learn<2.0,>=1.2->pytorch-forecasting)\n",
      "  Using cached threadpoolctl-3.5.0-py3-none-any.whl.metadata (13 kB)\n",
      "Collecting filelock (from torch!=2.0.1,<3.0.0,>=2.0.0->pytorch-forecasting)\n",
      "  Downloading filelock-3.17.0-py3-none-any.whl.metadata (2.9 kB)\n",
      "Collecting networkx (from torch!=2.0.1,<3.0.0,>=2.0.0->pytorch-forecasting)\n",
      "  Using cached networkx-3.4.2-py3-none-any.whl.metadata (6.3 kB)\n",
      "Collecting jinja2 (from torch!=2.0.1,<3.0.0,>=2.0.0->pytorch-forecasting)\n",
      "  Using cached jinja2-3.1.5-py3-none-any.whl.metadata (2.6 kB)\n",
      "Requirement already satisfied: setuptools in c:\\users\\sathmika\\anaconda3\\envs\\tft\\lib\\site-packages (from torch!=2.0.1,<3.0.0,>=2.0.0->pytorch-forecasting) (75.8.0)\n",
      "Collecting sympy==1.13.1 (from torch!=2.0.1,<3.0.0,>=2.0.0->pytorch-forecasting)\n",
      "  Using cached sympy-1.13.1-py3-none-any.whl.metadata (12 kB)\n",
      "Collecting mpmath<1.4,>=1.1.0 (from sympy==1.13.1->torch!=2.0.1,<3.0.0,>=2.0.0->pytorch-forecasting)\n",
      "  Using cached mpmath-1.3.0-py3-none-any.whl.metadata (8.6 kB)\n",
      "Collecting aiohttp!=4.0.0a0,!=4.0.0a1 (from fsspec[http]<2026.0,>=2022.5.0->lightning<3.0.0,>=2.0.0->pytorch-forecasting)\n",
      "  Using cached aiohttp-3.11.11-cp312-cp312-win_amd64.whl.metadata (8.0 kB)\n",
      "Requirement already satisfied: six>=1.5 in c:\\users\\sathmika\\appdata\\roaming\\python\\python312\\site-packages (from python-dateutil>=2.8.2->pandas<3.0.0,>=1.3.0->pytorch-forecasting) (1.16.0)\n",
      "Requirement already satisfied: colorama in c:\\users\\sathmika\\appdata\\roaming\\python\\python312\\site-packages (from tqdm<6.0,>=4.57.0->lightning<3.0.0,>=2.0.0->pytorch-forecasting) (0.4.6)\n",
      "Collecting MarkupSafe>=2.0 (from jinja2->torch!=2.0.1,<3.0.0,>=2.0.0->pytorch-forecasting)\n",
      "  Using cached MarkupSafe-3.0.2-cp312-cp312-win_amd64.whl.metadata (4.1 kB)\n",
      "Collecting aiohappyeyeballs>=2.3.0 (from aiohttp!=4.0.0a0,!=4.0.0a1->fsspec[http]<2026.0,>=2022.5.0->lightning<3.0.0,>=2.0.0->pytorch-forecasting)\n",
      "  Using cached aiohappyeyeballs-2.4.4-py3-none-any.whl.metadata (6.1 kB)\n",
      "Collecting aiosignal>=1.1.2 (from aiohttp!=4.0.0a0,!=4.0.0a1->fsspec[http]<2026.0,>=2022.5.0->lightning<3.0.0,>=2.0.0->pytorch-forecasting)\n",
      "  Using cached aiosignal-1.3.2-py2.py3-none-any.whl.metadata (3.8 kB)\n",
      "Collecting attrs>=17.3.0 (from aiohttp!=4.0.0a0,!=4.0.0a1->fsspec[http]<2026.0,>=2022.5.0->lightning<3.0.0,>=2.0.0->pytorch-forecasting)\n",
      "  Downloading attrs-25.1.0-py3-none-any.whl.metadata (10 kB)\n",
      "Collecting frozenlist>=1.1.1 (from aiohttp!=4.0.0a0,!=4.0.0a1->fsspec[http]<2026.0,>=2022.5.0->lightning<3.0.0,>=2.0.0->pytorch-forecasting)\n",
      "  Using cached frozenlist-1.5.0-cp312-cp312-win_amd64.whl.metadata (14 kB)\n",
      "Collecting multidict<7.0,>=4.5 (from aiohttp!=4.0.0a0,!=4.0.0a1->fsspec[http]<2026.0,>=2022.5.0->lightning<3.0.0,>=2.0.0->pytorch-forecasting)\n",
      "  Using cached multidict-6.1.0-cp312-cp312-win_amd64.whl.metadata (5.1 kB)\n",
      "Collecting propcache>=0.2.0 (from aiohttp!=4.0.0a0,!=4.0.0a1->fsspec[http]<2026.0,>=2022.5.0->lightning<3.0.0,>=2.0.0->pytorch-forecasting)\n",
      "  Using cached propcache-0.2.1-cp312-cp312-win_amd64.whl.metadata (9.5 kB)\n",
      "Collecting yarl<2.0,>=1.17.0 (from aiohttp!=4.0.0a0,!=4.0.0a1->fsspec[http]<2026.0,>=2022.5.0->lightning<3.0.0,>=2.0.0->pytorch-forecasting)\n",
      "  Using cached yarl-1.18.3-cp312-cp312-win_amd64.whl.metadata (71 kB)\n",
      "Requirement already satisfied: idna>=2.0 in c:\\users\\sathmika\\anaconda3\\envs\\tft\\lib\\site-packages (from yarl<2.0,>=1.17.0->aiohttp!=4.0.0a0,!=4.0.0a1->fsspec[http]<2026.0,>=2022.5.0->lightning<3.0.0,>=2.0.0->pytorch-forecasting) (3.10)\n",
      "Using cached pytorch_forecasting-1.2.0-py3-none-any.whl (181 kB)\n",
      "Using cached lightning-2.5.0.post0-py3-none-any.whl (815 kB)\n",
      "Downloading scikit_learn-1.6.1-cp312-cp312-win_amd64.whl (11.1 MB)\n",
      "   ---------------------------------------- 0.0/11.1 MB ? eta -:--:--\n",
      "   --- ------------------------------------ 1.0/11.1 MB 7.2 MB/s eta 0:00:02\n",
      "   -------- ------------------------------- 2.4/11.1 MB 7.1 MB/s eta 0:00:02\n",
      "   -------------- ------------------------- 3.9/11.1 MB 7.6 MB/s eta 0:00:01\n",
      "   -------------------- ------------------- 5.8/11.1 MB 7.3 MB/s eta 0:00:01\n",
      "   -------------------------- ------------- 7.3/11.1 MB 7.4 MB/s eta 0:00:01\n",
      "   -------------------------------- ------- 8.9/11.1 MB 7.5 MB/s eta 0:00:01\n",
      "   ------------------------------------ --- 10.2/11.1 MB 7.5 MB/s eta 0:00:01\n",
      "   ---------------------------------------- 11.1/11.1 MB 7.3 MB/s eta 0:00:00\n",
      "Downloading scipy-1.15.1-cp312-cp312-win_amd64.whl (43.6 MB)\n",
      "   ---------------------------------------- 0.0/43.6 MB ? eta -:--:--\n",
      "   ---------------------------------------- 0.5/43.6 MB 5.6 MB/s eta 0:00:08\n",
      "   - -------------------------------------- 1.8/43.6 MB 4.4 MB/s eta 0:00:10\n",
      "   -- ------------------------------------- 3.1/43.6 MB 5.3 MB/s eta 0:00:08\n",
      "   --- ------------------------------------ 4.2/43.6 MB 5.4 MB/s eta 0:00:08\n",
      "   ----- ---------------------------------- 5.5/43.6 MB 5.5 MB/s eta 0:00:07\n",
      "   ------ --------------------------------- 6.6/43.6 MB 5.4 MB/s eta 0:00:07\n",
      "   ------- -------------------------------- 7.9/43.6 MB 5.5 MB/s eta 0:00:07\n",
      "   -------- ------------------------------- 9.2/43.6 MB 5.6 MB/s eta 0:00:07\n",
      "   --------- ------------------------------ 10.5/43.6 MB 5.8 MB/s eta 0:00:06\n",
      "   ----------- ---------------------------- 12.1/43.6 MB 5.9 MB/s eta 0:00:06\n",
      "   ------------ --------------------------- 13.1/43.6 MB 5.9 MB/s eta 0:00:06\n",
      "   ------------- -------------------------- 14.4/43.6 MB 6.0 MB/s eta 0:00:05\n",
      "   -------------- ------------------------- 16.0/43.6 MB 6.0 MB/s eta 0:00:05\n",
      "   --------------- ------------------------ 17.3/43.6 MB 6.1 MB/s eta 0:00:05\n",
      "   ---------------- ----------------------- 18.4/43.6 MB 6.1 MB/s eta 0:00:05\n",
      "   ------------------ --------------------- 19.7/43.6 MB 6.1 MB/s eta 0:00:04\n",
      "   ------------------ --------------------- 20.2/43.6 MB 5.8 MB/s eta 0:00:05\n",
      "   ------------------- -------------------- 21.0/43.6 MB 5.7 MB/s eta 0:00:04\n",
      "   ------------------- -------------------- 21.8/43.6 MB 5.6 MB/s eta 0:00:04\n",
      "   -------------------- ------------------- 22.5/43.6 MB 5.5 MB/s eta 0:00:04\n",
      "   --------------------- ------------------ 23.9/43.6 MB 5.6 MB/s eta 0:00:04\n",
      "   ----------------------- ---------------- 25.2/43.6 MB 5.6 MB/s eta 0:00:04\n",
      "   ------------------------ --------------- 26.2/43.6 MB 5.6 MB/s eta 0:00:04\n",
      "   ------------------------- -------------- 27.5/43.6 MB 5.6 MB/s eta 0:00:03\n",
      "   ------------------------- -------------- 28.0/43.6 MB 5.5 MB/s eta 0:00:03\n",
      "   -------------------------- ------------- 28.8/43.6 MB 5.4 MB/s eta 0:00:03\n",
      "   -------------------------- ------------- 29.4/43.6 MB 5.3 MB/s eta 0:00:03\n",
      "   --------------------------- ------------ 30.4/43.6 MB 5.3 MB/s eta 0:00:03\n",
      "   ---------------------------- ----------- 31.5/43.6 MB 5.3 MB/s eta 0:00:03\n",
      "   ----------------------------- ---------- 32.2/43.6 MB 5.3 MB/s eta 0:00:03\n",
      "   ------------------------------ --------- 32.8/43.6 MB 5.2 MB/s eta 0:00:03\n",
      "   ------------------------------ --------- 33.6/43.6 MB 5.1 MB/s eta 0:00:02\n",
      "   ------------------------------- -------- 34.1/43.6 MB 5.1 MB/s eta 0:00:02\n",
      "   -------------------------------- ------- 35.7/43.6 MB 5.1 MB/s eta 0:00:02\n",
      "   --------------------------------- ------ 37.0/43.6 MB 5.1 MB/s eta 0:00:02\n",
      "   ----------------------------------- ---- 38.5/43.6 MB 5.2 MB/s eta 0:00:01\n",
      "   ------------------------------------ --- 39.8/43.6 MB 5.2 MB/s eta 0:00:01\n",
      "   ------------------------------------- -- 40.9/43.6 MB 5.3 MB/s eta 0:00:01\n",
      "   -------------------------------------- - 42.5/43.6 MB 5.3 MB/s eta 0:00:01\n",
      "   ---------------------------------------  43.3/43.6 MB 5.3 MB/s eta 0:00:01\n",
      "   ---------------------------------------- 43.6/43.6 MB 5.2 MB/s eta 0:00:00\n",
      "Using cached torch-2.5.1-cp312-cp312-win_amd64.whl (203.0 MB)\n",
      "Using cached sympy-1.13.1-py3-none-any.whl (6.2 MB)\n",
      "Using cached fsspec-2024.12.0-py3-none-any.whl (183 kB)\n",
      "Using cached joblib-1.4.2-py3-none-any.whl (301 kB)\n",
      "Using cached lightning_utilities-0.11.9-py3-none-any.whl (28 kB)\n",
      "Using cached PyYAML-6.0.2-cp312-cp312-win_amd64.whl (156 kB)\n",
      "Using cached threadpoolctl-3.5.0-py3-none-any.whl (18 kB)\n",
      "Using cached torchmetrics-1.6.1-py3-none-any.whl (927 kB)\n",
      "Downloading filelock-3.17.0-py3-none-any.whl (16 kB)\n",
      "Using cached jinja2-3.1.5-py3-none-any.whl (134 kB)\n",
      "Using cached networkx-3.4.2-py3-none-any.whl (1.7 MB)\n",
      "Using cached pytorch_lightning-2.5.0.post0-py3-none-any.whl (819 kB)\n",
      "Using cached aiohttp-3.11.11-cp312-cp312-win_amd64.whl (437 kB)\n",
      "Using cached MarkupSafe-3.0.2-cp312-cp312-win_amd64.whl (15 kB)\n",
      "Using cached mpmath-1.3.0-py3-none-any.whl (536 kB)\n",
      "Using cached aiohappyeyeballs-2.4.4-py3-none-any.whl (14 kB)\n",
      "Using cached aiosignal-1.3.2-py2.py3-none-any.whl (7.6 kB)\n",
      "Downloading attrs-25.1.0-py3-none-any.whl (63 kB)\n",
      "Using cached frozenlist-1.5.0-cp312-cp312-win_amd64.whl (51 kB)\n",
      "Using cached multidict-6.1.0-cp312-cp312-win_amd64.whl (28 kB)\n",
      "Using cached propcache-0.2.1-cp312-cp312-win_amd64.whl (44 kB)\n",
      "Using cached yarl-1.18.3-cp312-cp312-win_amd64.whl (90 kB)\n",
      "Installing collected packages: mpmath, threadpoolctl, sympy, scipy, PyYAML, propcache, networkx, multidict, MarkupSafe, lightning-utilities, joblib, fsspec, frozenlist, filelock, attrs, aiohappyeyeballs, yarl, scikit-learn, jinja2, aiosignal, torch, aiohttp, torchmetrics, pytorch-lightning, lightning, pytorch-forecasting\n",
      "Successfully installed MarkupSafe-3.0.2 PyYAML-6.0.2 aiohappyeyeballs-2.4.4 aiohttp-3.11.11 aiosignal-1.3.2 attrs-25.1.0 filelock-3.17.0 frozenlist-1.5.0 fsspec-2024.12.0 jinja2-3.1.5 joblib-1.4.2 lightning-2.5.0.post0 lightning-utilities-0.11.9 mpmath-1.3.0 multidict-6.1.0 networkx-3.4.2 propcache-0.2.1 pytorch-forecasting-1.2.0 pytorch-lightning-2.5.0.post0 scikit-learn-1.6.1 scipy-1.15.1 sympy-1.13.1 threadpoolctl-3.5.0 torch-2.5.1 torchmetrics-1.6.1 yarl-1.18.3\n"
     ]
    }
   ],
   "source": [
    "pip install pytorch-forecasting"
   ]
  },
  {
   "cell_type": "code",
   "execution_count": null,
   "metadata": {
    "scrolled": true
   },
   "outputs": [],
   "source": [
    "pip install ipywidgets"
   ]
  },
  {
   "cell_type": "code",
   "execution_count": 242,
   "metadata": {},
   "outputs": [],
   "source": [
    "import warnings\n",
    "\n",
    "warnings.filterwarnings(\"ignore\")  # avoid printing out absolute p"
   ]
  },
  {
   "cell_type": "code",
   "execution_count": 10,
   "metadata": {},
   "outputs": [],
   "source": [
    "import pandas as pd\n",
    "import matplotlib.pyplot as plt\n",
    "import seaborn as sns\n",
    "import yfinance as yf"
   ]
  },
  {
   "cell_type": "code",
   "execution_count": 25,
   "metadata": {},
   "outputs": [],
   "source": [
    "Dollar_Index = pd.read_csv(\"../Datasetsv2/preprocessed/Dollar_Index_Preprocessed.csv\")\n",
    "Gold = pd.read_csv(\"../Datasetsv2/preprocessed/Gold_Preprocessed.csv\")\n",
    "Interest_Rate = pd.read_csv(\"../Datasetsv2/preprocessed/Interest_Rate_Preprocessed.csv\")\n",
    "US_10_Year = pd.read_csv(\"../Datasetsv2/preprocessed/US_10_Year_Preprocessed.csv\")\n",
    "VIX_Data = pd.read_csv(\"../Datasetsv2/preprocessed/VIX_Data_Preprocessed.csv\")"
   ]
  },
  {
   "cell_type": "code",
   "execution_count": 10,
   "metadata": {},
   "outputs": [
    {
     "data": {
      "text/html": [
       "<div>\n",
       "<style scoped>\n",
       "    .dataframe tbody tr th:only-of-type {\n",
       "        vertical-align: middle;\n",
       "    }\n",
       "\n",
       "    .dataframe tbody tr th {\n",
       "        vertical-align: top;\n",
       "    }\n",
       "\n",
       "    .dataframe thead th {\n",
       "        text-align: right;\n",
       "    }\n",
       "</style>\n",
       "<table border=\"1\" class=\"dataframe\">\n",
       "  <thead>\n",
       "    <tr style=\"text-align: right;\">\n",
       "      <th></th>\n",
       "      <th>Date</th>\n",
       "      <th>VIX_Value</th>\n",
       "    </tr>\n",
       "  </thead>\n",
       "  <tbody>\n",
       "    <tr>\n",
       "      <th>0</th>\n",
       "      <td>2015-01-09</td>\n",
       "      <td>17.55</td>\n",
       "    </tr>\n",
       "    <tr>\n",
       "      <th>1</th>\n",
       "      <td>2015-01-10</td>\n",
       "      <td>17.55</td>\n",
       "    </tr>\n",
       "    <tr>\n",
       "      <th>2</th>\n",
       "      <td>2015-01-11</td>\n",
       "      <td>17.55</td>\n",
       "    </tr>\n",
       "    <tr>\n",
       "      <th>3</th>\n",
       "      <td>2015-01-12</td>\n",
       "      <td>19.60</td>\n",
       "    </tr>\n",
       "    <tr>\n",
       "      <th>4</th>\n",
       "      <td>2015-01-13</td>\n",
       "      <td>20.56</td>\n",
       "    </tr>\n",
       "  </tbody>\n",
       "</table>\n",
       "</div>"
      ],
      "text/plain": [
       "         Date  VIX_Value\n",
       "0  2015-01-09      17.55\n",
       "1  2015-01-10      17.55\n",
       "2  2015-01-11      17.55\n",
       "3  2015-01-12      19.60\n",
       "4  2015-01-13      20.56"
      ]
     },
     "execution_count": 10,
     "metadata": {},
     "output_type": "execute_result"
    }
   ],
   "source": [
    "VIX_Data.head()"
   ]
  },
  {
   "cell_type": "code",
   "execution_count": 11,
   "metadata": {},
   "outputs": [],
   "source": [
    "Exogenous_Variables = Dollar_Index.merge(Gold, on=\"Date\", how=\"outer\") \\\n",
    "                        .merge(Interest_Rate, on=\"Date\", how=\"outer\") \\\n",
    "                        .merge(US_10_Year, on=\"Date\", how=\"outer\") \\\n",
    "                        .merge(VIX_Data, on=\"Date\", how=\"outer\")"
   ]
  },
  {
   "cell_type": "code",
   "execution_count": 12,
   "metadata": {},
   "outputs": [
    {
     "data": {
      "text/html": [
       "<div>\n",
       "<style scoped>\n",
       "    .dataframe tbody tr th:only-of-type {\n",
       "        vertical-align: middle;\n",
       "    }\n",
       "\n",
       "    .dataframe tbody tr th {\n",
       "        vertical-align: top;\n",
       "    }\n",
       "\n",
       "    .dataframe thead th {\n",
       "        text-align: right;\n",
       "    }\n",
       "</style>\n",
       "<table border=\"1\" class=\"dataframe\">\n",
       "  <thead>\n",
       "    <tr style=\"text-align: right;\">\n",
       "      <th></th>\n",
       "      <th>Date</th>\n",
       "      <th>Dollar_Index</th>\n",
       "      <th>Gold_Price</th>\n",
       "      <th>Interest_Rate</th>\n",
       "      <th>US_10_Year</th>\n",
       "      <th>VIX_Value</th>\n",
       "    </tr>\n",
       "  </thead>\n",
       "  <tbody>\n",
       "    <tr>\n",
       "      <th>0</th>\n",
       "      <td>2015-01-09</td>\n",
       "      <td>91.940002</td>\n",
       "      <td>1211.2500</td>\n",
       "      <td>0.12</td>\n",
       "      <td>1.950</td>\n",
       "      <td>17.55</td>\n",
       "    </tr>\n",
       "    <tr>\n",
       "      <th>1</th>\n",
       "      <td>2015-01-10</td>\n",
       "      <td>91.940002</td>\n",
       "      <td>1211.2500</td>\n",
       "      <td>0.12</td>\n",
       "      <td>1.950</td>\n",
       "      <td>17.55</td>\n",
       "    </tr>\n",
       "    <tr>\n",
       "      <th>2</th>\n",
       "      <td>2015-01-11</td>\n",
       "      <td>91.940002</td>\n",
       "      <td>1211.2500</td>\n",
       "      <td>0.12</td>\n",
       "      <td>1.950</td>\n",
       "      <td>17.55</td>\n",
       "    </tr>\n",
       "    <tr>\n",
       "      <th>3</th>\n",
       "      <td>2015-01-12</td>\n",
       "      <td>91.980003</td>\n",
       "      <td>1222.0000</td>\n",
       "      <td>0.12</td>\n",
       "      <td>1.909</td>\n",
       "      <td>19.60</td>\n",
       "    </tr>\n",
       "    <tr>\n",
       "      <th>4</th>\n",
       "      <td>2015-01-13</td>\n",
       "      <td>92.309998</td>\n",
       "      <td>1239.0000</td>\n",
       "      <td>0.12</td>\n",
       "      <td>1.905</td>\n",
       "      <td>20.56</td>\n",
       "    </tr>\n",
       "    <tr>\n",
       "      <th>...</th>\n",
       "      <td>...</td>\n",
       "      <td>...</td>\n",
       "      <td>...</td>\n",
       "      <td>...</td>\n",
       "      <td>...</td>\n",
       "      <td>...</td>\n",
       "    </tr>\n",
       "    <tr>\n",
       "      <th>3649</th>\n",
       "      <td>2025-01-05</td>\n",
       "      <td>108.949997</td>\n",
       "      <td>2640.1664</td>\n",
       "      <td>4.33</td>\n",
       "      <td>4.601</td>\n",
       "      <td>16.13</td>\n",
       "    </tr>\n",
       "    <tr>\n",
       "      <th>3650</th>\n",
       "      <td>2025-01-06</td>\n",
       "      <td>108.260002</td>\n",
       "      <td>2635.8796</td>\n",
       "      <td>4.33</td>\n",
       "      <td>4.623</td>\n",
       "      <td>16.04</td>\n",
       "    </tr>\n",
       "    <tr>\n",
       "      <th>3651</th>\n",
       "      <td>2025-01-07</td>\n",
       "      <td>108.540001</td>\n",
       "      <td>2648.7119</td>\n",
       "      <td>4.33</td>\n",
       "      <td>4.684</td>\n",
       "      <td>17.82</td>\n",
       "    </tr>\n",
       "    <tr>\n",
       "      <th>3652</th>\n",
       "      <td>2025-01-08</td>\n",
       "      <td>109.089996</td>\n",
       "      <td>2661.5352</td>\n",
       "      <td>4.33</td>\n",
       "      <td>4.692</td>\n",
       "      <td>17.70</td>\n",
       "    </tr>\n",
       "    <tr>\n",
       "      <th>3653</th>\n",
       "      <td>2025-01-09</td>\n",
       "      <td>109.180000</td>\n",
       "      <td>2669.9489</td>\n",
       "      <td>4.33</td>\n",
       "      <td>4.688</td>\n",
       "      <td>18.07</td>\n",
       "    </tr>\n",
       "  </tbody>\n",
       "</table>\n",
       "<p>3654 rows × 6 columns</p>\n",
       "</div>"
      ],
      "text/plain": [
       "            Date  Dollar_Index  Gold_Price  Interest_Rate  US_10_Year  \\\n",
       "0     2015-01-09     91.940002   1211.2500           0.12       1.950   \n",
       "1     2015-01-10     91.940002   1211.2500           0.12       1.950   \n",
       "2     2015-01-11     91.940002   1211.2500           0.12       1.950   \n",
       "3     2015-01-12     91.980003   1222.0000           0.12       1.909   \n",
       "4     2015-01-13     92.309998   1239.0000           0.12       1.905   \n",
       "...          ...           ...         ...            ...         ...   \n",
       "3649  2025-01-05    108.949997   2640.1664           4.33       4.601   \n",
       "3650  2025-01-06    108.260002   2635.8796           4.33       4.623   \n",
       "3651  2025-01-07    108.540001   2648.7119           4.33       4.684   \n",
       "3652  2025-01-08    109.089996   2661.5352           4.33       4.692   \n",
       "3653  2025-01-09    109.180000   2669.9489           4.33       4.688   \n",
       "\n",
       "      VIX_Value  \n",
       "0         17.55  \n",
       "1         17.55  \n",
       "2         17.55  \n",
       "3         19.60  \n",
       "4         20.56  \n",
       "...         ...  \n",
       "3649      16.13  \n",
       "3650      16.04  \n",
       "3651      17.82  \n",
       "3652      17.70  \n",
       "3653      18.07  \n",
       "\n",
       "[3654 rows x 6 columns]"
      ]
     },
     "execution_count": 12,
     "metadata": {},
     "output_type": "execute_result"
    }
   ],
   "source": [
    "Exogenous_Variables"
   ]
  },
  {
   "cell_type": "code",
   "execution_count": 13,
   "metadata": {},
   "outputs": [],
   "source": [
    "# Set 'date' as index\n",
    "Exogenous_Variables.set_index(\"Date\", inplace=True)"
   ]
  },
  {
   "cell_type": "code",
   "execution_count": 14,
   "metadata": {},
   "outputs": [],
   "source": [
    "# Save the merged dataset\n",
    "Exogenous_Variables.to_csv(\"../Datasetsv2/Exogenous/Exogenous_Variables.csv\")"
   ]
  },
  {
   "cell_type": "code",
   "execution_count": 4,
   "metadata": {},
   "outputs": [
    {
     "name": "stderr",
     "output_type": "stream",
     "text": [
      "[*********************100%***********************]  1 of 1 completed\n"
     ]
    }
   ],
   "source": [
    "# download bitcoin data\n",
    "start_date = \"2015-01-09\"\n",
    "end_date = \"2025-01-10\"\n",
    "BTC_USD = yf.download(\"BTC-USD\", start=start_date, end=end_date)"
   ]
  },
  {
   "cell_type": "code",
   "execution_count": 5,
   "metadata": {},
   "outputs": [
    {
     "data": {
      "text/html": [
       "<div>\n",
       "<style scoped>\n",
       "    .dataframe tbody tr th:only-of-type {\n",
       "        vertical-align: middle;\n",
       "    }\n",
       "\n",
       "    .dataframe tbody tr th {\n",
       "        vertical-align: top;\n",
       "    }\n",
       "\n",
       "    .dataframe thead tr th {\n",
       "        text-align: left;\n",
       "    }\n",
       "\n",
       "    .dataframe thead tr:last-of-type th {\n",
       "        text-align: right;\n",
       "    }\n",
       "</style>\n",
       "<table border=\"1\" class=\"dataframe\">\n",
       "  <thead>\n",
       "    <tr>\n",
       "      <th>Price</th>\n",
       "      <th>Close</th>\n",
       "      <th>High</th>\n",
       "      <th>Low</th>\n",
       "      <th>Open</th>\n",
       "      <th>Volume</th>\n",
       "    </tr>\n",
       "    <tr>\n",
       "      <th>Ticker</th>\n",
       "      <th>BTC-USD</th>\n",
       "      <th>BTC-USD</th>\n",
       "      <th>BTC-USD</th>\n",
       "      <th>BTC-USD</th>\n",
       "      <th>BTC-USD</th>\n",
       "    </tr>\n",
       "    <tr>\n",
       "      <th>Date</th>\n",
       "      <th></th>\n",
       "      <th></th>\n",
       "      <th></th>\n",
       "      <th></th>\n",
       "      <th></th>\n",
       "    </tr>\n",
       "  </thead>\n",
       "  <tbody>\n",
       "    <tr>\n",
       "      <th>2015-01-09</th>\n",
       "      <td>290.407990</td>\n",
       "      <td>291.114014</td>\n",
       "      <td>280.532990</td>\n",
       "      <td>282.382996</td>\n",
       "      <td>18718600</td>\n",
       "    </tr>\n",
       "    <tr>\n",
       "      <th>2015-01-10</th>\n",
       "      <td>274.795990</td>\n",
       "      <td>288.127014</td>\n",
       "      <td>273.966003</td>\n",
       "      <td>287.303009</td>\n",
       "      <td>15264300</td>\n",
       "    </tr>\n",
       "    <tr>\n",
       "      <th>2015-01-11</th>\n",
       "      <td>265.660004</td>\n",
       "      <td>279.638000</td>\n",
       "      <td>265.039001</td>\n",
       "      <td>274.608002</td>\n",
       "      <td>18200800</td>\n",
       "    </tr>\n",
       "    <tr>\n",
       "      <th>2015-01-12</th>\n",
       "      <td>267.795990</td>\n",
       "      <td>272.203003</td>\n",
       "      <td>265.200012</td>\n",
       "      <td>266.145996</td>\n",
       "      <td>18880300</td>\n",
       "    </tr>\n",
       "    <tr>\n",
       "      <th>2015-01-13</th>\n",
       "      <td>225.860992</td>\n",
       "      <td>268.277008</td>\n",
       "      <td>219.906006</td>\n",
       "      <td>267.394012</td>\n",
       "      <td>72843904</td>\n",
       "    </tr>\n",
       "    <tr>\n",
       "      <th>...</th>\n",
       "      <td>...</td>\n",
       "      <td>...</td>\n",
       "      <td>...</td>\n",
       "      <td>...</td>\n",
       "      <td>...</td>\n",
       "    </tr>\n",
       "    <tr>\n",
       "      <th>2025-01-05</th>\n",
       "      <td>98314.960938</td>\n",
       "      <td>98813.304688</td>\n",
       "      <td>97291.765625</td>\n",
       "      <td>98233.906250</td>\n",
       "      <td>20525254825</td>\n",
       "    </tr>\n",
       "    <tr>\n",
       "      <th>2025-01-06</th>\n",
       "      <td>102078.085938</td>\n",
       "      <td>102482.875000</td>\n",
       "      <td>97926.148438</td>\n",
       "      <td>98314.953125</td>\n",
       "      <td>51823432705</td>\n",
       "    </tr>\n",
       "    <tr>\n",
       "      <th>2025-01-07</th>\n",
       "      <td>96922.703125</td>\n",
       "      <td>102712.484375</td>\n",
       "      <td>96132.875000</td>\n",
       "      <td>102248.851562</td>\n",
       "      <td>58685738547</td>\n",
       "    </tr>\n",
       "    <tr>\n",
       "      <th>2025-01-08</th>\n",
       "      <td>95043.523438</td>\n",
       "      <td>97258.320312</td>\n",
       "      <td>92525.843750</td>\n",
       "      <td>96924.164062</td>\n",
       "      <td>63875859171</td>\n",
       "    </tr>\n",
       "    <tr>\n",
       "      <th>2025-01-09</th>\n",
       "      <td>92484.039062</td>\n",
       "      <td>95349.718750</td>\n",
       "      <td>91220.843750</td>\n",
       "      <td>95043.484375</td>\n",
       "      <td>62777261693</td>\n",
       "    </tr>\n",
       "  </tbody>\n",
       "</table>\n",
       "<p>3654 rows × 5 columns</p>\n",
       "</div>"
      ],
      "text/plain": [
       "Price               Close           High           Low           Open  \\\n",
       "Ticker            BTC-USD        BTC-USD       BTC-USD        BTC-USD   \n",
       "Date                                                                    \n",
       "2015-01-09     290.407990     291.114014    280.532990     282.382996   \n",
       "2015-01-10     274.795990     288.127014    273.966003     287.303009   \n",
       "2015-01-11     265.660004     279.638000    265.039001     274.608002   \n",
       "2015-01-12     267.795990     272.203003    265.200012     266.145996   \n",
       "2015-01-13     225.860992     268.277008    219.906006     267.394012   \n",
       "...                   ...            ...           ...            ...   \n",
       "2025-01-05   98314.960938   98813.304688  97291.765625   98233.906250   \n",
       "2025-01-06  102078.085938  102482.875000  97926.148438   98314.953125   \n",
       "2025-01-07   96922.703125  102712.484375  96132.875000  102248.851562   \n",
       "2025-01-08   95043.523438   97258.320312  92525.843750   96924.164062   \n",
       "2025-01-09   92484.039062   95349.718750  91220.843750   95043.484375   \n",
       "\n",
       "Price            Volume  \n",
       "Ticker          BTC-USD  \n",
       "Date                     \n",
       "2015-01-09     18718600  \n",
       "2015-01-10     15264300  \n",
       "2015-01-11     18200800  \n",
       "2015-01-12     18880300  \n",
       "2015-01-13     72843904  \n",
       "...                 ...  \n",
       "2025-01-05  20525254825  \n",
       "2025-01-06  51823432705  \n",
       "2025-01-07  58685738547  \n",
       "2025-01-08  63875859171  \n",
       "2025-01-09  62777261693  \n",
       "\n",
       "[3654 rows x 5 columns]"
      ]
     },
     "execution_count": 5,
     "metadata": {},
     "output_type": "execute_result"
    }
   ],
   "source": [
    "BTC_USD"
   ]
  },
  {
   "cell_type": "code",
   "execution_count": 6,
   "metadata": {},
   "outputs": [
    {
     "name": "stdout",
     "output_type": "stream",
     "text": [
      "Are there any missing values? False\n"
     ]
    }
   ],
   "source": [
    "# check for missing values\n",
    "BTC_USD_Missing = BTC_USD.isnull().any().any()\n",
    "print(f\"Are there any missing values? {BTC_USD_Missing}\")"
   ]
  },
  {
   "cell_type": "code",
   "execution_count": 7,
   "metadata": {},
   "outputs": [],
   "source": [
    "BTC_USD.rename(columns={'Close': 'BTC_Price'}, inplace=True)"
   ]
  },
  {
   "cell_type": "code",
   "execution_count": 8,
   "metadata": {},
   "outputs": [],
   "source": [
    "BTC_USD = BTC_USD.drop(columns=['High', 'Low', 'Open', 'Volume'])"
   ]
  },
  {
   "cell_type": "code",
   "execution_count": 9,
   "metadata": {},
   "outputs": [
    {
     "data": {
      "text/plain": [
       "Price      Ticker \n",
       "BTC_Price  BTC-USD    float64\n",
       "dtype: object"
      ]
     },
     "execution_count": 9,
     "metadata": {},
     "output_type": "execute_result"
    }
   ],
   "source": [
    "BTC_USD.dtypes"
   ]
  },
  {
   "cell_type": "code",
   "execution_count": 16,
   "metadata": {},
   "outputs": [
    {
     "data": {
      "text/html": [
       "<div>\n",
       "<style scoped>\n",
       "    .dataframe tbody tr th:only-of-type {\n",
       "        vertical-align: middle;\n",
       "    }\n",
       "\n",
       "    .dataframe tbody tr th {\n",
       "        vertical-align: top;\n",
       "    }\n",
       "\n",
       "    .dataframe thead th {\n",
       "        text-align: right;\n",
       "    }\n",
       "</style>\n",
       "<table border=\"1\" class=\"dataframe\">\n",
       "  <thead>\n",
       "    <tr style=\"text-align: right;\">\n",
       "      <th>Price</th>\n",
       "      <th>BTC_Price</th>\n",
       "    </tr>\n",
       "    <tr>\n",
       "      <th>Date</th>\n",
       "      <th></th>\n",
       "    </tr>\n",
       "  </thead>\n",
       "  <tbody>\n",
       "    <tr>\n",
       "      <th>2015-01-09</th>\n",
       "      <td>290.407990</td>\n",
       "    </tr>\n",
       "    <tr>\n",
       "      <th>2015-01-10</th>\n",
       "      <td>274.795990</td>\n",
       "    </tr>\n",
       "    <tr>\n",
       "      <th>2015-01-11</th>\n",
       "      <td>265.660004</td>\n",
       "    </tr>\n",
       "    <tr>\n",
       "      <th>2015-01-12</th>\n",
       "      <td>267.795990</td>\n",
       "    </tr>\n",
       "    <tr>\n",
       "      <th>2015-01-13</th>\n",
       "      <td>225.860992</td>\n",
       "    </tr>\n",
       "  </tbody>\n",
       "</table>\n",
       "</div>"
      ],
      "text/plain": [
       "Price        BTC_Price\n",
       "Date                  \n",
       "2015-01-09  290.407990\n",
       "2015-01-10  274.795990\n",
       "2015-01-11  265.660004\n",
       "2015-01-12  267.795990\n",
       "2015-01-13  225.860992"
      ]
     },
     "execution_count": 16,
     "metadata": {},
     "output_type": "execute_result"
    }
   ],
   "source": [
    "BTC_USD.head()"
   ]
  },
  {
   "cell_type": "code",
   "execution_count": 15,
   "metadata": {},
   "outputs": [],
   "source": [
    "BTC_USD.columns = BTC_USD.columns.droplevel(1)"
   ]
  },
  {
   "cell_type": "code",
   "execution_count": 17,
   "metadata": {},
   "outputs": [],
   "source": [
    "BTC_USD.to_csv(\"BTC_USD.csv\", index=True)"
   ]
  },
  {
   "cell_type": "code",
   "execution_count": 18,
   "metadata": {},
   "outputs": [],
   "source": [
    "BTC_USD = pd.read_csv('../Datasetsv2/BTC_USD.csv')"
   ]
  },
  {
   "cell_type": "code",
   "execution_count": 19,
   "metadata": {},
   "outputs": [
    {
     "data": {
      "text/html": [
       "<div>\n",
       "<style scoped>\n",
       "    .dataframe tbody tr th:only-of-type {\n",
       "        vertical-align: middle;\n",
       "    }\n",
       "\n",
       "    .dataframe tbody tr th {\n",
       "        vertical-align: top;\n",
       "    }\n",
       "\n",
       "    .dataframe thead th {\n",
       "        text-align: right;\n",
       "    }\n",
       "</style>\n",
       "<table border=\"1\" class=\"dataframe\">\n",
       "  <thead>\n",
       "    <tr style=\"text-align: right;\">\n",
       "      <th></th>\n",
       "      <th>Date</th>\n",
       "      <th>BTC_Price</th>\n",
       "    </tr>\n",
       "  </thead>\n",
       "  <tbody>\n",
       "    <tr>\n",
       "      <th>0</th>\n",
       "      <td>2015-01-09</td>\n",
       "      <td>290.407990</td>\n",
       "    </tr>\n",
       "    <tr>\n",
       "      <th>1</th>\n",
       "      <td>2015-01-10</td>\n",
       "      <td>274.795990</td>\n",
       "    </tr>\n",
       "    <tr>\n",
       "      <th>2</th>\n",
       "      <td>2015-01-11</td>\n",
       "      <td>265.660004</td>\n",
       "    </tr>\n",
       "    <tr>\n",
       "      <th>3</th>\n",
       "      <td>2015-01-12</td>\n",
       "      <td>267.795990</td>\n",
       "    </tr>\n",
       "    <tr>\n",
       "      <th>4</th>\n",
       "      <td>2015-01-13</td>\n",
       "      <td>225.860992</td>\n",
       "    </tr>\n",
       "  </tbody>\n",
       "</table>\n",
       "</div>"
      ],
      "text/plain": [
       "         Date   BTC_Price\n",
       "0  2015-01-09  290.407990\n",
       "1  2015-01-10  274.795990\n",
       "2  2015-01-11  265.660004\n",
       "3  2015-01-12  267.795990\n",
       "4  2015-01-13  225.860992"
      ]
     },
     "execution_count": 19,
     "metadata": {},
     "output_type": "execute_result"
    }
   ],
   "source": [
    "BTC_USD.head()"
   ]
  },
  {
   "cell_type": "code",
   "execution_count": 20,
   "metadata": {},
   "outputs": [],
   "source": [
    "BTC_USD['Date'] = pd.to_datetime(BTC_USD['Date'])"
   ]
  },
  {
   "cell_type": "code",
   "execution_count": 21,
   "metadata": {},
   "outputs": [
    {
     "data": {
      "text/html": [
       "<div>\n",
       "<style scoped>\n",
       "    .dataframe tbody tr th:only-of-type {\n",
       "        vertical-align: middle;\n",
       "    }\n",
       "\n",
       "    .dataframe tbody tr th {\n",
       "        vertical-align: top;\n",
       "    }\n",
       "\n",
       "    .dataframe thead th {\n",
       "        text-align: right;\n",
       "    }\n",
       "</style>\n",
       "<table border=\"1\" class=\"dataframe\">\n",
       "  <thead>\n",
       "    <tr style=\"text-align: right;\">\n",
       "      <th></th>\n",
       "      <th>Date</th>\n",
       "      <th>BTC_Price</th>\n",
       "    </tr>\n",
       "  </thead>\n",
       "  <tbody>\n",
       "    <tr>\n",
       "      <th>count</th>\n",
       "      <td>3654</td>\n",
       "      <td>3654.000000</td>\n",
       "    </tr>\n",
       "    <tr>\n",
       "      <th>mean</th>\n",
       "      <td>2020-01-09 12:00:00</td>\n",
       "      <td>20376.264433</td>\n",
       "    </tr>\n",
       "    <tr>\n",
       "      <th>min</th>\n",
       "      <td>2015-01-09 00:00:00</td>\n",
       "      <td>178.102997</td>\n",
       "    </tr>\n",
       "    <tr>\n",
       "      <th>25%</th>\n",
       "      <td>2017-07-10 06:00:00</td>\n",
       "      <td>2668.765015</td>\n",
       "    </tr>\n",
       "    <tr>\n",
       "      <th>50%</th>\n",
       "      <td>2020-01-09 12:00:00</td>\n",
       "      <td>9713.667480</td>\n",
       "    </tr>\n",
       "    <tr>\n",
       "      <th>75%</th>\n",
       "      <td>2022-07-10 18:00:00</td>\n",
       "      <td>32863.615234</td>\n",
       "    </tr>\n",
       "    <tr>\n",
       "      <th>max</th>\n",
       "      <td>2025-01-09 00:00:00</td>\n",
       "      <td>106140.601562</td>\n",
       "    </tr>\n",
       "    <tr>\n",
       "      <th>std</th>\n",
       "      <td>NaN</td>\n",
       "      <td>22500.082535</td>\n",
       "    </tr>\n",
       "  </tbody>\n",
       "</table>\n",
       "</div>"
      ],
      "text/plain": [
       "                      Date      BTC_Price\n",
       "count                 3654    3654.000000\n",
       "mean   2020-01-09 12:00:00   20376.264433\n",
       "min    2015-01-09 00:00:00     178.102997\n",
       "25%    2017-07-10 06:00:00    2668.765015\n",
       "50%    2020-01-09 12:00:00    9713.667480\n",
       "75%    2022-07-10 18:00:00   32863.615234\n",
       "max    2025-01-09 00:00:00  106140.601562\n",
       "std                    NaN   22500.082535"
      ]
     },
     "execution_count": 21,
     "metadata": {},
     "output_type": "execute_result"
    }
   ],
   "source": [
    "BTC_USD.describe()"
   ]
  },
  {
   "cell_type": "code",
   "execution_count": 23,
   "metadata": {},
   "outputs": [],
   "source": [
    "BTC_USD.to_csv('../Datasetsv2/preprocessed/BTC_USD_Preprocessed.csv', index=False)"
   ]
  },
  {
   "cell_type": "code",
   "execution_count": 24,
   "metadata": {},
   "outputs": [],
   "source": [
    "# Now import the preprocessed BTC data set\n",
    "BTC_USD_Final = pd.read_csv(\"../Datasetsv2/preprocessed/BTC_USD_Preprocessed.csv\")"
   ]
  },
  {
   "cell_type": "code",
   "execution_count": 26,
   "metadata": {},
   "outputs": [],
   "source": [
    "# import exogenous variables dataset\n",
    "Exogenous_Variables_Final = pd.read_csv(\"../Datasetsv2/Exogenous/Exogenous_Variables.csv\")"
   ]
  },
  {
   "cell_type": "code",
   "execution_count": 27,
   "metadata": {},
   "outputs": [],
   "source": [
    "# combine both datasets\n",
    "Final_Dataset = BTC_USD_Final.merge(Exogenous_Variables_Final, on=\"Date\", how=\"outer\")"
   ]
  },
  {
   "cell_type": "code",
   "execution_count": 28,
   "metadata": {},
   "outputs": [
    {
     "data": {
      "text/html": [
       "<div>\n",
       "<style scoped>\n",
       "    .dataframe tbody tr th:only-of-type {\n",
       "        vertical-align: middle;\n",
       "    }\n",
       "\n",
       "    .dataframe tbody tr th {\n",
       "        vertical-align: top;\n",
       "    }\n",
       "\n",
       "    .dataframe thead th {\n",
       "        text-align: right;\n",
       "    }\n",
       "</style>\n",
       "<table border=\"1\" class=\"dataframe\">\n",
       "  <thead>\n",
       "    <tr style=\"text-align: right;\">\n",
       "      <th></th>\n",
       "      <th>Date</th>\n",
       "      <th>BTC_Price</th>\n",
       "      <th>Dollar_Index</th>\n",
       "      <th>Gold_Price</th>\n",
       "      <th>Interest_Rate</th>\n",
       "      <th>US_10_Year</th>\n",
       "      <th>VIX_Value</th>\n",
       "    </tr>\n",
       "  </thead>\n",
       "  <tbody>\n",
       "    <tr>\n",
       "      <th>0</th>\n",
       "      <td>2015-01-09</td>\n",
       "      <td>290.407990</td>\n",
       "      <td>91.940002</td>\n",
       "      <td>1211.25</td>\n",
       "      <td>0.12</td>\n",
       "      <td>1.950</td>\n",
       "      <td>17.55</td>\n",
       "    </tr>\n",
       "    <tr>\n",
       "      <th>1</th>\n",
       "      <td>2015-01-10</td>\n",
       "      <td>274.795990</td>\n",
       "      <td>91.940002</td>\n",
       "      <td>1211.25</td>\n",
       "      <td>0.12</td>\n",
       "      <td>1.950</td>\n",
       "      <td>17.55</td>\n",
       "    </tr>\n",
       "    <tr>\n",
       "      <th>2</th>\n",
       "      <td>2015-01-11</td>\n",
       "      <td>265.660004</td>\n",
       "      <td>91.940002</td>\n",
       "      <td>1211.25</td>\n",
       "      <td>0.12</td>\n",
       "      <td>1.950</td>\n",
       "      <td>17.55</td>\n",
       "    </tr>\n",
       "    <tr>\n",
       "      <th>3</th>\n",
       "      <td>2015-01-12</td>\n",
       "      <td>267.795990</td>\n",
       "      <td>91.980003</td>\n",
       "      <td>1222.00</td>\n",
       "      <td>0.12</td>\n",
       "      <td>1.909</td>\n",
       "      <td>19.60</td>\n",
       "    </tr>\n",
       "    <tr>\n",
       "      <th>4</th>\n",
       "      <td>2015-01-13</td>\n",
       "      <td>225.860992</td>\n",
       "      <td>92.309998</td>\n",
       "      <td>1239.00</td>\n",
       "      <td>0.12</td>\n",
       "      <td>1.905</td>\n",
       "      <td>20.56</td>\n",
       "    </tr>\n",
       "  </tbody>\n",
       "</table>\n",
       "</div>"
      ],
      "text/plain": [
       "         Date   BTC_Price  Dollar_Index  Gold_Price  Interest_Rate  \\\n",
       "0  2015-01-09  290.407990     91.940002     1211.25           0.12   \n",
       "1  2015-01-10  274.795990     91.940002     1211.25           0.12   \n",
       "2  2015-01-11  265.660004     91.940002     1211.25           0.12   \n",
       "3  2015-01-12  267.795990     91.980003     1222.00           0.12   \n",
       "4  2015-01-13  225.860992     92.309998     1239.00           0.12   \n",
       "\n",
       "   US_10_Year  VIX_Value  \n",
       "0       1.950      17.55  \n",
       "1       1.950      17.55  \n",
       "2       1.950      17.55  \n",
       "3       1.909      19.60  \n",
       "4       1.905      20.56  "
      ]
     },
     "execution_count": 28,
     "metadata": {},
     "output_type": "execute_result"
    }
   ],
   "source": [
    "Final_Dataset.head()"
   ]
  },
  {
   "cell_type": "code",
   "execution_count": 31,
   "metadata": {},
   "outputs": [],
   "source": [
    "# save as a csv\n",
    "Final_Dataset.to_csv('../Datasetsv2/FinalDataset/Final_Dataset.csv', index=False)"
   ]
  },
  {
   "cell_type": "code",
   "execution_count": 10,
   "metadata": {},
   "outputs": [
    {
     "data": {
      "image/png": "[encoded data removed]",
      "text/plain": [
       "<Figure size 1000x500 with 1 Axes>"
      ]
     },
     "metadata": {},
     "output_type": "display_data"
    }
   ],
   "source": [
    "plt.figure(figsize=(10, 5))\n",
    "sns.boxplot(x=Final_Dataset[\"BTC_Price\"])\n",
    "plt.title(\"Box Plot of Bitcoin Prices\")\n",
    "plt.show()"
   ]
  },
  {
   "cell_type": "code",
   "execution_count": 13,
   "metadata": {
    "scrolled": true
   },
   "outputs": [
    {
     "name": "stdout",
     "output_type": "stream",
     "text": [
      "Collecting optuna\n",
      "  Using cached optuna-4.2.0-py3-none-any.whl.metadata (17 kB)\n",
      "Collecting alembic>=1.5.0 (from optuna)\n",
      "  Using cached alembic-1.14.1-py3-none-any.whl.metadata (7.4 kB)\n",
      "Collecting colorlog (from optuna)\n",
      "  Using cached colorlog-6.9.0-py3-none-any.whl.metadata (10 kB)\n",
      "Requirement already satisfied: numpy in c:\\users\\sathmika\\anaconda3\\envs\\tft\\lib\\site-packages (from optuna) (2.2.1)\n",
      "Requirement already satisfied: packaging>=20.0 in c:\\users\\sathmika\\appdata\\roaming\\python\\python312\\site-packages (from optuna) (24.1)\n",
      "Collecting sqlalchemy>=1.4.2 (from optuna)\n",
      "  Downloading SQLAlchemy-2.0.37-cp312-cp312-win_amd64.whl.metadata (9.9 kB)\n",
      "Requirement already satisfied: tqdm in c:\\users\\sathmika\\anaconda3\\envs\\tft\\lib\\site-packages (from optuna) (4.67.1)\n",
      "Requirement already satisfied: PyYAML in c:\\users\\sathmika\\anaconda3\\envs\\tft\\lib\\site-packages (from optuna) (6.0.2)\n",
      "Collecting Mako (from alembic>=1.5.0->optuna)\n",
      "  Using cached Mako-1.3.8-py3-none-any.whl.metadata (2.9 kB)\n",
      "Requirement already satisfied: typing-extensions>=4 in c:\\users\\sathmika\\anaconda3\\envs\\tft\\lib\\site-packages (from alembic>=1.5.0->optuna) (4.12.2)\n",
      "Collecting greenlet!=0.4.17 (from sqlalchemy>=1.4.2->optuna)\n",
      "  Downloading greenlet-3.1.1-cp312-cp312-win_amd64.whl.metadata (3.9 kB)\n",
      "Requirement already satisfied: colorama in c:\\users\\sathmika\\appdata\\roaming\\python\\python312\\site-packages (from colorlog->optuna) (0.4.6)\n",
      "Requirement already satisfied: MarkupSafe>=0.9.2 in c:\\users\\sathmika\\anaconda3\\envs\\tft\\lib\\site-packages (from Mako->alembic>=1.5.0->optuna) (3.0.2)\n",
      "Using cached optuna-4.2.0-py3-none-any.whl (383 kB)\n",
      "Using cached alembic-1.14.1-py3-none-any.whl (233 kB)\n",
      "Downloading SQLAlchemy-2.0.37-cp312-cp312-win_amd64.whl (2.1 MB)\n",
      "   ---------------------------------------- 0.0/2.1 MB ? eta -:--:--\n",
      "   --------- ------------------------------ 0.5/2.1 MB 4.2 MB/s eta 0:00:01\n",
      "   ---------------------------------- ----- 1.8/2.1 MB 5.9 MB/s eta 0:00:01\n",
      "   ---------------------------------------- 2.1/2.1 MB 5.6 MB/s eta 0:00:00\n",
      "Using cached colorlog-6.9.0-py3-none-any.whl (11 kB)\n",
      "Downloading greenlet-3.1.1-cp312-cp312-win_amd64.whl (299 kB)\n",
      "Using cached Mako-1.3.8-py3-none-any.whl (78 kB)\n",
      "Installing collected packages: Mako, greenlet, colorlog, sqlalchemy, alembic, optuna\n",
      "Successfully installed Mako-1.3.8 alembic-1.14.1 colorlog-6.9.0 greenlet-3.1.1 optuna-4.2.0 sqlalchemy-2.0.37\n",
      "Note: you may need to restart the kernel to use updated packages.\n"
     ]
    }
   ],
   "source": [
    "pip install optuna"
   ]
  },
  {
   "cell_type": "code",
   "execution_count": 1,
   "metadata": {},
   "outputs": [
    {
     "name": "stderr",
     "output_type": "stream",
     "text": [
      "c:\\Users\\Sathmika\\anaconda3\\envs\\tft\\Lib\\site-packages\\pytorch_forecasting\\models\\base_model.py:27: TqdmWarning: IProgress not found. Please update jupyter and ipywidgets. See https://ipywidgets.readthedocs.io/en/stable/user_install.html\n",
      "  from tqdm.autonotebook import tqdm\n"
     ]
    }
   ],
   "source": [
    "import numpy as np\n",
    "import pandas as pd\n",
    "import torch\n",
    "import torch.nn as nn\n",
    "import pytorch_lightning as pl\n",
    "from sklearn.preprocessing import MinMaxScaler\n",
    "from torch.utils.data import DataLoader, Dataset\n",
    "from pytorch_forecasting import TemporalFusionTransformer, TimeSeriesDataSet, Baseline\n",
    "from pytorch_forecasting.metrics import MAE, RMSE, MAPE, PoissonLoss, QuantileLoss\n",
    "import pytorch_forecasting\n",
    "import optuna\n",
    "from pytorch_forecasting.models.temporal_fusion_transformer.tuning import optimize_hyperparameters\n",
    "from pytorch_forecasting.data import GroupNormalizer\n",
    "\n",
    "from lightning.pytorch.callbacks import EarlyStopping, LearningRateMonitor\n",
    "from lightning.pytorch.loggers import TensorBoardLogger\n",
    "from pytorch_forecasting.data.encoders import NaNLabelEncoder\n",
    "from pytorch_lightning import LightningModule\n",
    "\n",
    "import lightning.pytorch as pl\n",
    "from lightning.pytorch.tuner import Tuner"
   ]
  },
  {
   "cell_type": "code",
   "execution_count": 2,
   "metadata": {},
   "outputs": [],
   "source": [
    "# import saved cdv\n",
    "Final_Dataset = pd.read_csv(\"../Datasetsv2/FinalDataset/Final_Dataset.csv\")"
   ]
  },
  {
   "cell_type": "code",
   "execution_count": 3,
   "metadata": {},
   "outputs": [
    {
     "data": {
      "text/plain": [
       "Date              object\n",
       "BTC_Price        float64\n",
       "Dollar_Index     float64\n",
       "Gold_Price       float64\n",
       "Interest_Rate    float64\n",
       "US_10_Year       float64\n",
       "VIX_Value        float64\n",
       "dtype: object"
      ]
     },
     "execution_count": 3,
     "metadata": {},
     "output_type": "execute_result"
    }
   ],
   "source": [
    "Final_Dataset.dtypes"
   ]
  },
  {
   "cell_type": "code",
   "execution_count": 4,
   "metadata": {},
   "outputs": [],
   "source": [
    "Final_Dataset['Date'] = pd.to_datetime(Final_Dataset['Date'])"
   ]
  },
  {
   "cell_type": "code",
   "execution_count": 5,
   "metadata": {},
   "outputs": [],
   "source": [
    "Final_Dataset['id'] = \"BTC\""
   ]
  },
  {
   "cell_type": "code",
   "execution_count": 6,
   "metadata": {
    "scrolled": true
   },
   "outputs": [
    {
     "data": {
      "text/html": [
       "<div>\n",
       "<style scoped>\n",
       "    .dataframe tbody tr th:only-of-type {\n",
       "        vertical-align: middle;\n",
       "    }\n",
       "\n",
       "    .dataframe tbody tr th {\n",
       "        vertical-align: top;\n",
       "    }\n",
       "\n",
       "    .dataframe thead th {\n",
       "        text-align: right;\n",
       "    }\n",
       "</style>\n",
       "<table border=\"1\" class=\"dataframe\">\n",
       "  <thead>\n",
       "    <tr style=\"text-align: right;\">\n",
       "      <th></th>\n",
       "      <th>Date</th>\n",
       "      <th>BTC_Price</th>\n",
       "      <th>Dollar_Index</th>\n",
       "      <th>Gold_Price</th>\n",
       "      <th>Interest_Rate</th>\n",
       "      <th>US_10_Year</th>\n",
       "      <th>VIX_Value</th>\n",
       "      <th>id</th>\n",
       "    </tr>\n",
       "  </thead>\n",
       "  <tbody>\n",
       "    <tr>\n",
       "      <th>0</th>\n",
       "      <td>2015-01-09</td>\n",
       "      <td>290.407990</td>\n",
       "      <td>91.940002</td>\n",
       "      <td>1211.2500</td>\n",
       "      <td>0.12</td>\n",
       "      <td>1.950</td>\n",
       "      <td>17.55</td>\n",
       "      <td>BTC</td>\n",
       "    </tr>\n",
       "    <tr>\n",
       "      <th>1</th>\n",
       "      <td>2015-01-10</td>\n",
       "      <td>274.795990</td>\n",
       "      <td>91.940002</td>\n",
       "      <td>1211.2500</td>\n",
       "      <td>0.12</td>\n",
       "      <td>1.950</td>\n",
       "      <td>17.55</td>\n",
       "      <td>BTC</td>\n",
       "    </tr>\n",
       "    <tr>\n",
       "      <th>2</th>\n",
       "      <td>2015-01-11</td>\n",
       "      <td>265.660004</td>\n",
       "      <td>91.940002</td>\n",
       "      <td>1211.2500</td>\n",
       "      <td>0.12</td>\n",
       "      <td>1.950</td>\n",
       "      <td>17.55</td>\n",
       "      <td>BTC</td>\n",
       "    </tr>\n",
       "    <tr>\n",
       "      <th>3</th>\n",
       "      <td>2015-01-12</td>\n",
       "      <td>267.795990</td>\n",
       "      <td>91.980003</td>\n",
       "      <td>1222.0000</td>\n",
       "      <td>0.12</td>\n",
       "      <td>1.909</td>\n",
       "      <td>19.60</td>\n",
       "      <td>BTC</td>\n",
       "    </tr>\n",
       "    <tr>\n",
       "      <th>4</th>\n",
       "      <td>2015-01-13</td>\n",
       "      <td>225.860992</td>\n",
       "      <td>92.309998</td>\n",
       "      <td>1239.0000</td>\n",
       "      <td>0.12</td>\n",
       "      <td>1.905</td>\n",
       "      <td>20.56</td>\n",
       "      <td>BTC</td>\n",
       "    </tr>\n",
       "    <tr>\n",
       "      <th>...</th>\n",
       "      <td>...</td>\n",
       "      <td>...</td>\n",
       "      <td>...</td>\n",
       "      <td>...</td>\n",
       "      <td>...</td>\n",
       "      <td>...</td>\n",
       "      <td>...</td>\n",
       "      <td>...</td>\n",
       "    </tr>\n",
       "    <tr>\n",
       "      <th>3649</th>\n",
       "      <td>2025-01-05</td>\n",
       "      <td>98314.960938</td>\n",
       "      <td>108.949997</td>\n",
       "      <td>2640.1664</td>\n",
       "      <td>4.33</td>\n",
       "      <td>4.601</td>\n",
       "      <td>16.13</td>\n",
       "      <td>BTC</td>\n",
       "    </tr>\n",
       "    <tr>\n",
       "      <th>3650</th>\n",
       "      <td>2025-01-06</td>\n",
       "      <td>102078.085938</td>\n",
       "      <td>108.260002</td>\n",
       "      <td>2635.8796</td>\n",
       "      <td>4.33</td>\n",
       "      <td>4.623</td>\n",
       "      <td>16.04</td>\n",
       "      <td>BTC</td>\n",
       "    </tr>\n",
       "    <tr>\n",
       "      <th>3651</th>\n",
       "      <td>2025-01-07</td>\n",
       "      <td>96922.703125</td>\n",
       "      <td>108.540001</td>\n",
       "      <td>2648.7119</td>\n",
       "      <td>4.33</td>\n",
       "      <td>4.684</td>\n",
       "      <td>17.82</td>\n",
       "      <td>BTC</td>\n",
       "    </tr>\n",
       "    <tr>\n",
       "      <th>3652</th>\n",
       "      <td>2025-01-08</td>\n",
       "      <td>95043.523438</td>\n",
       "      <td>109.089996</td>\n",
       "      <td>2661.5352</td>\n",
       "      <td>4.33</td>\n",
       "      <td>4.692</td>\n",
       "      <td>17.70</td>\n",
       "      <td>BTC</td>\n",
       "    </tr>\n",
       "    <tr>\n",
       "      <th>3653</th>\n",
       "      <td>2025-01-09</td>\n",
       "      <td>92484.039062</td>\n",
       "      <td>109.180000</td>\n",
       "      <td>2669.9489</td>\n",
       "      <td>4.33</td>\n",
       "      <td>4.688</td>\n",
       "      <td>18.07</td>\n",
       "      <td>BTC</td>\n",
       "    </tr>\n",
       "  </tbody>\n",
       "</table>\n",
       "<p>3654 rows × 8 columns</p>\n",
       "</div>"
      ],
      "text/plain": [
       "           Date      BTC_Price  Dollar_Index  Gold_Price  Interest_Rate  \\\n",
       "0    2015-01-09     290.407990     91.940002   1211.2500           0.12   \n",
       "1    2015-01-10     274.795990     91.940002   1211.2500           0.12   \n",
       "2    2015-01-11     265.660004     91.940002   1211.2500           0.12   \n",
       "3    2015-01-12     267.795990     91.980003   1222.0000           0.12   \n",
       "4    2015-01-13     225.860992     92.309998   1239.0000           0.12   \n",
       "...         ...            ...           ...         ...            ...   \n",
       "3649 2025-01-05   98314.960938    108.949997   2640.1664           4.33   \n",
       "3650 2025-01-06  102078.085938    108.260002   2635.8796           4.33   \n",
       "3651 2025-01-07   96922.703125    108.540001   2648.7119           4.33   \n",
       "3652 2025-01-08   95043.523438    109.089996   2661.5352           4.33   \n",
       "3653 2025-01-09   92484.039062    109.180000   2669.9489           4.33   \n",
       "\n",
       "      US_10_Year  VIX_Value   id  \n",
       "0          1.950      17.55  BTC  \n",
       "1          1.950      17.55  BTC  \n",
       "2          1.950      17.55  BTC  \n",
       "3          1.909      19.60  BTC  \n",
       "4          1.905      20.56  BTC  \n",
       "...          ...        ...  ...  \n",
       "3649       4.601      16.13  BTC  \n",
       "3650       4.623      16.04  BTC  \n",
       "3651       4.684      17.82  BTC  \n",
       "3652       4.692      17.70  BTC  \n",
       "3653       4.688      18.07  BTC  \n",
       "\n",
       "[3654 rows x 8 columns]"
      ]
     },
     "execution_count": 6,
     "metadata": {},
     "output_type": "execute_result"
    }
   ],
   "source": [
    "Final_Dataset"
   ]
  },
  {
   "cell_type": "code",
   "execution_count": 7,
   "metadata": {},
   "outputs": [],
   "source": [
    "# Define dataset parameters\n",
    "Final_Dataset['time_idx'] = Final_Dataset.index\n",
    "max_prediction_length = 7  # Set to desired prediction length\n",
    "max_encoder_length = 30  # Set to desired history length (e.g., 30 days) - pass 30 days are used to predict next 7 days\n",
    "batch_size = 64\n",
    "training_cutoff = Final_Dataset['time_idx'].max() - max_prediction_length"
   ]
  },
  {
   "cell_type": "code",
   "execution_count": 8,
   "metadata": {
    "scrolled": true
   },
   "outputs": [
    {
     "data": {
      "text/html": [
       "<div>\n",
       "<style scoped>\n",
       "    .dataframe tbody tr th:only-of-type {\n",
       "        vertical-align: middle;\n",
       "    }\n",
       "\n",
       "    .dataframe tbody tr th {\n",
       "        vertical-align: top;\n",
       "    }\n",
       "\n",
       "    .dataframe thead th {\n",
       "        text-align: right;\n",
       "    }\n",
       "</style>\n",
       "<table border=\"1\" class=\"dataframe\">\n",
       "  <thead>\n",
       "    <tr style=\"text-align: right;\">\n",
       "      <th></th>\n",
       "      <th>Date</th>\n",
       "      <th>BTC_Price</th>\n",
       "      <th>Dollar_Index</th>\n",
       "      <th>Gold_Price</th>\n",
       "      <th>Interest_Rate</th>\n",
       "      <th>US_10_Year</th>\n",
       "      <th>VIX_Value</th>\n",
       "      <th>id</th>\n",
       "      <th>time_idx</th>\n",
       "    </tr>\n",
       "  </thead>\n",
       "  <tbody>\n",
       "    <tr>\n",
       "      <th>0</th>\n",
       "      <td>2015-01-09</td>\n",
       "      <td>290.407990</td>\n",
       "      <td>91.940002</td>\n",
       "      <td>1211.2500</td>\n",
       "      <td>0.12</td>\n",
       "      <td>1.950</td>\n",
       "      <td>17.55</td>\n",
       "      <td>BTC</td>\n",
       "      <td>0</td>\n",
       "    </tr>\n",
       "    <tr>\n",
       "      <th>1</th>\n",
       "      <td>2015-01-10</td>\n",
       "      <td>274.795990</td>\n",
       "      <td>91.940002</td>\n",
       "      <td>1211.2500</td>\n",
       "      <td>0.12</td>\n",
       "      <td>1.950</td>\n",
       "      <td>17.55</td>\n",
       "      <td>BTC</td>\n",
       "      <td>1</td>\n",
       "    </tr>\n",
       "    <tr>\n",
       "      <th>2</th>\n",
       "      <td>2015-01-11</td>\n",
       "      <td>265.660004</td>\n",
       "      <td>91.940002</td>\n",
       "      <td>1211.2500</td>\n",
       "      <td>0.12</td>\n",
       "      <td>1.950</td>\n",
       "      <td>17.55</td>\n",
       "      <td>BTC</td>\n",
       "      <td>2</td>\n",
       "    </tr>\n",
       "    <tr>\n",
       "      <th>3</th>\n",
       "      <td>2015-01-12</td>\n",
       "      <td>267.795990</td>\n",
       "      <td>91.980003</td>\n",
       "      <td>1222.0000</td>\n",
       "      <td>0.12</td>\n",
       "      <td>1.909</td>\n",
       "      <td>19.60</td>\n",
       "      <td>BTC</td>\n",
       "      <td>3</td>\n",
       "    </tr>\n",
       "    <tr>\n",
       "      <th>4</th>\n",
       "      <td>2015-01-13</td>\n",
       "      <td>225.860992</td>\n",
       "      <td>92.309998</td>\n",
       "      <td>1239.0000</td>\n",
       "      <td>0.12</td>\n",
       "      <td>1.905</td>\n",
       "      <td>20.56</td>\n",
       "      <td>BTC</td>\n",
       "      <td>4</td>\n",
       "    </tr>\n",
       "    <tr>\n",
       "      <th>...</th>\n",
       "      <td>...</td>\n",
       "      <td>...</td>\n",
       "      <td>...</td>\n",
       "      <td>...</td>\n",
       "      <td>...</td>\n",
       "      <td>...</td>\n",
       "      <td>...</td>\n",
       "      <td>...</td>\n",
       "      <td>...</td>\n",
       "    </tr>\n",
       "    <tr>\n",
       "      <th>3649</th>\n",
       "      <td>2025-01-05</td>\n",
       "      <td>98314.960938</td>\n",
       "      <td>108.949997</td>\n",
       "      <td>2640.1664</td>\n",
       "      <td>4.33</td>\n",
       "      <td>4.601</td>\n",
       "      <td>16.13</td>\n",
       "      <td>BTC</td>\n",
       "      <td>3649</td>\n",
       "    </tr>\n",
       "    <tr>\n",
       "      <th>3650</th>\n",
       "      <td>2025-01-06</td>\n",
       "      <td>102078.085938</td>\n",
       "      <td>108.260002</td>\n",
       "      <td>2635.8796</td>\n",
       "      <td>4.33</td>\n",
       "      <td>4.623</td>\n",
       "      <td>16.04</td>\n",
       "      <td>BTC</td>\n",
       "      <td>3650</td>\n",
       "    </tr>\n",
       "    <tr>\n",
       "      <th>3651</th>\n",
       "      <td>2025-01-07</td>\n",
       "      <td>96922.703125</td>\n",
       "      <td>108.540001</td>\n",
       "      <td>2648.7119</td>\n",
       "      <td>4.33</td>\n",
       "      <td>4.684</td>\n",
       "      <td>17.82</td>\n",
       "      <td>BTC</td>\n",
       "      <td>3651</td>\n",
       "    </tr>\n",
       "    <tr>\n",
       "      <th>3652</th>\n",
       "      <td>2025-01-08</td>\n",
       "      <td>95043.523438</td>\n",
       "      <td>109.089996</td>\n",
       "      <td>2661.5352</td>\n",
       "      <td>4.33</td>\n",
       "      <td>4.692</td>\n",
       "      <td>17.70</td>\n",
       "      <td>BTC</td>\n",
       "      <td>3652</td>\n",
       "    </tr>\n",
       "    <tr>\n",
       "      <th>3653</th>\n",
       "      <td>2025-01-09</td>\n",
       "      <td>92484.039062</td>\n",
       "      <td>109.180000</td>\n",
       "      <td>2669.9489</td>\n",
       "      <td>4.33</td>\n",
       "      <td>4.688</td>\n",
       "      <td>18.07</td>\n",
       "      <td>BTC</td>\n",
       "      <td>3653</td>\n",
       "    </tr>\n",
       "  </tbody>\n",
       "</table>\n",
       "<p>3654 rows × 9 columns</p>\n",
       "</div>"
      ],
      "text/plain": [
       "           Date      BTC_Price  Dollar_Index  Gold_Price  Interest_Rate  \\\n",
       "0    2015-01-09     290.407990     91.940002   1211.2500           0.12   \n",
       "1    2015-01-10     274.795990     91.940002   1211.2500           0.12   \n",
       "2    2015-01-11     265.660004     91.940002   1211.2500           0.12   \n",
       "3    2015-01-12     267.795990     91.980003   1222.0000           0.12   \n",
       "4    2015-01-13     225.860992     92.309998   1239.0000           0.12   \n",
       "...         ...            ...           ...         ...            ...   \n",
       "3649 2025-01-05   98314.960938    108.949997   2640.1664           4.33   \n",
       "3650 2025-01-06  102078.085938    108.260002   2635.8796           4.33   \n",
       "3651 2025-01-07   96922.703125    108.540001   2648.7119           4.33   \n",
       "3652 2025-01-08   95043.523438    109.089996   2661.5352           4.33   \n",
       "3653 2025-01-09   92484.039062    109.180000   2669.9489           4.33   \n",
       "\n",
       "      US_10_Year  VIX_Value   id  time_idx  \n",
       "0          1.950      17.55  BTC         0  \n",
       "1          1.950      17.55  BTC         1  \n",
       "2          1.950      17.55  BTC         2  \n",
       "3          1.909      19.60  BTC         3  \n",
       "4          1.905      20.56  BTC         4  \n",
       "...          ...        ...  ...       ...  \n",
       "3649       4.601      16.13  BTC      3649  \n",
       "3650       4.623      16.04  BTC      3650  \n",
       "3651       4.684      17.82  BTC      3651  \n",
       "3652       4.692      17.70  BTC      3652  \n",
       "3653       4.688      18.07  BTC      3653  \n",
       "\n",
       "[3654 rows x 9 columns]"
      ]
     },
     "execution_count": 8,
     "metadata": {},
     "output_type": "execute_result"
    }
   ],
   "source": [
    "Final_Dataset"
   ]
  },
  {
   "cell_type": "code",
   "execution_count": 9,
   "metadata": {
    "scrolled": true
   },
   "outputs": [
    {
     "data": {
      "text/html": [
       "<div>\n",
       "<style scoped>\n",
       "    .dataframe tbody tr th:only-of-type {\n",
       "        vertical-align: middle;\n",
       "    }\n",
       "\n",
       "    .dataframe tbody tr th {\n",
       "        vertical-align: top;\n",
       "    }\n",
       "\n",
       "    .dataframe thead th {\n",
       "        text-align: right;\n",
       "    }\n",
       "</style>\n",
       "<table border=\"1\" class=\"dataframe\">\n",
       "  <thead>\n",
       "    <tr style=\"text-align: right;\">\n",
       "      <th></th>\n",
       "      <th>Date</th>\n",
       "      <th>BTC_Price</th>\n",
       "      <th>Dollar_Index</th>\n",
       "      <th>Gold_Price</th>\n",
       "      <th>Interest_Rate</th>\n",
       "      <th>US_10_Year</th>\n",
       "      <th>VIX_Value</th>\n",
       "      <th>id</th>\n",
       "      <th>time_idx</th>\n",
       "      <th>month</th>\n",
       "    </tr>\n",
       "  </thead>\n",
       "  <tbody>\n",
       "    <tr>\n",
       "      <th>0</th>\n",
       "      <td>2015-01-09</td>\n",
       "      <td>290.407990</td>\n",
       "      <td>91.940002</td>\n",
       "      <td>1211.2500</td>\n",
       "      <td>0.12</td>\n",
       "      <td>1.950</td>\n",
       "      <td>17.55</td>\n",
       "      <td>BTC</td>\n",
       "      <td>0</td>\n",
       "      <td>1</td>\n",
       "    </tr>\n",
       "    <tr>\n",
       "      <th>1</th>\n",
       "      <td>2015-01-10</td>\n",
       "      <td>274.795990</td>\n",
       "      <td>91.940002</td>\n",
       "      <td>1211.2500</td>\n",
       "      <td>0.12</td>\n",
       "      <td>1.950</td>\n",
       "      <td>17.55</td>\n",
       "      <td>BTC</td>\n",
       "      <td>1</td>\n",
       "      <td>1</td>\n",
       "    </tr>\n",
       "    <tr>\n",
       "      <th>2</th>\n",
       "      <td>2015-01-11</td>\n",
       "      <td>265.660004</td>\n",
       "      <td>91.940002</td>\n",
       "      <td>1211.2500</td>\n",
       "      <td>0.12</td>\n",
       "      <td>1.950</td>\n",
       "      <td>17.55</td>\n",
       "      <td>BTC</td>\n",
       "      <td>2</td>\n",
       "      <td>1</td>\n",
       "    </tr>\n",
       "    <tr>\n",
       "      <th>3</th>\n",
       "      <td>2015-01-12</td>\n",
       "      <td>267.795990</td>\n",
       "      <td>91.980003</td>\n",
       "      <td>1222.0000</td>\n",
       "      <td>0.12</td>\n",
       "      <td>1.909</td>\n",
       "      <td>19.60</td>\n",
       "      <td>BTC</td>\n",
       "      <td>3</td>\n",
       "      <td>1</td>\n",
       "    </tr>\n",
       "    <tr>\n",
       "      <th>4</th>\n",
       "      <td>2015-01-13</td>\n",
       "      <td>225.860992</td>\n",
       "      <td>92.309998</td>\n",
       "      <td>1239.0000</td>\n",
       "      <td>0.12</td>\n",
       "      <td>1.905</td>\n",
       "      <td>20.56</td>\n",
       "      <td>BTC</td>\n",
       "      <td>4</td>\n",
       "      <td>1</td>\n",
       "    </tr>\n",
       "    <tr>\n",
       "      <th>...</th>\n",
       "      <td>...</td>\n",
       "      <td>...</td>\n",
       "      <td>...</td>\n",
       "      <td>...</td>\n",
       "      <td>...</td>\n",
       "      <td>...</td>\n",
       "      <td>...</td>\n",
       "      <td>...</td>\n",
       "      <td>...</td>\n",
       "      <td>...</td>\n",
       "    </tr>\n",
       "    <tr>\n",
       "      <th>3649</th>\n",
       "      <td>2025-01-05</td>\n",
       "      <td>98314.960938</td>\n",
       "      <td>108.949997</td>\n",
       "      <td>2640.1664</td>\n",
       "      <td>4.33</td>\n",
       "      <td>4.601</td>\n",
       "      <td>16.13</td>\n",
       "      <td>BTC</td>\n",
       "      <td>3649</td>\n",
       "      <td>1</td>\n",
       "    </tr>\n",
       "    <tr>\n",
       "      <th>3650</th>\n",
       "      <td>2025-01-06</td>\n",
       "      <td>102078.085938</td>\n",
       "      <td>108.260002</td>\n",
       "      <td>2635.8796</td>\n",
       "      <td>4.33</td>\n",
       "      <td>4.623</td>\n",
       "      <td>16.04</td>\n",
       "      <td>BTC</td>\n",
       "      <td>3650</td>\n",
       "      <td>1</td>\n",
       "    </tr>\n",
       "    <tr>\n",
       "      <th>3651</th>\n",
       "      <td>2025-01-07</td>\n",
       "      <td>96922.703125</td>\n",
       "      <td>108.540001</td>\n",
       "      <td>2648.7119</td>\n",
       "      <td>4.33</td>\n",
       "      <td>4.684</td>\n",
       "      <td>17.82</td>\n",
       "      <td>BTC</td>\n",
       "      <td>3651</td>\n",
       "      <td>1</td>\n",
       "    </tr>\n",
       "    <tr>\n",
       "      <th>3652</th>\n",
       "      <td>2025-01-08</td>\n",
       "      <td>95043.523438</td>\n",
       "      <td>109.089996</td>\n",
       "      <td>2661.5352</td>\n",
       "      <td>4.33</td>\n",
       "      <td>4.692</td>\n",
       "      <td>17.70</td>\n",
       "      <td>BTC</td>\n",
       "      <td>3652</td>\n",
       "      <td>1</td>\n",
       "    </tr>\n",
       "    <tr>\n",
       "      <th>3653</th>\n",
       "      <td>2025-01-09</td>\n",
       "      <td>92484.039062</td>\n",
       "      <td>109.180000</td>\n",
       "      <td>2669.9489</td>\n",
       "      <td>4.33</td>\n",
       "      <td>4.688</td>\n",
       "      <td>18.07</td>\n",
       "      <td>BTC</td>\n",
       "      <td>3653</td>\n",
       "      <td>1</td>\n",
       "    </tr>\n",
       "  </tbody>\n",
       "</table>\n",
       "<p>3654 rows × 10 columns</p>\n",
       "</div>"
      ],
      "text/plain": [
       "           Date      BTC_Price  Dollar_Index  Gold_Price  Interest_Rate  \\\n",
       "0    2015-01-09     290.407990     91.940002   1211.2500           0.12   \n",
       "1    2015-01-10     274.795990     91.940002   1211.2500           0.12   \n",
       "2    2015-01-11     265.660004     91.940002   1211.2500           0.12   \n",
       "3    2015-01-12     267.795990     91.980003   1222.0000           0.12   \n",
       "4    2015-01-13     225.860992     92.309998   1239.0000           0.12   \n",
       "...         ...            ...           ...         ...            ...   \n",
       "3649 2025-01-05   98314.960938    108.949997   2640.1664           4.33   \n",
       "3650 2025-01-06  102078.085938    108.260002   2635.8796           4.33   \n",
       "3651 2025-01-07   96922.703125    108.540001   2648.7119           4.33   \n",
       "3652 2025-01-08   95043.523438    109.089996   2661.5352           4.33   \n",
       "3653 2025-01-09   92484.039062    109.180000   2669.9489           4.33   \n",
       "\n",
       "      US_10_Year  VIX_Value   id  time_idx month  \n",
       "0          1.950      17.55  BTC         0     1  \n",
       "1          1.950      17.55  BTC         1     1  \n",
       "2          1.950      17.55  BTC         2     1  \n",
       "3          1.909      19.60  BTC         3     1  \n",
       "4          1.905      20.56  BTC         4     1  \n",
       "...          ...        ...  ...       ...   ...  \n",
       "3649       4.601      16.13  BTC      3649     1  \n",
       "3650       4.623      16.04  BTC      3650     1  \n",
       "3651       4.684      17.82  BTC      3651     1  \n",
       "3652       4.692      17.70  BTC      3652     1  \n",
       "3653       4.688      18.07  BTC      3653     1  \n",
       "\n",
       "[3654 rows x 10 columns]"
      ]
     },
     "execution_count": 9,
     "metadata": {},
     "output_type": "execute_result"
    }
   ],
   "source": [
    "# add additional features\n",
    "Final_Dataset[\"month\"] = Final_Dataset.Date.dt.month.astype(str).astype(\"category\")  # categories have be strings\n",
    "\n",
    "Final_Dataset"
   ]
  },
  {
   "cell_type": "code",
   "execution_count": 10,
   "metadata": {},
   "outputs": [
    {
     "name": "stdout",
     "output_type": "stream",
     "text": [
      "NaN values in 'time_idx': 0\n"
     ]
    }
   ],
   "source": [
    "# Check for NaN values in the 'time_idx' column\n",
    "nan_time_idx = Final_Dataset['time_idx'].isnull().sum()\n",
    "print(f\"NaN values in 'time_idx': {nan_time_idx}\")"
   ]
  },
  {
   "cell_type": "code",
   "execution_count": 25,
   "metadata": {},
   "outputs": [],
   "source": [
    "time_varying_known_reals=list(Final_Dataset.columns.difference(['BTC_Price', 'time_idx', 'id']))"
   ]
  },
  {
   "cell_type": "code",
   "execution_count": 11,
   "metadata": {},
   "outputs": [],
   "source": [
    "\n",
    "training = TimeSeriesDataSet(\n",
    "    Final_Dataset[lambda x: x.time_idx <= training_cutoff],\n",
    "    time_idx=\"time_idx\",\n",
    "    target=\"BTC_Price\",\n",
    "    group_ids=[\"id\"],\n",
    "    min_encoder_length=max_encoder_length // 2,  # keep encoder length long (as it is in the validation set)\n",
    "    max_encoder_length=max_encoder_length,\n",
    "    min_prediction_length=1,\n",
    "    max_prediction_length=max_prediction_length,\n",
    "    static_categoricals=[],\n",
    "    static_reals=[],\n",
    "    time_varying_known_categoricals=[],\n",
    "    time_varying_known_reals=list(Final_Dataset.columns.difference(['BTC_Price', 'time_idx', 'id'])),\n",
    "    time_varying_unknown_categoricals=[],\n",
    "    time_varying_unknown_reals=[\"BTC_Price\"],\n",
    "    target_normalizer=GroupNormalizer(\n",
    "        groups=[\"id\"], transformation=\"softplus\"\n",
    "    ),  # use softplus and normalize by group\n",
    "    add_relative_time_idx=True,\n",
    "    add_target_scales=True,\n",
    "    add_encoder_length=True,\n",
    ")\n",
    "\n",
    "# create validation set (predict=True) which means to predict the last max_prediction_length points in time\n",
    "# for each series\n",
    "validation = TimeSeriesDataSet.from_dataset(training, Final_Dataset, predict=True, stop_randomization=True)\n",
    "\n",
    "# create dataloaders for model\n",
    "batch_size = 64  # set this between 32 to 128\n",
    "train_dataloader = training.to_dataloader(train=True, batch_size=batch_size, num_workers=0)\n",
    "val_dataloader = validation.to_dataloader(train=False, batch_size=batch_size * 10, num_workers=0)"
   ]
  },
  {
   "cell_type": "code",
   "execution_count": 12,
   "metadata": {},
   "outputs": [
    {
     "name": "stderr",
     "output_type": "stream",
     "text": [
      "C:\\Users\\Sathmika\\AppData\\Local\\Temp\\ipykernel_18572\\2174382858.py:2: UserWarning: In pytorch-forecasting models, on versions 1.1.X, the default optimizer defaults to 'adam', if pytorch_optimizer is not installed, otherwise it defaults to 'ranger' from pytorch_optimizer. From version 1.2.0, the default optimizer will be 'adam' regardless of whether pytorch_optimizer is installed, in order to minimize the number of dependencies in default parameter settings. Users who wish to ensure their code continues using 'ranger' as optimizer should ensure that pytorch_optimizer is installed, and set the optimizer parameter explicitly to 'ranger'.\n",
      "  baseline_predictions = Baseline().predict(val_dataloader, return_y=True)\n",
      "c:\\Users\\Sathmika\\anaconda3\\envs\\tft\\Lib\\site-packages\\lightning\\pytorch\\utilities\\parsing.py:209: Attribute 'loss' is an instance of `nn.Module` and is already saved during checkpointing. It is recommended to ignore them using `self.save_hyperparameters(ignore=['loss'])`.\n",
      "c:\\Users\\Sathmika\\anaconda3\\envs\\tft\\Lib\\site-packages\\lightning\\pytorch\\utilities\\parsing.py:209: Attribute 'logging_metrics' is an instance of `nn.Module` and is already saved during checkpointing. It is recommended to ignore them using `self.save_hyperparameters(ignore=['logging_metrics'])`.\n",
      "GPU available: False, used: False\n",
      "TPU available: False, using: 0 TPU cores\n",
      "HPU available: False, using: 0 HPUs\n",
      "c:\\Users\\Sathmika\\anaconda3\\envs\\tft\\Lib\\site-packages\\lightning\\pytorch\\trainer\\connectors\\data_connector.py:425: The 'predict_dataloader' does not have many workers which may be a bottleneck. Consider increasing the value of the `num_workers` argument` to `num_workers=7` in the `DataLoader` to improve performance.\n"
     ]
    },
    {
     "data": {
      "text/plain": [
       "tensor(2210.1741)"
      ]
     },
     "execution_count": 12,
     "metadata": {},
     "output_type": "execute_result"
    }
   ],
   "source": [
    "# calculate baseline mean absolute error, i.e. predict next value as the last available value from the history\n",
    "baseline_predictions = Baseline().predict(val_dataloader, return_y=True)\n",
    "MAE()(baseline_predictions.output, baseline_predictions.y)"
   ]
  },
  {
   "cell_type": "code",
   "execution_count": 13,
   "metadata": {},
   "outputs": [
    {
     "name": "stderr",
     "output_type": "stream",
     "text": [
      "Seed set to 42\n",
      "GPU available: False, used: False\n",
      "TPU available: False, using: 0 TPU cores\n",
      "HPU available: False, using: 0 HPUs\n"
     ]
    },
    {
     "name": "stdout",
     "output_type": "stream",
     "text": [
      "Number of parameters in network: 12.0k\n"
     ]
    },
    {
     "name": "stderr",
     "output_type": "stream",
     "text": [
      "c:\\Users\\Sathmika\\anaconda3\\envs\\tft\\Lib\\site-packages\\lightning\\pytorch\\utilities\\parsing.py:209: Attribute 'loss' is an instance of `nn.Module` and is already saved during checkpointing. It is recommended to ignore them using `self.save_hyperparameters(ignore=['loss'])`.\n",
      "c:\\Users\\Sathmika\\anaconda3\\envs\\tft\\Lib\\site-packages\\lightning\\pytorch\\utilities\\parsing.py:209: Attribute 'logging_metrics' is an instance of `nn.Module` and is already saved during checkpointing. It is recommended to ignore them using `self.save_hyperparameters(ignore=['logging_metrics'])`.\n",
      "c:\\Users\\Sathmika\\anaconda3\\envs\\tft\\Lib\\site-packages\\pytorch_forecasting\\models\\temporal_fusion_transformer\\__init__.py:171: UserWarning: In pytorch-forecasting models, on versions 1.1.X, the default optimizer defaults to 'adam', if pytorch_optimizer is not installed, otherwise it defaults to 'ranger' from pytorch_optimizer. From version 1.2.0, the default optimizer will be 'adam' regardless of whether pytorch_optimizer is installed, in order to minimize the number of dependencies in default parameter settings. Users who wish to ensure their code continues using 'ranger' as optimizer should ensure that pytorch_optimizer is installed, and set the optimizer parameter explicitly to 'ranger'.\n",
      "  super().__init__(loss=loss, logging_metrics=logging_metrics, **kwargs)\n"
     ]
    }
   ],
   "source": [
    "# configure network and trainer\n",
    "pl.seed_everything(42)\n",
    "trainer = pl.Trainer(\n",
    "    accelerator=\"cpu\",\n",
    "    # clipping gradients is a hyperparameter and important to prevent divergance\n",
    "    # of the gradient for recurrent neural networks\n",
    "    gradient_clip_val=0.1,\n",
    ")\n",
    "\n",
    "\n",
    "tft = TemporalFusionTransformer.from_dataset(\n",
    "    training,\n",
    "    # not meaningful for finding the learning rate but otherwise very important\n",
    "    learning_rate=0.03,\n",
    "    hidden_size=8,  # most important hyperparameter apart from learning rate\n",
    "    # number of attention heads. Set to up to 4 for large datasets\n",
    "    attention_head_size=1,\n",
    "    dropout=0.1,  # between 0.1 and 0.3 are good values\n",
    "    hidden_continuous_size=8,  # set to <= hidden_size\n",
    "    loss=QuantileLoss(),\n",
    "    # optimizer=\"Ranger\", use the default optimizer - adam\n",
    "    # reduce learning rate if no improvement in validation loss after x epochs\n",
    "    # reduce_on_plateau_patience=1000,\n",
    ")\n",
    "print(f\"Number of parameters in network: {tft.size() / 1e3:.1f}k\")"
   ]
  },
  {
   "cell_type": "code",
   "execution_count": 14,
   "metadata": {
    "scrolled": true
   },
   "outputs": [
    {
     "name": "stderr",
     "output_type": "stream",
     "text": [
      "c:\\Users\\Sathmika\\anaconda3\\envs\\tft\\Lib\\site-packages\\lightning\\pytorch\\loops\\utilities.py:73: `max_epochs` was not set. Setting it to 1000 epochs. To train without an epoch limit, set `max_epochs=-1`.\n",
      "c:\\Users\\Sathmika\\anaconda3\\envs\\tft\\Lib\\site-packages\\lightning\\pytorch\\trainer\\connectors\\data_connector.py:425: The 'train_dataloader' does not have many workers which may be a bottleneck. Consider increasing the value of the `num_workers` argument` to `num_workers=7` in the `DataLoader` to improve performance.\n",
      "c:\\Users\\Sathmika\\anaconda3\\envs\\tft\\Lib\\site-packages\\lightning\\pytorch\\trainer\\connectors\\data_connector.py:425: The 'val_dataloader' does not have many workers which may be a bottleneck. Consider increasing the value of the `num_workers` argument` to `num_workers=7` in the `DataLoader` to improve performance.\n",
      "Finding best initial lr: 100%|██████████| 100/100 [00:14<00:00,  6.38it/s]`Trainer.fit` stopped: `max_steps=100` reached.\n",
      "Finding best initial lr: 100%|██████████| 100/100 [00:14<00:00,  6.87it/s]\n",
      "Learning rate set to 0.013489628825916528\n",
      "Restoring states from the checkpoint path at c:\\Users\\Sathmika\\Desktop\\FYP\\cryptoCurrencyPricePredictionTFT\\cryptoCurrencyPricePredictionTFT\\mainCode\\.lr_find_43fa7747-28b2-42bb-a15f-9d2ace8e0476.ckpt\n",
      "Restored all states from the checkpoint at c:\\Users\\Sathmika\\Desktop\\FYP\\cryptoCurrencyPricePredictionTFT\\cryptoCurrencyPricePredictionTFT\\mainCode\\.lr_find_43fa7747-28b2-42bb-a15f-9d2ace8e0476.ckpt\n"
     ]
    },
    {
     "name": "stdout",
     "output_type": "stream",
     "text": [
      "suggested learning rate: 0.013489628825916528\n"
     ]
    },
    {
     "data": {
      "image/png": "[encoded data removed]",
      "text/plain": [
       "<Figure size 640x480 with 1 Axes>"
      ]
     },
     "metadata": {},
     "output_type": "display_data"
    },
    {
     "name": "stderr",
     "output_type": "stream",
     "text": [
      "C:\\Users\\Sathmika\\AppData\\Local\\Temp\\ipykernel_18572\\603415214.py:8: UserWarning: FigureCanvasAgg is non-interactive, and thus cannot be shown\n",
      "  fig.show()\n"
     ]
    }
   ],
   "source": [
    "# find the optimal learning rate\n",
    "res = Tuner(trainer).lr_find(\n",
    "    tft, train_dataloaders=train_dataloader, val_dataloaders=val_dataloader, max_lr=10.0, min_lr=1e-6\n",
    ")\n",
    "# and plot the result - always visually confirm that the suggested learning rate makes sense\n",
    "print(f\"suggested learning rate: {res.suggestion()}\")\n",
    "fig = res.plot(show=True, suggest=True)\n",
    "fig.show()"
   ]
  },
  {
   "cell_type": "code",
   "execution_count": 31,
   "metadata": {},
   "outputs": [
    {
     "name": "stdout",
     "output_type": "stream",
     "text": [
      "Collecting tensorflow\n",
      "  Using cached tensorflow-2.18.0-cp312-cp312-win_amd64.whl.metadata (3.3 kB)\n",
      "Collecting tensorflow-intel==2.18.0 (from tensorflow)\n",
      "  Using cached tensorflow_intel-2.18.0-cp312-cp312-win_amd64.whl.metadata (4.9 kB)\n",
      "Collecting absl-py>=1.0.0 (from tensorflow-intel==2.18.0->tensorflow)\n",
      "  Using cached absl_py-2.1.0-py3-none-any.whl.metadata (2.3 kB)\n",
      "Collecting astunparse>=1.6.0 (from tensorflow-intel==2.18.0->tensorflow)\n",
      "  Using cached astunparse-1.6.3-py2.py3-none-any.whl.metadata (4.4 kB)\n",
      "Collecting flatbuffers>=24.3.25 (from tensorflow-intel==2.18.0->tensorflow)\n",
      "  Downloading flatbuffers-25.1.24-py2.py3-none-any.whl.metadata (875 bytes)\n",
      "Collecting gast!=0.5.0,!=0.5.1,!=0.5.2,>=0.2.1 (from tensorflow-intel==2.18.0->tensorflow)\n",
      "  Using cached gast-0.6.0-py3-none-any.whl.metadata (1.3 kB)\n",
      "Collecting google-pasta>=0.1.1 (from tensorflow-intel==2.18.0->tensorflow)\n",
      "  Using cached google_pasta-0.2.0-py3-none-any.whl.metadata (814 bytes)\n",
      "Collecting libclang>=13.0.0 (from tensorflow-intel==2.18.0->tensorflow)\n",
      "  Using cached libclang-18.1.1-py2.py3-none-win_amd64.whl.metadata (5.3 kB)\n",
      "Collecting opt-einsum>=2.3.2 (from tensorflow-intel==2.18.0->tensorflow)\n",
      "  Using cached opt_einsum-3.4.0-py3-none-any.whl.metadata (6.3 kB)\n",
      "Requirement already satisfied: packaging in c:\\users\\sathmika\\appdata\\roaming\\python\\python312\\site-packages (from tensorflow-intel==2.18.0->tensorflow) (24.1)\n",
      "Collecting protobuf!=4.21.0,!=4.21.1,!=4.21.2,!=4.21.3,!=4.21.4,!=4.21.5,<6.0.0dev,>=3.20.3 (from tensorflow-intel==2.18.0->tensorflow)\n",
      "  Downloading protobuf-5.29.3-cp310-abi3-win_amd64.whl.metadata (592 bytes)\n",
      "Requirement already satisfied: requests<3,>=2.21.0 in c:\\users\\sathmika\\anaconda3\\envs\\tft\\lib\\site-packages (from tensorflow-intel==2.18.0->tensorflow) (2.32.3)\n",
      "Requirement already satisfied: setuptools in c:\\users\\sathmika\\anaconda3\\envs\\tft\\lib\\site-packages (from tensorflow-intel==2.18.0->tensorflow) (75.8.0)\n",
      "Requirement already satisfied: six>=1.12.0 in c:\\users\\sathmika\\appdata\\roaming\\python\\python312\\site-packages (from tensorflow-intel==2.18.0->tensorflow) (1.16.0)\n",
      "Collecting termcolor>=1.1.0 (from tensorflow-intel==2.18.0->tensorflow)\n",
      "  Using cached termcolor-2.5.0-py3-none-any.whl.metadata (6.1 kB)\n",
      "Requirement already satisfied: typing-extensions>=3.6.6 in c:\\users\\sathmika\\anaconda3\\envs\\tft\\lib\\site-packages (from tensorflow-intel==2.18.0->tensorflow) (4.12.2)\n",
      "Collecting wrapt>=1.11.0 (from tensorflow-intel==2.18.0->tensorflow)\n",
      "  Downloading wrapt-1.17.2-cp312-cp312-win_amd64.whl.metadata (6.5 kB)\n",
      "Collecting grpcio<2.0,>=1.24.3 (from tensorflow-intel==2.18.0->tensorflow)\n",
      "  Downloading grpcio-1.70.0-cp312-cp312-win_amd64.whl.metadata (4.0 kB)\n",
      "Collecting tensorboard<2.19,>=2.18 (from tensorflow-intel==2.18.0->tensorflow)\n",
      "  Using cached tensorboard-2.18.0-py3-none-any.whl.metadata (1.6 kB)\n",
      "Collecting keras>=3.5.0 (from tensorflow-intel==2.18.0->tensorflow)\n",
      "  Downloading keras-3.8.0-py3-none-any.whl.metadata (5.8 kB)\n",
      "Collecting numpy<2.1.0,>=1.26.0 (from tensorflow-intel==2.18.0->tensorflow)\n",
      "  Using cached numpy-2.0.2-cp312-cp312-win_amd64.whl.metadata (59 kB)\n",
      "Collecting h5py>=3.11.0 (from tensorflow-intel==2.18.0->tensorflow)\n",
      "  Using cached h5py-3.12.1-cp312-cp312-win_amd64.whl.metadata (2.5 kB)\n",
      "Collecting ml-dtypes<0.5.0,>=0.4.0 (from tensorflow-intel==2.18.0->tensorflow)\n",
      "  Using cached ml_dtypes-0.4.1-cp312-cp312-win_amd64.whl.metadata (20 kB)\n",
      "Requirement already satisfied: wheel<1.0,>=0.23.0 in c:\\users\\sathmika\\anaconda3\\envs\\tft\\lib\\site-packages (from astunparse>=1.6.0->tensorflow-intel==2.18.0->tensorflow) (0.45.1)\n",
      "Collecting rich (from keras>=3.5.0->tensorflow-intel==2.18.0->tensorflow)\n",
      "  Using cached rich-13.9.4-py3-none-any.whl.metadata (18 kB)\n",
      "Collecting namex (from keras>=3.5.0->tensorflow-intel==2.18.0->tensorflow)\n",
      "  Using cached namex-0.0.8-py3-none-any.whl.metadata (246 bytes)\n",
      "Collecting optree (from keras>=3.5.0->tensorflow-intel==2.18.0->tensorflow)\n",
      "  Downloading optree-0.14.0-cp312-cp312-win_amd64.whl.metadata (48 kB)\n",
      "Requirement already satisfied: charset-normalizer<4,>=2 in c:\\users\\sathmika\\anaconda3\\envs\\tft\\lib\\site-packages (from requests<3,>=2.21.0->tensorflow-intel==2.18.0->tensorflow) (3.4.1)\n",
      "Requirement already satisfied: idna<4,>=2.5 in c:\\users\\sathmika\\anaconda3\\envs\\tft\\lib\\site-packages (from requests<3,>=2.21.0->tensorflow-intel==2.18.0->tensorflow) (3.10)\n",
      "Requirement already satisfied: urllib3<3,>=1.21.1 in c:\\users\\sathmika\\anaconda3\\envs\\tft\\lib\\site-packages (from requests<3,>=2.21.0->tensorflow-intel==2.18.0->tensorflow) (2.3.0)\n",
      "Requirement already satisfied: certifi>=2017.4.17 in c:\\users\\sathmika\\anaconda3\\envs\\tft\\lib\\site-packages (from requests<3,>=2.21.0->tensorflow-intel==2.18.0->tensorflow) (2024.12.14)\n",
      "Collecting markdown>=2.6.8 (from tensorboard<2.19,>=2.18->tensorflow-intel==2.18.0->tensorflow)\n",
      "  Using cached Markdown-3.7-py3-none-any.whl.metadata (7.0 kB)\n",
      "Collecting tensorboard-data-server<0.8.0,>=0.7.0 (from tensorboard<2.19,>=2.18->tensorflow-intel==2.18.0->tensorflow)\n",
      "  Using cached tensorboard_data_server-0.7.2-py3-none-any.whl.metadata (1.1 kB)\n",
      "Collecting werkzeug>=1.0.1 (from tensorboard<2.19,>=2.18->tensorflow-intel==2.18.0->tensorflow)\n",
      "  Using cached werkzeug-3.1.3-py3-none-any.whl.metadata (3.7 kB)\n",
      "Requirement already satisfied: MarkupSafe>=2.1.1 in c:\\users\\sathmika\\anaconda3\\envs\\tft\\lib\\site-packages (from werkzeug>=1.0.1->tensorboard<2.19,>=2.18->tensorflow-intel==2.18.0->tensorflow) (3.0.2)\n",
      "Collecting markdown-it-py>=2.2.0 (from rich->keras>=3.5.0->tensorflow-intel==2.18.0->tensorflow)\n",
      "  Using cached markdown_it_py-3.0.0-py3-none-any.whl.metadata (6.9 kB)\n",
      "Requirement already satisfied: pygments<3.0.0,>=2.13.0 in c:\\users\\sathmika\\appdata\\roaming\\python\\python312\\site-packages (from rich->keras>=3.5.0->tensorflow-intel==2.18.0->tensorflow) (2.18.0)\n",
      "Collecting mdurl~=0.1 (from markdown-it-py>=2.2.0->rich->keras>=3.5.0->tensorflow-intel==2.18.0->tensorflow)\n",
      "  Using cached mdurl-0.1.2-py3-none-any.whl.metadata (1.6 kB)\n",
      "Using cached tensorflow-2.18.0-cp312-cp312-win_amd64.whl (7.5 kB)\n",
      "Using cached tensorflow_intel-2.18.0-cp312-cp312-win_amd64.whl (390.3 MB)\n",
      "Using cached absl_py-2.1.0-py3-none-any.whl (133 kB)\n",
      "Using cached astunparse-1.6.3-py2.py3-none-any.whl (12 kB)\n",
      "Downloading flatbuffers-25.1.24-py2.py3-none-any.whl (30 kB)\n",
      "Using cached gast-0.6.0-py3-none-any.whl (21 kB)\n",
      "Using cached google_pasta-0.2.0-py3-none-any.whl (57 kB)\n",
      "Downloading grpcio-1.70.0-cp312-cp312-win_amd64.whl (4.3 MB)\n",
      "   ---------------------------------------- 0.0/4.3 MB ? eta -:--:--\n",
      "   ------- -------------------------------- 0.8/4.3 MB 5.6 MB/s eta 0:00:01\n",
      "   ----------------- ---------------------- 1.8/4.3 MB 5.0 MB/s eta 0:00:01\n",
      "   -------------------------- ------------- 2.9/4.3 MB 5.6 MB/s eta 0:00:01\n",
      "   ---------------------------------------  4.2/4.3 MB 5.5 MB/s eta 0:00:01\n",
      "   ---------------------------------------- 4.3/4.3 MB 5.4 MB/s eta 0:00:00\n",
      "Using cached h5py-3.12.1-cp312-cp312-win_amd64.whl (3.0 MB)\n",
      "Downloading keras-3.8.0-py3-none-any.whl (1.3 MB)\n",
      "   ---------------------------------------- 0.0/1.3 MB ? eta -:--:--\n",
      "   -------------------------------- ------- 1.0/1.3 MB 7.2 MB/s eta 0:00:01\n",
      "   ---------------------------------------- 1.3/1.3 MB 6.7 MB/s eta 0:00:00\n",
      "Using cached libclang-18.1.1-py2.py3-none-win_amd64.whl (26.4 MB)\n",
      "Using cached ml_dtypes-0.4.1-cp312-cp312-win_amd64.whl (127 kB)\n",
      "Using cached numpy-2.0.2-cp312-cp312-win_amd64.whl (15.6 MB)\n",
      "Using cached opt_einsum-3.4.0-py3-none-any.whl (71 kB)\n",
      "Downloading protobuf-5.29.3-cp310-abi3-win_amd64.whl (434 kB)\n",
      "Using cached tensorboard-2.18.0-py3-none-any.whl (5.5 MB)\n",
      "Using cached termcolor-2.5.0-py3-none-any.whl (7.8 kB)\n",
      "Downloading wrapt-1.17.2-cp312-cp312-win_amd64.whl (38 kB)\n",
      "Using cached Markdown-3.7-py3-none-any.whl (106 kB)\n",
      "Using cached tensorboard_data_server-0.7.2-py3-none-any.whl (2.4 kB)\n",
      "Using cached werkzeug-3.1.3-py3-none-any.whl (224 kB)\n",
      "Using cached namex-0.0.8-py3-none-any.whl (5.8 kB)\n",
      "Downloading optree-0.14.0-cp312-cp312-win_amd64.whl (299 kB)\n",
      "Using cached rich-13.9.4-py3-none-any.whl (242 kB)\n",
      "Using cached markdown_it_py-3.0.0-py3-none-any.whl (87 kB)\n",
      "Using cached mdurl-0.1.2-py3-none-any.whl (10.0 kB)\n",
      "Installing collected packages: namex, libclang, flatbuffers, wrapt, werkzeug, termcolor, tensorboard-data-server, protobuf, optree, opt-einsum, numpy, mdurl, markdown, grpcio, google-pasta, gast, astunparse, absl-py, tensorboard, ml-dtypes, markdown-it-py, h5py, rich, keras, tensorflow-intel, tensorflow\n",
      "  Attempting uninstall: numpy\n",
      "    Found existing installation: numpy 2.2.1\n",
      "    Uninstalling numpy-2.2.1:\n",
      "      Successfully uninstalled numpy-2.2.1\n",
      "Successfully installed absl-py-2.1.0 astunparse-1.6.3 flatbuffers-25.1.24 gast-0.6.0 google-pasta-0.2.0 grpcio-1.70.0 h5py-3.12.1 keras-3.8.0 libclang-18.1.1 markdown-3.7 markdown-it-py-3.0.0 mdurl-0.1.2 ml-dtypes-0.4.1 namex-0.0.8 numpy-2.0.2 opt-einsum-3.4.0 optree-0.14.0 protobuf-5.29.3 rich-13.9.4 tensorboard-2.18.0 tensorboard-data-server-0.7.2 tensorflow-2.18.0 tensorflow-intel-2.18.0 termcolor-2.5.0 werkzeug-3.1.3 wrapt-1.17.2\n",
      "Note: you may need to restart the kernel to use updated packages.\n"
     ]
    },
    {
     "name": "stderr",
     "output_type": "stream",
     "text": [
      "  WARNING: Failed to remove contents in a temporary directory 'C:\\Users\\Sathmika\\anaconda3\\envs\\tft\\Lib\\site-packages\\~umpy.libs'.\n",
      "  You can safely remove it manually.\n",
      "  WARNING: Failed to remove contents in a temporary directory 'C:\\Users\\Sathmika\\anaconda3\\envs\\tft\\Lib\\site-packages\\~umpy'.\n",
      "  You can safely remove it manually.\n"
     ]
    }
   ],
   "source": [
    "pip install tensorflow"
   ]
  },
  {
   "cell_type": "code",
   "execution_count": 40,
   "metadata": {},
   "outputs": [
    {
     "name": "stdout",
     "output_type": "stream",
     "text": [
      "Collecting tensorboardXNote: you may need to restart the kernel to use updated packages.\n",
      "\n",
      "  Downloading tensorboardX-2.6.2.2-py2.py3-none-any.whl.metadata (5.8 kB)\n",
      "Requirement already satisfied: numpy in c:\\users\\sathmika\\anaconda3\\envs\\tft\\lib\\site-packages (from tensorboardX) (2.0.2)\n",
      "Requirement already satisfied: packaging in c:\\users\\sathmika\\appdata\\roaming\\python\\python312\\site-packages (from tensorboardX) (24.1)\n",
      "Requirement already satisfied: protobuf>=3.20 in c:\\users\\sathmika\\anaconda3\\envs\\tft\\lib\\site-packages (from tensorboardX) (5.29.3)\n",
      "Downloading tensorboardX-2.6.2.2-py2.py3-none-any.whl (101 kB)\n",
      "Installing collected packages: tensorboardX\n",
      "Successfully installed tensorboardX-2.6.2.2\n"
     ]
    }
   ],
   "source": [
    "pip install tensorboardX"
   ]
  },
  {
   "cell_type": "code",
   "execution_count": 15,
   "metadata": {},
   "outputs": [
    {
     "name": "stderr",
     "output_type": "stream",
     "text": [
      "GPU available: False, used: False\n",
      "TPU available: False, using: 0 TPU cores\n",
      "HPU available: False, using: 0 HPUs\n"
     ]
    },
    {
     "name": "stdout",
     "output_type": "stream",
     "text": [
      "Number of parameters in network: 26.6k\n"
     ]
    },
    {
     "name": "stderr",
     "output_type": "stream",
     "text": [
      "c:\\Users\\Sathmika\\anaconda3\\envs\\tft\\Lib\\site-packages\\lightning\\pytorch\\utilities\\parsing.py:209: Attribute 'loss' is an instance of `nn.Module` and is already saved during checkpointing. It is recommended to ignore them using `self.save_hyperparameters(ignore=['loss'])`.\n",
      "c:\\Users\\Sathmika\\anaconda3\\envs\\tft\\Lib\\site-packages\\lightning\\pytorch\\utilities\\parsing.py:209: Attribute 'logging_metrics' is an instance of `nn.Module` and is already saved during checkpointing. It is recommended to ignore them using `self.save_hyperparameters(ignore=['logging_metrics'])`.\n",
      "c:\\Users\\Sathmika\\anaconda3\\envs\\tft\\Lib\\site-packages\\pytorch_forecasting\\models\\temporal_fusion_transformer\\__init__.py:171: UserWarning: In pytorch-forecasting models, on versions 1.1.X, the default optimizer defaults to 'adam', if pytorch_optimizer is not installed, otherwise it defaults to 'ranger' from pytorch_optimizer. From version 1.2.0, the default optimizer will be 'adam' regardless of whether pytorch_optimizer is installed, in order to minimize the number of dependencies in default parameter settings. Users who wish to ensure their code continues using 'ranger' as optimizer should ensure that pytorch_optimizer is installed, and set the optimizer parameter explicitly to 'ranger'.\n",
      "  super().__init__(loss=loss, logging_metrics=logging_metrics, **kwargs)\n"
     ]
    }
   ],
   "source": [
    "# configure network and trainer\n",
    "early_stop_callback = EarlyStopping(monitor=\"val_loss\", min_delta=1e-4, patience=10, verbose=False, mode=\"min\")\n",
    "lr_logger = LearningRateMonitor()  # log the learning rate\n",
    "logger = TensorBoardLogger(\"lightning_logs\")  # logging results to a tensorboard\n",
    "\n",
    "trainer = pl.Trainer(\n",
    "    max_epochs=100,\n",
    "    accelerator=\"cpu\",\n",
    "    enable_model_summary=True,\n",
    "    gradient_clip_val=0.1,\n",
    "    limit_train_batches=50,  # coment in for training, running valiation every 30 batches\n",
    "    # fast_dev_run=True,  # comment in to check that networkor dataset has no serious bugs\n",
    "    callbacks=[lr_logger, early_stop_callback],\n",
    "    logger=logger,\n",
    ")\n",
    "\n",
    "tft = TemporalFusionTransformer.from_dataset(\n",
    "    training,\n",
    "    learning_rate=0.03,\n",
    "    hidden_size=16,\n",
    "    attention_head_size=2,\n",
    "    dropout=0.1,\n",
    "    hidden_continuous_size=8,\n",
    "    loss=QuantileLoss(),\n",
    "    log_interval=10,  # uncomment for learning rate finder and otherwise, e.g. to 10 for logging every 10 batches\n",
    "    # optimizer=\"Ranger\",\n",
    "    reduce_on_plateau_patience=4,\n",
    ")\n",
    "print(f\"Number of parameters in network: {tft.size() / 1e3:.1f}k\")"
   ]
  },
  {
   "cell_type": "code",
   "execution_count": 16,
   "metadata": {},
   "outputs": [
    {
     "name": "stderr",
     "output_type": "stream",
     "text": [
      "\n",
      "   | Name                               | Type                            | Params | Mode \n",
      "------------------------------------------------------------------------------------------------\n",
      "0  | loss                               | QuantileLoss                    | 0      | train\n",
      "1  | logging_metrics                    | ModuleList                      | 0      | train\n",
      "2  | input_embeddings                   | MultiEmbedding                  | 0      | train\n",
      "3  | prescalers                         | ModuleDict                      | 192    | train\n",
      "4  | static_variable_selection          | VariableSelectionNetwork        | 1.7 K  | train\n",
      "5  | encoder_variable_selection         | VariableSelectionNetwork        | 5.9 K  | train\n",
      "6  | decoder_variable_selection         | VariableSelectionNetwork        | 5.1 K  | train\n",
      "7  | static_context_variable_selection  | GatedResidualNetwork            | 1.1 K  | train\n",
      "8  | static_context_initial_hidden_lstm | GatedResidualNetwork            | 1.1 K  | train\n",
      "9  | static_context_initial_cell_lstm   | GatedResidualNetwork            | 1.1 K  | train\n",
      "10 | static_context_enrichment          | GatedResidualNetwork            | 1.1 K  | train\n",
      "11 | lstm_encoder                       | LSTM                            | 2.2 K  | train\n",
      "12 | lstm_decoder                       | LSTM                            | 2.2 K  | train\n",
      "13 | post_lstm_gate_encoder             | GatedLinearUnit                 | 544    | train\n",
      "14 | post_lstm_add_norm_encoder         | AddNorm                         | 32     | train\n",
      "15 | static_enrichment                  | GatedResidualNetwork            | 1.4 K  | train\n",
      "16 | multihead_attn                     | InterpretableMultiHeadAttention | 808    | train\n",
      "17 | post_attn_gate_norm                | GateAddNorm                     | 576    | train\n",
      "18 | pos_wise_ff                        | GatedResidualNetwork            | 1.1 K  | train\n",
      "19 | pre_output_gate_norm               | GateAddNorm                     | 576    | train\n",
      "20 | output_layer                       | Linear                          | 119    | train\n",
      "------------------------------------------------------------------------------------------------\n",
      "26.6 K    Trainable params\n",
      "0         Non-trainable params\n",
      "26.6 K    Total params\n",
      "0.106     Total estimated model params size (MB)\n",
      "449       Modules in train mode\n",
      "0         Modules in eval mode\n"
     ]
    },
    {
     "name": "stdout",
     "output_type": "stream",
     "text": [
      "Sanity Checking DataLoader 0:   0%|          | 0/1 [00:00<?, ?it/s]"
     ]
    },
    {
     "name": "stderr",
     "output_type": "stream",
     "text": [
      "c:\\Users\\Sathmika\\anaconda3\\envs\\tft\\Lib\\site-packages\\lightning\\pytorch\\trainer\\connectors\\data_connector.py:425: The 'val_dataloader' does not have many workers which may be a bottleneck. Consider increasing the value of the `num_workers` argument` to `num_workers=7` in the `DataLoader` to improve performance.\n"
     ]
    },
    {
     "name": "stdout",
     "output_type": "stream",
     "text": [
      "                                                                           "
     ]
    },
    {
     "name": "stderr",
     "output_type": "stream",
     "text": [
      "c:\\Users\\Sathmika\\anaconda3\\envs\\tft\\Lib\\site-packages\\lightning\\pytorch\\trainer\\connectors\\data_connector.py:425: The 'train_dataloader' does not have many workers which may be a bottleneck. Consider increasing the value of the `num_workers` argument` to `num_workers=7` in the `DataLoader` to improve performance.\n"
     ]
    },
    {
     "name": "stdout",
     "output_type": "stream",
     "text": [
      "Epoch 16: 100%|██████████| 50/50 [00:08<00:00,  5.58it/s, v_num=1, train_loss_step=594.0, val_loss=1.77e+3, train_loss_epoch=695.0]   \n"
     ]
    }
   ],
   "source": [
    "# fit network\n",
    "trainer.fit(\n",
    "    tft,\n",
    "    train_dataloaders=train_dataloader,\n",
    "    val_dataloaders=val_dataloader,\n",
    ")"
   ]
  },
  {
   "cell_type": "code",
   "execution_count": 22,
   "metadata": {},
   "outputs": [
    {
     "name": "stderr",
     "output_type": "stream",
     "text": [
      "c:\\Users\\Sathmika\\anaconda3\\envs\\tft\\Lib\\site-packages\\lightning\\pytorch\\utilities\\parsing.py:209: Attribute 'loss' is an instance of `nn.Module` and is already saved during checkpointing. It is recommended to ignore them using `self.save_hyperparameters(ignore=['loss'])`.\n",
      "c:\\Users\\Sathmika\\anaconda3\\envs\\tft\\Lib\\site-packages\\lightning\\pytorch\\utilities\\parsing.py:209: Attribute 'logging_metrics' is an instance of `nn.Module` and is already saved during checkpointing. It is recommended to ignore them using `self.save_hyperparameters(ignore=['logging_metrics'])`.\n"
     ]
    }
   ],
   "source": [
    "# load the best model according to the validation loss\n",
    "# (given that we use early stopping, this is not necessarily the last epoch)\n",
    "best_model_path = trainer.checkpoint_callback.best_model_path\n",
    "best_tft = TemporalFusionTransformer.load_from_checkpoint(best_model_path)"
   ]
  },
  {
   "cell_type": "code",
   "execution_count": 23,
   "metadata": {},
   "outputs": [
    {
     "name": "stderr",
     "output_type": "stream",
     "text": [
      "GPU available: False, used: False\n",
      "TPU available: False, using: 0 TPU cores\n",
      "HPU available: False, using: 0 HPUs\n",
      "c:\\Users\\Sathmika\\anaconda3\\envs\\tft\\Lib\\site-packages\\lightning\\pytorch\\trainer\\connectors\\data_connector.py:425: The 'predict_dataloader' does not have many workers which may be a bottleneck. Consider increasing the value of the `num_workers` argument` to `num_workers=7` in the `DataLoader` to improve performance.\n"
     ]
    }
   ],
   "source": [
    "# raw predictions are a dictionary from which all kind of information including quantiles can be extracted\n",
    "raw_predictions = best_tft.predict(val_dataloader, mode=\"raw\", return_x=True)"
   ]
  },
  {
   "cell_type": "code",
   "execution_count": 24,
   "metadata": {},
   "outputs": [
    {
     "data": {
      "text/plain": [
       "{'attention': <Figure size 640x480 with 1 Axes>,\n",
       " 'static_variables': <Figure size 700x275 with 1 Axes>,\n",
       " 'encoder_variables': <Figure size 700x425 with 1 Axes>,\n",
       " 'decoder_variables': <Figure size 700x400 with 1 Axes>}"
      ]
     },
     "execution_count": 24,
     "metadata": {},
     "output_type": "execute_result"
    },
    {
     "data": {
      "image/png": "[encoded data removed]",
      "text/plain": [
       "<Figure size 640x480 with 1 Axes>"
      ]
     },
     "metadata": {},
     "output_type": "display_data"
    },
    {
     "data": {
      "image/png": "[encoded data removed]",
      "text/plain": [
       "<Figure size 700x275 with 1 Axes>"
      ]
     },
     "metadata": {},
     "output_type": "display_data"
    },
    {
     "data": {
      "image/png": "[encoded data removed]",
      "text/plain": [
       "<Figure size 700x425 with 1 Axes>"
      ]
     },
     "metadata": {},
     "output_type": "display_data"
    },
    {
     "data": {
      "image/png": "[encoded data removed]",
      "text/plain": [
       "<Figure size 700x400 with 1 Axes>"
      ]
     },
     "metadata": {},
     "output_type": "display_data"
    }
   ],
   "source": [
    "interpretation = best_tft.interpret_output(raw_predictions.output, reduction=\"sum\")\n",
    "best_tft.plot_interpretation(interpretation)"
   ]
  },
  {
   "cell_type": "code",
   "execution_count": null,
   "metadata": {},
   "outputs": [],
   "source": []
  }
 ],
 "metadata": {
  "kernelspec": {
   "display_name": "Python 3 (ipykernel)",
   "language": "python",
   "name": "python3"
  },
  "language_info": {
   "codemirror_mode": {
    "name": "ipython",
    "version": 3
   },
   "file_extension": ".py",
   "mimetype": "text/x-python",
   "name": "python",
   "nbconvert_exporter": "python",
   "pygments_lexer": "ipython3",
   "version": "3.12.4"
  }
 },
 "nbformat": 4,
 "nbformat_minor": 4
}
