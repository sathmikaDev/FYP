{
 "cells": [
  {
   "cell_type": "code",
   "execution_count": 2,
   "metadata": {},
   "outputs": [],
   "source": [
    "import pandas as pd"
   ]
  },
  {
   "cell_type": "code",
   "execution_count": 3,
   "metadata": {},
   "outputs": [],
   "source": [
    "gold =pd.read_csv('../datasets/gold.csv') #2015-1-1\n",
    "index_global_real_economy = pd.read_csv('../datasets/index_global_real_economy.csv') #2015-1-1\n",
    "interest_rate = pd.read_csv('../datasets/interest_rate.csv') #2015-1-1\n",
    "NASDAQ = pd.read_csv('../datasets/NASDAQ.csv') #2015-1-2\n",
    "SP_500 = pd.read_csv('../datasets/S&P_500.csv') #2015-1-2\n",
    "us_10_year_bond_yield = pd.read_csv('../datasets/US_10_Year_Bond_Yield.csv') #2015-1-1\n",
    "us_dollar_index = pd.read_csv('../datasets/US_Dollar_Index.csv') #2015-1-2\n",
    "usdt = pd.read_csv('../datasets/USDT.csv') #2015-1-1\n",
    "vix = pd.read_csv('../datasets/VIX.csv') #2015-1-2"
   ]
  },
  {
   "cell_type": "code",
   "execution_count": 4,
   "metadata": {},
   "outputs": [],
   "source": [
    "# crypto datasets\n",
    "bitcoin = pd.read_csv('../datasets/crypto/bitcoin.csv') #2015-1-1\n",
    "ethereum = pd.read_csv('../datasets/crypto/ethereum.csv') #2015-08-11\n",
    "ripple = pd.read_csv('../datasets/crypto/ripple.csv') #2015-1-1"
   ]
  },
  {
   "cell_type": "code",
   "execution_count": 5,
   "metadata": {},
   "outputs": [
    {
     "data": {
      "text/html": [
       "<div>\n",
       "<style scoped>\n",
       "    .dataframe tbody tr th:only-of-type {\n",
       "        vertical-align: middle;\n",
       "    }\n",
       "\n",
       "    .dataframe tbody tr th {\n",
       "        vertical-align: top;\n",
       "    }\n",
       "\n",
       "    .dataframe thead th {\n",
       "        text-align: right;\n",
       "    }\n",
       "</style>\n",
       "<table border=\"1\" class=\"dataframe\">\n",
       "  <thead>\n",
       "    <tr style=\"text-align: right;\">\n",
       "      <th></th>\n",
       "      <th>Start</th>\n",
       "      <th>End</th>\n",
       "      <th>Open</th>\n",
       "      <th>High</th>\n",
       "      <th>Low</th>\n",
       "      <th>Close</th>\n",
       "      <th>Volume</th>\n",
       "      <th>Market Cap</th>\n",
       "    </tr>\n",
       "  </thead>\n",
       "  <tbody>\n",
       "    <tr>\n",
       "      <th>3497</th>\n",
       "      <td>2015-08-15</td>\n",
       "      <td>2015-08-16</td>\n",
       "      <td>1.827870</td>\n",
       "      <td>1.87724</td>\n",
       "      <td>1.570980</td>\n",
       "      <td>1.69244</td>\n",
       "      <td>3.879627e+06</td>\n",
       "      <td>1.028299e+08</td>\n",
       "    </tr>\n",
       "    <tr>\n",
       "      <th>3498</th>\n",
       "      <td>2015-08-14</td>\n",
       "      <td>2015-08-15</td>\n",
       "      <td>1.827670</td>\n",
       "      <td>2.26188</td>\n",
       "      <td>1.754750</td>\n",
       "      <td>1.83231</td>\n",
       "      <td>4.904504e+06</td>\n",
       "      <td>1.196403e+08</td>\n",
       "    </tr>\n",
       "    <tr>\n",
       "      <th>3499</th>\n",
       "      <td>2015-08-13</td>\n",
       "      <td>2015-08-14</td>\n",
       "      <td>1.217440</td>\n",
       "      <td>1.96507</td>\n",
       "      <td>1.171990</td>\n",
       "      <td>1.82819</td>\n",
       "      <td>2.527863e+06</td>\n",
       "      <td>8.678882e+07</td>\n",
       "    </tr>\n",
       "    <tr>\n",
       "      <th>3500</th>\n",
       "      <td>2015-08-12</td>\n",
       "      <td>2015-08-13</td>\n",
       "      <td>1.067860</td>\n",
       "      <td>1.28994</td>\n",
       "      <td>0.883608</td>\n",
       "      <td>1.23767</td>\n",
       "      <td>1.971841e+06</td>\n",
       "      <td>6.682610e+07</td>\n",
       "    </tr>\n",
       "    <tr>\n",
       "      <th>3501</th>\n",
       "      <td>2015-08-11</td>\n",
       "      <td>2015-08-12</td>\n",
       "      <td>0.708448</td>\n",
       "      <td>1.13141</td>\n",
       "      <td>0.663235</td>\n",
       "      <td>1.05767</td>\n",
       "      <td>6.406322e+05</td>\n",
       "      <td>4.768204e+07</td>\n",
       "    </tr>\n",
       "  </tbody>\n",
       "</table>\n",
       "</div>"
      ],
      "text/plain": [
       "           Start         End      Open     High       Low    Close  \\\n",
       "3497  2015-08-15  2015-08-16  1.827870  1.87724  1.570980  1.69244   \n",
       "3498  2015-08-14  2015-08-15  1.827670  2.26188  1.754750  1.83231   \n",
       "3499  2015-08-13  2015-08-14  1.217440  1.96507  1.171990  1.82819   \n",
       "3500  2015-08-12  2015-08-13  1.067860  1.28994  0.883608  1.23767   \n",
       "3501  2015-08-11  2015-08-12  0.708448  1.13141  0.663235  1.05767   \n",
       "\n",
       "            Volume    Market Cap  \n",
       "3497  3.879627e+06  1.028299e+08  \n",
       "3498  4.904504e+06  1.196403e+08  \n",
       "3499  2.527863e+06  8.678882e+07  \n",
       "3500  1.971841e+06  6.682610e+07  \n",
       "3501  6.406322e+05  4.768204e+07  "
      ]
     },
     "execution_count": 5,
     "metadata": {},
     "output_type": "execute_result"
    }
   ],
   "source": [
    "ethereum.tail()"
   ]
  },
  {
   "cell_type": "markdown",
   "metadata": {},
   "source": [
    "starting date - 2015-08-15\n",
    "end date - 2024-08-15"
   ]
  },
  {
   "cell_type": "code",
   "execution_count": 6,
   "metadata": {},
   "outputs": [],
   "source": [
    "# Define the date range\n",
    "start_date = '2015-08-15'\n",
    "end_date = '2024-08-15'"
   ]
  },
  {
   "cell_type": "markdown",
   "metadata": {},
   "source": [
    "### preprocess exogenous variables - GOLD"
   ]
  },
  {
   "cell_type": "code",
   "execution_count": 60,
   "metadata": {},
   "outputs": [
    {
     "data": {
      "text/html": [
       "<div>\n",
       "<style scoped>\n",
       "    .dataframe tbody tr th:only-of-type {\n",
       "        vertical-align: middle;\n",
       "    }\n",
       "\n",
       "    .dataframe tbody tr th {\n",
       "        vertical-align: top;\n",
       "    }\n",
       "\n",
       "    .dataframe thead th {\n",
       "        text-align: right;\n",
       "    }\n",
       "</style>\n",
       "<table border=\"1\" class=\"dataframe\">\n",
       "  <thead>\n",
       "    <tr style=\"text-align: right;\">\n",
       "      <th></th>\n",
       "      <th>Date</th>\n",
       "      <th>Gold_Price</th>\n",
       "    </tr>\n",
       "  </thead>\n",
       "  <tbody>\n",
       "    <tr>\n",
       "      <th>3510</th>\n",
       "      <td>2024-08-11</td>\n",
       "      <td>2430.93</td>\n",
       "    </tr>\n",
       "    <tr>\n",
       "      <th>3511</th>\n",
       "      <td>2024-08-12</td>\n",
       "      <td>2472.25</td>\n",
       "    </tr>\n",
       "    <tr>\n",
       "      <th>3512</th>\n",
       "      <td>2024-08-13</td>\n",
       "      <td>2465.03</td>\n",
       "    </tr>\n",
       "    <tr>\n",
       "      <th>3513</th>\n",
       "      <td>2024-08-14</td>\n",
       "      <td>2447.64</td>\n",
       "    </tr>\n",
       "    <tr>\n",
       "      <th>3514</th>\n",
       "      <td>2024-08-15</td>\n",
       "      <td>2456.10</td>\n",
       "    </tr>\n",
       "  </tbody>\n",
       "</table>\n",
       "</div>"
      ],
      "text/plain": [
       "           Date  Gold_Price\n",
       "3510 2024-08-11     2430.93\n",
       "3511 2024-08-12     2472.25\n",
       "3512 2024-08-13     2465.03\n",
       "3513 2024-08-14     2447.64\n",
       "3514 2024-08-15     2456.10"
      ]
     },
     "execution_count": 60,
     "metadata": {},
     "output_type": "execute_result"
    }
   ],
   "source": [
    "gold.tail()"
   ]
  },
  {
   "cell_type": "code",
   "execution_count": 8,
   "metadata": {},
   "outputs": [],
   "source": [
    "# preprocess gold\n",
    "# drop unwanted columns\n",
    "gold.drop(columns=['Open', 'High', 'Low', 'Vol.', 'Change %'], inplace=True)"
   ]
  },
  {
   "cell_type": "code",
   "execution_count": 9,
   "metadata": {},
   "outputs": [
    {
     "name": "stdout",
     "output_type": "stream",
     "text": [
      "Are there any missing values? False\n"
     ]
    }
   ],
   "source": [
    "# check for missing values\n",
    "missing_Gold = gold.isnull().any().any()\n",
    "print(f\"Are there any missing values? {missing_Gold}\")"
   ]
  },
  {
   "cell_type": "code",
   "execution_count": 10,
   "metadata": {},
   "outputs": [],
   "source": [
    "# rename columns\n",
    "gold.rename(columns={'Price': 'Gold_Price'}, inplace=True)"
   ]
  },
  {
   "cell_type": "code",
   "execution_count": 11,
   "metadata": {},
   "outputs": [],
   "source": [
    "# convert data types\n",
    "gold['Date'] = pd.to_datetime(gold['Date'])\n",
    "gold['Gold_Price'] = gold['Gold_Price'].str.replace(',', '').astype(float)"
   ]
  },
  {
   "cell_type": "code",
   "execution_count": 12,
   "metadata": {},
   "outputs": [],
   "source": [
    "# add missing dates between starting date and end date\n",
    "\n",
    "gold.set_index('Date', inplace=True)\n",
    "\n",
    "# Create a complete date range from the minimum to maximum date in the dataset\n",
    "all_dates = pd.date_range(start=gold.index.min(), end=gold.index.max())\n",
    "\n",
    "# Reindex the DataFrame to include all dates, filling missing dates with NaN\n",
    "gold = gold.reindex(all_dates)\n",
    "\n",
    "# Forward-fill missing 'Price' values without using 'inplace'\n",
    "gold['Gold_Price'] = gold['Gold_Price'].ffill()\n",
    "\n",
    "# Reset the index to make 'Date' a column again\n",
    "gold.reset_index(inplace=True)\n",
    "gold.rename(columns={'index': 'Date'}, inplace=True)"
   ]
  },
  {
   "cell_type": "code",
   "execution_count": null,
   "metadata": {},
   "outputs": [],
   "source": [
    "# remove unwanted dates\n",
    "gold = gold[(gold['Date'] >= start_date) & (gold['Date'] <= end_date)]"
   ]
  },
  {
   "cell_type": "code",
   "execution_count": 14,
   "metadata": {},
   "outputs": [
    {
     "data": {
      "text/html": [
       "<div>\n",
       "<style scoped>\n",
       "    .dataframe tbody tr th:only-of-type {\n",
       "        vertical-align: middle;\n",
       "    }\n",
       "\n",
       "    .dataframe tbody tr th {\n",
       "        vertical-align: top;\n",
       "    }\n",
       "\n",
       "    .dataframe thead th {\n",
       "        text-align: right;\n",
       "    }\n",
       "</style>\n",
       "<table border=\"1\" class=\"dataframe\">\n",
       "  <thead>\n",
       "    <tr style=\"text-align: right;\">\n",
       "      <th></th>\n",
       "      <th>Date</th>\n",
       "      <th>Gold_Price</th>\n",
       "    </tr>\n",
       "  </thead>\n",
       "  <tbody>\n",
       "    <tr>\n",
       "      <th>count</th>\n",
       "      <td>3289</td>\n",
       "      <td>3289.000000</td>\n",
       "    </tr>\n",
       "    <tr>\n",
       "      <th>mean</th>\n",
       "      <td>2020-02-14 00:00:00</td>\n",
       "      <td>1589.350410</td>\n",
       "    </tr>\n",
       "    <tr>\n",
       "      <th>min</th>\n",
       "      <td>2015-08-15 00:00:00</td>\n",
       "      <td>1051.740000</td>\n",
       "    </tr>\n",
       "    <tr>\n",
       "      <th>25%</th>\n",
       "      <td>2017-11-14 00:00:00</td>\n",
       "      <td>1276.300000</td>\n",
       "    </tr>\n",
       "    <tr>\n",
       "      <th>50%</th>\n",
       "      <td>2020-02-14 00:00:00</td>\n",
       "      <td>1570.650000</td>\n",
       "    </tr>\n",
       "    <tr>\n",
       "      <th>75%</th>\n",
       "      <td>2022-05-16 00:00:00</td>\n",
       "      <td>1860.160000</td>\n",
       "    </tr>\n",
       "    <tr>\n",
       "      <th>max</th>\n",
       "      <td>2024-08-15 00:00:00</td>\n",
       "      <td>2472.250000</td>\n",
       "    </tr>\n",
       "    <tr>\n",
       "      <th>std</th>\n",
       "      <td>NaN</td>\n",
       "      <td>339.629808</td>\n",
       "    </tr>\n",
       "  </tbody>\n",
       "</table>\n",
       "</div>"
      ],
      "text/plain": [
       "                      Date   Gold_Price\n",
       "count                 3289  3289.000000\n",
       "mean   2020-02-14 00:00:00  1589.350410\n",
       "min    2015-08-15 00:00:00  1051.740000\n",
       "25%    2017-11-14 00:00:00  1276.300000\n",
       "50%    2020-02-14 00:00:00  1570.650000\n",
       "75%    2022-05-16 00:00:00  1860.160000\n",
       "max    2024-08-15 00:00:00  2472.250000\n",
       "std                    NaN   339.629808"
      ]
     },
     "execution_count": 14,
     "metadata": {},
     "output_type": "execute_result"
    }
   ],
   "source": [
    "# gold.dtypes\n",
    "gold.describe()"
   ]
  },
  {
   "cell_type": "markdown",
   "metadata": {},
   "source": [
    "### preprocess exogenous variables - index_global_real_economy"
   ]
  },
  {
   "cell_type": "code",
   "execution_count": 15,
   "metadata": {},
   "outputs": [
    {
     "data": {
      "text/html": [
       "<div>\n",
       "<style scoped>\n",
       "    .dataframe tbody tr th:only-of-type {\n",
       "        vertical-align: middle;\n",
       "    }\n",
       "\n",
       "    .dataframe tbody tr th {\n",
       "        vertical-align: top;\n",
       "    }\n",
       "\n",
       "    .dataframe thead th {\n",
       "        text-align: right;\n",
       "    }\n",
       "</style>\n",
       "<table border=\"1\" class=\"dataframe\">\n",
       "  <thead>\n",
       "    <tr style=\"text-align: right;\">\n",
       "      <th></th>\n",
       "      <th>observation_date</th>\n",
       "      <th>IGREA</th>\n",
       "    </tr>\n",
       "  </thead>\n",
       "  <tbody>\n",
       "    <tr>\n",
       "      <th>0</th>\n",
       "      <td>2015-01-01</td>\n",
       "      <td>-76.273874</td>\n",
       "    </tr>\n",
       "    <tr>\n",
       "      <th>1</th>\n",
       "      <td>2015-02-01</td>\n",
       "      <td>-105.957350</td>\n",
       "    </tr>\n",
       "    <tr>\n",
       "      <th>2</th>\n",
       "      <td>2015-03-01</td>\n",
       "      <td>-99.501895</td>\n",
       "    </tr>\n",
       "    <tr>\n",
       "      <th>3</th>\n",
       "      <td>2015-04-01</td>\n",
       "      <td>-96.800799</td>\n",
       "    </tr>\n",
       "    <tr>\n",
       "      <th>4</th>\n",
       "      <td>2015-05-01</td>\n",
       "      <td>-96.011768</td>\n",
       "    </tr>\n",
       "  </tbody>\n",
       "</table>\n",
       "</div>"
      ],
      "text/plain": [
       "  observation_date       IGREA\n",
       "0       2015-01-01  -76.273874\n",
       "1       2015-02-01 -105.957350\n",
       "2       2015-03-01  -99.501895\n",
       "3       2015-04-01  -96.800799\n",
       "4       2015-05-01  -96.011768"
      ]
     },
     "execution_count": 15,
     "metadata": {},
     "output_type": "execute_result"
    }
   ],
   "source": [
    "index_global_real_economy.head()"
   ]
  },
  {
   "cell_type": "code",
   "execution_count": 16,
   "metadata": {},
   "outputs": [
    {
     "name": "stdout",
     "output_type": "stream",
     "text": [
      "Are there any missing values? False\n"
     ]
    }
   ],
   "source": [
    "# check for missing values\n",
    "missing_index_global_real_economy = index_global_real_economy.isnull().any().any()\n",
    "print(f\"Are there any missing values? {missing_index_global_real_economy}\")"
   ]
  },
  {
   "cell_type": "code",
   "execution_count": 17,
   "metadata": {},
   "outputs": [],
   "source": [
    "# rename columns\n",
    "index_global_real_economy.rename(columns={'observation_date': 'Date'}, inplace=True)"
   ]
  },
  {
   "cell_type": "code",
   "execution_count": 18,
   "metadata": {},
   "outputs": [],
   "source": [
    "# convert data types\n",
    "index_global_real_economy['Date'] = pd.to_datetime(index_global_real_economy['Date'])"
   ]
  },
  {
   "cell_type": "code",
   "execution_count": 19,
   "metadata": {},
   "outputs": [
    {
     "data": {
      "text/plain": [
       "Date     datetime64[ns]\n",
       "IGREA           float64\n",
       "dtype: object"
      ]
     },
     "execution_count": 19,
     "metadata": {},
     "output_type": "execute_result"
    }
   ],
   "source": [
    "index_global_real_economy.dtypes"
   ]
  },
  {
   "cell_type": "code",
   "execution_count": 20,
   "metadata": {},
   "outputs": [],
   "source": [
    "# add missing dates between starting date and end date\n",
    "\n",
    "index_global_real_economy.set_index('Date', inplace=True)\n",
    "\n",
    "# Create a complete date range from the minimum to maximum date in the dataset\n",
    "all_dates = pd.date_range(start=index_global_real_economy.index.min(), end=index_global_real_economy.index.max())\n",
    "\n",
    "# Reindex the DataFrame to include all dates, filling missing dates with NaN\n",
    "index_global_real_economy = index_global_real_economy.reindex(all_dates)\n",
    "\n",
    "# Forward-fill missing 'Price' values without using 'inplace'\n",
    "index_global_real_economy['IGREA'] = index_global_real_economy['IGREA'].ffill()\n",
    "\n",
    "# Reset the index to make 'Date' a column again\n",
    "index_global_real_economy.reset_index(inplace=True)\n",
    "index_global_real_economy.rename(columns={'index': 'Date'}, inplace=True)"
   ]
  },
  {
   "cell_type": "code",
   "execution_count": 21,
   "metadata": {},
   "outputs": [],
   "source": [
    "# remove unwanted dates\n",
    "index_global_real_economy = index_global_real_economy[(index_global_real_economy['Date'] >= start_date) & (index_global_real_economy['Date'] <= end_date)]"
   ]
  },
  {
   "cell_type": "code",
   "execution_count": 22,
   "metadata": {},
   "outputs": [
    {
     "data": {
      "text/html": [
       "<div>\n",
       "<style scoped>\n",
       "    .dataframe tbody tr th:only-of-type {\n",
       "        vertical-align: middle;\n",
       "    }\n",
       "\n",
       "    .dataframe tbody tr th {\n",
       "        vertical-align: top;\n",
       "    }\n",
       "\n",
       "    .dataframe thead th {\n",
       "        text-align: right;\n",
       "    }\n",
       "</style>\n",
       "<table border=\"1\" class=\"dataframe\">\n",
       "  <thead>\n",
       "    <tr style=\"text-align: right;\">\n",
       "      <th></th>\n",
       "      <th>Date</th>\n",
       "      <th>IGREA</th>\n",
       "    </tr>\n",
       "  </thead>\n",
       "  <tbody>\n",
       "    <tr>\n",
       "      <th>count</th>\n",
       "      <td>3289</td>\n",
       "      <td>3289.000000</td>\n",
       "    </tr>\n",
       "    <tr>\n",
       "      <th>mean</th>\n",
       "      <td>2020-02-14 00:00:00</td>\n",
       "      <td>-20.519324</td>\n",
       "    </tr>\n",
       "    <tr>\n",
       "      <th>min</th>\n",
       "      <td>2015-08-15 00:00:00</td>\n",
       "      <td>-161.184760</td>\n",
       "    </tr>\n",
       "    <tr>\n",
       "      <th>25%</th>\n",
       "      <td>2017-11-14 00:00:00</td>\n",
       "      <td>-52.952918</td>\n",
       "    </tr>\n",
       "    <tr>\n",
       "      <th>50%</th>\n",
       "      <td>2020-02-14 00:00:00</td>\n",
       "      <td>-17.313111</td>\n",
       "    </tr>\n",
       "    <tr>\n",
       "      <th>75%</th>\n",
       "      <td>2022-05-16 00:00:00</td>\n",
       "      <td>9.709971</td>\n",
       "    </tr>\n",
       "    <tr>\n",
       "      <th>max</th>\n",
       "      <td>2024-08-15 00:00:00</td>\n",
       "      <td>110.311220</td>\n",
       "    </tr>\n",
       "    <tr>\n",
       "      <th>std</th>\n",
       "      <td>NaN</td>\n",
       "      <td>51.081279</td>\n",
       "    </tr>\n",
       "  </tbody>\n",
       "</table>\n",
       "</div>"
      ],
      "text/plain": [
       "                      Date        IGREA\n",
       "count                 3289  3289.000000\n",
       "mean   2020-02-14 00:00:00   -20.519324\n",
       "min    2015-08-15 00:00:00  -161.184760\n",
       "25%    2017-11-14 00:00:00   -52.952918\n",
       "50%    2020-02-14 00:00:00   -17.313111\n",
       "75%    2022-05-16 00:00:00     9.709971\n",
       "max    2024-08-15 00:00:00   110.311220\n",
       "std                    NaN    51.081279"
      ]
     },
     "execution_count": 22,
     "metadata": {},
     "output_type": "execute_result"
    }
   ],
   "source": [
    "index_global_real_economy.describe()"
   ]
  },
  {
   "cell_type": "markdown",
   "metadata": {},
   "source": [
    "### preprocess exogenous variables - interest_rate"
   ]
  },
  {
   "cell_type": "code",
   "execution_count": 23,
   "metadata": {},
   "outputs": [
    {
     "data": {
      "text/html": [
       "<div>\n",
       "<style scoped>\n",
       "    .dataframe tbody tr th:only-of-type {\n",
       "        vertical-align: middle;\n",
       "    }\n",
       "\n",
       "    .dataframe tbody tr th {\n",
       "        vertical-align: top;\n",
       "    }\n",
       "\n",
       "    .dataframe thead th {\n",
       "        text-align: right;\n",
       "    }\n",
       "</style>\n",
       "<table border=\"1\" class=\"dataframe\">\n",
       "  <thead>\n",
       "    <tr style=\"text-align: right;\">\n",
       "      <th></th>\n",
       "      <th>observation_date</th>\n",
       "      <th>DFF</th>\n",
       "    </tr>\n",
       "  </thead>\n",
       "  <tbody>\n",
       "    <tr>\n",
       "      <th>0</th>\n",
       "      <td>2015-01-01</td>\n",
       "      <td>0.06</td>\n",
       "    </tr>\n",
       "    <tr>\n",
       "      <th>1</th>\n",
       "      <td>2015-01-02</td>\n",
       "      <td>0.12</td>\n",
       "    </tr>\n",
       "    <tr>\n",
       "      <th>2</th>\n",
       "      <td>2015-01-03</td>\n",
       "      <td>0.12</td>\n",
       "    </tr>\n",
       "    <tr>\n",
       "      <th>3</th>\n",
       "      <td>2015-01-04</td>\n",
       "      <td>0.12</td>\n",
       "    </tr>\n",
       "    <tr>\n",
       "      <th>4</th>\n",
       "      <td>2015-01-05</td>\n",
       "      <td>0.12</td>\n",
       "    </tr>\n",
       "  </tbody>\n",
       "</table>\n",
       "</div>"
      ],
      "text/plain": [
       "  observation_date   DFF\n",
       "0       2015-01-01  0.06\n",
       "1       2015-01-02  0.12\n",
       "2       2015-01-03  0.12\n",
       "3       2015-01-04  0.12\n",
       "4       2015-01-05  0.12"
      ]
     },
     "execution_count": 23,
     "metadata": {},
     "output_type": "execute_result"
    }
   ],
   "source": [
    "interest_rate.head()"
   ]
  },
  {
   "cell_type": "code",
   "execution_count": 24,
   "metadata": {},
   "outputs": [
    {
     "name": "stdout",
     "output_type": "stream",
     "text": [
      "Are there any missing values? False\n"
     ]
    }
   ],
   "source": [
    "# check for missing values\n",
    "missing_interest_rate = interest_rate.isnull().any().any()\n",
    "print(f\"Are there any missing values? {missing_interest_rate}\")"
   ]
  },
  {
   "cell_type": "code",
   "execution_count": 25,
   "metadata": {},
   "outputs": [],
   "source": [
    "# rename columns\n",
    "interest_rate.rename(columns={'observation_date': 'Date', 'DFF':'interest_rate'}, inplace=True)"
   ]
  },
  {
   "cell_type": "code",
   "execution_count": 26,
   "metadata": {},
   "outputs": [],
   "source": [
    "# convert data types\n",
    "interest_rate['Date'] = pd.to_datetime(interest_rate['Date'])"
   ]
  },
  {
   "cell_type": "code",
   "execution_count": 27,
   "metadata": {},
   "outputs": [],
   "source": [
    "# add missing dates between starting date and end date\n",
    "\n",
    "interest_rate.set_index('Date', inplace=True)\n",
    "\n",
    "# Create a complete date range from the minimum to maximum date in the dataset\n",
    "all_dates = pd.date_range(start=interest_rate.index.min(), end=interest_rate.index.max())\n",
    "\n",
    "# Reindex the DataFrame to include all dates, filling missing dates with NaN\n",
    "interest_rate = interest_rate.reindex(all_dates)\n",
    "\n",
    "# Forward-fill missing 'Price' values without using 'inplace'\n",
    "interest_rate['interest_rate'] = interest_rate['interest_rate'].ffill()\n",
    "\n",
    "# Reset the index to make 'Date' a column again\n",
    "interest_rate.reset_index(inplace=True)\n",
    "interest_rate.rename(columns={'index': 'Date'}, inplace=True)"
   ]
  },
  {
   "cell_type": "code",
   "execution_count": 28,
   "metadata": {},
   "outputs": [],
   "source": [
    "# remove unwanted dates\n",
    "interest_rate = interest_rate[(interest_rate['Date'] >= start_date) & (interest_rate['Date'] <= end_date)]"
   ]
  },
  {
   "cell_type": "code",
   "execution_count": 29,
   "metadata": {},
   "outputs": [
    {
     "data": {
      "text/html": [
       "<div>\n",
       "<style scoped>\n",
       "    .dataframe tbody tr th:only-of-type {\n",
       "        vertical-align: middle;\n",
       "    }\n",
       "\n",
       "    .dataframe tbody tr th {\n",
       "        vertical-align: top;\n",
       "    }\n",
       "\n",
       "    .dataframe thead th {\n",
       "        text-align: right;\n",
       "    }\n",
       "</style>\n",
       "<table border=\"1\" class=\"dataframe\">\n",
       "  <thead>\n",
       "    <tr style=\"text-align: right;\">\n",
       "      <th></th>\n",
       "      <th>Date</th>\n",
       "      <th>interest_rate</th>\n",
       "    </tr>\n",
       "  </thead>\n",
       "  <tbody>\n",
       "    <tr>\n",
       "      <th>count</th>\n",
       "      <td>3289</td>\n",
       "      <td>3289.000000</td>\n",
       "    </tr>\n",
       "    <tr>\n",
       "      <th>mean</th>\n",
       "      <td>2020-02-14 00:00:00</td>\n",
       "      <td>1.769760</td>\n",
       "    </tr>\n",
       "    <tr>\n",
       "      <th>min</th>\n",
       "      <td>2015-08-15 00:00:00</td>\n",
       "      <td>0.040000</td>\n",
       "    </tr>\n",
       "    <tr>\n",
       "      <th>25%</th>\n",
       "      <td>2017-11-14 00:00:00</td>\n",
       "      <td>0.140000</td>\n",
       "    </tr>\n",
       "    <tr>\n",
       "      <th>50%</th>\n",
       "      <td>2020-02-14 00:00:00</td>\n",
       "      <td>1.160000</td>\n",
       "    </tr>\n",
       "    <tr>\n",
       "      <th>75%</th>\n",
       "      <td>2022-05-16 00:00:00</td>\n",
       "      <td>2.400000</td>\n",
       "    </tr>\n",
       "    <tr>\n",
       "      <th>max</th>\n",
       "      <td>2024-08-15 00:00:00</td>\n",
       "      <td>5.330000</td>\n",
       "    </tr>\n",
       "    <tr>\n",
       "      <th>std</th>\n",
       "      <td>NaN</td>\n",
       "      <td>1.815044</td>\n",
       "    </tr>\n",
       "  </tbody>\n",
       "</table>\n",
       "</div>"
      ],
      "text/plain": [
       "                      Date  interest_rate\n",
       "count                 3289    3289.000000\n",
       "mean   2020-02-14 00:00:00       1.769760\n",
       "min    2015-08-15 00:00:00       0.040000\n",
       "25%    2017-11-14 00:00:00       0.140000\n",
       "50%    2020-02-14 00:00:00       1.160000\n",
       "75%    2022-05-16 00:00:00       2.400000\n",
       "max    2024-08-15 00:00:00       5.330000\n",
       "std                    NaN       1.815044"
      ]
     },
     "execution_count": 29,
     "metadata": {},
     "output_type": "execute_result"
    }
   ],
   "source": [
    "interest_rate.describe()"
   ]
  },
  {
   "cell_type": "markdown",
   "metadata": {},
   "source": [
    "### preprocess exogenous variables - NASDAQ"
   ]
  },
  {
   "cell_type": "code",
   "execution_count": 33,
   "metadata": {},
   "outputs": [
    {
     "data": {
      "text/html": [
       "<div>\n",
       "<style scoped>\n",
       "    .dataframe tbody tr th:only-of-type {\n",
       "        vertical-align: middle;\n",
       "    }\n",
       "\n",
       "    .dataframe tbody tr th {\n",
       "        vertical-align: top;\n",
       "    }\n",
       "\n",
       "    .dataframe thead th {\n",
       "        text-align: right;\n",
       "    }\n",
       "</style>\n",
       "<table border=\"1\" class=\"dataframe\">\n",
       "  <thead>\n",
       "    <tr style=\"text-align: right;\">\n",
       "      <th></th>\n",
       "      <th>Date</th>\n",
       "      <th>Price</th>\n",
       "    </tr>\n",
       "  </thead>\n",
       "  <tbody>\n",
       "    <tr>\n",
       "      <th>0</th>\n",
       "      <td>03/12/2025</td>\n",
       "      <td>17,648.45</td>\n",
       "    </tr>\n",
       "    <tr>\n",
       "      <th>1</th>\n",
       "      <td>03/11/2025</td>\n",
       "      <td>17,436.10</td>\n",
       "    </tr>\n",
       "    <tr>\n",
       "      <th>2</th>\n",
       "      <td>03/10/2025</td>\n",
       "      <td>17,468.32</td>\n",
       "    </tr>\n",
       "    <tr>\n",
       "      <th>3</th>\n",
       "      <td>03/07/2025</td>\n",
       "      <td>18,196.22</td>\n",
       "    </tr>\n",
       "    <tr>\n",
       "      <th>4</th>\n",
       "      <td>03/06/2025</td>\n",
       "      <td>18,069.26</td>\n",
       "    </tr>\n",
       "  </tbody>\n",
       "</table>\n",
       "</div>"
      ],
      "text/plain": [
       "         Date      Price\n",
       "0  03/12/2025  17,648.45\n",
       "1  03/11/2025  17,436.10\n",
       "2  03/10/2025  17,468.32\n",
       "3  03/07/2025  18,196.22\n",
       "4  03/06/2025  18,069.26"
      ]
     },
     "execution_count": 33,
     "metadata": {},
     "output_type": "execute_result"
    }
   ],
   "source": [
    "NASDAQ.head()"
   ]
  },
  {
   "cell_type": "code",
   "execution_count": 31,
   "metadata": {},
   "outputs": [],
   "source": [
    "# drop unwanted columns\n",
    "NASDAQ.drop(columns=['Open', 'High', 'Low', 'Vol.', 'Change %'], inplace=True)"
   ]
  },
  {
   "cell_type": "code",
   "execution_count": 32,
   "metadata": {},
   "outputs": [
    {
     "name": "stdout",
     "output_type": "stream",
     "text": [
      "Are there any missing values? False\n"
     ]
    }
   ],
   "source": [
    "# check for missing values\n",
    "missing_NASDAQ = NASDAQ.isnull().any().any()\n",
    "print(f\"Are there any missing values? {missing_NASDAQ}\")"
   ]
  },
  {
   "cell_type": "code",
   "execution_count": 34,
   "metadata": {},
   "outputs": [],
   "source": [
    "# rename columns\n",
    "NASDAQ.rename(columns={'Price': 'NASDAQ_Price'}, inplace=True)"
   ]
  },
  {
   "cell_type": "code",
   "execution_count": 38,
   "metadata": {},
   "outputs": [
    {
     "data": {
      "text/plain": [
       "Date            datetime64[ns]\n",
       "NASDAQ_Price           float64\n",
       "dtype: object"
      ]
     },
     "execution_count": 38,
     "metadata": {},
     "output_type": "execute_result"
    }
   ],
   "source": [
    "NASDAQ.dtypes"
   ]
  },
  {
   "cell_type": "code",
   "execution_count": 37,
   "metadata": {},
   "outputs": [],
   "source": [
    "# convert data types\n",
    "NASDAQ['Date'] = pd.to_datetime(NASDAQ['Date'])\n",
    "NASDAQ['NASDAQ_Price'] = NASDAQ['NASDAQ_Price'].str.replace(',', '').astype(float)"
   ]
  },
  {
   "cell_type": "code",
   "execution_count": 39,
   "metadata": {},
   "outputs": [],
   "source": [
    "# add missing dates between starting date and end date\n",
    "\n",
    "NASDAQ.set_index('Date', inplace=True)\n",
    "\n",
    "# Create a complete date range from the minimum to maximum date in the dataset\n",
    "all_dates = pd.date_range(start=NASDAQ.index.min(), end=NASDAQ.index.max())\n",
    "\n",
    "# Reindex the DataFrame to include all dates, filling missing dates with NaN\n",
    "NASDAQ = NASDAQ.reindex(all_dates)\n",
    "\n",
    "# Forward-fill missing 'Price' values without using 'inplace'\n",
    "NASDAQ['NASDAQ_Price'] = NASDAQ['NASDAQ_Price'].ffill()\n",
    "\n",
    "# Reset the index to make 'Date' a column again\n",
    "NASDAQ.reset_index(inplace=True)\n",
    "NASDAQ.rename(columns={'index': 'Date'}, inplace=True)"
   ]
  },
  {
   "cell_type": "code",
   "execution_count": 40,
   "metadata": {},
   "outputs": [],
   "source": [
    "# remove unwanted dates\n",
    "NASDAQ = NASDAQ[(NASDAQ['Date'] >= start_date) & (NASDAQ['Date'] <= end_date)]"
   ]
  },
  {
   "cell_type": "code",
   "execution_count": 41,
   "metadata": {},
   "outputs": [
    {
     "data": {
      "text/html": [
       "<div>\n",
       "<style scoped>\n",
       "    .dataframe tbody tr th:only-of-type {\n",
       "        vertical-align: middle;\n",
       "    }\n",
       "\n",
       "    .dataframe tbody tr th {\n",
       "        vertical-align: top;\n",
       "    }\n",
       "\n",
       "    .dataframe thead th {\n",
       "        text-align: right;\n",
       "    }\n",
       "</style>\n",
       "<table border=\"1\" class=\"dataframe\">\n",
       "  <thead>\n",
       "    <tr style=\"text-align: right;\">\n",
       "      <th></th>\n",
       "      <th>Date</th>\n",
       "      <th>NASDAQ_Price</th>\n",
       "    </tr>\n",
       "  </thead>\n",
       "  <tbody>\n",
       "    <tr>\n",
       "      <th>count</th>\n",
       "      <td>3289</td>\n",
       "      <td>3289.000000</td>\n",
       "    </tr>\n",
       "    <tr>\n",
       "      <th>mean</th>\n",
       "      <td>2020-02-14 00:00:00</td>\n",
       "      <td>9825.398303</td>\n",
       "    </tr>\n",
       "    <tr>\n",
       "      <th>min</th>\n",
       "      <td>2015-08-15 00:00:00</td>\n",
       "      <td>4266.840000</td>\n",
       "    </tr>\n",
       "    <tr>\n",
       "      <th>25%</th>\n",
       "      <td>2017-11-14 00:00:00</td>\n",
       "      <td>6701.260000</td>\n",
       "    </tr>\n",
       "    <tr>\n",
       "      <th>50%</th>\n",
       "      <td>2020-02-14 00:00:00</td>\n",
       "      <td>8734.880000</td>\n",
       "    </tr>\n",
       "    <tr>\n",
       "      <th>75%</th>\n",
       "      <td>2022-05-16 00:00:00</td>\n",
       "      <td>13259.140000</td>\n",
       "    </tr>\n",
       "    <tr>\n",
       "      <th>max</th>\n",
       "      <td>2024-08-15 00:00:00</td>\n",
       "      <td>18647.450000</td>\n",
       "    </tr>\n",
       "    <tr>\n",
       "      <th>std</th>\n",
       "      <td>NaN</td>\n",
       "      <td>3740.739440</td>\n",
       "    </tr>\n",
       "  </tbody>\n",
       "</table>\n",
       "</div>"
      ],
      "text/plain": [
       "                      Date  NASDAQ_Price\n",
       "count                 3289   3289.000000\n",
       "mean   2020-02-14 00:00:00   9825.398303\n",
       "min    2015-08-15 00:00:00   4266.840000\n",
       "25%    2017-11-14 00:00:00   6701.260000\n",
       "50%    2020-02-14 00:00:00   8734.880000\n",
       "75%    2022-05-16 00:00:00  13259.140000\n",
       "max    2024-08-15 00:00:00  18647.450000\n",
       "std                    NaN   3740.739440"
      ]
     },
     "execution_count": 41,
     "metadata": {},
     "output_type": "execute_result"
    }
   ],
   "source": [
    "# NASDAQ.dtypes\n",
    "NASDAQ.describe()"
   ]
  },
  {
   "cell_type": "markdown",
   "metadata": {},
   "source": [
    "### preprocess exogenous variables - SP_500"
   ]
  },
  {
   "cell_type": "code",
   "execution_count": 47,
   "metadata": {},
   "outputs": [
    {
     "data": {
      "text/html": [
       "<div>\n",
       "<style scoped>\n",
       "    .dataframe tbody tr th:only-of-type {\n",
       "        vertical-align: middle;\n",
       "    }\n",
       "\n",
       "    .dataframe tbody tr th {\n",
       "        vertical-align: top;\n",
       "    }\n",
       "\n",
       "    .dataframe thead th {\n",
       "        text-align: right;\n",
       "    }\n",
       "</style>\n",
       "<table border=\"1\" class=\"dataframe\">\n",
       "  <thead>\n",
       "    <tr style=\"text-align: right;\">\n",
       "      <th></th>\n",
       "      <th>Date</th>\n",
       "      <th>SP_500_Price</th>\n",
       "    </tr>\n",
       "  </thead>\n",
       "  <tbody>\n",
       "    <tr>\n",
       "      <th>0</th>\n",
       "      <td>03/12/2025</td>\n",
       "      <td>5,599.30</td>\n",
       "    </tr>\n",
       "    <tr>\n",
       "      <th>1</th>\n",
       "      <td>03/11/2025</td>\n",
       "      <td>5,572.07</td>\n",
       "    </tr>\n",
       "    <tr>\n",
       "      <th>2</th>\n",
       "      <td>03/10/2025</td>\n",
       "      <td>5,614.56</td>\n",
       "    </tr>\n",
       "    <tr>\n",
       "      <th>3</th>\n",
       "      <td>03/07/2025</td>\n",
       "      <td>5,770.20</td>\n",
       "    </tr>\n",
       "    <tr>\n",
       "      <th>4</th>\n",
       "      <td>03/06/2025</td>\n",
       "      <td>5,738.52</td>\n",
       "    </tr>\n",
       "  </tbody>\n",
       "</table>\n",
       "</div>"
      ],
      "text/plain": [
       "         Date SP_500_Price\n",
       "0  03/12/2025     5,599.30\n",
       "1  03/11/2025     5,572.07\n",
       "2  03/10/2025     5,614.56\n",
       "3  03/07/2025     5,770.20\n",
       "4  03/06/2025     5,738.52"
      ]
     },
     "execution_count": 47,
     "metadata": {},
     "output_type": "execute_result"
    }
   ],
   "source": [
    "SP_500.head()"
   ]
  },
  {
   "cell_type": "code",
   "execution_count": 43,
   "metadata": {},
   "outputs": [],
   "source": [
    "# preprocess SP_500\n",
    "# drop unwanted columns\n",
    "SP_500.drop(columns=['Open', 'High', 'Low', 'Vol.', 'Change %'], inplace=True)"
   ]
  },
  {
   "cell_type": "code",
   "execution_count": 44,
   "metadata": {},
   "outputs": [
    {
     "name": "stdout",
     "output_type": "stream",
     "text": [
      "Are there any missing values? False\n"
     ]
    }
   ],
   "source": [
    "# check for missing values\n",
    "missing_SP_500 = SP_500.isnull().any().any()\n",
    "print(f\"Are there any missing values? {missing_SP_500}\")"
   ]
  },
  {
   "cell_type": "code",
   "execution_count": 46,
   "metadata": {},
   "outputs": [],
   "source": [
    "# rename columns\n",
    "SP_500.rename(columns={'Price': 'SP_500_Price'}, inplace=True)"
   ]
  },
  {
   "cell_type": "code",
   "execution_count": 48,
   "metadata": {},
   "outputs": [],
   "source": [
    "# convert data types\n",
    "SP_500['Date'] = pd.to_datetime(SP_500['Date'])\n",
    "SP_500['SP_500_Price'] = SP_500['SP_500_Price'].str.replace(',', '').astype(float)"
   ]
  },
  {
   "cell_type": "code",
   "execution_count": 50,
   "metadata": {},
   "outputs": [],
   "source": [
    "# add missing dates between starting date and end date\n",
    "\n",
    "SP_500.set_index('Date', inplace=True)\n",
    "\n",
    "# Create a complete date range from the minimum to maximum date in the dataset\n",
    "all_dates = pd.date_range(start=SP_500.index.min(), end=SP_500.index.max())\n",
    "\n",
    "# Reindex the DataFrame to include all dates, filling missing dates with NaN\n",
    "SP_500 = SP_500.reindex(all_dates)\n",
    "\n",
    "# Forward-fill missing 'Price' values without using 'inplace'\n",
    "SP_500['SP_500_Price'] = SP_500['SP_500_Price'].ffill()\n",
    "\n",
    "# Reset the index to make 'Date' a column again\n",
    "SP_500.reset_index(inplace=True)\n",
    "SP_500.rename(columns={'index': 'Date'}, inplace=True)"
   ]
  },
  {
   "cell_type": "code",
   "execution_count": 51,
   "metadata": {},
   "outputs": [],
   "source": [
    "# remove unwanted dates\n",
    "SP_500 = SP_500[(SP_500['Date'] >= start_date) & (SP_500['Date'] <= end_date)]"
   ]
  },
  {
   "cell_type": "markdown",
   "metadata": {},
   "source": [
    "### preprocess exogenous variables - us_10_year_bond_yield"
   ]
  },
  {
   "cell_type": "code",
   "execution_count": 69,
   "metadata": {},
   "outputs": [
    {
     "data": {
      "text/html": [
       "<div>\n",
       "<style scoped>\n",
       "    .dataframe tbody tr th:only-of-type {\n",
       "        vertical-align: middle;\n",
       "    }\n",
       "\n",
       "    .dataframe tbody tr th {\n",
       "        vertical-align: top;\n",
       "    }\n",
       "\n",
       "    .dataframe thead th {\n",
       "        text-align: right;\n",
       "    }\n",
       "</style>\n",
       "<table border=\"1\" class=\"dataframe\">\n",
       "  <thead>\n",
       "    <tr style=\"text-align: right;\">\n",
       "      <th></th>\n",
       "      <th>Date</th>\n",
       "      <th>us_10_year_bond_yield</th>\n",
       "    </tr>\n",
       "  </thead>\n",
       "  <tbody>\n",
       "    <tr>\n",
       "      <th>226</th>\n",
       "      <td>2015-08-15</td>\n",
       "      <td>2.201</td>\n",
       "    </tr>\n",
       "    <tr>\n",
       "      <th>227</th>\n",
       "      <td>2015-08-16</td>\n",
       "      <td>2.201</td>\n",
       "    </tr>\n",
       "    <tr>\n",
       "      <th>228</th>\n",
       "      <td>2015-08-17</td>\n",
       "      <td>2.170</td>\n",
       "    </tr>\n",
       "    <tr>\n",
       "      <th>229</th>\n",
       "      <td>2015-08-18</td>\n",
       "      <td>2.192</td>\n",
       "    </tr>\n",
       "    <tr>\n",
       "      <th>230</th>\n",
       "      <td>2015-08-19</td>\n",
       "      <td>2.129</td>\n",
       "    </tr>\n",
       "  </tbody>\n",
       "</table>\n",
       "</div>"
      ],
      "text/plain": [
       "          Date  us_10_year_bond_yield\n",
       "226 2015-08-15                  2.201\n",
       "227 2015-08-16                  2.201\n",
       "228 2015-08-17                  2.170\n",
       "229 2015-08-18                  2.192\n",
       "230 2015-08-19                  2.129"
      ]
     },
     "execution_count": 69,
     "metadata": {},
     "output_type": "execute_result"
    }
   ],
   "source": [
    "us_10_year_bond_yield.head()"
   ]
  },
  {
   "cell_type": "code",
   "execution_count": 54,
   "metadata": {},
   "outputs": [],
   "source": [
    "# drop unwanted columns\n",
    "us_10_year_bond_yield.drop(columns=['Open', 'High', 'Low', 'Change %'], inplace=True)"
   ]
  },
  {
   "cell_type": "code",
   "execution_count": 55,
   "metadata": {},
   "outputs": [
    {
     "name": "stdout",
     "output_type": "stream",
     "text": [
      "Are there any missing values? False\n"
     ]
    }
   ],
   "source": [
    "# check for missing values\n",
    "missing_us_10_year_bond_yield = us_10_year_bond_yield.isnull().any().any()\n",
    "print(f\"Are there any missing values? {missing_us_10_year_bond_yield}\")"
   ]
  },
  {
   "cell_type": "code",
   "execution_count": 61,
   "metadata": {},
   "outputs": [],
   "source": [
    "# rename columns\n",
    "us_10_year_bond_yield.rename(columns={'Price': 'us_10_year_bond_yield'}, inplace=True)"
   ]
  },
  {
   "cell_type": "code",
   "execution_count": 65,
   "metadata": {},
   "outputs": [
    {
     "data": {
      "text/plain": [
       "Date                     datetime64[ns]\n",
       "us_10_year_bond_yield           float64\n",
       "dtype: object"
      ]
     },
     "execution_count": 65,
     "metadata": {},
     "output_type": "execute_result"
    }
   ],
   "source": [
    "us_10_year_bond_yield.dtypes"
   ]
  },
  {
   "cell_type": "code",
   "execution_count": 64,
   "metadata": {},
   "outputs": [],
   "source": [
    "# convert data types\n",
    "us_10_year_bond_yield['Date'] = pd.to_datetime(us_10_year_bond_yield['Date'])"
   ]
  },
  {
   "cell_type": "code",
   "execution_count": 66,
   "metadata": {},
   "outputs": [],
   "source": [
    "# add missing dates between starting date and end date\n",
    "\n",
    "us_10_year_bond_yield.set_index('Date', inplace=True)\n",
    "\n",
    "# Create a complete date range from the minimum to maximum date in the dataset\n",
    "all_dates = pd.date_range(start=us_10_year_bond_yield.index.min(), end=us_10_year_bond_yield.index.max())\n",
    "\n",
    "# Reindex the DataFrame to include all dates, filling missing dates with NaN\n",
    "us_10_year_bond_yield = us_10_year_bond_yield.reindex(all_dates)\n",
    "\n",
    "# Forward-fill missing 'Price' values without using 'inplace'\n",
    "us_10_year_bond_yield['us_10_year_bond_yield'] = us_10_year_bond_yield['us_10_year_bond_yield'].ffill()\n",
    "\n",
    "# Reset the index to make 'Date' a column again\n",
    "us_10_year_bond_yield.reset_index(inplace=True)\n",
    "us_10_year_bond_yield.rename(columns={'index': 'Date'}, inplace=True)"
   ]
  },
  {
   "cell_type": "code",
   "execution_count": null,
   "metadata": {},
   "outputs": [],
   "source": [
    "# remove unwanted dates\n",
    "us_10_year_bond_yield = us_10_year_bond_yield[(us_10_year_bond_yield['Date'] >= start_date) & (us_10_year_bond_yield['Date'] <= end_date)]"
   ]
  },
  {
   "cell_type": "markdown",
   "metadata": {},
   "source": [
    "### preprocess exogenous variables - us_dollar_index"
   ]
  },
  {
   "cell_type": "code",
   "execution_count": 75,
   "metadata": {},
   "outputs": [
    {
     "data": {
      "text/html": [
       "<div>\n",
       "<style scoped>\n",
       "    .dataframe tbody tr th:only-of-type {\n",
       "        vertical-align: middle;\n",
       "    }\n",
       "\n",
       "    .dataframe tbody tr th {\n",
       "        vertical-align: top;\n",
       "    }\n",
       "\n",
       "    .dataframe thead th {\n",
       "        text-align: right;\n",
       "    }\n",
       "</style>\n",
       "<table border=\"1\" class=\"dataframe\">\n",
       "  <thead>\n",
       "    <tr style=\"text-align: right;\">\n",
       "      <th></th>\n",
       "      <th>Date</th>\n",
       "      <th>us_dollar_index</th>\n",
       "    </tr>\n",
       "  </thead>\n",
       "  <tbody>\n",
       "    <tr>\n",
       "      <th>0</th>\n",
       "      <td>03/13/2025</td>\n",
       "      <td>103.630</td>\n",
       "    </tr>\n",
       "    <tr>\n",
       "      <th>1</th>\n",
       "      <td>03/12/2025</td>\n",
       "      <td>103.587</td>\n",
       "    </tr>\n",
       "    <tr>\n",
       "      <th>2</th>\n",
       "      <td>03/11/2025</td>\n",
       "      <td>103.273</td>\n",
       "    </tr>\n",
       "    <tr>\n",
       "      <th>3</th>\n",
       "      <td>03/10/2025</td>\n",
       "      <td>103.953</td>\n",
       "    </tr>\n",
       "    <tr>\n",
       "      <th>4</th>\n",
       "      <td>03/07/2025</td>\n",
       "      <td>103.812</td>\n",
       "    </tr>\n",
       "  </tbody>\n",
       "</table>\n",
       "</div>"
      ],
      "text/plain": [
       "         Date  us_dollar_index\n",
       "0  03/13/2025          103.630\n",
       "1  03/12/2025          103.587\n",
       "2  03/11/2025          103.273\n",
       "3  03/10/2025          103.953\n",
       "4  03/07/2025          103.812"
      ]
     },
     "execution_count": 75,
     "metadata": {},
     "output_type": "execute_result"
    }
   ],
   "source": [
    "us_dollar_index.head()"
   ]
  },
  {
   "cell_type": "code",
   "execution_count": 72,
   "metadata": {},
   "outputs": [],
   "source": [
    "# drop unwanted columns\n",
    "us_dollar_index.drop(columns=['Open', 'High', 'Low', 'Vol.', 'Change %'], inplace=True)"
   ]
  },
  {
   "cell_type": "code",
   "execution_count": 73,
   "metadata": {},
   "outputs": [
    {
     "name": "stdout",
     "output_type": "stream",
     "text": [
      "Are there any missing values? False\n"
     ]
    }
   ],
   "source": [
    "# check for missing values\n",
    "missing_us_dollar_index = us_dollar_index.isnull().any().any()\n",
    "print(f\"Are there any missing values? {missing_us_dollar_index}\")"
   ]
  },
  {
   "cell_type": "code",
   "execution_count": null,
   "metadata": {},
   "outputs": [],
   "source": [
    "# rename columns\n",
    "us_dollar_index.rename(columns={'Price': 'us_dollar_index'}, inplace=True)"
   ]
  },
  {
   "cell_type": "code",
   "execution_count": 78,
   "metadata": {},
   "outputs": [
    {
     "data": {
      "text/plain": [
       "Date               datetime64[ns]\n",
       "us_dollar_index           float64\n",
       "dtype: object"
      ]
     },
     "execution_count": 78,
     "metadata": {},
     "output_type": "execute_result"
    }
   ],
   "source": [
    "us_dollar_index.dtypes"
   ]
  },
  {
   "cell_type": "code",
   "execution_count": 77,
   "metadata": {},
   "outputs": [],
   "source": [
    "# convert data types\n",
    "us_dollar_index['Date'] = pd.to_datetime(us_dollar_index['Date'])"
   ]
  },
  {
   "cell_type": "code",
   "execution_count": 79,
   "metadata": {},
   "outputs": [],
   "source": [
    "# add missing dates between starting date and end date\n",
    "\n",
    "us_dollar_index.set_index('Date', inplace=True)\n",
    "\n",
    "# Create a complete date range from the minimum to maximum date in the dataset\n",
    "all_dates = pd.date_range(start=us_dollar_index.index.min(), end=us_dollar_index.index.max())\n",
    "\n",
    "# Reindex the DataFrame to include all dates, filling missing dates with NaN\n",
    "us_dollar_index = us_dollar_index.reindex(all_dates)\n",
    "\n",
    "# Forward-fill missing 'Price' values without using 'inplace'\n",
    "us_dollar_index['us_dollar_index'] = us_dollar_index['us_dollar_index'].ffill()\n",
    "\n",
    "# Reset the index to make 'Date' a column again\n",
    "us_dollar_index.reset_index(inplace=True)\n",
    "us_dollar_index.rename(columns={'index': 'Date'}, inplace=True)"
   ]
  },
  {
   "cell_type": "code",
   "execution_count": 80,
   "metadata": {},
   "outputs": [],
   "source": [
    "# remove unwanted dates\n",
    "us_dollar_index = us_dollar_index[(us_dollar_index['Date'] >= start_date) & (us_dollar_index['Date'] <= end_date)]"
   ]
  },
  {
   "cell_type": "markdown",
   "metadata": {},
   "source": [
    "### preprocess exogenous variables - usdt"
   ]
  },
  {
   "cell_type": "code",
   "execution_count": 89,
   "metadata": {},
   "outputs": [
    {
     "data": {
      "text/html": [
       "<div>\n",
       "<style scoped>\n",
       "    .dataframe tbody tr th:only-of-type {\n",
       "        vertical-align: middle;\n",
       "    }\n",
       "\n",
       "    .dataframe tbody tr th {\n",
       "        vertical-align: top;\n",
       "    }\n",
       "\n",
       "    .dataframe thead th {\n",
       "        text-align: right;\n",
       "    }\n",
       "</style>\n",
       "<table border=\"1\" class=\"dataframe\">\n",
       "  <thead>\n",
       "    <tr style=\"text-align: right;\">\n",
       "      <th></th>\n",
       "      <th>Date</th>\n",
       "      <th>usdt_Price</th>\n",
       "    </tr>\n",
       "  </thead>\n",
       "  <tbody>\n",
       "    <tr>\n",
       "      <th>0</th>\n",
       "      <td>2025-03-12</td>\n",
       "      <td>1.001085</td>\n",
       "    </tr>\n",
       "    <tr>\n",
       "      <th>1</th>\n",
       "      <td>2025-03-11</td>\n",
       "      <td>1.000980</td>\n",
       "    </tr>\n",
       "    <tr>\n",
       "      <th>2</th>\n",
       "      <td>2025-03-10</td>\n",
       "      <td>1.001215</td>\n",
       "    </tr>\n",
       "    <tr>\n",
       "      <th>3</th>\n",
       "      <td>2025-03-09</td>\n",
       "      <td>1.001300</td>\n",
       "    </tr>\n",
       "    <tr>\n",
       "      <th>4</th>\n",
       "      <td>2025-03-08</td>\n",
       "      <td>1.001505</td>\n",
       "    </tr>\n",
       "  </tbody>\n",
       "</table>\n",
       "</div>"
      ],
      "text/plain": [
       "         Date  usdt_Price\n",
       "0  2025-03-12    1.001085\n",
       "1  2025-03-11    1.000980\n",
       "2  2025-03-10    1.001215\n",
       "3  2025-03-09    1.001300\n",
       "4  2025-03-08    1.001505"
      ]
     },
     "execution_count": 89,
     "metadata": {},
     "output_type": "execute_result"
    }
   ],
   "source": [
    "usdt.head()"
   ]
  },
  {
   "cell_type": "code",
   "execution_count": 85,
   "metadata": {},
   "outputs": [],
   "source": [
    "# drop unwanted columns\n",
    "usdt.drop(columns=['End', 'Open', 'High', 'Low', 'Volume', 'Market Cap'], inplace=True)"
   ]
  },
  {
   "cell_type": "code",
   "execution_count": 87,
   "metadata": {},
   "outputs": [
    {
     "name": "stdout",
     "output_type": "stream",
     "text": [
      "Are there any missing values? False\n"
     ]
    }
   ],
   "source": [
    "# check for missing values\n",
    "missing_usdt = usdt.isnull().any().any()\n",
    "print(f\"Are there any missing values? {missing_usdt}\")"
   ]
  },
  {
   "cell_type": "code",
   "execution_count": 88,
   "metadata": {},
   "outputs": [],
   "source": [
    "# rename columns\n",
    "usdt.rename(columns={'Start': 'Date', 'Close': 'usdt_Price'}, inplace=True)"
   ]
  },
  {
   "cell_type": "code",
   "execution_count": 90,
   "metadata": {},
   "outputs": [
    {
     "data": {
      "text/plain": [
       "Date           object\n",
       "usdt_Price    float64\n",
       "dtype: object"
      ]
     },
     "execution_count": 90,
     "metadata": {},
     "output_type": "execute_result"
    }
   ],
   "source": [
    "usdt.dtypes"
   ]
  },
  {
   "cell_type": "code",
   "execution_count": 91,
   "metadata": {},
   "outputs": [],
   "source": [
    "# convert data types\n",
    "usdt['Date'] = pd.to_datetime(usdt['Date'])"
   ]
  },
  {
   "cell_type": "code",
   "execution_count": 92,
   "metadata": {},
   "outputs": [],
   "source": [
    "# add missing dates between starting date and end date\n",
    "\n",
    "usdt.set_index('Date', inplace=True)\n",
    "\n",
    "# Create a complete date range from the minimum to maximum date in the dataset\n",
    "all_dates = pd.date_range(start=usdt.index.min(), end=usdt.index.max())\n",
    "\n",
    "# Reindex the DataFrame to include all dates, filling missing dates with NaN\n",
    "usdt = usdt.reindex(all_dates)\n",
    "\n",
    "# Forward-fill missing 'Price' values without using 'inplace'\n",
    "usdt['usdt_Price'] = usdt['usdt_Price'].ffill()\n",
    "\n",
    "# Reset the index to make 'Date' a column again\n",
    "usdt.reset_index(inplace=True)\n",
    "usdt.rename(columns={'index': 'Date'}, inplace=True)"
   ]
  },
  {
   "cell_type": "code",
   "execution_count": 93,
   "metadata": {},
   "outputs": [],
   "source": [
    "# remove unwanted dates\n",
    "usdt = usdt[(usdt['Date'] >= start_date) & (usdt['Date'] <= end_date)]"
   ]
  },
  {
   "cell_type": "code",
   "execution_count": 94,
   "metadata": {},
   "outputs": [
    {
     "data": {
      "text/html": [
       "<div>\n",
       "<style scoped>\n",
       "    .dataframe tbody tr th:only-of-type {\n",
       "        vertical-align: middle;\n",
       "    }\n",
       "\n",
       "    .dataframe tbody tr th {\n",
       "        vertical-align: top;\n",
       "    }\n",
       "\n",
       "    .dataframe thead th {\n",
       "        text-align: right;\n",
       "    }\n",
       "</style>\n",
       "<table border=\"1\" class=\"dataframe\">\n",
       "  <thead>\n",
       "    <tr style=\"text-align: right;\">\n",
       "      <th></th>\n",
       "      <th>Date</th>\n",
       "      <th>usdt_Price</th>\n",
       "    </tr>\n",
       "  </thead>\n",
       "  <tbody>\n",
       "    <tr>\n",
       "      <th>count</th>\n",
       "      <td>3289</td>\n",
       "      <td>3289.000000</td>\n",
       "    </tr>\n",
       "    <tr>\n",
       "      <th>mean</th>\n",
       "      <td>2020-02-14 00:00:00</td>\n",
       "      <td>1.000748</td>\n",
       "    </tr>\n",
       "    <tr>\n",
       "      <th>min</th>\n",
       "      <td>2015-08-15 00:00:00</td>\n",
       "      <td>0.913823</td>\n",
       "    </tr>\n",
       "    <tr>\n",
       "      <th>25%</th>\n",
       "      <td>2017-11-14 00:00:00</td>\n",
       "      <td>0.999870</td>\n",
       "    </tr>\n",
       "    <tr>\n",
       "      <th>50%</th>\n",
       "      <td>2020-02-14 00:00:00</td>\n",
       "      <td>1.000067</td>\n",
       "    </tr>\n",
       "    <tr>\n",
       "      <th>75%</th>\n",
       "      <td>2022-05-16 00:00:00</td>\n",
       "      <td>1.000905</td>\n",
       "    </tr>\n",
       "    <tr>\n",
       "      <th>max</th>\n",
       "      <td>2024-08-15 00:00:00</td>\n",
       "      <td>1.328150</td>\n",
       "    </tr>\n",
       "    <tr>\n",
       "      <th>std</th>\n",
       "      <td>NaN</td>\n",
       "      <td>0.012188</td>\n",
       "    </tr>\n",
       "  </tbody>\n",
       "</table>\n",
       "</div>"
      ],
      "text/plain": [
       "                      Date   usdt_Price\n",
       "count                 3289  3289.000000\n",
       "mean   2020-02-14 00:00:00     1.000748\n",
       "min    2015-08-15 00:00:00     0.913823\n",
       "25%    2017-11-14 00:00:00     0.999870\n",
       "50%    2020-02-14 00:00:00     1.000067\n",
       "75%    2022-05-16 00:00:00     1.000905\n",
       "max    2024-08-15 00:00:00     1.328150\n",
       "std                    NaN     0.012188"
      ]
     },
     "execution_count": 94,
     "metadata": {},
     "output_type": "execute_result"
    }
   ],
   "source": [
    "# usdt.dtypes\n",
    "usdt.describe()"
   ]
  },
  {
   "cell_type": "markdown",
   "metadata": {},
   "source": [
    "### preprocess exogenous variables - VIX"
   ]
  },
  {
   "cell_type": "code",
   "execution_count": 108,
   "metadata": {},
   "outputs": [
    {
     "data": {
      "text/html": [
       "<div>\n",
       "<style scoped>\n",
       "    .dataframe tbody tr th:only-of-type {\n",
       "        vertical-align: middle;\n",
       "    }\n",
       "\n",
       "    .dataframe tbody tr th {\n",
       "        vertical-align: top;\n",
       "    }\n",
       "\n",
       "    .dataframe thead th {\n",
       "        text-align: right;\n",
       "    }\n",
       "</style>\n",
       "<table border=\"1\" class=\"dataframe\">\n",
       "  <thead>\n",
       "    <tr style=\"text-align: right;\">\n",
       "      <th></th>\n",
       "      <th>Date</th>\n",
       "      <th>vix_value</th>\n",
       "    </tr>\n",
       "  </thead>\n",
       "  <tbody>\n",
       "    <tr>\n",
       "      <th>3509</th>\n",
       "      <td>2024-08-11</td>\n",
       "      <td>20.37</td>\n",
       "    </tr>\n",
       "    <tr>\n",
       "      <th>3510</th>\n",
       "      <td>2024-08-12</td>\n",
       "      <td>20.71</td>\n",
       "    </tr>\n",
       "    <tr>\n",
       "      <th>3511</th>\n",
       "      <td>2024-08-13</td>\n",
       "      <td>18.12</td>\n",
       "    </tr>\n",
       "    <tr>\n",
       "      <th>3512</th>\n",
       "      <td>2024-08-14</td>\n",
       "      <td>16.19</td>\n",
       "    </tr>\n",
       "    <tr>\n",
       "      <th>3513</th>\n",
       "      <td>2024-08-15</td>\n",
       "      <td>15.23</td>\n",
       "    </tr>\n",
       "  </tbody>\n",
       "</table>\n",
       "</div>"
      ],
      "text/plain": [
       "           Date  vix_value\n",
       "3509 2024-08-11      20.37\n",
       "3510 2024-08-12      20.71\n",
       "3511 2024-08-13      18.12\n",
       "3512 2024-08-14      16.19\n",
       "3513 2024-08-15      15.23"
      ]
     },
     "execution_count": 108,
     "metadata": {},
     "output_type": "execute_result"
    }
   ],
   "source": [
    "vix.tail()"
   ]
  },
  {
   "cell_type": "code",
   "execution_count": 96,
   "metadata": {},
   "outputs": [],
   "source": [
    "# drop unwanted columns\n",
    "vix.drop(columns=['Open', 'High', 'Low', 'Vol.', 'Change %'], inplace=True)"
   ]
  },
  {
   "cell_type": "code",
   "execution_count": 98,
   "metadata": {},
   "outputs": [
    {
     "name": "stdout",
     "output_type": "stream",
     "text": [
      "Are there any missing values? False\n"
     ]
    }
   ],
   "source": [
    "# check for missing values\n",
    "missing_vix = vix.isnull().any().any()\n",
    "print(f\"Are there any missing values? {missing_vix}\")"
   ]
  },
  {
   "cell_type": "code",
   "execution_count": 99,
   "metadata": {},
   "outputs": [],
   "source": [
    "# rename columns\n",
    "vix.rename(columns={'Price': 'vix_value'}, inplace=True)"
   ]
  },
  {
   "cell_type": "code",
   "execution_count": 101,
   "metadata": {},
   "outputs": [
    {
     "data": {
      "text/plain": [
       "Date          object\n",
       "vix_value    float64\n",
       "dtype: object"
      ]
     },
     "execution_count": 101,
     "metadata": {},
     "output_type": "execute_result"
    }
   ],
   "source": [
    "vix.dtypes"
   ]
  },
  {
   "cell_type": "code",
   "execution_count": 102,
   "metadata": {},
   "outputs": [],
   "source": [
    "# convert data types\n",
    "vix['Date'] = pd.to_datetime(vix['Date'])"
   ]
  },
  {
   "cell_type": "code",
   "execution_count": 103,
   "metadata": {},
   "outputs": [],
   "source": [
    "# add missing dates between starting date and end date\n",
    "\n",
    "vix.set_index('Date', inplace=True)\n",
    "\n",
    "# Create a complete date range from the minimum to maximum date in the dataset\n",
    "all_dates = pd.date_range(start=vix.index.min(), end=vix.index.max())\n",
    "\n",
    "# Reindex the DataFrame to include all dates, filling missing dates with NaN\n",
    "vix = vix.reindex(all_dates)\n",
    "\n",
    "# Forward-fill missing 'Price' values without using 'inplace'\n",
    "vix['vix_value'] = vix['vix_value'].ffill()\n",
    "\n",
    "# Reset the index to make 'Date' a column again\n",
    "vix.reset_index(inplace=True)\n",
    "vix.rename(columns={'index': 'Date'}, inplace=True)"
   ]
  },
  {
   "cell_type": "code",
   "execution_count": 106,
   "metadata": {},
   "outputs": [],
   "source": [
    "# remove unwanted dates\n",
    "vix = vix[(vix['Date'] >= start_date) & (vix['Date'] <= end_date)]"
   ]
  },
  {
   "cell_type": "code",
   "execution_count": 109,
   "metadata": {},
   "outputs": [
    {
     "data": {
      "text/html": [
       "<div>\n",
       "<style scoped>\n",
       "    .dataframe tbody tr th:only-of-type {\n",
       "        vertical-align: middle;\n",
       "    }\n",
       "\n",
       "    .dataframe tbody tr th {\n",
       "        vertical-align: top;\n",
       "    }\n",
       "\n",
       "    .dataframe thead th {\n",
       "        text-align: right;\n",
       "    }\n",
       "</style>\n",
       "<table border=\"1\" class=\"dataframe\">\n",
       "  <thead>\n",
       "    <tr style=\"text-align: right;\">\n",
       "      <th></th>\n",
       "      <th>Date</th>\n",
       "      <th>vix_value</th>\n",
       "    </tr>\n",
       "  </thead>\n",
       "  <tbody>\n",
       "    <tr>\n",
       "      <th>count</th>\n",
       "      <td>3289</td>\n",
       "      <td>3289.000000</td>\n",
       "    </tr>\n",
       "    <tr>\n",
       "      <th>mean</th>\n",
       "      <td>2020-02-14 00:00:00</td>\n",
       "      <td>18.447017</td>\n",
       "    </tr>\n",
       "    <tr>\n",
       "      <th>min</th>\n",
       "      <td>2015-08-15 00:00:00</td>\n",
       "      <td>9.140000</td>\n",
       "    </tr>\n",
       "    <tr>\n",
       "      <th>25%</th>\n",
       "      <td>2017-11-14 00:00:00</td>\n",
       "      <td>13.200000</td>\n",
       "    </tr>\n",
       "    <tr>\n",
       "      <th>50%</th>\n",
       "      <td>2020-02-14 00:00:00</td>\n",
       "      <td>16.480000</td>\n",
       "    </tr>\n",
       "    <tr>\n",
       "      <th>75%</th>\n",
       "      <td>2022-05-16 00:00:00</td>\n",
       "      <td>21.700000</td>\n",
       "    </tr>\n",
       "    <tr>\n",
       "      <th>max</th>\n",
       "      <td>2024-08-15 00:00:00</td>\n",
       "      <td>82.690000</td>\n",
       "    </tr>\n",
       "    <tr>\n",
       "      <th>std</th>\n",
       "      <td>NaN</td>\n",
       "      <td>7.474914</td>\n",
       "    </tr>\n",
       "  </tbody>\n",
       "</table>\n",
       "</div>"
      ],
      "text/plain": [
       "                      Date    vix_value\n",
       "count                 3289  3289.000000\n",
       "mean   2020-02-14 00:00:00    18.447017\n",
       "min    2015-08-15 00:00:00     9.140000\n",
       "25%    2017-11-14 00:00:00    13.200000\n",
       "50%    2020-02-14 00:00:00    16.480000\n",
       "75%    2022-05-16 00:00:00    21.700000\n",
       "max    2024-08-15 00:00:00    82.690000\n",
       "std                    NaN     7.474914"
      ]
     },
     "execution_count": 109,
     "metadata": {},
     "output_type": "execute_result"
    }
   ],
   "source": [
    "vix.describe()"
   ]
  },
  {
   "cell_type": "markdown",
   "metadata": {},
   "source": [
    "### combine all exogenous variables into one "
   ]
  },
  {
   "cell_type": "code",
   "execution_count": 131,
   "metadata": {},
   "outputs": [
    {
     "data": {
      "text/html": [
       "<div>\n",
       "<style scoped>\n",
       "    .dataframe tbody tr th:only-of-type {\n",
       "        vertical-align: middle;\n",
       "    }\n",
       "\n",
       "    .dataframe tbody tr th {\n",
       "        vertical-align: top;\n",
       "    }\n",
       "\n",
       "    .dataframe thead th {\n",
       "        text-align: right;\n",
       "    }\n",
       "</style>\n",
       "<table border=\"1\" class=\"dataframe\">\n",
       "  <thead>\n",
       "    <tr style=\"text-align: right;\">\n",
       "      <th></th>\n",
       "      <th>Date</th>\n",
       "      <th>vix_value</th>\n",
       "    </tr>\n",
       "  </thead>\n",
       "  <tbody>\n",
       "    <tr>\n",
       "      <th>225</th>\n",
       "      <td>2015-08-15</td>\n",
       "      <td>12.83</td>\n",
       "    </tr>\n",
       "    <tr>\n",
       "      <th>226</th>\n",
       "      <td>2015-08-16</td>\n",
       "      <td>12.83</td>\n",
       "    </tr>\n",
       "    <tr>\n",
       "      <th>227</th>\n",
       "      <td>2015-08-17</td>\n",
       "      <td>13.02</td>\n",
       "    </tr>\n",
       "    <tr>\n",
       "      <th>228</th>\n",
       "      <td>2015-08-18</td>\n",
       "      <td>13.79</td>\n",
       "    </tr>\n",
       "    <tr>\n",
       "      <th>229</th>\n",
       "      <td>2015-08-19</td>\n",
       "      <td>15.25</td>\n",
       "    </tr>\n",
       "  </tbody>\n",
       "</table>\n",
       "</div>"
      ],
      "text/plain": [
       "          Date  vix_value\n",
       "225 2015-08-15      12.83\n",
       "226 2015-08-16      12.83\n",
       "227 2015-08-17      13.02\n",
       "228 2015-08-18      13.79\n",
       "229 2015-08-19      15.25"
      ]
     },
     "execution_count": 131,
     "metadata": {},
     "output_type": "execute_result"
    }
   ],
   "source": [
    "# gold.head()\n",
    "# index_global_real_economy.head()\n",
    "# interest_rate.head()\n",
    "# NASDAQ.head()\n",
    "# SP_500.head()\n",
    "# us_10_year_bond_yield.head()\n",
    "# us_dollar_index.head()\n",
    "# usdt.head()\n",
    "# vix.head()"
   ]
  },
  {
   "cell_type": "code",
   "execution_count": 121,
   "metadata": {},
   "outputs": [],
   "source": [
    "# List of all DataFrames\n",
    "dfs = [gold, index_global_real_economy, interest_rate, NASDAQ, SP_500, \n",
    "       us_10_year_bond_yield, us_dollar_index, usdt, vix]\n",
    "\n",
    "# Ensure 'Date' column is in datetime format for all DataFrames\n",
    "for df in dfs:\n",
    "    df['Date'] = pd.to_datetime(df['Date'])\n",
    "\n",
    "# Start merging with the first DataFrame\n",
    "exogenous_variables = dfs[0]\n",
    "\n",
    "# Merge all DataFrames on 'Date'\n",
    "for df in dfs[1:]:\n",
    "    exogenous_variables = exogenous_variables.merge(df, on='Date', how='outer')  # Use 'inner' if you want only matching dates"
   ]
  },
  {
   "cell_type": "code",
   "execution_count": 134,
   "metadata": {},
   "outputs": [
    {
     "data": {
      "text/plain": [
       "Date                     datetime64[ns]\n",
       "Gold_Price                      float64\n",
       "IGREA                           float64\n",
       "interest_rate                   float64\n",
       "NASDAQ_Price                    float64\n",
       "SP_500_Price                    float64\n",
       "us_10_year_bond_yield           float64\n",
       "us_dollar_index                 float64\n",
       "usdt_Price                      float64\n",
       "vix_value                       float64\n",
       "dtype: object"
      ]
     },
     "execution_count": 134,
     "metadata": {},
     "output_type": "execute_result"
    }
   ],
   "source": [
    "exogenous_variables.dtypes"
   ]
  },
  {
   "cell_type": "code",
   "execution_count": 135,
   "metadata": {},
   "outputs": [],
   "source": [
    "# save as s csv file\n",
    "exogenous_variables.to_csv(\"../datasets/preprocesed/exogenous_variables.csv\", index=False)"
   ]
  },
  {
   "cell_type": "markdown",
   "metadata": {},
   "source": [
    "### Data Preprocess Cryptocurrency Data"
   ]
  },
  {
   "cell_type": "code",
   "execution_count": 136,
   "metadata": {},
   "outputs": [],
   "source": [
    "# crypto datasets\n",
    "bitcoin = pd.read_csv('../datasets/crypto/bitcoin.csv') #2015-1-1\n",
    "ethereum = pd.read_csv('../datasets/crypto/ethereum.csv') #2015-08-11\n",
    "ripple = pd.read_csv('../datasets/crypto/ripple.csv') #2015-1-1"
   ]
  },
  {
   "cell_type": "markdown",
   "metadata": {},
   "source": [
    "#### Preproces Bitcoin data"
   ]
  },
  {
   "cell_type": "code",
   "execution_count": 152,
   "metadata": {},
   "outputs": [
    {
     "data": {
      "text/html": [
       "<div>\n",
       "<style scoped>\n",
       "    .dataframe tbody tr th:only-of-type {\n",
       "        vertical-align: middle;\n",
       "    }\n",
       "\n",
       "    .dataframe tbody tr th {\n",
       "        vertical-align: top;\n",
       "    }\n",
       "\n",
       "    .dataframe thead th {\n",
       "        text-align: right;\n",
       "    }\n",
       "</style>\n",
       "<table border=\"1\" class=\"dataframe\">\n",
       "  <thead>\n",
       "    <tr style=\"text-align: right;\">\n",
       "      <th></th>\n",
       "      <th>Date</th>\n",
       "      <th>BTC_Price</th>\n",
       "      <th>BTC_Market_Cap</th>\n",
       "    </tr>\n",
       "  </thead>\n",
       "  <tbody>\n",
       "    <tr>\n",
       "      <th>3510</th>\n",
       "      <td>2024-08-11</td>\n",
       "      <td>58819.99</td>\n",
       "      <td>1.192445e+12</td>\n",
       "    </tr>\n",
       "    <tr>\n",
       "      <th>3511</th>\n",
       "      <td>2024-08-12</td>\n",
       "      <td>59342.02</td>\n",
       "      <td>1.164230e+12</td>\n",
       "    </tr>\n",
       "    <tr>\n",
       "      <th>3512</th>\n",
       "      <td>2024-08-13</td>\n",
       "      <td>60565.01</td>\n",
       "      <td>1.178382e+12</td>\n",
       "    </tr>\n",
       "    <tr>\n",
       "      <th>3513</th>\n",
       "      <td>2024-08-14</td>\n",
       "      <td>58730.93</td>\n",
       "      <td>1.186805e+12</td>\n",
       "    </tr>\n",
       "    <tr>\n",
       "      <th>3514</th>\n",
       "      <td>2024-08-15</td>\n",
       "      <td>57600.00</td>\n",
       "      <td>1.152324e+12</td>\n",
       "    </tr>\n",
       "  </tbody>\n",
       "</table>\n",
       "</div>"
      ],
      "text/plain": [
       "           Date  BTC_Price  BTC_Market_Cap\n",
       "3510 2024-08-11   58819.99    1.192445e+12\n",
       "3511 2024-08-12   59342.02    1.164230e+12\n",
       "3512 2024-08-13   60565.01    1.178382e+12\n",
       "3513 2024-08-14   58730.93    1.186805e+12\n",
       "3514 2024-08-15   57600.00    1.152324e+12"
      ]
     },
     "execution_count": 152,
     "metadata": {},
     "output_type": "execute_result"
    }
   ],
   "source": [
    "bitcoin.tail()"
   ]
  },
  {
   "cell_type": "code",
   "execution_count": 138,
   "metadata": {},
   "outputs": [],
   "source": [
    "# drop unwanted columns\n",
    "bitcoin.drop(columns=['Open', 'High', 'Low', 'Volume', 'End'], inplace=True)"
   ]
  },
  {
   "cell_type": "code",
   "execution_count": 140,
   "metadata": {},
   "outputs": [
    {
     "name": "stdout",
     "output_type": "stream",
     "text": [
      "Are there any missing values? False\n"
     ]
    }
   ],
   "source": [
    "# check for missing values\n",
    "missing_bitcoin = bitcoin.isnull().any().any()\n",
    "print(f\"Are there any missing values? {missing_bitcoin}\")"
   ]
  },
  {
   "cell_type": "code",
   "execution_count": 142,
   "metadata": {},
   "outputs": [],
   "source": [
    "# rename columns\n",
    "# bitcoin.rename(columns={'Close': 'BTC_Price', 'Start': 'Date'}, inplace=True)\n",
    "bitcoin.rename(columns={'Market Cap': 'BTC_Market_Cap'}, inplace=True)"
   ]
  },
  {
   "cell_type": "code",
   "execution_count": 144,
   "metadata": {},
   "outputs": [
    {
     "data": {
      "text/plain": [
       "Date               object\n",
       "BTC_Price         float64\n",
       "BTC_Market_Cap    float64\n",
       "dtype: object"
      ]
     },
     "execution_count": 144,
     "metadata": {},
     "output_type": "execute_result"
    }
   ],
   "source": [
    "bitcoin.dtypes"
   ]
  },
  {
   "cell_type": "code",
   "execution_count": 145,
   "metadata": {},
   "outputs": [],
   "source": [
    "# convert data types\n",
    "bitcoin['Date'] = pd.to_datetime(bitcoin['Date'])"
   ]
  },
  {
   "cell_type": "code",
   "execution_count": 146,
   "metadata": {},
   "outputs": [],
   "source": [
    "# add missing dates between starting date and end date\n",
    "\n",
    "bitcoin.set_index('Date', inplace=True)\n",
    "\n",
    "# Create a complete date range from the minimum to maximum date in the dataset\n",
    "all_dates = pd.date_range(start=bitcoin.index.min(), end=bitcoin.index.max())\n",
    "\n",
    "# Reindex the DataFrame to include all dates, filling missing dates with NaN\n",
    "bitcoin = bitcoin.reindex(all_dates)\n",
    "\n",
    "# Forward-fill missing 'Price' values without using 'inplace'\n",
    "bitcoin['BTC_Price'] = bitcoin['BTC_Price'].ffill()\n",
    "bitcoin['BTC_Market_Cap'] = bitcoin['BTC_Market_Cap'].ffill()\n",
    "\n",
    "# Reset the index to make 'Date' a column again\n",
    "bitcoin.reset_index(inplace=True)\n",
    "bitcoin.rename(columns={'index': 'Date'}, inplace=True)"
   ]
  },
  {
   "cell_type": "code",
   "execution_count": 149,
   "metadata": {},
   "outputs": [],
   "source": [
    "# remove unwanted dates\n",
    "bitcoin = bitcoin[(bitcoin['Date'] >= start_date) & (bitcoin['Date'] <= end_date)]"
   ]
  },
  {
   "cell_type": "code",
   "execution_count": 153,
   "metadata": {},
   "outputs": [
    {
     "data": {
      "text/html": [
       "<div>\n",
       "<style scoped>\n",
       "    .dataframe tbody tr th:only-of-type {\n",
       "        vertical-align: middle;\n",
       "    }\n",
       "\n",
       "    .dataframe tbody tr th {\n",
       "        vertical-align: top;\n",
       "    }\n",
       "\n",
       "    .dataframe thead th {\n",
       "        text-align: right;\n",
       "    }\n",
       "</style>\n",
       "<table border=\"1\" class=\"dataframe\">\n",
       "  <thead>\n",
       "    <tr style=\"text-align: right;\">\n",
       "      <th></th>\n",
       "      <th>Date</th>\n",
       "      <th>BTC_Price</th>\n",
       "      <th>BTC_Market_Cap</th>\n",
       "    </tr>\n",
       "  </thead>\n",
       "  <tbody>\n",
       "    <tr>\n",
       "      <th>count</th>\n",
       "      <td>3289</td>\n",
       "      <td>3289.000000</td>\n",
       "      <td>3.289000e+03</td>\n",
       "    </tr>\n",
       "    <tr>\n",
       "      <th>mean</th>\n",
       "      <td>2020-02-14 00:00:00</td>\n",
       "      <td>19168.928429</td>\n",
       "      <td>3.622681e+11</td>\n",
       "    </tr>\n",
       "    <tr>\n",
       "      <th>min</th>\n",
       "      <td>2015-08-15 00:00:00</td>\n",
       "      <td>211.394000</td>\n",
       "      <td>3.117026e+09</td>\n",
       "    </tr>\n",
       "    <tr>\n",
       "      <th>25%</th>\n",
       "      <td>2017-11-14 00:00:00</td>\n",
       "      <td>3894.620254</td>\n",
       "      <td>6.767426e+10</td>\n",
       "    </tr>\n",
       "    <tr>\n",
       "      <th>50%</th>\n",
       "      <td>2020-02-14 00:00:00</td>\n",
       "      <td>10080.086121</td>\n",
       "      <td>1.792287e+11</td>\n",
       "    </tr>\n",
       "    <tr>\n",
       "      <th>75%</th>\n",
       "      <td>2022-05-16 00:00:00</td>\n",
       "      <td>30275.680000</td>\n",
       "      <td>5.838799e+11</td>\n",
       "    </tr>\n",
       "    <tr>\n",
       "      <th>max</th>\n",
       "      <td>2024-08-15 00:00:00</td>\n",
       "      <td>73087.950000</td>\n",
       "      <td>1.428410e+12</td>\n",
       "    </tr>\n",
       "    <tr>\n",
       "      <th>std</th>\n",
       "      <td>NaN</td>\n",
       "      <td>19438.164809</td>\n",
       "      <td>3.768419e+11</td>\n",
       "    </tr>\n",
       "  </tbody>\n",
       "</table>\n",
       "</div>"
      ],
      "text/plain": [
       "                      Date     BTC_Price  BTC_Market_Cap\n",
       "count                 3289   3289.000000    3.289000e+03\n",
       "mean   2020-02-14 00:00:00  19168.928429    3.622681e+11\n",
       "min    2015-08-15 00:00:00    211.394000    3.117026e+09\n",
       "25%    2017-11-14 00:00:00   3894.620254    6.767426e+10\n",
       "50%    2020-02-14 00:00:00  10080.086121    1.792287e+11\n",
       "75%    2022-05-16 00:00:00  30275.680000    5.838799e+11\n",
       "max    2024-08-15 00:00:00  73087.950000    1.428410e+12\n",
       "std                    NaN  19438.164809    3.768419e+11"
      ]
     },
     "execution_count": 153,
     "metadata": {},
     "output_type": "execute_result"
    }
   ],
   "source": [
    "bitcoin.describe()"
   ]
  },
  {
   "cell_type": "markdown",
   "metadata": {},
   "source": [
    "#### Preprocess ETH Data"
   ]
  },
  {
   "cell_type": "code",
   "execution_count": 160,
   "metadata": {},
   "outputs": [
    {
     "data": {
      "text/html": [
       "<div>\n",
       "<style scoped>\n",
       "    .dataframe tbody tr th:only-of-type {\n",
       "        vertical-align: middle;\n",
       "    }\n",
       "\n",
       "    .dataframe tbody tr th {\n",
       "        vertical-align: top;\n",
       "    }\n",
       "\n",
       "    .dataframe thead th {\n",
       "        text-align: right;\n",
       "    }\n",
       "</style>\n",
       "<table border=\"1\" class=\"dataframe\">\n",
       "  <thead>\n",
       "    <tr style=\"text-align: right;\">\n",
       "      <th></th>\n",
       "      <th>Date</th>\n",
       "      <th>ETH_Price</th>\n",
       "      <th>ETH_Market_Cap</th>\n",
       "    </tr>\n",
       "  </thead>\n",
       "  <tbody>\n",
       "    <tr>\n",
       "      <th>0</th>\n",
       "      <td>2025-03-12</td>\n",
       "      <td>1911.4398</td>\n",
       "      <td>2.283619e+11</td>\n",
       "    </tr>\n",
       "    <tr>\n",
       "      <th>1</th>\n",
       "      <td>2025-03-11</td>\n",
       "      <td>1923.0712</td>\n",
       "      <td>2.296047e+11</td>\n",
       "    </tr>\n",
       "    <tr>\n",
       "      <th>2</th>\n",
       "      <td>2025-03-10</td>\n",
       "      <td>1880.7466</td>\n",
       "      <td>2.431780e+11</td>\n",
       "    </tr>\n",
       "    <tr>\n",
       "      <th>3</th>\n",
       "      <td>2025-03-09</td>\n",
       "      <td>2019.9403</td>\n",
       "      <td>2.565632e+11</td>\n",
       "    </tr>\n",
       "    <tr>\n",
       "      <th>4</th>\n",
       "      <td>2025-03-08</td>\n",
       "      <td>2202.5575</td>\n",
       "      <td>2.615796e+11</td>\n",
       "    </tr>\n",
       "  </tbody>\n",
       "</table>\n",
       "</div>"
      ],
      "text/plain": [
       "         Date  ETH_Price  ETH_Market_Cap\n",
       "0  2025-03-12  1911.4398    2.283619e+11\n",
       "1  2025-03-11  1923.0712    2.296047e+11\n",
       "2  2025-03-10  1880.7466    2.431780e+11\n",
       "3  2025-03-09  2019.9403    2.565632e+11\n",
       "4  2025-03-08  2202.5575    2.615796e+11"
      ]
     },
     "execution_count": 160,
     "metadata": {},
     "output_type": "execute_result"
    }
   ],
   "source": [
    "ethereum.head()"
   ]
  },
  {
   "cell_type": "code",
   "execution_count": 155,
   "metadata": {},
   "outputs": [],
   "source": [
    "# drop unwanted columns\n",
    "ethereum.drop(columns=['Open', 'High', 'Low', 'Volume', 'End'], inplace=True)"
   ]
  },
  {
   "cell_type": "code",
   "execution_count": 156,
   "metadata": {},
   "outputs": [
    {
     "name": "stdout",
     "output_type": "stream",
     "text": [
      "Are there any missing values? False\n"
     ]
    }
   ],
   "source": [
    "# check for missing values\n",
    "missing_ethereum = ethereum.isnull().any().any()\n",
    "print(f\"Are there any missing values? {missing_ethereum}\")"
   ]
  },
  {
   "cell_type": "code",
   "execution_count": 159,
   "metadata": {},
   "outputs": [],
   "source": [
    "ethereum.rename(columns={'Close': 'ETH_Price', 'Start': 'Date', 'Market Cap': 'ETH_Market_Cap'}, inplace=True)"
   ]
  },
  {
   "cell_type": "code",
   "execution_count": 161,
   "metadata": {},
   "outputs": [],
   "source": [
    "# convert data types\n",
    "ethereum['Date'] = pd.to_datetime(ethereum['Date'])"
   ]
  },
  {
   "cell_type": "code",
   "execution_count": 162,
   "metadata": {},
   "outputs": [],
   "source": [
    "# add missing dates between starting date and end date\n",
    "\n",
    "ethereum.set_index('Date', inplace=True)\n",
    "\n",
    "# Create a complete date range from the minimum to maximum date in the dataset\n",
    "all_dates = pd.date_range(start=ethereum.index.min(), end=ethereum.index.max())\n",
    "\n",
    "# Reindex the DataFrame to include all dates, filling missing dates with NaN\n",
    "ethereum = ethereum.reindex(all_dates)\n",
    "\n",
    "# Forward-fill missing 'Price' values without using 'inplace'\n",
    "ethereum['ETH_Price'] = ethereum['ETH_Price'].ffill()\n",
    "ethereum['ETH_Market_Cap'] = ethereum['ETH_Market_Cap'].ffill()\n",
    "\n",
    "# Reset the index to make 'Date' a column again\n",
    "ethereum.reset_index(inplace=True)\n",
    "ethereum.rename(columns={'index': 'Date'}, inplace=True)"
   ]
  },
  {
   "cell_type": "code",
   "execution_count": 163,
   "metadata": {},
   "outputs": [],
   "source": [
    "# remove unwanted dates\n",
    "ethereum = ethereum[(ethereum['Date'] >= start_date) & (ethereum['Date'] <= end_date)]"
   ]
  },
  {
   "cell_type": "code",
   "execution_count": 170,
   "metadata": {},
   "outputs": [
    {
     "data": {
      "text/html": [
       "<div>\n",
       "<style scoped>\n",
       "    .dataframe tbody tr th:only-of-type {\n",
       "        vertical-align: middle;\n",
       "    }\n",
       "\n",
       "    .dataframe tbody tr th {\n",
       "        vertical-align: top;\n",
       "    }\n",
       "\n",
       "    .dataframe thead th {\n",
       "        text-align: right;\n",
       "    }\n",
       "</style>\n",
       "<table border=\"1\" class=\"dataframe\">\n",
       "  <thead>\n",
       "    <tr style=\"text-align: right;\">\n",
       "      <th></th>\n",
       "      <th>Date</th>\n",
       "      <th>ETH_Price</th>\n",
       "      <th>ETH_Market_Cap</th>\n",
       "    </tr>\n",
       "  </thead>\n",
       "  <tbody>\n",
       "    <tr>\n",
       "      <th>count</th>\n",
       "      <td>3289</td>\n",
       "      <td>3289.000000</td>\n",
       "      <td>3.289000e+03</td>\n",
       "    </tr>\n",
       "    <tr>\n",
       "      <th>mean</th>\n",
       "      <td>2020-02-14 00:00:00</td>\n",
       "      <td>1081.246413</td>\n",
       "      <td>1.267416e+11</td>\n",
       "    </tr>\n",
       "    <tr>\n",
       "      <th>min</th>\n",
       "      <td>2015-08-15 00:00:00</td>\n",
       "      <td>0.438570</td>\n",
       "      <td>3.254149e+07</td>\n",
       "    </tr>\n",
       "    <tr>\n",
       "      <th>25%</th>\n",
       "      <td>2017-11-14 00:00:00</td>\n",
       "      <td>144.412548</td>\n",
       "      <td>1.560458e+10</td>\n",
       "    </tr>\n",
       "    <tr>\n",
       "      <th>50%</th>\n",
       "      <td>2020-02-14 00:00:00</td>\n",
       "      <td>401.774061</td>\n",
       "      <td>4.357811e+10</td>\n",
       "    </tr>\n",
       "    <tr>\n",
       "      <th>75%</th>\n",
       "      <td>2022-05-16 00:00:00</td>\n",
       "      <td>1841.841588</td>\n",
       "      <td>2.212046e+11</td>\n",
       "    </tr>\n",
       "    <tr>\n",
       "      <th>max</th>\n",
       "      <td>2024-08-15 00:00:00</td>\n",
       "      <td>4819.161294</td>\n",
       "      <td>5.669263e+11</td>\n",
       "    </tr>\n",
       "    <tr>\n",
       "      <th>std</th>\n",
       "      <td>NaN</td>\n",
       "      <td>1200.340879</td>\n",
       "      <td>1.440143e+11</td>\n",
       "    </tr>\n",
       "  </tbody>\n",
       "</table>\n",
       "</div>"
      ],
      "text/plain": [
       "                      Date    ETH_Price  ETH_Market_Cap\n",
       "count                 3289  3289.000000    3.289000e+03\n",
       "mean   2020-02-14 00:00:00  1081.246413    1.267416e+11\n",
       "min    2015-08-15 00:00:00     0.438570    3.254149e+07\n",
       "25%    2017-11-14 00:00:00   144.412548    1.560458e+10\n",
       "50%    2020-02-14 00:00:00   401.774061    4.357811e+10\n",
       "75%    2022-05-16 00:00:00  1841.841588    2.212046e+11\n",
       "max    2024-08-15 00:00:00  4819.161294    5.669263e+11\n",
       "std                    NaN  1200.340879    1.440143e+11"
      ]
     },
     "execution_count": 170,
     "metadata": {},
     "output_type": "execute_result"
    }
   ],
   "source": [
    "ethereum.describe()"
   ]
  },
  {
   "cell_type": "markdown",
   "metadata": {},
   "source": [
    "Preprocess XRP Data"
   ]
  },
  {
   "cell_type": "code",
   "execution_count": 171,
   "metadata": {},
   "outputs": [
    {
     "data": {
      "text/html": [
       "<div>\n",
       "<style scoped>\n",
       "    .dataframe tbody tr th:only-of-type {\n",
       "        vertical-align: middle;\n",
       "    }\n",
       "\n",
       "    .dataframe tbody tr th {\n",
       "        vertical-align: top;\n",
       "    }\n",
       "\n",
       "    .dataframe thead th {\n",
       "        text-align: right;\n",
       "    }\n",
       "</style>\n",
       "<table border=\"1\" class=\"dataframe\">\n",
       "  <thead>\n",
       "    <tr style=\"text-align: right;\">\n",
       "      <th></th>\n",
       "      <th>Date</th>\n",
       "      <th>XRP_Price</th>\n",
       "      <th>XRP_Market_Cap</th>\n",
       "    </tr>\n",
       "  </thead>\n",
       "  <tbody>\n",
       "    <tr>\n",
       "      <th>3719</th>\n",
       "      <td>2015-01-05</td>\n",
       "      <td>0.020305</td>\n",
       "      <td>6.032247e+08</td>\n",
       "    </tr>\n",
       "    <tr>\n",
       "      <th>3720</th>\n",
       "      <td>2015-01-04</td>\n",
       "      <td>0.018930</td>\n",
       "      <td>6.302048e+08</td>\n",
       "    </tr>\n",
       "    <tr>\n",
       "      <th>3721</th>\n",
       "      <td>2015-01-03</td>\n",
       "      <td>0.022181</td>\n",
       "      <td>7.274643e+08</td>\n",
       "    </tr>\n",
       "    <tr>\n",
       "      <th>3722</th>\n",
       "      <td>2015-01-02</td>\n",
       "      <td>0.024323</td>\n",
       "      <td>7.545424e+08</td>\n",
       "    </tr>\n",
       "    <tr>\n",
       "      <th>3723</th>\n",
       "      <td>2015-01-01</td>\n",
       "      <td>0.024383</td>\n",
       "      <td>7.537143e+08</td>\n",
       "    </tr>\n",
       "  </tbody>\n",
       "</table>\n",
       "</div>"
      ],
      "text/plain": [
       "            Date  XRP_Price  XRP_Market_Cap\n",
       "3719  2015-01-05   0.020305    6.032247e+08\n",
       "3720  2015-01-04   0.018930    6.302048e+08\n",
       "3721  2015-01-03   0.022181    7.274643e+08\n",
       "3722  2015-01-02   0.024323    7.545424e+08\n",
       "3723  2015-01-01   0.024383    7.537143e+08"
      ]
     },
     "execution_count": 171,
     "metadata": {},
     "output_type": "execute_result"
    }
   ],
   "source": [
    "ripple.tail()"
   ]
  },
  {
   "cell_type": "code",
   "execution_count": 167,
   "metadata": {},
   "outputs": [],
   "source": [
    "# drop unwanted columns\n",
    "ripple.drop(columns=['Open', 'High', 'Low', 'Volume', 'End'], inplace=True)"
   ]
  },
  {
   "cell_type": "code",
   "execution_count": 169,
   "metadata": {},
   "outputs": [],
   "source": [
    "ripple.rename(columns={'Close': 'XRP_Price', 'Start': 'Date', 'Market Cap': 'XRP_Market_Cap'}, inplace=True)"
   ]
  },
  {
   "cell_type": "code",
   "execution_count": 172,
   "metadata": {},
   "outputs": [],
   "source": [
    "# convert data types\n",
    "ripple['Date'] = pd.to_datetime(ripple['Date'])"
   ]
  },
  {
   "cell_type": "code",
   "execution_count": 173,
   "metadata": {},
   "outputs": [],
   "source": [
    "# add missing dates between starting date and end date\n",
    "\n",
    "ripple.set_index('Date', inplace=True)\n",
    "\n",
    "# Create a complete date range from the minimum to maximum date in the dataset\n",
    "all_dates = pd.date_range(start=ripple.index.min(), end=ripple.index.max())\n",
    "\n",
    "# Reindex the DataFrame to include all dates, filling missing dates with NaN\n",
    "ripple = ripple.reindex(all_dates)\n",
    "\n",
    "# Forward-fill missing 'Price' values without using 'inplace'\n",
    "ripple['XRP_Price'] = ripple['XRP_Price'].ffill()\n",
    "ripple['XRP_Market_Cap'] = ripple['XRP_Market_Cap'].ffill()\n",
    "\n",
    "# Reset the index to make 'Date' a column again\n",
    "ripple.reset_index(inplace=True)\n",
    "ripple.rename(columns={'index': 'Date'}, inplace=True)"
   ]
  },
  {
   "cell_type": "code",
   "execution_count": 174,
   "metadata": {},
   "outputs": [],
   "source": [
    "# remove unwanted dates\n",
    "ripple = ripple[(ripple['Date'] >= start_date) & (ripple['Date'] <= end_date)]"
   ]
  },
  {
   "cell_type": "code",
   "execution_count": 175,
   "metadata": {},
   "outputs": [
    {
     "data": {
      "text/html": [
       "<div>\n",
       "<style scoped>\n",
       "    .dataframe tbody tr th:only-of-type {\n",
       "        vertical-align: middle;\n",
       "    }\n",
       "\n",
       "    .dataframe tbody tr th {\n",
       "        vertical-align: top;\n",
       "    }\n",
       "\n",
       "    .dataframe thead th {\n",
       "        text-align: right;\n",
       "    }\n",
       "</style>\n",
       "<table border=\"1\" class=\"dataframe\">\n",
       "  <thead>\n",
       "    <tr style=\"text-align: right;\">\n",
       "      <th></th>\n",
       "      <th>Date</th>\n",
       "      <th>XRP_Price</th>\n",
       "      <th>XRP_Market_Cap</th>\n",
       "    </tr>\n",
       "  </thead>\n",
       "  <tbody>\n",
       "    <tr>\n",
       "      <th>count</th>\n",
       "      <td>3289</td>\n",
       "      <td>3289.000000</td>\n",
       "      <td>3.289000e+03</td>\n",
       "    </tr>\n",
       "    <tr>\n",
       "      <th>mean</th>\n",
       "      <td>2020-02-14 00:00:00</td>\n",
       "      <td>0.409920</td>\n",
       "      <td>1.850827e+10</td>\n",
       "    </tr>\n",
       "    <tr>\n",
       "      <th>min</th>\n",
       "      <td>2015-08-15 00:00:00</td>\n",
       "      <td>0.004090</td>\n",
       "      <td>1.373416e+08</td>\n",
       "    </tr>\n",
       "    <tr>\n",
       "      <th>25%</th>\n",
       "      <td>2017-11-14 00:00:00</td>\n",
       "      <td>0.201855</td>\n",
       "      <td>8.373756e+09</td>\n",
       "    </tr>\n",
       "    <tr>\n",
       "      <th>50%</th>\n",
       "      <td>2020-02-14 00:00:00</td>\n",
       "      <td>0.353549</td>\n",
       "      <td>1.555872e+10</td>\n",
       "    </tr>\n",
       "    <tr>\n",
       "      <th>75%</th>\n",
       "      <td>2022-05-16 00:00:00</td>\n",
       "      <td>0.546523</td>\n",
       "      <td>2.750840e+10</td>\n",
       "    </tr>\n",
       "    <tr>\n",
       "      <th>max</th>\n",
       "      <td>2024-08-15 00:00:00</td>\n",
       "      <td>3.359538</td>\n",
       "      <td>1.373512e+11</td>\n",
       "    </tr>\n",
       "    <tr>\n",
       "      <th>std</th>\n",
       "      <td>NaN</td>\n",
       "      <td>0.352647</td>\n",
       "      <td>1.541585e+10</td>\n",
       "    </tr>\n",
       "  </tbody>\n",
       "</table>\n",
       "</div>"
      ],
      "text/plain": [
       "                      Date    XRP_Price  XRP_Market_Cap\n",
       "count                 3289  3289.000000    3.289000e+03\n",
       "mean   2020-02-14 00:00:00     0.409920    1.850827e+10\n",
       "min    2015-08-15 00:00:00     0.004090    1.373416e+08\n",
       "25%    2017-11-14 00:00:00     0.201855    8.373756e+09\n",
       "50%    2020-02-14 00:00:00     0.353549    1.555872e+10\n",
       "75%    2022-05-16 00:00:00     0.546523    2.750840e+10\n",
       "max    2024-08-15 00:00:00     3.359538    1.373512e+11\n",
       "std                    NaN     0.352647    1.541585e+10"
      ]
     },
     "execution_count": 175,
     "metadata": {},
     "output_type": "execute_result"
    }
   ],
   "source": [
    "ripple.describe()"
   ]
  },
  {
   "cell_type": "code",
   "execution_count": 176,
   "metadata": {},
   "outputs": [],
   "source": [
    "# List of all DataFrames\n",
    "dfs = [bitcoin, ethereum, ripple]\n",
    "\n",
    "# Ensure 'Date' column is in datetime format for all DataFrames\n",
    "for df in dfs:\n",
    "    df['Date'] = pd.to_datetime(df['Date'])\n",
    "\n",
    "# Start merging with the first DataFrame\n",
    "cryptocurrencies = dfs[0]\n",
    "\n",
    "# Merge all DataFrames on 'Date'\n",
    "for df in dfs[1:]:\n",
    "    cryptocurrencies = cryptocurrencies.merge(df, on='Date', how='outer')  # Use 'inner' if you want only matching dates"
   ]
  },
  {
   "cell_type": "code",
   "execution_count": 181,
   "metadata": {},
   "outputs": [
    {
     "data": {
      "text/html": [
       "<div>\n",
       "<style scoped>\n",
       "    .dataframe tbody tr th:only-of-type {\n",
       "        vertical-align: middle;\n",
       "    }\n",
       "\n",
       "    .dataframe tbody tr th {\n",
       "        vertical-align: top;\n",
       "    }\n",
       "\n",
       "    .dataframe thead th {\n",
       "        text-align: right;\n",
       "    }\n",
       "</style>\n",
       "<table border=\"1\" class=\"dataframe\">\n",
       "  <thead>\n",
       "    <tr style=\"text-align: right;\">\n",
       "      <th></th>\n",
       "      <th>Date</th>\n",
       "      <th>BTC_Price</th>\n",
       "      <th>BTC_Market_Cap</th>\n",
       "      <th>ETH_Price</th>\n",
       "      <th>ETH_Market_Cap</th>\n",
       "      <th>XRP_Price</th>\n",
       "      <th>XRP_Market_Cap</th>\n",
       "    </tr>\n",
       "  </thead>\n",
       "  <tbody>\n",
       "    <tr>\n",
       "      <th>count</th>\n",
       "      <td>3289</td>\n",
       "      <td>3289.000000</td>\n",
       "      <td>3.289000e+03</td>\n",
       "      <td>3289.000000</td>\n",
       "      <td>3.289000e+03</td>\n",
       "      <td>3289.000000</td>\n",
       "      <td>3.289000e+03</td>\n",
       "    </tr>\n",
       "    <tr>\n",
       "      <th>mean</th>\n",
       "      <td>2020-02-14 00:00:00</td>\n",
       "      <td>19168.928429</td>\n",
       "      <td>3.622681e+11</td>\n",
       "      <td>1081.246413</td>\n",
       "      <td>1.267416e+11</td>\n",
       "      <td>0.409920</td>\n",
       "      <td>1.850827e+10</td>\n",
       "    </tr>\n",
       "    <tr>\n",
       "      <th>min</th>\n",
       "      <td>2015-08-15 00:00:00</td>\n",
       "      <td>211.394000</td>\n",
       "      <td>3.117026e+09</td>\n",
       "      <td>0.438570</td>\n",
       "      <td>3.254149e+07</td>\n",
       "      <td>0.004090</td>\n",
       "      <td>1.373416e+08</td>\n",
       "    </tr>\n",
       "    <tr>\n",
       "      <th>25%</th>\n",
       "      <td>2017-11-14 00:00:00</td>\n",
       "      <td>3894.620254</td>\n",
       "      <td>6.767426e+10</td>\n",
       "      <td>144.412548</td>\n",
       "      <td>1.560458e+10</td>\n",
       "      <td>0.201855</td>\n",
       "      <td>8.373756e+09</td>\n",
       "    </tr>\n",
       "    <tr>\n",
       "      <th>50%</th>\n",
       "      <td>2020-02-14 00:00:00</td>\n",
       "      <td>10080.086121</td>\n",
       "      <td>1.792287e+11</td>\n",
       "      <td>401.774061</td>\n",
       "      <td>4.357811e+10</td>\n",
       "      <td>0.353549</td>\n",
       "      <td>1.555872e+10</td>\n",
       "    </tr>\n",
       "    <tr>\n",
       "      <th>75%</th>\n",
       "      <td>2022-05-16 00:00:00</td>\n",
       "      <td>30275.680000</td>\n",
       "      <td>5.838799e+11</td>\n",
       "      <td>1841.841588</td>\n",
       "      <td>2.212046e+11</td>\n",
       "      <td>0.546523</td>\n",
       "      <td>2.750840e+10</td>\n",
       "    </tr>\n",
       "    <tr>\n",
       "      <th>max</th>\n",
       "      <td>2024-08-15 00:00:00</td>\n",
       "      <td>73087.950000</td>\n",
       "      <td>1.428410e+12</td>\n",
       "      <td>4819.161294</td>\n",
       "      <td>5.669263e+11</td>\n",
       "      <td>3.359538</td>\n",
       "      <td>1.373512e+11</td>\n",
       "    </tr>\n",
       "    <tr>\n",
       "      <th>std</th>\n",
       "      <td>NaN</td>\n",
       "      <td>19438.164809</td>\n",
       "      <td>3.768419e+11</td>\n",
       "      <td>1200.340879</td>\n",
       "      <td>1.440143e+11</td>\n",
       "      <td>0.352647</td>\n",
       "      <td>1.541585e+10</td>\n",
       "    </tr>\n",
       "  </tbody>\n",
       "</table>\n",
       "</div>"
      ],
      "text/plain": [
       "                      Date     BTC_Price  BTC_Market_Cap    ETH_Price  \\\n",
       "count                 3289   3289.000000    3.289000e+03  3289.000000   \n",
       "mean   2020-02-14 00:00:00  19168.928429    3.622681e+11  1081.246413   \n",
       "min    2015-08-15 00:00:00    211.394000    3.117026e+09     0.438570   \n",
       "25%    2017-11-14 00:00:00   3894.620254    6.767426e+10   144.412548   \n",
       "50%    2020-02-14 00:00:00  10080.086121    1.792287e+11   401.774061   \n",
       "75%    2022-05-16 00:00:00  30275.680000    5.838799e+11  1841.841588   \n",
       "max    2024-08-15 00:00:00  73087.950000    1.428410e+12  4819.161294   \n",
       "std                    NaN  19438.164809    3.768419e+11  1200.340879   \n",
       "\n",
       "       ETH_Market_Cap    XRP_Price  XRP_Market_Cap  \n",
       "count    3.289000e+03  3289.000000    3.289000e+03  \n",
       "mean     1.267416e+11     0.409920    1.850827e+10  \n",
       "min      3.254149e+07     0.004090    1.373416e+08  \n",
       "25%      1.560458e+10     0.201855    8.373756e+09  \n",
       "50%      4.357811e+10     0.353549    1.555872e+10  \n",
       "75%      2.212046e+11     0.546523    2.750840e+10  \n",
       "max      5.669263e+11     3.359538    1.373512e+11  \n",
       "std      1.440143e+11     0.352647    1.541585e+10  "
      ]
     },
     "execution_count": 181,
     "metadata": {},
     "output_type": "execute_result"
    }
   ],
   "source": [
    "cryptocurrencies.describe()"
   ]
  },
  {
   "cell_type": "code",
   "execution_count": 180,
   "metadata": {},
   "outputs": [],
   "source": [
    "# save as s csv file\n",
    "cryptocurrencies.to_csv(\"../datasets/preprocesed/cryptocurrencies.csv\", index=False)"
   ]
  },
  {
   "cell_type": "code",
   "execution_count": null,
   "metadata": {},
   "outputs": [],
   "source": []
  }
 ],
 "metadata": {
  "kernelspec": {
   "display_name": "tft",
   "language": "python",
   "name": "python3"
  },
  "language_info": {
   "codemirror_mode": {
    "name": "ipython",
    "version": 3
   },
   "file_extension": ".py",
   "mimetype": "text/x-python",
   "name": "python",
   "nbconvert_exporter": "python",
   "pygments_lexer": "ipython3",
   "version": "3.12.8"
  }
 },
 "nbformat": 4,
 "nbformat_minor": 2
}
