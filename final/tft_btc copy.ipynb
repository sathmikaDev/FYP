{
 "cells": [
  {
   "cell_type": "code",
   "execution_count": 35,
   "metadata": {},
   "outputs": [],
   "source": [
    "import copy\n",
    "from pathlib import Path\n",
    "import warnings\n",
    "\n",
    "import lightning.pytorch as pl\n",
    "from lightning.pytorch.callbacks import EarlyStopping, LearningRateMonitor\n",
    "from lightning.pytorch.loggers import TensorBoardLogger\n",
    "import numpy as np\n",
    "import pandas as pd\n",
    "import torch\n",
    "\n",
    "from pytorch_forecasting import Baseline, TemporalFusionTransformer, TimeSeriesDataSet\n",
    "from pytorch_forecasting.data import GroupNormalizer\n",
    "from pytorch_forecasting.metrics import MAE, SMAPE, PoissonLoss, QuantileLoss\n",
    "from pytorch_forecasting.models.temporal_fusion_transformer.tuning import optimize_hyperparameters\n",
    "import matplotlib.pyplot as plt\n",
    "import seaborn as sns"
   ]
  },
  {
   "cell_type": "code",
   "execution_count": 36,
   "metadata": {},
   "outputs": [],
   "source": [
    "data = pd.read_csv(\"Final_DF.csv\")"
   ]
  },
  {
   "cell_type": "code",
   "execution_count": 37,
   "metadata": {},
   "outputs": [
    {
     "data": {
      "text/html": [
       "<div>\n",
       "<style scoped>\n",
       "    .dataframe tbody tr th:only-of-type {\n",
       "        vertical-align: middle;\n",
       "    }\n",
       "\n",
       "    .dataframe tbody tr th {\n",
       "        vertical-align: top;\n",
       "    }\n",
       "\n",
       "    .dataframe thead th {\n",
       "        text-align: right;\n",
       "    }\n",
       "</style>\n",
       "<table border=\"1\" class=\"dataframe\">\n",
       "  <thead>\n",
       "    <tr style=\"text-align: right;\">\n",
       "      <th></th>\n",
       "      <th>Date</th>\n",
       "      <th>Dollar_Index</th>\n",
       "      <th>Gold_Price</th>\n",
       "      <th>Interest_Rate</th>\n",
       "      <th>US_10_Year</th>\n",
       "      <th>VIX_Value</th>\n",
       "      <th>BTC_Price</th>\n",
       "      <th>ETH_Price</th>\n",
       "      <th>SOL_Price</th>\n",
       "      <th>XRP_Price</th>\n",
       "    </tr>\n",
       "  </thead>\n",
       "  <tbody>\n",
       "    <tr>\n",
       "      <th>0</th>\n",
       "      <td>2020-04-10</td>\n",
       "      <td>99.519997</td>\n",
       "      <td>1662.50</td>\n",
       "      <td>0.05</td>\n",
       "      <td>0.729</td>\n",
       "      <td>41.67</td>\n",
       "      <td>6865.493164</td>\n",
       "      <td>158.412445</td>\n",
       "      <td>0.951054</td>\n",
       "      <td>0.187464</td>\n",
       "    </tr>\n",
       "    <tr>\n",
       "      <th>1</th>\n",
       "      <td>2020-04-11</td>\n",
       "      <td>99.519997</td>\n",
       "      <td>1662.50</td>\n",
       "      <td>0.05</td>\n",
       "      <td>0.729</td>\n",
       "      <td>41.67</td>\n",
       "      <td>6859.083008</td>\n",
       "      <td>158.216019</td>\n",
       "      <td>0.776819</td>\n",
       "      <td>0.188063</td>\n",
       "    </tr>\n",
       "    <tr>\n",
       "      <th>2</th>\n",
       "      <td>2020-04-12</td>\n",
       "      <td>99.519997</td>\n",
       "      <td>1662.50</td>\n",
       "      <td>0.05</td>\n",
       "      <td>0.729</td>\n",
       "      <td>41.67</td>\n",
       "      <td>6971.091797</td>\n",
       "      <td>161.142426</td>\n",
       "      <td>0.882507</td>\n",
       "      <td>0.190135</td>\n",
       "    </tr>\n",
       "    <tr>\n",
       "      <th>3</th>\n",
       "      <td>2020-04-13</td>\n",
       "      <td>99.349998</td>\n",
       "      <td>1662.50</td>\n",
       "      <td>0.05</td>\n",
       "      <td>0.770</td>\n",
       "      <td>41.17</td>\n",
       "      <td>6845.037598</td>\n",
       "      <td>156.279556</td>\n",
       "      <td>0.777832</td>\n",
       "      <td>0.187732</td>\n",
       "    </tr>\n",
       "    <tr>\n",
       "      <th>4</th>\n",
       "      <td>2020-04-14</td>\n",
       "      <td>98.889999</td>\n",
       "      <td>1715.85</td>\n",
       "      <td>0.05</td>\n",
       "      <td>0.750</td>\n",
       "      <td>37.76</td>\n",
       "      <td>6842.427734</td>\n",
       "      <td>157.596390</td>\n",
       "      <td>0.661925</td>\n",
       "      <td>0.185335</td>\n",
       "    </tr>\n",
       "    <tr>\n",
       "      <th>5</th>\n",
       "      <td>2020-04-15</td>\n",
       "      <td>99.459999</td>\n",
       "      <td>1712.25</td>\n",
       "      <td>0.05</td>\n",
       "      <td>0.635</td>\n",
       "      <td>40.84</td>\n",
       "      <td>6642.109863</td>\n",
       "      <td>153.286896</td>\n",
       "      <td>0.646651</td>\n",
       "      <td>0.181270</td>\n",
       "    </tr>\n",
       "    <tr>\n",
       "      <th>6</th>\n",
       "      <td>2020-04-16</td>\n",
       "      <td>100.029999</td>\n",
       "      <td>1717.85</td>\n",
       "      <td>0.05</td>\n",
       "      <td>0.617</td>\n",
       "      <td>40.11</td>\n",
       "      <td>7116.804199</td>\n",
       "      <td>172.157379</td>\n",
       "      <td>0.690816</td>\n",
       "      <td>0.190104</td>\n",
       "    </tr>\n",
       "    <tr>\n",
       "      <th>7</th>\n",
       "      <td>2020-04-17</td>\n",
       "      <td>99.779999</td>\n",
       "      <td>1693.15</td>\n",
       "      <td>0.05</td>\n",
       "      <td>0.642</td>\n",
       "      <td>38.15</td>\n",
       "      <td>7096.184570</td>\n",
       "      <td>171.638580</td>\n",
       "      <td>0.660728</td>\n",
       "      <td>0.190202</td>\n",
       "    </tr>\n",
       "    <tr>\n",
       "      <th>8</th>\n",
       "      <td>2020-04-18</td>\n",
       "      <td>99.779999</td>\n",
       "      <td>1693.15</td>\n",
       "      <td>0.05</td>\n",
       "      <td>0.642</td>\n",
       "      <td>38.15</td>\n",
       "      <td>7257.665039</td>\n",
       "      <td>186.914001</td>\n",
       "      <td>0.681096</td>\n",
       "      <td>0.194925</td>\n",
       "    </tr>\n",
       "    <tr>\n",
       "      <th>9</th>\n",
       "      <td>2020-04-19</td>\n",
       "      <td>99.779999</td>\n",
       "      <td>1693.15</td>\n",
       "      <td>0.05</td>\n",
       "      <td>0.642</td>\n",
       "      <td>38.15</td>\n",
       "      <td>7189.424805</td>\n",
       "      <td>181.614960</td>\n",
       "      <td>0.606969</td>\n",
       "      <td>0.190859</td>\n",
       "    </tr>\n",
       "  </tbody>\n",
       "</table>\n",
       "</div>"
      ],
      "text/plain": [
       "         Date  Dollar_Index  Gold_Price  Interest_Rate  US_10_Year  VIX_Value  \\\n",
       "0  2020-04-10     99.519997     1662.50           0.05       0.729      41.67   \n",
       "1  2020-04-11     99.519997     1662.50           0.05       0.729      41.67   \n",
       "2  2020-04-12     99.519997     1662.50           0.05       0.729      41.67   \n",
       "3  2020-04-13     99.349998     1662.50           0.05       0.770      41.17   \n",
       "4  2020-04-14     98.889999     1715.85           0.05       0.750      37.76   \n",
       "5  2020-04-15     99.459999     1712.25           0.05       0.635      40.84   \n",
       "6  2020-04-16    100.029999     1717.85           0.05       0.617      40.11   \n",
       "7  2020-04-17     99.779999     1693.15           0.05       0.642      38.15   \n",
       "8  2020-04-18     99.779999     1693.15           0.05       0.642      38.15   \n",
       "9  2020-04-19     99.779999     1693.15           0.05       0.642      38.15   \n",
       "\n",
       "     BTC_Price   ETH_Price  SOL_Price  XRP_Price  \n",
       "0  6865.493164  158.412445   0.951054   0.187464  \n",
       "1  6859.083008  158.216019   0.776819   0.188063  \n",
       "2  6971.091797  161.142426   0.882507   0.190135  \n",
       "3  6845.037598  156.279556   0.777832   0.187732  \n",
       "4  6842.427734  157.596390   0.661925   0.185335  \n",
       "5  6642.109863  153.286896   0.646651   0.181270  \n",
       "6  7116.804199  172.157379   0.690816   0.190104  \n",
       "7  7096.184570  171.638580   0.660728   0.190202  \n",
       "8  7257.665039  186.914001   0.681096   0.194925  \n",
       "9  7189.424805  181.614960   0.606969   0.190859  "
      ]
     },
     "execution_count": 37,
     "metadata": {},
     "output_type": "execute_result"
    }
   ],
   "source": [
    "data.head(10)"
   ]
  },
  {
   "cell_type": "code",
   "execution_count": 38,
   "metadata": {},
   "outputs": [],
   "source": [
    "data = data.drop(['ETH_Price', 'SOL_Price', 'XRP_Price'], axis=1)"
   ]
  },
  {
   "cell_type": "code",
   "execution_count": 39,
   "metadata": {},
   "outputs": [],
   "source": [
    "# convert columns datatypes into appropriate data types\n",
    "data['Date'] = pd.to_datetime(data['Date'])"
   ]
  },
  {
   "cell_type": "code",
   "execution_count": 40,
   "metadata": {},
   "outputs": [
    {
     "data": {
      "text/plain": [
       "Date             datetime64[ns]\n",
       "Dollar_Index            float64\n",
       "Gold_Price              float64\n",
       "Interest_Rate           float64\n",
       "US_10_Year              float64\n",
       "VIX_Value               float64\n",
       "BTC_Price               float64\n",
       "dtype: object"
      ]
     },
     "execution_count": 40,
     "metadata": {},
     "output_type": "execute_result"
    }
   ],
   "source": [
    "data.dtypes"
   ]
  },
  {
   "cell_type": "code",
   "execution_count": 41,
   "metadata": {},
   "outputs": [],
   "source": [
    "# add the time index\n",
    "data[\"time_idx\"] = (data[\"Date\"] - data[\"Date\"].min()).dt.days"
   ]
  },
  {
   "cell_type": "code",
   "execution_count": 42,
   "metadata": {},
   "outputs": [
    {
     "data": {
      "text/html": [
       "<div>\n",
       "<style scoped>\n",
       "    .dataframe tbody tr th:only-of-type {\n",
       "        vertical-align: middle;\n",
       "    }\n",
       "\n",
       "    .dataframe tbody tr th {\n",
       "        vertical-align: top;\n",
       "    }\n",
       "\n",
       "    .dataframe thead th {\n",
       "        text-align: right;\n",
       "    }\n",
       "</style>\n",
       "<table border=\"1\" class=\"dataframe\">\n",
       "  <thead>\n",
       "    <tr style=\"text-align: right;\">\n",
       "      <th></th>\n",
       "      <th>Date</th>\n",
       "      <th>Dollar_Index</th>\n",
       "      <th>Gold_Price</th>\n",
       "      <th>Interest_Rate</th>\n",
       "      <th>US_10_Year</th>\n",
       "      <th>VIX_Value</th>\n",
       "      <th>BTC_Price</th>\n",
       "      <th>time_idx</th>\n",
       "    </tr>\n",
       "  </thead>\n",
       "  <tbody>\n",
       "    <tr>\n",
       "      <th>1726</th>\n",
       "      <td>2024-12-31</td>\n",
       "      <td>108.489998</td>\n",
       "      <td>2624.6030</td>\n",
       "      <td>4.33</td>\n",
       "      <td>4.572</td>\n",
       "      <td>17.35</td>\n",
       "      <td>93429.203125</td>\n",
       "      <td>1726</td>\n",
       "    </tr>\n",
       "    <tr>\n",
       "      <th>1727</th>\n",
       "      <td>2025-01-01</td>\n",
       "      <td>108.489998</td>\n",
       "      <td>2624.6030</td>\n",
       "      <td>4.33</td>\n",
       "      <td>4.572</td>\n",
       "      <td>17.35</td>\n",
       "      <td>94419.757812</td>\n",
       "      <td>1727</td>\n",
       "    </tr>\n",
       "    <tr>\n",
       "      <th>1728</th>\n",
       "      <td>2025-01-02</td>\n",
       "      <td>109.389999</td>\n",
       "      <td>2657.8921</td>\n",
       "      <td>4.33</td>\n",
       "      <td>4.561</td>\n",
       "      <td>17.93</td>\n",
       "      <td>96886.875000</td>\n",
       "      <td>1728</td>\n",
       "    </tr>\n",
       "    <tr>\n",
       "      <th>1729</th>\n",
       "      <td>2025-01-03</td>\n",
       "      <td>108.949997</td>\n",
       "      <td>2640.1664</td>\n",
       "      <td>4.33</td>\n",
       "      <td>4.601</td>\n",
       "      <td>16.13</td>\n",
       "      <td>98107.429688</td>\n",
       "      <td>1729</td>\n",
       "    </tr>\n",
       "    <tr>\n",
       "      <th>1730</th>\n",
       "      <td>2025-01-04</td>\n",
       "      <td>108.949997</td>\n",
       "      <td>2640.1664</td>\n",
       "      <td>4.33</td>\n",
       "      <td>4.601</td>\n",
       "      <td>16.13</td>\n",
       "      <td>98236.226562</td>\n",
       "      <td>1730</td>\n",
       "    </tr>\n",
       "    <tr>\n",
       "      <th>1731</th>\n",
       "      <td>2025-01-05</td>\n",
       "      <td>108.949997</td>\n",
       "      <td>2640.1664</td>\n",
       "      <td>4.33</td>\n",
       "      <td>4.601</td>\n",
       "      <td>16.13</td>\n",
       "      <td>98314.960938</td>\n",
       "      <td>1731</td>\n",
       "    </tr>\n",
       "    <tr>\n",
       "      <th>1732</th>\n",
       "      <td>2025-01-06</td>\n",
       "      <td>108.260002</td>\n",
       "      <td>2635.8796</td>\n",
       "      <td>4.33</td>\n",
       "      <td>4.623</td>\n",
       "      <td>16.04</td>\n",
       "      <td>102078.085938</td>\n",
       "      <td>1732</td>\n",
       "    </tr>\n",
       "    <tr>\n",
       "      <th>1733</th>\n",
       "      <td>2025-01-07</td>\n",
       "      <td>108.540001</td>\n",
       "      <td>2648.7119</td>\n",
       "      <td>4.33</td>\n",
       "      <td>4.684</td>\n",
       "      <td>17.82</td>\n",
       "      <td>96922.703125</td>\n",
       "      <td>1733</td>\n",
       "    </tr>\n",
       "    <tr>\n",
       "      <th>1734</th>\n",
       "      <td>2025-01-08</td>\n",
       "      <td>109.089996</td>\n",
       "      <td>2661.5352</td>\n",
       "      <td>4.33</td>\n",
       "      <td>4.692</td>\n",
       "      <td>17.70</td>\n",
       "      <td>95043.523438</td>\n",
       "      <td>1734</td>\n",
       "    </tr>\n",
       "    <tr>\n",
       "      <th>1735</th>\n",
       "      <td>2025-01-09</td>\n",
       "      <td>109.180000</td>\n",
       "      <td>2669.9489</td>\n",
       "      <td>4.33</td>\n",
       "      <td>4.688</td>\n",
       "      <td>18.07</td>\n",
       "      <td>92484.039062</td>\n",
       "      <td>1735</td>\n",
       "    </tr>\n",
       "  </tbody>\n",
       "</table>\n",
       "</div>"
      ],
      "text/plain": [
       "           Date  Dollar_Index  Gold_Price  Interest_Rate  US_10_Year  \\\n",
       "1726 2024-12-31    108.489998   2624.6030           4.33       4.572   \n",
       "1727 2025-01-01    108.489998   2624.6030           4.33       4.572   \n",
       "1728 2025-01-02    109.389999   2657.8921           4.33       4.561   \n",
       "1729 2025-01-03    108.949997   2640.1664           4.33       4.601   \n",
       "1730 2025-01-04    108.949997   2640.1664           4.33       4.601   \n",
       "1731 2025-01-05    108.949997   2640.1664           4.33       4.601   \n",
       "1732 2025-01-06    108.260002   2635.8796           4.33       4.623   \n",
       "1733 2025-01-07    108.540001   2648.7119           4.33       4.684   \n",
       "1734 2025-01-08    109.089996   2661.5352           4.33       4.692   \n",
       "1735 2025-01-09    109.180000   2669.9489           4.33       4.688   \n",
       "\n",
       "      VIX_Value      BTC_Price  time_idx  \n",
       "1726      17.35   93429.203125      1726  \n",
       "1727      17.35   94419.757812      1727  \n",
       "1728      17.93   96886.875000      1728  \n",
       "1729      16.13   98107.429688      1729  \n",
       "1730      16.13   98236.226562      1730  \n",
       "1731      16.13   98314.960938      1731  \n",
       "1732      16.04  102078.085938      1732  \n",
       "1733      17.82   96922.703125      1733  \n",
       "1734      17.70   95043.523438      1734  \n",
       "1735      18.07   92484.039062      1735  "
      ]
     },
     "execution_count": 42,
     "metadata": {},
     "output_type": "execute_result"
    }
   ],
   "source": [
    "data.tail(10)"
   ]
  },
  {
   "cell_type": "code",
   "execution_count": 43,
   "metadata": {},
   "outputs": [
    {
     "data": {
      "image/png": "[encoded data removed]",
      "text/plain": [
       "<Figure size 1000x800 with 2 Axes>"
      ]
     },
     "metadata": {},
     "output_type": "display_data"
    }
   ],
   "source": [
    "# Perform correlation analysis\n",
    "correlation_matrix = data.corr()\n",
    "plt.figure(figsize=(10, 8))\n",
    "sns.heatmap(correlation_matrix, annot=True, cmap=\"coolwarm\", fmt=\".2f\")\n",
    "plt.title(\"Feature Correlation Matrix\")\n",
    "plt.show()"
   ]
  },
  {
   "cell_type": "code",
   "execution_count": 44,
   "metadata": {},
   "outputs": [],
   "source": [
    "# drop dollar index, interest rate\n",
    "data = data.drop(['Dollar_Index', 'Interest_Rate'], axis=1)"
   ]
  },
  {
   "cell_type": "code",
   "execution_count": 45,
   "metadata": {},
   "outputs": [
    {
     "data": {
      "text/html": [
       "<div>\n",
       "<style scoped>\n",
       "    .dataframe tbody tr th:only-of-type {\n",
       "        vertical-align: middle;\n",
       "    }\n",
       "\n",
       "    .dataframe tbody tr th {\n",
       "        vertical-align: top;\n",
       "    }\n",
       "\n",
       "    .dataframe thead th {\n",
       "        text-align: right;\n",
       "    }\n",
       "</style>\n",
       "<table border=\"1\" class=\"dataframe\">\n",
       "  <thead>\n",
       "    <tr style=\"text-align: right;\">\n",
       "      <th></th>\n",
       "      <th>Date</th>\n",
       "      <th>Gold_Price</th>\n",
       "      <th>US_10_Year</th>\n",
       "      <th>VIX_Value</th>\n",
       "      <th>BTC_Price</th>\n",
       "      <th>time_idx</th>\n",
       "    </tr>\n",
       "  </thead>\n",
       "  <tbody>\n",
       "    <tr>\n",
       "      <th>0</th>\n",
       "      <td>2020-04-10</td>\n",
       "      <td>1662.50</td>\n",
       "      <td>0.729</td>\n",
       "      <td>41.67</td>\n",
       "      <td>6865.493164</td>\n",
       "      <td>0</td>\n",
       "    </tr>\n",
       "    <tr>\n",
       "      <th>1</th>\n",
       "      <td>2020-04-11</td>\n",
       "      <td>1662.50</td>\n",
       "      <td>0.729</td>\n",
       "      <td>41.67</td>\n",
       "      <td>6859.083008</td>\n",
       "      <td>1</td>\n",
       "    </tr>\n",
       "    <tr>\n",
       "      <th>2</th>\n",
       "      <td>2020-04-12</td>\n",
       "      <td>1662.50</td>\n",
       "      <td>0.729</td>\n",
       "      <td>41.67</td>\n",
       "      <td>6971.091797</td>\n",
       "      <td>2</td>\n",
       "    </tr>\n",
       "    <tr>\n",
       "      <th>3</th>\n",
       "      <td>2020-04-13</td>\n",
       "      <td>1662.50</td>\n",
       "      <td>0.770</td>\n",
       "      <td>41.17</td>\n",
       "      <td>6845.037598</td>\n",
       "      <td>3</td>\n",
       "    </tr>\n",
       "    <tr>\n",
       "      <th>4</th>\n",
       "      <td>2020-04-14</td>\n",
       "      <td>1715.85</td>\n",
       "      <td>0.750</td>\n",
       "      <td>37.76</td>\n",
       "      <td>6842.427734</td>\n",
       "      <td>4</td>\n",
       "    </tr>\n",
       "    <tr>\n",
       "      <th>5</th>\n",
       "      <td>2020-04-15</td>\n",
       "      <td>1712.25</td>\n",
       "      <td>0.635</td>\n",
       "      <td>40.84</td>\n",
       "      <td>6642.109863</td>\n",
       "      <td>5</td>\n",
       "    </tr>\n",
       "    <tr>\n",
       "      <th>6</th>\n",
       "      <td>2020-04-16</td>\n",
       "      <td>1717.85</td>\n",
       "      <td>0.617</td>\n",
       "      <td>40.11</td>\n",
       "      <td>7116.804199</td>\n",
       "      <td>6</td>\n",
       "    </tr>\n",
       "    <tr>\n",
       "      <th>7</th>\n",
       "      <td>2020-04-17</td>\n",
       "      <td>1693.15</td>\n",
       "      <td>0.642</td>\n",
       "      <td>38.15</td>\n",
       "      <td>7096.184570</td>\n",
       "      <td>7</td>\n",
       "    </tr>\n",
       "    <tr>\n",
       "      <th>8</th>\n",
       "      <td>2020-04-18</td>\n",
       "      <td>1693.15</td>\n",
       "      <td>0.642</td>\n",
       "      <td>38.15</td>\n",
       "      <td>7257.665039</td>\n",
       "      <td>8</td>\n",
       "    </tr>\n",
       "    <tr>\n",
       "      <th>9</th>\n",
       "      <td>2020-04-19</td>\n",
       "      <td>1693.15</td>\n",
       "      <td>0.642</td>\n",
       "      <td>38.15</td>\n",
       "      <td>7189.424805</td>\n",
       "      <td>9</td>\n",
       "    </tr>\n",
       "  </tbody>\n",
       "</table>\n",
       "</div>"
      ],
      "text/plain": [
       "        Date  Gold_Price  US_10_Year  VIX_Value    BTC_Price  time_idx\n",
       "0 2020-04-10     1662.50       0.729      41.67  6865.493164         0\n",
       "1 2020-04-11     1662.50       0.729      41.67  6859.083008         1\n",
       "2 2020-04-12     1662.50       0.729      41.67  6971.091797         2\n",
       "3 2020-04-13     1662.50       0.770      41.17  6845.037598         3\n",
       "4 2020-04-14     1715.85       0.750      37.76  6842.427734         4\n",
       "5 2020-04-15     1712.25       0.635      40.84  6642.109863         5\n",
       "6 2020-04-16     1717.85       0.617      40.11  7116.804199         6\n",
       "7 2020-04-17     1693.15       0.642      38.15  7096.184570         7\n",
       "8 2020-04-18     1693.15       0.642      38.15  7257.665039         8\n",
       "9 2020-04-19     1693.15       0.642      38.15  7189.424805         9"
      ]
     },
     "execution_count": 45,
     "metadata": {},
     "output_type": "execute_result"
    }
   ],
   "source": [
    "data.head(10)"
   ]
  },
  {
   "cell_type": "code",
   "execution_count": 46,
   "metadata": {},
   "outputs": [],
   "source": [
    "# add additional features\n",
    "data[\"month\"] = data.Date.dt.month.astype(str).astype(\"category\")  # categories have be strings\n",
    "data[\"day_of_week\"] = data.Date.dt.dayofweek.astype(str).astype(\"category\")\n",
    "data[\"day_of_year\"] = data.Date.dt.dayofyear.astype(str).astype(\"category\")\n",
    "data[\"quarter\"] = data.Date.dt.quarter.astype(str).astype(\"category\")  # categories have be strings\n",
    "\n",
    "data[\"log_price\"] = np.log(data.BTC_Price + 1e-8)"
   ]
  },
  {
   "cell_type": "code",
   "execution_count": 47,
   "metadata": {},
   "outputs": [
    {
     "data": {
      "text/html": [
       "<div>\n",
       "<style scoped>\n",
       "    .dataframe tbody tr th:only-of-type {\n",
       "        vertical-align: middle;\n",
       "    }\n",
       "\n",
       "    .dataframe tbody tr th {\n",
       "        vertical-align: top;\n",
       "    }\n",
       "\n",
       "    .dataframe thead th {\n",
       "        text-align: right;\n",
       "    }\n",
       "</style>\n",
       "<table border=\"1\" class=\"dataframe\">\n",
       "  <thead>\n",
       "    <tr style=\"text-align: right;\">\n",
       "      <th></th>\n",
       "      <th>Date</th>\n",
       "      <th>Gold_Price</th>\n",
       "      <th>US_10_Year</th>\n",
       "      <th>VIX_Value</th>\n",
       "      <th>BTC_Price</th>\n",
       "      <th>time_idx</th>\n",
       "      <th>month</th>\n",
       "      <th>day_of_week</th>\n",
       "      <th>day_of_year</th>\n",
       "      <th>quarter</th>\n",
       "      <th>log_price</th>\n",
       "    </tr>\n",
       "  </thead>\n",
       "  <tbody>\n",
       "    <tr>\n",
       "      <th>0</th>\n",
       "      <td>2020-04-10</td>\n",
       "      <td>1662.50</td>\n",
       "      <td>0.729</td>\n",
       "      <td>41.67</td>\n",
       "      <td>6865.493164</td>\n",
       "      <td>0</td>\n",
       "      <td>4</td>\n",
       "      <td>4</td>\n",
       "      <td>101</td>\n",
       "      <td>2</td>\n",
       "      <td>8.834263</td>\n",
       "    </tr>\n",
       "    <tr>\n",
       "      <th>1</th>\n",
       "      <td>2020-04-11</td>\n",
       "      <td>1662.50</td>\n",
       "      <td>0.729</td>\n",
       "      <td>41.67</td>\n",
       "      <td>6859.083008</td>\n",
       "      <td>1</td>\n",
       "      <td>4</td>\n",
       "      <td>5</td>\n",
       "      <td>102</td>\n",
       "      <td>2</td>\n",
       "      <td>8.833329</td>\n",
       "    </tr>\n",
       "    <tr>\n",
       "      <th>2</th>\n",
       "      <td>2020-04-12</td>\n",
       "      <td>1662.50</td>\n",
       "      <td>0.729</td>\n",
       "      <td>41.67</td>\n",
       "      <td>6971.091797</td>\n",
       "      <td>2</td>\n",
       "      <td>4</td>\n",
       "      <td>6</td>\n",
       "      <td>103</td>\n",
       "      <td>2</td>\n",
       "      <td>8.849527</td>\n",
       "    </tr>\n",
       "    <tr>\n",
       "      <th>3</th>\n",
       "      <td>2020-04-13</td>\n",
       "      <td>1662.50</td>\n",
       "      <td>0.770</td>\n",
       "      <td>41.17</td>\n",
       "      <td>6845.037598</td>\n",
       "      <td>3</td>\n",
       "      <td>4</td>\n",
       "      <td>0</td>\n",
       "      <td>104</td>\n",
       "      <td>2</td>\n",
       "      <td>8.831279</td>\n",
       "    </tr>\n",
       "    <tr>\n",
       "      <th>4</th>\n",
       "      <td>2020-04-14</td>\n",
       "      <td>1715.85</td>\n",
       "      <td>0.750</td>\n",
       "      <td>37.76</td>\n",
       "      <td>6842.427734</td>\n",
       "      <td>4</td>\n",
       "      <td>4</td>\n",
       "      <td>1</td>\n",
       "      <td>105</td>\n",
       "      <td>2</td>\n",
       "      <td>8.830898</td>\n",
       "    </tr>\n",
       "    <tr>\n",
       "      <th>5</th>\n",
       "      <td>2020-04-15</td>\n",
       "      <td>1712.25</td>\n",
       "      <td>0.635</td>\n",
       "      <td>40.84</td>\n",
       "      <td>6642.109863</td>\n",
       "      <td>5</td>\n",
       "      <td>4</td>\n",
       "      <td>2</td>\n",
       "      <td>106</td>\n",
       "      <td>2</td>\n",
       "      <td>8.801185</td>\n",
       "    </tr>\n",
       "    <tr>\n",
       "      <th>6</th>\n",
       "      <td>2020-04-16</td>\n",
       "      <td>1717.85</td>\n",
       "      <td>0.617</td>\n",
       "      <td>40.11</td>\n",
       "      <td>7116.804199</td>\n",
       "      <td>6</td>\n",
       "      <td>4</td>\n",
       "      <td>3</td>\n",
       "      <td>107</td>\n",
       "      <td>2</td>\n",
       "      <td>8.870214</td>\n",
       "    </tr>\n",
       "    <tr>\n",
       "      <th>7</th>\n",
       "      <td>2020-04-17</td>\n",
       "      <td>1693.15</td>\n",
       "      <td>0.642</td>\n",
       "      <td>38.15</td>\n",
       "      <td>7096.184570</td>\n",
       "      <td>7</td>\n",
       "      <td>4</td>\n",
       "      <td>4</td>\n",
       "      <td>108</td>\n",
       "      <td>2</td>\n",
       "      <td>8.867313</td>\n",
       "    </tr>\n",
       "    <tr>\n",
       "      <th>8</th>\n",
       "      <td>2020-04-18</td>\n",
       "      <td>1693.15</td>\n",
       "      <td>0.642</td>\n",
       "      <td>38.15</td>\n",
       "      <td>7257.665039</td>\n",
       "      <td>8</td>\n",
       "      <td>4</td>\n",
       "      <td>5</td>\n",
       "      <td>109</td>\n",
       "      <td>2</td>\n",
       "      <td>8.889813</td>\n",
       "    </tr>\n",
       "    <tr>\n",
       "      <th>9</th>\n",
       "      <td>2020-04-19</td>\n",
       "      <td>1693.15</td>\n",
       "      <td>0.642</td>\n",
       "      <td>38.15</td>\n",
       "      <td>7189.424805</td>\n",
       "      <td>9</td>\n",
       "      <td>4</td>\n",
       "      <td>6</td>\n",
       "      <td>110</td>\n",
       "      <td>2</td>\n",
       "      <td>8.880366</td>\n",
       "    </tr>\n",
       "  </tbody>\n",
       "</table>\n",
       "</div>"
      ],
      "text/plain": [
       "        Date  Gold_Price  US_10_Year  VIX_Value    BTC_Price  time_idx month  \\\n",
       "0 2020-04-10     1662.50       0.729      41.67  6865.493164         0     4   \n",
       "1 2020-04-11     1662.50       0.729      41.67  6859.083008         1     4   \n",
       "2 2020-04-12     1662.50       0.729      41.67  6971.091797         2     4   \n",
       "3 2020-04-13     1662.50       0.770      41.17  6845.037598         3     4   \n",
       "4 2020-04-14     1715.85       0.750      37.76  6842.427734         4     4   \n",
       "5 2020-04-15     1712.25       0.635      40.84  6642.109863         5     4   \n",
       "6 2020-04-16     1717.85       0.617      40.11  7116.804199         6     4   \n",
       "7 2020-04-17     1693.15       0.642      38.15  7096.184570         7     4   \n",
       "8 2020-04-18     1693.15       0.642      38.15  7257.665039         8     4   \n",
       "9 2020-04-19     1693.15       0.642      38.15  7189.424805         9     4   \n",
       "\n",
       "  day_of_week day_of_year quarter  log_price  \n",
       "0           4         101       2   8.834263  \n",
       "1           5         102       2   8.833329  \n",
       "2           6         103       2   8.849527  \n",
       "3           0         104       2   8.831279  \n",
       "4           1         105       2   8.830898  \n",
       "5           2         106       2   8.801185  \n",
       "6           3         107       2   8.870214  \n",
       "7           4         108       2   8.867313  \n",
       "8           5         109       2   8.889813  \n",
       "9           6         110       2   8.880366  "
      ]
     },
     "execution_count": 47,
     "metadata": {},
     "output_type": "execute_result"
    }
   ],
   "source": [
    "data.head(10)"
   ]
  },
  {
   "cell_type": "code",
   "execution_count": 48,
   "metadata": {},
   "outputs": [],
   "source": [
    "data['currency_type']= 'BTC'"
   ]
  },
  {
   "cell_type": "code",
   "execution_count": 49,
   "metadata": {},
   "outputs": [],
   "source": [
    "data['currency_type'] = data['currency_type'].astype(str).astype(\"category\")"
   ]
  },
  {
   "cell_type": "code",
   "execution_count": 50,
   "metadata": {},
   "outputs": [
    {
     "data": {
      "text/plain": [
       "Date             datetime64[ns]\n",
       "Gold_Price              float64\n",
       "US_10_Year              float64\n",
       "VIX_Value               float64\n",
       "BTC_Price               float64\n",
       "time_idx                  int64\n",
       "month                  category\n",
       "day_of_week            category\n",
       "day_of_year            category\n",
       "quarter                category\n",
       "log_price               float64\n",
       "currency_type          category\n",
       "dtype: object"
      ]
     },
     "execution_count": 50,
     "metadata": {},
     "output_type": "execute_result"
    }
   ],
   "source": [
    "data.dtypes"
   ]
  },
  {
   "cell_type": "code",
   "execution_count": 51,
   "metadata": {},
   "outputs": [],
   "source": [
    "# add the time index\n",
    "data[\"time_idx\"] = (data[\"Date\"] - data[\"Date\"].min()).dt.days"
   ]
  },
  {
   "cell_type": "code",
   "execution_count": 52,
   "metadata": {},
   "outputs": [],
   "source": [
    "# Create lag features for BTC_Price\n",
    "data['BTC_Price_Lag1'] = data['BTC_Price'].shift(1)\n",
    "data['BTC_Price_Lag2'] = data['BTC_Price'].shift(2)\n",
    "data['BTC_Price_Lag3'] = data['BTC_Price'].shift(3)\n",
    "data = data.dropna()\n"
   ]
  },
  {
   "cell_type": "code",
   "execution_count": 53,
   "metadata": {},
   "outputs": [],
   "source": [
    "# Scaling numerical features\n",
    "from sklearn.preprocessing import MinMaxScaler\n",
    "\n",
    "\n",
    "scaler = MinMaxScaler()\n",
    "numeric_features = [\"BTC_Price\", \"Gold_Price\", \"US_10_Year\", \"VIX_Value\", \"BTC_Price_Lag1\", \"BTC_Price_Lag2\", \"BTC_Price_Lag3\"]\n",
    "data[numeric_features] = scaler.fit_transform(data[numeric_features])"
   ]
  },
  {
   "cell_type": "code",
   "execution_count": 54,
   "metadata": {},
   "outputs": [
    {
     "data": {
      "text/html": [
       "<div>\n",
       "<style scoped>\n",
       "    .dataframe tbody tr th:only-of-type {\n",
       "        vertical-align: middle;\n",
       "    }\n",
       "\n",
       "    .dataframe tbody tr th {\n",
       "        vertical-align: top;\n",
       "    }\n",
       "\n",
       "    .dataframe thead th {\n",
       "        text-align: right;\n",
       "    }\n",
       "</style>\n",
       "<table border=\"1\" class=\"dataframe\">\n",
       "  <thead>\n",
       "    <tr style=\"text-align: right;\">\n",
       "      <th></th>\n",
       "      <th>Date</th>\n",
       "      <th>Gold_Price</th>\n",
       "      <th>US_10_Year</th>\n",
       "      <th>VIX_Value</th>\n",
       "      <th>BTC_Price</th>\n",
       "      <th>time_idx</th>\n",
       "      <th>month</th>\n",
       "      <th>day_of_week</th>\n",
       "      <th>day_of_year</th>\n",
       "      <th>quarter</th>\n",
       "      <th>log_price</th>\n",
       "      <th>currency_type</th>\n",
       "      <th>BTC_Price_Lag1</th>\n",
       "      <th>BTC_Price_Lag2</th>\n",
       "      <th>BTC_Price_Lag3</th>\n",
       "    </tr>\n",
       "  </thead>\n",
       "  <tbody>\n",
       "    <tr>\n",
       "      <th>3</th>\n",
       "      <td>2020-04-13</td>\n",
       "      <td>0.030926</td>\n",
       "      <td>0.057615</td>\n",
       "      <td>0.873621</td>\n",
       "      <td>0.002040</td>\n",
       "      <td>3</td>\n",
       "      <td>4</td>\n",
       "      <td>0</td>\n",
       "      <td>104</td>\n",
       "      <td>2</td>\n",
       "      <td>8.831279</td>\n",
       "      <td>BTC</td>\n",
       "      <td>0.003306</td>\n",
       "      <td>0.002181</td>\n",
       "      <td>0.002245</td>\n",
       "    </tr>\n",
       "    <tr>\n",
       "      <th>4</th>\n",
       "      <td>2020-04-14</td>\n",
       "      <td>0.076948</td>\n",
       "      <td>0.053149</td>\n",
       "      <td>0.771982</td>\n",
       "      <td>0.002013</td>\n",
       "      <td>4</td>\n",
       "      <td>4</td>\n",
       "      <td>1</td>\n",
       "      <td>105</td>\n",
       "      <td>2</td>\n",
       "      <td>8.830898</td>\n",
       "      <td>BTC</td>\n",
       "      <td>0.002040</td>\n",
       "      <td>0.003306</td>\n",
       "      <td>0.002181</td>\n",
       "    </tr>\n",
       "    <tr>\n",
       "      <th>5</th>\n",
       "      <td>2020-04-15</td>\n",
       "      <td>0.073843</td>\n",
       "      <td>0.027468</td>\n",
       "      <td>0.863785</td>\n",
       "      <td>0.000000</td>\n",
       "      <td>5</td>\n",
       "      <td>4</td>\n",
       "      <td>2</td>\n",
       "      <td>106</td>\n",
       "      <td>2</td>\n",
       "      <td>8.801185</td>\n",
       "      <td>BTC</td>\n",
       "      <td>0.002013</td>\n",
       "      <td>0.002040</td>\n",
       "      <td>0.003306</td>\n",
       "    </tr>\n",
       "    <tr>\n",
       "      <th>6</th>\n",
       "      <td>2020-04-16</td>\n",
       "      <td>0.078673</td>\n",
       "      <td>0.023448</td>\n",
       "      <td>0.842027</td>\n",
       "      <td>0.004771</td>\n",
       "      <td>6</td>\n",
       "      <td>4</td>\n",
       "      <td>3</td>\n",
       "      <td>107</td>\n",
       "      <td>2</td>\n",
       "      <td>8.870214</td>\n",
       "      <td>BTC</td>\n",
       "      <td>0.000000</td>\n",
       "      <td>0.002013</td>\n",
       "      <td>0.002040</td>\n",
       "    </tr>\n",
       "    <tr>\n",
       "      <th>7</th>\n",
       "      <td>2020-04-17</td>\n",
       "      <td>0.057366</td>\n",
       "      <td>0.029031</td>\n",
       "      <td>0.783607</td>\n",
       "      <td>0.004564</td>\n",
       "      <td>7</td>\n",
       "      <td>4</td>\n",
       "      <td>4</td>\n",
       "      <td>108</td>\n",
       "      <td>2</td>\n",
       "      <td>8.867313</td>\n",
       "      <td>BTC</td>\n",
       "      <td>0.004771</td>\n",
       "      <td>0.000000</td>\n",
       "      <td>0.002013</td>\n",
       "    </tr>\n",
       "    <tr>\n",
       "      <th>8</th>\n",
       "      <td>2020-04-18</td>\n",
       "      <td>0.057366</td>\n",
       "      <td>0.029031</td>\n",
       "      <td>0.783607</td>\n",
       "      <td>0.006187</td>\n",
       "      <td>8</td>\n",
       "      <td>4</td>\n",
       "      <td>5</td>\n",
       "      <td>109</td>\n",
       "      <td>2</td>\n",
       "      <td>8.889813</td>\n",
       "      <td>BTC</td>\n",
       "      <td>0.004564</td>\n",
       "      <td>0.004771</td>\n",
       "      <td>0.000000</td>\n",
       "    </tr>\n",
       "    <tr>\n",
       "      <th>9</th>\n",
       "      <td>2020-04-19</td>\n",
       "      <td>0.057366</td>\n",
       "      <td>0.029031</td>\n",
       "      <td>0.783607</td>\n",
       "      <td>0.005501</td>\n",
       "      <td>9</td>\n",
       "      <td>4</td>\n",
       "      <td>6</td>\n",
       "      <td>110</td>\n",
       "      <td>2</td>\n",
       "      <td>8.880366</td>\n",
       "      <td>BTC</td>\n",
       "      <td>0.006187</td>\n",
       "      <td>0.004564</td>\n",
       "      <td>0.004771</td>\n",
       "    </tr>\n",
       "    <tr>\n",
       "      <th>10</th>\n",
       "      <td>2020-04-20</td>\n",
       "      <td>0.050292</td>\n",
       "      <td>0.023225</td>\n",
       "      <td>0.952906</td>\n",
       "      <td>0.002411</td>\n",
       "      <td>10</td>\n",
       "      <td>4</td>\n",
       "      <td>0</td>\n",
       "      <td>111</td>\n",
       "      <td>2</td>\n",
       "      <td>8.836659</td>\n",
       "      <td>BTC</td>\n",
       "      <td>0.005501</td>\n",
       "      <td>0.006187</td>\n",
       "      <td>0.004564</td>\n",
       "    </tr>\n",
       "    <tr>\n",
       "      <th>11</th>\n",
       "      <td>2020-04-21</td>\n",
       "      <td>0.044815</td>\n",
       "      <td>0.012059</td>\n",
       "      <td>1.000000</td>\n",
       "      <td>0.002394</td>\n",
       "      <td>11</td>\n",
       "      <td>4</td>\n",
       "      <td>1</td>\n",
       "      <td>112</td>\n",
       "      <td>2</td>\n",
       "      <td>8.836421</td>\n",
       "      <td>BTC</td>\n",
       "      <td>0.002411</td>\n",
       "      <td>0.005501</td>\n",
       "      <td>0.006187</td>\n",
       "    </tr>\n",
       "    <tr>\n",
       "      <th>12</th>\n",
       "      <td>2020-04-22</td>\n",
       "      <td>0.065561</td>\n",
       "      <td>0.023671</td>\n",
       "      <td>0.897765</td>\n",
       "      <td>0.004775</td>\n",
       "      <td>12</td>\n",
       "      <td>4</td>\n",
       "      <td>2</td>\n",
       "      <td>113</td>\n",
       "      <td>2</td>\n",
       "      <td>8.870271</td>\n",
       "      <td>BTC</td>\n",
       "      <td>0.002394</td>\n",
       "      <td>0.002411</td>\n",
       "      <td>0.005501</td>\n",
       "    </tr>\n",
       "  </tbody>\n",
       "</table>\n",
       "</div>"
      ],
      "text/plain": [
       "         Date  Gold_Price  US_10_Year  VIX_Value  BTC_Price  time_idx month  \\\n",
       "3  2020-04-13    0.030926    0.057615   0.873621   0.002040         3     4   \n",
       "4  2020-04-14    0.076948    0.053149   0.771982   0.002013         4     4   \n",
       "5  2020-04-15    0.073843    0.027468   0.863785   0.000000         5     4   \n",
       "6  2020-04-16    0.078673    0.023448   0.842027   0.004771         6     4   \n",
       "7  2020-04-17    0.057366    0.029031   0.783607   0.004564         7     4   \n",
       "8  2020-04-18    0.057366    0.029031   0.783607   0.006187         8     4   \n",
       "9  2020-04-19    0.057366    0.029031   0.783607   0.005501         9     4   \n",
       "10 2020-04-20    0.050292    0.023225   0.952906   0.002411        10     4   \n",
       "11 2020-04-21    0.044815    0.012059   1.000000   0.002394        11     4   \n",
       "12 2020-04-22    0.065561    0.023671   0.897765   0.004775        12     4   \n",
       "\n",
       "   day_of_week day_of_year quarter  log_price currency_type  BTC_Price_Lag1  \\\n",
       "3            0         104       2   8.831279           BTC        0.003306   \n",
       "4            1         105       2   8.830898           BTC        0.002040   \n",
       "5            2         106       2   8.801185           BTC        0.002013   \n",
       "6            3         107       2   8.870214           BTC        0.000000   \n",
       "7            4         108       2   8.867313           BTC        0.004771   \n",
       "8            5         109       2   8.889813           BTC        0.004564   \n",
       "9            6         110       2   8.880366           BTC        0.006187   \n",
       "10           0         111       2   8.836659           BTC        0.005501   \n",
       "11           1         112       2   8.836421           BTC        0.002411   \n",
       "12           2         113       2   8.870271           BTC        0.002394   \n",
       "\n",
       "    BTC_Price_Lag2  BTC_Price_Lag3  \n",
       "3         0.002181        0.002245  \n",
       "4         0.003306        0.002181  \n",
       "5         0.002040        0.003306  \n",
       "6         0.002013        0.002040  \n",
       "7         0.000000        0.002013  \n",
       "8         0.004771        0.000000  \n",
       "9         0.004564        0.004771  \n",
       "10        0.006187        0.004564  \n",
       "11        0.005501        0.006187  \n",
       "12        0.002411        0.005501  "
      ]
     },
     "execution_count": 54,
     "metadata": {},
     "output_type": "execute_result"
    }
   ],
   "source": [
    "data.head(10)"
   ]
  },
  {
   "cell_type": "code",
   "execution_count": 55,
   "metadata": {},
   "outputs": [],
   "source": [
    "# create the TimeSeriesDataset\n",
    "max_prediction_length = 30\n",
    "max_encoder_length = 90\n",
    "training_cutoff = data[\"time_idx\"].max() - max_prediction_length\n",
    "\n",
    "training = TimeSeriesDataSet(\n",
    "    data[lambda x: x.time_idx <= training_cutoff],\n",
    "    time_idx=\"time_idx\",\n",
    "    target=\"BTC_Price\",\n",
    "    group_ids=[\"currency_type\"],\n",
    "    min_encoder_length=max_encoder_length // 2,  # keep encoder length long (as it is in the validation set)\n",
    "    max_encoder_length=max_encoder_length,\n",
    "    min_prediction_length=1,\n",
    "    max_prediction_length=max_prediction_length,\n",
    "    static_categoricals=[\"currency_type\"],\n",
    "    static_reals=[],\n",
    "    time_varying_known_categoricals=[\"month\", \"day_of_week\", \"day_of_year\", \"quarter\"],\n",
    "    time_varying_known_reals=[\"Gold_Price\", \"US_10_Year\", \"VIX_Value\"],\n",
    "    time_varying_unknown_categoricals=[],\n",
    "    time_varying_unknown_reals=[\"BTC_Price\",\"log_price\", \"BTC_Price_Lag1\", \"BTC_Price_Lag2\", \"BTC_Price_Lag3\"],\n",
    "    target_normalizer=GroupNormalizer(\n",
    "        groups=[\"currency_type\"], transformation=\"softplus\"\n",
    "    ),  # use softplus and normalize by group\n",
    "    add_relative_time_idx=True,\n",
    "    add_target_scales=True,\n",
    "    add_encoder_length=True,\n",
    ")\n",
    "\n",
    "# create validation set (predict=True) which means to predict the last max_prediction_length points in time\n",
    "# for each series\n",
    "validation = TimeSeriesDataSet.from_dataset(training, data, predict=True, stop_randomization=True)\n",
    "\n",
    "# create dataloaders for model\n",
    "batch_size = 128  # set this between 32 to 128\n",
    "train_dataloader = training.to_dataloader(train=True, batch_size=batch_size, num_workers=0)\n",
    "val_dataloader = validation.to_dataloader(train=False, batch_size=batch_size * 10, num_workers=0)"
   ]
  },
  {
   "cell_type": "code",
   "execution_count": 56,
   "metadata": {},
   "outputs": [
    {
     "name": "stderr",
     "output_type": "stream",
     "text": [
      "Seed set to 42\n",
      "GPU available: True (cuda), used: True\n",
      "TPU available: False, using: 0 TPU cores\n",
      "HPU available: False, using: 0 HPUs\n",
      "c:\\Users\\Sathmika\\anaconda3\\Lib\\site-packages\\lightning\\pytorch\\utilities\\parsing.py:208: Attribute 'loss' is an instance of `nn.Module` and is already saved during checkpointing. It is recommended to ignore them using `self.save_hyperparameters(ignore=['loss'])`.\n",
      "c:\\Users\\Sathmika\\anaconda3\\Lib\\site-packages\\lightning\\pytorch\\utilities\\parsing.py:208: Attribute 'logging_metrics' is an instance of `nn.Module` and is already saved during checkpointing. It is recommended to ignore them using `self.save_hyperparameters(ignore=['logging_metrics'])`.\n",
      "c:\\Users\\Sathmika\\anaconda3\\Lib\\site-packages\\pytorch_forecasting\\models\\temporal_fusion_transformer\\__init__.py:143: UserWarning: In pytorch-forecasting models, on versions 1.1.X, the default optimizer defaults to 'adam', if pytorch_optimizer is not installed, otherwise it defaults to 'ranger' from pytorch_optimizer. From version 1.2.0, the default optimizer will be 'adam' regardless of whether pytorch_optimizer is installed, in order to minimize the number of dependencies in default parameter settings. Users who wish to ensure their code continues using 'ranger' as optimizer should ensure that pytorch_optimizer is installed, and set the optimizer parameter explicitly to 'ranger'.\n",
      "  super().__init__(loss=loss, logging_metrics=logging_metrics, **kwargs)\n"
     ]
    },
    {
     "name": "stdout",
     "output_type": "stream",
     "text": [
      "Number of parameters in network: 14.3k\n"
     ]
    }
   ],
   "source": [
    "# configure network and trainer\n",
    "pl.seed_everything(42)\n",
    "trainer = pl.Trainer(\n",
    "    accelerator=\"gpu\",\n",
    "    # clipping gradients is a hyperparameter and important to prevent divergance\n",
    "    # of the gradient for recurrent neural networks\n",
    "    gradient_clip_val=0.1,\n",
    ")\n",
    "\n",
    "\n",
    "tft = TemporalFusionTransformer.from_dataset(\n",
    "    training,\n",
    "    # not meaningful for finding the learning rate but otherwise very important\n",
    "    learning_rate=0.03,\n",
    "    hidden_size=8,  # most important hyperparameter apart from learning rate\n",
    "    # number of attention heads. Set to up to 4 for large datasets\n",
    "    attention_head_size=1,\n",
    "    dropout=0.1,  # between 0.1 and 0.3 are good values\n",
    "    hidden_continuous_size=8,  # set to <= hidden_size\n",
    "    loss=QuantileLoss(),\n",
    "    # optimizer=\"Ranger\",\n",
    "    # reduce learning rate if no improvement in validation loss after x epochs\n",
    "    # reduce_on_plateau_patience=1000,\n",
    ")\n",
    "print(f\"Number of parameters in network: {tft.size() / 1e3:.1f}k\")"
   ]
  },
  {
   "cell_type": "code",
   "execution_count": 57,
   "metadata": {},
   "outputs": [
    {
     "name": "stderr",
     "output_type": "stream",
     "text": [
      "c:\\Users\\Sathmika\\anaconda3\\Lib\\site-packages\\lightning\\pytorch\\loops\\utilities.py:72: `max_epochs` was not set. Setting it to 1000 epochs. To train without an epoch limit, set `max_epochs=-1`.\n",
      "LOCAL_RANK: 0 - CUDA_VISIBLE_DEVICES: [0]\n",
      "c:\\Users\\Sathmika\\anaconda3\\Lib\\site-packages\\lightning\\pytorch\\trainer\\connectors\\data_connector.py:424: The 'train_dataloader' does not have many workers which may be a bottleneck. Consider increasing the value of the `num_workers` argument` to `num_workers=7` in the `DataLoader` to improve performance.\n",
      "c:\\Users\\Sathmika\\anaconda3\\Lib\\site-packages\\lightning\\pytorch\\loops\\fit_loop.py:298: The number of training batches (13) is smaller than the logging interval Trainer(log_every_n_steps=50). Set a lower value for log_every_n_steps if you want to see logs for the training epoch.\n",
      "c:\\Users\\Sathmika\\anaconda3\\Lib\\site-packages\\lightning\\pytorch\\trainer\\connectors\\data_connector.py:424: The 'val_dataloader' does not have many workers which may be a bottleneck. Consider increasing the value of the `num_workers` argument` to `num_workers=7` in the `DataLoader` to improve performance.\n"
     ]
    },
    {
     "data": {
      "application/vnd.jupyter.widget-view+json": {
       "model_id": "56f7c743acdd417888fe30eb7bff1f5f",
       "version_major": 2,
       "version_minor": 0
      },
      "text/plain": [
       "Finding best initial lr:   0%|          | 0/100 [00:00<?, ?it/s]"
      ]
     },
     "metadata": {},
     "output_type": "display_data"
    },
    {
     "name": "stderr",
     "output_type": "stream",
     "text": [
      "`Trainer.fit` stopped: `max_steps=100` reached.\n",
      "Learning rate set to 0.007079457843841384\n",
      "Restoring states from the checkpoint path at c:\\Users\\Sathmika\\Desktop\\FYP\\cryptoCurrencyPricePredictionTFT\\cryptoCurrencyPricePredictionTFT\\final\\.lr_find_856d6de9-b922-4ba2-bbb1-8d5b2ccbc3d6.ckpt\n",
      "Restored all states from the checkpoint at c:\\Users\\Sathmika\\Desktop\\FYP\\cryptoCurrencyPricePredictionTFT\\cryptoCurrencyPricePredictionTFT\\final\\.lr_find_856d6de9-b922-4ba2-bbb1-8d5b2ccbc3d6.ckpt\n"
     ]
    },
    {
     "name": "stdout",
     "output_type": "stream",
     "text": [
      "suggested learning rate: 0.007079457843841384\n"
     ]
    },
    {
     "data": {
      "image/png": "[encoded data removed]",
      "text/plain": [
       "<Figure size 640x480 with 1 Axes>"
      ]
     },
     "metadata": {},
     "output_type": "display_data"
    },
    {
     "name": "stderr",
     "output_type": "stream",
     "text": [
      "C:\\Users\\Sathmika\\AppData\\Local\\Temp\\ipykernel_10952\\4268711780.py:14: UserWarning: FigureCanvasAgg is non-interactive, and thus cannot be shown\n",
      "  fig.show()\n"
     ]
    }
   ],
   "source": [
    "# find optimal learning rate\n",
    "from lightning.pytorch.tuner import Tuner\n",
    "\n",
    "res = Tuner(trainer).lr_find(\n",
    "    tft,\n",
    "    train_dataloaders=train_dataloader,\n",
    "    val_dataloaders=val_dataloader,\n",
    "    max_lr=10.0,\n",
    "    min_lr=1e-6,\n",
    ")\n",
    "\n",
    "print(f\"suggested learning rate: {res.suggestion()}\")\n",
    "fig = res.plot(show=True, suggest=True)\n",
    "fig.show()"
   ]
  },
  {
   "cell_type": "code",
   "execution_count": 58,
   "metadata": {},
   "outputs": [
    {
     "name": "stderr",
     "output_type": "stream",
     "text": [
      "GPU available: True (cuda), used: True\n",
      "TPU available: False, using: 0 TPU cores\n",
      "HPU available: False, using: 0 HPUs\n"
     ]
    },
    {
     "name": "stdout",
     "output_type": "stream",
     "text": [
      "Number of parameters in network: 83.6k\n"
     ]
    },
    {
     "name": "stderr",
     "output_type": "stream",
     "text": [
      "c:\\Users\\Sathmika\\anaconda3\\Lib\\site-packages\\lightning\\pytorch\\utilities\\parsing.py:208: Attribute 'loss' is an instance of `nn.Module` and is already saved during checkpointing. It is recommended to ignore them using `self.save_hyperparameters(ignore=['loss'])`.\n",
      "c:\\Users\\Sathmika\\anaconda3\\Lib\\site-packages\\lightning\\pytorch\\utilities\\parsing.py:208: Attribute 'logging_metrics' is an instance of `nn.Module` and is already saved during checkpointing. It is recommended to ignore them using `self.save_hyperparameters(ignore=['logging_metrics'])`.\n",
      "c:\\Users\\Sathmika\\anaconda3\\Lib\\site-packages\\pytorch_forecasting\\models\\temporal_fusion_transformer\\__init__.py:143: UserWarning: In pytorch-forecasting models, on versions 1.1.X, the default optimizer defaults to 'adam', if pytorch_optimizer is not installed, otherwise it defaults to 'ranger' from pytorch_optimizer. From version 1.2.0, the default optimizer will be 'adam' regardless of whether pytorch_optimizer is installed, in order to minimize the number of dependencies in default parameter settings. Users who wish to ensure their code continues using 'ranger' as optimizer should ensure that pytorch_optimizer is installed, and set the optimizer parameter explicitly to 'ranger'.\n",
      "  super().__init__(loss=loss, logging_metrics=logging_metrics, **kwargs)\n"
     ]
    }
   ],
   "source": [
    "# configure network and trainer\n",
    "early_stop_callback = EarlyStopping(monitor=\"val_loss\", min_delta=1e-4, patience=10, verbose=False, mode=\"min\")\n",
    "lr_logger = LearningRateMonitor()  # log the learning rate\n",
    "logger = TensorBoardLogger(\"lightning_logs\")  # logging results to a tensorboard\n",
    "\n",
    "trainer = pl.Trainer(\n",
    "    max_epochs=200,\n",
    "    accelerator=\"gpu\",\n",
    "    enable_model_summary=True,\n",
    "    gradient_clip_val=0.1,\n",
    "    limit_train_batches=64,  # coment in for training, running valiation every 30 batches\n",
    "    # fast_dev_run=True,  # comment in to check that networkor dataset has no serious bugs\n",
    "    callbacks=[lr_logger, early_stop_callback],\n",
    "    logger=logger,\n",
    ")\n",
    "\n",
    "tft = TemporalFusionTransformer.from_dataset(\n",
    "    training,\n",
    "    learning_rate=0.003,\n",
    "    hidden_size=32,\n",
    "    attention_head_size=8,\n",
    "    dropout=0.2,\n",
    "    hidden_continuous_size=8,\n",
    "    loss=QuantileLoss(),\n",
    "    log_interval=10,  # uncomment for learning rate finder and otherwise, e.g. to 10 for logging every 10 batches\n",
    "    # optimizer=\"Ranger\",\n",
    "    reduce_on_plateau_patience=4,\n",
    ")\n",
    "print(f\"Number of parameters in network: {tft.size() / 1e3:.1f}k\")"
   ]
  },
  {
   "cell_type": "code",
   "execution_count": 59,
   "metadata": {},
   "outputs": [
    {
     "name": "stderr",
     "output_type": "stream",
     "text": [
      "LOCAL_RANK: 0 - CUDA_VISIBLE_DEVICES: [0]\n"
     ]
    },
    {
     "name": "stderr",
     "output_type": "stream",
     "text": [
      "\n",
      "   | Name                               | Type                            | Params | Mode \n",
      "------------------------------------------------------------------------------------------------\n",
      "0  | loss                               | QuantileLoss                    | 0      | train\n",
      "1  | logging_metrics                    | ModuleList                      | 0      | train\n",
      "2  | input_embeddings                   | MultiEmbedding                  | 11.8 K | train\n",
      "3  | prescalers                         | ModuleDict                      | 192    | train\n",
      "4  | static_variable_selection          | VariableSelectionNetwork        | 3.0 K  | train\n",
      "5  | encoder_variable_selection         | VariableSelectionNetwork        | 11.0 K | train\n",
      "6  | decoder_variable_selection         | VariableSelectionNetwork        | 5.1 K  | train\n",
      "7  | static_context_variable_selection  | GatedResidualNetwork            | 4.3 K  | train\n",
      "8  | static_context_initial_hidden_lstm | GatedResidualNetwork            | 4.3 K  | train\n",
      "9  | static_context_initial_cell_lstm   | GatedResidualNetwork            | 4.3 K  | train\n",
      "10 | static_context_enrichment          | GatedResidualNetwork            | 4.3 K  | train\n",
      "11 | lstm_encoder                       | LSTM                            | 8.4 K  | train\n",
      "12 | lstm_decoder                       | LSTM                            | 8.4 K  | train\n",
      "13 | post_lstm_gate_encoder             | GatedLinearUnit                 | 2.1 K  | train\n",
      "14 | post_lstm_add_norm_encoder         | AddNorm                         | 64     | train\n",
      "15 | static_enrichment                  | GatedResidualNetwork            | 5.3 K  | train\n",
      "16 | multihead_attn                     | InterpretableMultiHeadAttention | 2.4 K  | train\n",
      "17 | post_attn_gate_norm                | GateAddNorm                     | 2.2 K  | train\n",
      "18 | pos_wise_ff                        | GatedResidualNetwork            | 4.3 K  | train\n",
      "19 | pre_output_gate_norm               | GateAddNorm                     | 2.2 K  | train\n",
      "20 | output_layer                       | Linear                          | 231    | train\n",
      "------------------------------------------------------------------------------------------------\n",
      "83.6 K    Trainable params\n",
      "0         Non-trainable params\n",
      "83.6 K    Total params\n",
      "0.335     Total estimated model params size (MB)\n",
      "444       Modules in train mode\n",
      "0         Modules in eval mode\n"
     ]
    },
    {
     "data": {
      "application/vnd.jupyter.widget-view+json": {
       "model_id": "1c01f5ef6c6a4134bd9f99516b37a046",
       "version_major": 2,
       "version_minor": 0
      },
      "text/plain": [
       "Sanity Checking: |          | 0/? [00:00<?, ?it/s]"
      ]
     },
     "metadata": {},
     "output_type": "display_data"
    },
    {
     "name": "stderr",
     "output_type": "stream",
     "text": [
      "c:\\Users\\Sathmika\\anaconda3\\Lib\\site-packages\\lightning\\pytorch\\trainer\\connectors\\data_connector.py:424: The 'val_dataloader' does not have many workers which may be a bottleneck. Consider increasing the value of the `num_workers` argument` to `num_workers=7` in the `DataLoader` to improve performance.\n",
      "c:\\Users\\Sathmika\\anaconda3\\Lib\\site-packages\\lightning\\pytorch\\trainer\\connectors\\data_connector.py:424: The 'train_dataloader' does not have many workers which may be a bottleneck. Consider increasing the value of the `num_workers` argument` to `num_workers=7` in the `DataLoader` to improve performance.\n",
      "c:\\Users\\Sathmika\\anaconda3\\Lib\\site-packages\\lightning\\pytorch\\loops\\fit_loop.py:298: The number of training batches (13) is smaller than the logging interval Trainer(log_every_n_steps=50). Set a lower value for log_every_n_steps if you want to see logs for the training epoch.\n"
     ]
    },
    {
     "data": {
      "application/vnd.jupyter.widget-view+json": {
       "model_id": "7176fdb248b2472d99de5efbc8268458",
       "version_major": 2,
       "version_minor": 0
      },
      "text/plain": [
       "Training: |          | 0/? [00:00<?, ?it/s]"
      ]
     },
     "metadata": {},
     "output_type": "display_data"
    },
    {
     "data": {
      "application/vnd.jupyter.widget-view+json": {
       "model_id": "98d00a6b9dca49b28b94b1ab7beec660",
       "version_major": 2,
       "version_minor": 0
      },
      "text/plain": [
       "Validation: |          | 0/? [00:00<?, ?it/s]"
      ]
     },
     "metadata": {},
     "output_type": "display_data"
    },
    {
     "data": {
      "application/vnd.jupyter.widget-view+json": {
       "model_id": "7a2e28c9210940c0a59635457f7ce8b6",
       "version_major": 2,
       "version_minor": 0
      },
      "text/plain": [
       "Validation: |          | 0/? [00:00<?, ?it/s]"
      ]
     },
     "metadata": {},
     "output_type": "display_data"
    },
    {
     "data": {
      "application/vnd.jupyter.widget-view+json": {
       "model_id": "3bbe4c8e152a451f82707e39cdd79c94",
       "version_major": 2,
       "version_minor": 0
      },
      "text/plain": [
       "Validation: |          | 0/? [00:00<?, ?it/s]"
      ]
     },
     "metadata": {},
     "output_type": "display_data"
    },
    {
     "data": {
      "application/vnd.jupyter.widget-view+json": {
       "model_id": "2fc0e878feae4d51bf946a0d1f536344",
       "version_major": 2,
       "version_minor": 0
      },
      "text/plain": [
       "Validation: |          | 0/? [00:00<?, ?it/s]"
      ]
     },
     "metadata": {},
     "output_type": "display_data"
    },
    {
     "data": {
      "application/vnd.jupyter.widget-view+json": {
       "model_id": "f46c513113904ba2bf6eb81f6c71593a",
       "version_major": 2,
       "version_minor": 0
      },
      "text/plain": [
       "Validation: |          | 0/? [00:00<?, ?it/s]"
      ]
     },
     "metadata": {},
     "output_type": "display_data"
    },
    {
     "data": {
      "application/vnd.jupyter.widget-view+json": {
       "model_id": "7ba7c706ff7143dfb672129b6569566f",
       "version_major": 2,
       "version_minor": 0
      },
      "text/plain": [
       "Validation: |          | 0/? [00:00<?, ?it/s]"
      ]
     },
     "metadata": {},
     "output_type": "display_data"
    },
    {
     "data": {
      "application/vnd.jupyter.widget-view+json": {
       "model_id": "f6fbfc20b5744e23973abd9ee4e17055",
       "version_major": 2,
       "version_minor": 0
      },
      "text/plain": [
       "Validation: |          | 0/? [00:00<?, ?it/s]"
      ]
     },
     "metadata": {},
     "output_type": "display_data"
    },
    {
     "data": {
      "application/vnd.jupyter.widget-view+json": {
       "model_id": "2bf76b86c2f543148df38d545a022a5e",
       "version_major": 2,
       "version_minor": 0
      },
      "text/plain": [
       "Validation: |          | 0/? [00:00<?, ?it/s]"
      ]
     },
     "metadata": {},
     "output_type": "display_data"
    },
    {
     "data": {
      "application/vnd.jupyter.widget-view+json": {
       "model_id": "b0321e8e907c4aaa94cf8f12391d44aa",
       "version_major": 2,
       "version_minor": 0
      },
      "text/plain": [
       "Validation: |          | 0/? [00:00<?, ?it/s]"
      ]
     },
     "metadata": {},
     "output_type": "display_data"
    },
    {
     "data": {
      "application/vnd.jupyter.widget-view+json": {
       "model_id": "eb3c47866ab844f08954f7ffe1b8bb35",
       "version_major": 2,
       "version_minor": 0
      },
      "text/plain": [
       "Validation: |          | 0/? [00:00<?, ?it/s]"
      ]
     },
     "metadata": {},
     "output_type": "display_data"
    },
    {
     "data": {
      "application/vnd.jupyter.widget-view+json": {
       "model_id": "d723c3032c4d4d74807a453620012621",
       "version_major": 2,
       "version_minor": 0
      },
      "text/plain": [
       "Validation: |          | 0/? [00:00<?, ?it/s]"
      ]
     },
     "metadata": {},
     "output_type": "display_data"
    },
    {
     "data": {
      "application/vnd.jupyter.widget-view+json": {
       "model_id": "38ed55d438a04324bcf69668093efa26",
       "version_major": 2,
       "version_minor": 0
      },
      "text/plain": [
       "Validation: |          | 0/? [00:00<?, ?it/s]"
      ]
     },
     "metadata": {},
     "output_type": "display_data"
    },
    {
     "data": {
      "application/vnd.jupyter.widget-view+json": {
       "model_id": "cdbbcae91a2046d5a01e2bc3de60ee8c",
       "version_major": 2,
       "version_minor": 0
      },
      "text/plain": [
       "Validation: |          | 0/? [00:00<?, ?it/s]"
      ]
     },
     "metadata": {},
     "output_type": "display_data"
    },
    {
     "data": {
      "application/vnd.jupyter.widget-view+json": {
       "model_id": "99896001dde248b3a10ac4050a79c0c2",
       "version_major": 2,
       "version_minor": 0
      },
      "text/plain": [
       "Validation: |          | 0/? [00:00<?, ?it/s]"
      ]
     },
     "metadata": {},
     "output_type": "display_data"
    },
    {
     "data": {
      "application/vnd.jupyter.widget-view+json": {
       "model_id": "e9deaec88c664313a17b457719c445a6",
       "version_major": 2,
       "version_minor": 0
      },
      "text/plain": [
       "Validation: |          | 0/? [00:00<?, ?it/s]"
      ]
     },
     "metadata": {},
     "output_type": "display_data"
    },
    {
     "data": {
      "application/vnd.jupyter.widget-view+json": {
       "model_id": "4ff45badf18c4b718217c5305fe76a5e",
       "version_major": 2,
       "version_minor": 0
      },
      "text/plain": [
       "Validation: |          | 0/? [00:00<?, ?it/s]"
      ]
     },
     "metadata": {},
     "output_type": "display_data"
    },
    {
     "data": {
      "application/vnd.jupyter.widget-view+json": {
       "model_id": "0be41f4a2dd346cbb61cee2fc51b6d2f",
       "version_major": 2,
       "version_minor": 0
      },
      "text/plain": [
       "Validation: |          | 0/? [00:00<?, ?it/s]"
      ]
     },
     "metadata": {},
     "output_type": "display_data"
    },
    {
     "data": {
      "application/vnd.jupyter.widget-view+json": {
       "model_id": "7eb4b10befe64040a2bd2183fbe68c57",
       "version_major": 2,
       "version_minor": 0
      },
      "text/plain": [
       "Validation: |          | 0/? [00:00<?, ?it/s]"
      ]
     },
     "metadata": {},
     "output_type": "display_data"
    },
    {
     "data": {
      "application/vnd.jupyter.widget-view+json": {
       "model_id": "3307a1a9cfda4c19b81cf29191ba33ff",
       "version_major": 2,
       "version_minor": 0
      },
      "text/plain": [
       "Validation: |          | 0/? [00:00<?, ?it/s]"
      ]
     },
     "metadata": {},
     "output_type": "display_data"
    },
    {
     "data": {
      "application/vnd.jupyter.widget-view+json": {
       "model_id": "2b05f07fb6d241ec9070ea2c879fcb96",
       "version_major": 2,
       "version_minor": 0
      },
      "text/plain": [
       "Validation: |          | 0/? [00:00<?, ?it/s]"
      ]
     },
     "metadata": {},
     "output_type": "display_data"
    },
    {
     "data": {
      "application/vnd.jupyter.widget-view+json": {
       "model_id": "fd3a2742b77a4e69b6c38478a2d236ee",
       "version_major": 2,
       "version_minor": 0
      },
      "text/plain": [
       "Validation: |          | 0/? [00:00<?, ?it/s]"
      ]
     },
     "metadata": {},
     "output_type": "display_data"
    },
    {
     "data": {
      "application/vnd.jupyter.widget-view+json": {
       "model_id": "4faccbc38e83431ab074575cf76ca31b",
       "version_major": 2,
       "version_minor": 0
      },
      "text/plain": [
       "Validation: |          | 0/? [00:00<?, ?it/s]"
      ]
     },
     "metadata": {},
     "output_type": "display_data"
    },
    {
     "data": {
      "application/vnd.jupyter.widget-view+json": {
       "model_id": "1f1e63bff8174fd8bcedd7844cab3a64",
       "version_major": 2,
       "version_minor": 0
      },
      "text/plain": [
       "Validation: |          | 0/? [00:00<?, ?it/s]"
      ]
     },
     "metadata": {},
     "output_type": "display_data"
    },
    {
     "data": {
      "application/vnd.jupyter.widget-view+json": {
       "model_id": "0aa5ee1afcaf4166b45ba346e2163726",
       "version_major": 2,
       "version_minor": 0
      },
      "text/plain": [
       "Validation: |          | 0/? [00:00<?, ?it/s]"
      ]
     },
     "metadata": {},
     "output_type": "display_data"
    },
    {
     "data": {
      "application/vnd.jupyter.widget-view+json": {
       "model_id": "cac6e4a0da9c4861bd051109ed99cb0e",
       "version_major": 2,
       "version_minor": 0
      },
      "text/plain": [
       "Validation: |          | 0/? [00:00<?, ?it/s]"
      ]
     },
     "metadata": {},
     "output_type": "display_data"
    },
    {
     "data": {
      "application/vnd.jupyter.widget-view+json": {
       "model_id": "f83035bc60e8402488f9dae8e608c6af",
       "version_major": 2,
       "version_minor": 0
      },
      "text/plain": [
       "Validation: |          | 0/? [00:00<?, ?it/s]"
      ]
     },
     "metadata": {},
     "output_type": "display_data"
    },
    {
     "data": {
      "application/vnd.jupyter.widget-view+json": {
       "model_id": "2c49d22b0fb94c8db207aeb8fdcf4790",
       "version_major": 2,
       "version_minor": 0
      },
      "text/plain": [
       "Validation: |          | 0/? [00:00<?, ?it/s]"
      ]
     },
     "metadata": {},
     "output_type": "display_data"
    },
    {
     "data": {
      "application/vnd.jupyter.widget-view+json": {
       "model_id": "9c14ce2816384a659d830bfacc3b59c1",
       "version_major": 2,
       "version_minor": 0
      },
      "text/plain": [
       "Validation: |          | 0/? [00:00<?, ?it/s]"
      ]
     },
     "metadata": {},
     "output_type": "display_data"
    },
    {
     "data": {
      "application/vnd.jupyter.widget-view+json": {
       "model_id": "c46c5825135b45a58b8eac37876d2f1b",
       "version_major": 2,
       "version_minor": 0
      },
      "text/plain": [
       "Validation: |          | 0/? [00:00<?, ?it/s]"
      ]
     },
     "metadata": {},
     "output_type": "display_data"
    },
    {
     "data": {
      "application/vnd.jupyter.widget-view+json": {
       "model_id": "6928b3bd51354c78a264c8eb0402f3c4",
       "version_major": 2,
       "version_minor": 0
      },
      "text/plain": [
       "Validation: |          | 0/? [00:00<?, ?it/s]"
      ]
     },
     "metadata": {},
     "output_type": "display_data"
    },
    {
     "data": {
      "application/vnd.jupyter.widget-view+json": {
       "model_id": "4b426d6ad4c2469ca37ea51528092c82",
       "version_major": 2,
       "version_minor": 0
      },
      "text/plain": [
       "Validation: |          | 0/? [00:00<?, ?it/s]"
      ]
     },
     "metadata": {},
     "output_type": "display_data"
    },
    {
     "data": {
      "application/vnd.jupyter.widget-view+json": {
       "model_id": "446a71af12d2480e90823770c3377073",
       "version_major": 2,
       "version_minor": 0
      },
      "text/plain": [
       "Validation: |          | 0/? [00:00<?, ?it/s]"
      ]
     },
     "metadata": {},
     "output_type": "display_data"
    },
    {
     "data": {
      "application/vnd.jupyter.widget-view+json": {
       "model_id": "06df7b5617f74ee5afffd4eb52d32283",
       "version_major": 2,
       "version_minor": 0
      },
      "text/plain": [
       "Validation: |          | 0/? [00:00<?, ?it/s]"
      ]
     },
     "metadata": {},
     "output_type": "display_data"
    },
    {
     "data": {
      "application/vnd.jupyter.widget-view+json": {
       "model_id": "54991a75dd104f1ab78e102a5f2263d6",
       "version_major": 2,
       "version_minor": 0
      },
      "text/plain": [
       "Validation: |          | 0/? [00:00<?, ?it/s]"
      ]
     },
     "metadata": {},
     "output_type": "display_data"
    },
    {
     "data": {
      "application/vnd.jupyter.widget-view+json": {
       "model_id": "41c5f0f7355a4bb98dfe64a78c9a1d51",
       "version_major": 2,
       "version_minor": 0
      },
      "text/plain": [
       "Validation: |          | 0/? [00:00<?, ?it/s]"
      ]
     },
     "metadata": {},
     "output_type": "display_data"
    },
    {
     "data": {
      "application/vnd.jupyter.widget-view+json": {
       "model_id": "ebd2e33a8e17476e8dece1217084275e",
       "version_major": 2,
       "version_minor": 0
      },
      "text/plain": [
       "Validation: |          | 0/? [00:00<?, ?it/s]"
      ]
     },
     "metadata": {},
     "output_type": "display_data"
    },
    {
     "data": {
      "application/vnd.jupyter.widget-view+json": {
       "model_id": "2afd227ddd9540108e96b507a8145ebc",
       "version_major": 2,
       "version_minor": 0
      },
      "text/plain": [
       "Validation: |          | 0/? [00:00<?, ?it/s]"
      ]
     },
     "metadata": {},
     "output_type": "display_data"
    },
    {
     "data": {
      "application/vnd.jupyter.widget-view+json": {
       "model_id": "d906103abda34e9faa291f98dbce8da9",
       "version_major": 2,
       "version_minor": 0
      },
      "text/plain": [
       "Validation: |          | 0/? [00:00<?, ?it/s]"
      ]
     },
     "metadata": {},
     "output_type": "display_data"
    },
    {
     "data": {
      "application/vnd.jupyter.widget-view+json": {
       "model_id": "4b4a805b770349768b19adc0e0703604",
       "version_major": 2,
       "version_minor": 0
      },
      "text/plain": [
       "Validation: |          | 0/? [00:00<?, ?it/s]"
      ]
     },
     "metadata": {},
     "output_type": "display_data"
    },
    {
     "data": {
      "application/vnd.jupyter.widget-view+json": {
       "model_id": "dbfe2b6986214ae9a3ff595000faaed9",
       "version_major": 2,
       "version_minor": 0
      },
      "text/plain": [
       "Validation: |          | 0/? [00:00<?, ?it/s]"
      ]
     },
     "metadata": {},
     "output_type": "display_data"
    },
    {
     "data": {
      "application/vnd.jupyter.widget-view+json": {
       "model_id": "9d6cb15b37954eafbabc3ecc783a4af8",
       "version_major": 2,
       "version_minor": 0
      },
      "text/plain": [
       "Validation: |          | 0/? [00:00<?, ?it/s]"
      ]
     },
     "metadata": {},
     "output_type": "display_data"
    },
    {
     "data": {
      "application/vnd.jupyter.widget-view+json": {
       "model_id": "04cdd6b716704119a2964d0b634516df",
       "version_major": 2,
       "version_minor": 0
      },
      "text/plain": [
       "Validation: |          | 0/? [00:00<?, ?it/s]"
      ]
     },
     "metadata": {},
     "output_type": "display_data"
    },
    {
     "data": {
      "application/vnd.jupyter.widget-view+json": {
       "model_id": "77b06d8bb9484a62bbc0b354696f6ed0",
       "version_major": 2,
       "version_minor": 0
      },
      "text/plain": [
       "Validation: |          | 0/? [00:00<?, ?it/s]"
      ]
     },
     "metadata": {},
     "output_type": "display_data"
    },
    {
     "data": {
      "application/vnd.jupyter.widget-view+json": {
       "model_id": "df0bf72bf59748da9a76b064a94891ca",
       "version_major": 2,
       "version_minor": 0
      },
      "text/plain": [
       "Validation: |          | 0/? [00:00<?, ?it/s]"
      ]
     },
     "metadata": {},
     "output_type": "display_data"
    },
    {
     "data": {
      "application/vnd.jupyter.widget-view+json": {
       "model_id": "3ee627d240c349878cdbb610341e49a8",
       "version_major": 2,
       "version_minor": 0
      },
      "text/plain": [
       "Validation: |          | 0/? [00:00<?, ?it/s]"
      ]
     },
     "metadata": {},
     "output_type": "display_data"
    },
    {
     "data": {
      "application/vnd.jupyter.widget-view+json": {
       "model_id": "86c69053b47146569dba02bf4e77b976",
       "version_major": 2,
       "version_minor": 0
      },
      "text/plain": [
       "Validation: |          | 0/? [00:00<?, ?it/s]"
      ]
     },
     "metadata": {},
     "output_type": "display_data"
    },
    {
     "data": {
      "application/vnd.jupyter.widget-view+json": {
       "model_id": "4d4d908d8ce84c7899b1ae738e7ab822",
       "version_major": 2,
       "version_minor": 0
      },
      "text/plain": [
       "Validation: |          | 0/? [00:00<?, ?it/s]"
      ]
     },
     "metadata": {},
     "output_type": "display_data"
    },
    {
     "data": {
      "application/vnd.jupyter.widget-view+json": {
       "model_id": "d8069aef73e046baacd60371ea9a0d19",
       "version_major": 2,
       "version_minor": 0
      },
      "text/plain": [
       "Validation: |          | 0/? [00:00<?, ?it/s]"
      ]
     },
     "metadata": {},
     "output_type": "display_data"
    },
    {
     "data": {
      "application/vnd.jupyter.widget-view+json": {
       "model_id": "b8e31a4444b64560a2ca2602a60cbfd7",
       "version_major": 2,
       "version_minor": 0
      },
      "text/plain": [
       "Validation: |          | 0/? [00:00<?, ?it/s]"
      ]
     },
     "metadata": {},
     "output_type": "display_data"
    },
    {
     "data": {
      "application/vnd.jupyter.widget-view+json": {
       "model_id": "a7512378114743bf9be2e88e7e511f3c",
       "version_major": 2,
       "version_minor": 0
      },
      "text/plain": [
       "Validation: |          | 0/? [00:00<?, ?it/s]"
      ]
     },
     "metadata": {},
     "output_type": "display_data"
    },
    {
     "data": {
      "application/vnd.jupyter.widget-view+json": {
       "model_id": "f291248e3dc34fd192ab2880b9b3df3e",
       "version_major": 2,
       "version_minor": 0
      },
      "text/plain": [
       "Validation: |          | 0/? [00:00<?, ?it/s]"
      ]
     },
     "metadata": {},
     "output_type": "display_data"
    },
    {
     "data": {
      "application/vnd.jupyter.widget-view+json": {
       "model_id": "ded12d87939d40e99012ac9675ba9a6d",
       "version_major": 2,
       "version_minor": 0
      },
      "text/plain": [
       "Validation: |          | 0/? [00:00<?, ?it/s]"
      ]
     },
     "metadata": {},
     "output_type": "display_data"
    },
    {
     "data": {
      "application/vnd.jupyter.widget-view+json": {
       "model_id": "c48fe4bf5f57447c83e01897dbbbb721",
       "version_major": 2,
       "version_minor": 0
      },
      "text/plain": [
       "Validation: |          | 0/? [00:00<?, ?it/s]"
      ]
     },
     "metadata": {},
     "output_type": "display_data"
    },
    {
     "data": {
      "application/vnd.jupyter.widget-view+json": {
       "model_id": "75fa684582fc4e509fbab00d20e331a3",
       "version_major": 2,
       "version_minor": 0
      },
      "text/plain": [
       "Validation: |          | 0/? [00:00<?, ?it/s]"
      ]
     },
     "metadata": {},
     "output_type": "display_data"
    },
    {
     "data": {
      "application/vnd.jupyter.widget-view+json": {
       "model_id": "123ea46689bb40c98da8022c96e336f4",
       "version_major": 2,
       "version_minor": 0
      },
      "text/plain": [
       "Validation: |          | 0/? [00:00<?, ?it/s]"
      ]
     },
     "metadata": {},
     "output_type": "display_data"
    },
    {
     "data": {
      "application/vnd.jupyter.widget-view+json": {
       "model_id": "09f82be7cf304514a445a29d7e82eefd",
       "version_major": 2,
       "version_minor": 0
      },
      "text/plain": [
       "Validation: |          | 0/? [00:00<?, ?it/s]"
      ]
     },
     "metadata": {},
     "output_type": "display_data"
    },
    {
     "data": {
      "application/vnd.jupyter.widget-view+json": {
       "model_id": "83b167ff52da41378513acf96adc9e30",
       "version_major": 2,
       "version_minor": 0
      },
      "text/plain": [
       "Validation: |          | 0/? [00:00<?, ?it/s]"
      ]
     },
     "metadata": {},
     "output_type": "display_data"
    },
    {
     "data": {
      "application/vnd.jupyter.widget-view+json": {
       "model_id": "853372a5d39d42588ffcb7d2410bd48a",
       "version_major": 2,
       "version_minor": 0
      },
      "text/plain": [
       "Validation: |          | 0/? [00:00<?, ?it/s]"
      ]
     },
     "metadata": {},
     "output_type": "display_data"
    }
   ],
   "source": [
    "# fit network\n",
    "trainer.fit(\n",
    "    tft,\n",
    "    train_dataloaders=train_dataloader,\n",
    "    val_dataloaders=val_dataloader,\n",
    ")"
   ]
  },
  {
   "cell_type": "code",
   "execution_count": 60,
   "metadata": {},
   "outputs": [
    {
     "name": "stderr",
     "output_type": "stream",
     "text": [
      "c:\\Users\\Sathmika\\anaconda3\\Lib\\site-packages\\lightning\\pytorch\\utilities\\parsing.py:208: Attribute 'loss' is an instance of `nn.Module` and is already saved during checkpointing. It is recommended to ignore them using `self.save_hyperparameters(ignore=['loss'])`.\n",
      "c:\\Users\\Sathmika\\anaconda3\\Lib\\site-packages\\lightning\\pytorch\\utilities\\parsing.py:208: Attribute 'logging_metrics' is an instance of `nn.Module` and is already saved during checkpointing. It is recommended to ignore them using `self.save_hyperparameters(ignore=['logging_metrics'])`.\n"
     ]
    }
   ],
   "source": [
    "# load the best model according to the validation loss\n",
    "# (given that we use early stopping, this is not necessarily the last epoch)\n",
    "best_model_path = trainer.checkpoint_callback.best_model_path\n",
    "best_tft = TemporalFusionTransformer.load_from_checkpoint(best_model_path)"
   ]
  },
  {
   "cell_type": "code",
   "execution_count": 61,
   "metadata": {},
   "outputs": [
    {
     "name": "stderr",
     "output_type": "stream",
     "text": [
      "GPU available: True (cuda), used: True\n",
      "TPU available: False, using: 0 TPU cores\n",
      "HPU available: False, using: 0 HPUs\n",
      "LOCAL_RANK: 0 - CUDA_VISIBLE_DEVICES: [0]\n",
      "c:\\Users\\Sathmika\\anaconda3\\Lib\\site-packages\\lightning\\pytorch\\trainer\\connectors\\data_connector.py:424: The 'predict_dataloader' does not have many workers which may be a bottleneck. Consider increasing the value of the `num_workers` argument` to `num_workers=7` in the `DataLoader` to improve performance.\n"
     ]
    },
    {
     "data": {
      "text/plain": [
       "tensor(0.0513, device='cuda:0')"
      ]
     },
     "execution_count": 61,
     "metadata": {},
     "output_type": "execute_result"
    }
   ],
   "source": [
    "# calcualte mean absolute error on validation set\n",
    "predictions = best_tft.predict(val_dataloader, return_y=True, trainer_kwargs=dict(accelerator=\"gpu\"))\n",
    "MAE()(predictions.output, predictions.y)"
   ]
  },
  {
   "cell_type": "code",
   "execution_count": 62,
   "metadata": {},
   "outputs": [
    {
     "name": "stderr",
     "output_type": "stream",
     "text": [
      "GPU available: True (cuda), used: True\n",
      "TPU available: False, using: 0 TPU cores\n",
      "HPU available: False, using: 0 HPUs\n",
      "LOCAL_RANK: 0 - CUDA_VISIBLE_DEVICES: [0]\n"
     ]
    }
   ],
   "source": [
    "# raw predictions are a dictionary from which all kind of information including quantiles can be extracted\n",
    "raw_predictions = best_tft.predict(val_dataloader, mode=\"raw\", return_x=True)"
   ]
  },
  {
   "cell_type": "code",
   "execution_count": 63,
   "metadata": {},
   "outputs": [
    {
     "data": {
      "image/png": "[encoded data removed]",
      "text/plain": [
       "<Figure size 640x480 with 2 Axes>"
      ]
     },
     "metadata": {},
     "output_type": "display_data"
    }
   ],
   "source": [
    "# Access the predictions from the named tuple\n",
    "predictions_tensor = raw_predictions.output.prediction\n",
    "\n",
    "# Get the number of available predictions (first dimension of the tensor)\n",
    "num_predictions = predictions_tensor.size(0)\n",
    "\n",
    "# Adjust loop to avoid out-of-bounds error\n",
    "for idx in range(min(10, num_predictions)):  # Only iterate over available predictions\n",
    "    best_tft.plot_prediction(raw_predictions.x, raw_predictions.output, idx=idx, add_loss_to_title=True)"
   ]
  },
  {
   "cell_type": "code",
   "execution_count": 64,
   "metadata": {},
   "outputs": [
    {
     "name": "stderr",
     "output_type": "stream",
     "text": [
      "GPU available: True (cuda), used: True\n",
      "TPU available: False, using: 0 TPU cores\n",
      "HPU available: False, using: 0 HPUs\n",
      "LOCAL_RANK: 0 - CUDA_VISIBLE_DEVICES: [0]\n"
     ]
    },
    {
     "name": "stdout",
     "output_type": "stream",
     "text": [
      "Validation MAE: 0.051253437995910645\n"
     ]
    }
   ],
   "source": [
    "# compute the mean absolute error on validation set\n",
    "actuals = torch.cat([y[0] for _, y in iter(val_dataloader)])\n",
    "val_prediction_results = best_tft.predict(val_dataloader)\n",
    "print(f\"Validation MAE: {(actuals - val_prediction_results.cpu().numpy()).abs().mean()}\")"
   ]
  },
  {
   "cell_type": "code",
   "execution_count": 65,
   "metadata": {},
   "outputs": [
    {
     "name": "stderr",
     "output_type": "stream",
     "text": [
      "GPU available: True (cuda), used: True\n",
      "TPU available: False, using: 0 TPU cores\n",
      "HPU available: False, using: 0 HPUs\n",
      "LOCAL_RANK: 0 - CUDA_VISIBLE_DEVICES: [0]\n"
     ]
    }
   ],
   "source": [
    "# raw predictions are a dictionary from which all kind of information including quantiles can be extracted\n",
    "val_prediction_results = best_tft.predict(val_dataloader, mode=\"raw\", return_x=True)"
   ]
  },
  {
   "cell_type": "code",
   "execution_count": 66,
   "metadata": {},
   "outputs": [
    {
     "data": {
      "image/png": "[encoded data removed]",
      "text/plain": [
       "<Figure size 2300x500 with 2 Axes>"
      ]
     },
     "metadata": {},
     "output_type": "display_data"
    }
   ],
   "source": [
    "# Plot actuals vs prediction and attention\n",
    "# for idx in range(val_predictions.prediction.shape[0]):\n",
    "for idx in range(1):\n",
    "    fig, ax = plt.subplots(figsize=(23,5))\n",
    "    best_tft.plot_prediction(val_prediction_results.x, # network input\n",
    "                            val_prediction_results.output, # network output\n",
    "                            idx=idx,\n",
    "                            add_loss_to_title=True,\n",
    "                            ax=ax)"
   ]
  }
 ],
 "metadata": {
  "kernelspec": {
   "display_name": "base",
   "language": "python",
   "name": "python3"
  },
  "language_info": {
   "codemirror_mode": {
    "name": "ipython",
    "version": 3
   },
   "file_extension": ".py",
   "mimetype": "text/x-python",
   "name": "python",
   "nbconvert_exporter": "python",
   "pygments_lexer": "ipython3",
   "version": "3.12.4"
  }
 },
 "nbformat": 4,
 "nbformat_minor": 2
}
