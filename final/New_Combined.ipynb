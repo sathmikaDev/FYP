{
 "cells": [
  {
   "cell_type": "code",
   "execution_count": 1,
   "metadata": {},
   "outputs": [],
   "source": [
    "import lightning.pytorch as pl\n",
    "from lightning.pytorch.loggers import TensorBoardLogger\n",
    "from lightning.pytorch.callbacks import EarlyStopping, LearningRateMonitor\n",
    "# import dataset, network to train and metric to optimize\n",
    "from pytorch_forecasting import TimeSeriesDataSet, TemporalFusionTransformer, QuantileLoss, GroupNormalizer\n",
    "from lightning.pytorch.tuner import Tuner\n",
    "import torch\n",
    "from pytorch_forecasting.metrics import MAE\n",
    "import pandas as pd"
   ]
  },
  {
   "cell_type": "code",
   "execution_count": 2,
   "metadata": {},
   "outputs": [],
   "source": [
    "data = pd.read_csv('Out_120.csv')"
   ]
  },
  {
   "cell_type": "code",
   "execution_count": 46,
   "metadata": {},
   "outputs": [],
   "source": [
    "# data.head()\n",
    "data['Date'] = pd.to_datetime(data['Date'])"
   ]
  },
  {
   "cell_type": "code",
   "execution_count": 5,
   "metadata": {},
   "outputs": [
    {
     "name": "stderr",
     "output_type": "stream",
     "text": [
      "[*********************100%***********************]  1 of 1 completed\n"
     ]
    }
   ],
   "source": [
    "# download eth, xrp, sol data\n",
    "import yfinance as yf\n",
    "\n",
    "# download bitcoin data\n",
    "start_date = \"2019-08-01\"\n",
    "end_date = \"2024-09-01\"\n",
    "ETH_USD = yf.download(\"ETH-USD\", start=start_date, end=end_date)"
   ]
  },
  {
   "cell_type": "code",
   "execution_count": 6,
   "metadata": {},
   "outputs": [
    {
     "name": "stderr",
     "output_type": "stream",
     "text": [
      "[*********************100%***********************]  1 of 1 completed\n"
     ]
    }
   ],
   "source": [
    "LTC_USD = yf.download(\"LTC-USD\", start=start_date, end=end_date)"
   ]
  },
  {
   "cell_type": "code",
   "execution_count": 13,
   "metadata": {},
   "outputs": [],
   "source": [
    "# ETH_USD.head()\n",
    "# ETH_USD.columns = ETH_USD.columns.droplevel(1)\n",
    "LTC_USD.columns = LTC_USD.columns.droplevel(1)"
   ]
  },
  {
   "cell_type": "code",
   "execution_count": 17,
   "metadata": {},
   "outputs": [
    {
     "data": {
      "text/html": [
       "<div>\n",
       "<style scoped>\n",
       "    .dataframe tbody tr th:only-of-type {\n",
       "        vertical-align: middle;\n",
       "    }\n",
       "\n",
       "    .dataframe tbody tr th {\n",
       "        vertical-align: top;\n",
       "    }\n",
       "\n",
       "    .dataframe thead th {\n",
       "        text-align: right;\n",
       "    }\n",
       "</style>\n",
       "<table border=\"1\" class=\"dataframe\">\n",
       "  <thead>\n",
       "    <tr style=\"text-align: right;\">\n",
       "      <th>Price</th>\n",
       "      <th>LTC_Price</th>\n",
       "      <th>LTC_Volume</th>\n",
       "    </tr>\n",
       "    <tr>\n",
       "      <th>Date</th>\n",
       "      <th></th>\n",
       "      <th></th>\n",
       "    </tr>\n",
       "  </thead>\n",
       "  <tbody>\n",
       "    <tr>\n",
       "      <th>2019-08-01</th>\n",
       "      <td>99.179726</td>\n",
       "      <td>2953184689</td>\n",
       "    </tr>\n",
       "    <tr>\n",
       "      <th>2019-08-02</th>\n",
       "      <td>94.941292</td>\n",
       "      <td>2882784454</td>\n",
       "    </tr>\n",
       "    <tr>\n",
       "      <th>2019-08-03</th>\n",
       "      <td>94.580879</td>\n",
       "      <td>2512959054</td>\n",
       "    </tr>\n",
       "    <tr>\n",
       "      <th>2019-08-04</th>\n",
       "      <td>93.203781</td>\n",
       "      <td>2427608117</td>\n",
       "    </tr>\n",
       "    <tr>\n",
       "      <th>2019-08-05</th>\n",
       "      <td>96.834648</td>\n",
       "      <td>4134352823</td>\n",
       "    </tr>\n",
       "  </tbody>\n",
       "</table>\n",
       "</div>"
      ],
      "text/plain": [
       "Price       LTC_Price  LTC_Volume\n",
       "Date                             \n",
       "2019-08-01  99.179726  2953184689\n",
       "2019-08-02  94.941292  2882784454\n",
       "2019-08-03  94.580879  2512959054\n",
       "2019-08-04  93.203781  2427608117\n",
       "2019-08-05  96.834648  4134352823"
      ]
     },
     "execution_count": 17,
     "metadata": {},
     "output_type": "execute_result"
    }
   ],
   "source": [
    "LTC_USD.head()"
   ]
  },
  {
   "cell_type": "code",
   "execution_count": 15,
   "metadata": {},
   "outputs": [],
   "source": [
    "# ETH_USD.rename(columns={'Close': 'ETH_Price', 'Volume': 'ETH_Volume'}, inplace=True)\n",
    "LTC_USD.rename(columns={'Close': 'LTC_Price', 'Volume': 'LTC_Volume'}, inplace=True)"
   ]
  },
  {
   "cell_type": "code",
   "execution_count": 16,
   "metadata": {},
   "outputs": [],
   "source": [
    "# ETH_USD = ETH_USD.drop(columns=['High', 'Low', 'Open'])\n",
    "LTC_USD = LTC_USD.drop(columns=['High', 'Low', 'Open'])"
   ]
  },
  {
   "cell_type": "code",
   "execution_count": 21,
   "metadata": {},
   "outputs": [],
   "source": [
    "LTC_USD['Date'] = pd.to_datetime(LTC_USD['Date'])\n",
    "# LTC_USD.to_csv(\"LTC_USD.csv\", index=True)"
   ]
  },
  {
   "cell_type": "code",
   "execution_count": 27,
   "metadata": {},
   "outputs": [],
   "source": [
    "ETH_USD['Date'] = pd.to_datetime(ETH_USD['Date'])\n",
    "# ETH_USD.to_csv(\"ETH_USD.csv\", index=True)"
   ]
  },
  {
   "cell_type": "code",
   "execution_count": 23,
   "metadata": {},
   "outputs": [],
   "source": [
    "ETH_USD = pd.read_csv('ETH_USD.csv')"
   ]
  },
  {
   "cell_type": "code",
   "execution_count": 26,
   "metadata": {},
   "outputs": [
    {
     "data": {
      "text/plain": [
       "Date           object\n",
       "ETH_Price     float64\n",
       "ETH_Volume      int64\n",
       "dtype: object"
      ]
     },
     "execution_count": 26,
     "metadata": {},
     "output_type": "execute_result"
    }
   ],
   "source": [
    "ETH_USD.dtypes"
   ]
  },
  {
   "cell_type": "code",
   "execution_count": 28,
   "metadata": {},
   "outputs": [],
   "source": [
    "Merged = LTC_USD.merge(ETH_USD, on=\"Date\", how=\"outer\")"
   ]
  },
  {
   "cell_type": "code",
   "execution_count": 34,
   "metadata": {},
   "outputs": [
    {
     "data": {
      "text/html": [
       "<div>\n",
       "<style scoped>\n",
       "    .dataframe tbody tr th:only-of-type {\n",
       "        vertical-align: middle;\n",
       "    }\n",
       "\n",
       "    .dataframe tbody tr th {\n",
       "        vertical-align: top;\n",
       "    }\n",
       "\n",
       "    .dataframe thead th {\n",
       "        text-align: right;\n",
       "    }\n",
       "</style>\n",
       "<table border=\"1\" class=\"dataframe\">\n",
       "  <thead>\n",
       "    <tr style=\"text-align: right;\">\n",
       "      <th></th>\n",
       "      <th>Date</th>\n",
       "      <th>LTC_Price</th>\n",
       "      <th>LTC_Volume</th>\n",
       "      <th>ETH_Price</th>\n",
       "      <th>ETH_Volume</th>\n",
       "    </tr>\n",
       "  </thead>\n",
       "  <tbody>\n",
       "    <tr>\n",
       "      <th>count</th>\n",
       "      <td>1858</td>\n",
       "      <td>1858.000000</td>\n",
       "      <td>1858.000000</td>\n",
       "      <td>1858.000000</td>\n",
       "      <td>1858.000000</td>\n",
       "    </tr>\n",
       "    <tr>\n",
       "      <th>mean</th>\n",
       "      <td>2022-02-14 11:59:59.999999744</td>\n",
       "      <td>0.178252</td>\n",
       "      <td>0.111443</td>\n",
       "      <td>0.353113</td>\n",
       "      <td>0.161509</td>\n",
       "    </tr>\n",
       "    <tr>\n",
       "      <th>min</th>\n",
       "      <td>2019-08-01 00:00:00</td>\n",
       "      <td>0.000000</td>\n",
       "      <td>0.000000</td>\n",
       "      <td>0.000000</td>\n",
       "      <td>0.000000</td>\n",
       "    </tr>\n",
       "    <tr>\n",
       "      <th>25%</th>\n",
       "      <td>2020-11-07 06:00:00</td>\n",
       "      <td>0.079226</td>\n",
       "      <td>0.019205</td>\n",
       "      <td>0.071782</td>\n",
       "      <td>0.076422</td>\n",
       "    </tr>\n",
       "    <tr>\n",
       "      <th>50%</th>\n",
       "      <td>2022-02-14 12:00:00</td>\n",
       "      <td>0.123611</td>\n",
       "      <td>0.053573</td>\n",
       "      <td>0.349314</td>\n",
       "      <td>0.136651</td>\n",
       "    </tr>\n",
       "    <tr>\n",
       "      <th>75%</th>\n",
       "      <td>2023-05-24 18:00:00</td>\n",
       "      <td>0.217409</td>\n",
       "      <td>0.156083</td>\n",
       "      <td>0.538311</td>\n",
       "      <td>0.207722</td>\n",
       "    </tr>\n",
       "    <tr>\n",
       "      <th>max</th>\n",
       "      <td>2024-08-31 00:00:00</td>\n",
       "      <td>1.000000</td>\n",
       "      <td>1.000000</td>\n",
       "      <td>1.000000</td>\n",
       "      <td>1.000000</td>\n",
       "    </tr>\n",
       "    <tr>\n",
       "      <th>std</th>\n",
       "      <td>NaN</td>\n",
       "      <td>0.151198</td>\n",
       "      <td>0.135994</td>\n",
       "      <td>0.255221</td>\n",
       "      <td>0.119080</td>\n",
       "    </tr>\n",
       "  </tbody>\n",
       "</table>\n",
       "</div>"
      ],
      "text/plain": [
       "                                Date    LTC_Price   LTC_Volume    ETH_Price  \\\n",
       "count                           1858  1858.000000  1858.000000  1858.000000   \n",
       "mean   2022-02-14 11:59:59.999999744     0.178252     0.111443     0.353113   \n",
       "min              2019-08-01 00:00:00     0.000000     0.000000     0.000000   \n",
       "25%              2020-11-07 06:00:00     0.079226     0.019205     0.071782   \n",
       "50%              2022-02-14 12:00:00     0.123611     0.053573     0.349314   \n",
       "75%              2023-05-24 18:00:00     0.217409     0.156083     0.538311   \n",
       "max              2024-08-31 00:00:00     1.000000     1.000000     1.000000   \n",
       "std                              NaN     0.151198     0.135994     0.255221   \n",
       "\n",
       "        ETH_Volume  \n",
       "count  1858.000000  \n",
       "mean      0.161509  \n",
       "min       0.000000  \n",
       "25%       0.076422  \n",
       "50%       0.136651  \n",
       "75%       0.207722  \n",
       "max       1.000000  \n",
       "std       0.119080  "
      ]
     },
     "execution_count": 34,
     "metadata": {},
     "output_type": "execute_result"
    }
   ],
   "source": [
    "Merged.describe()"
   ]
  },
  {
   "cell_type": "code",
   "execution_count": 30,
   "metadata": {},
   "outputs": [],
   "source": [
    "# Separate the DateTime columns and numeric columns\n",
    "from sklearn.preprocessing import MinMaxScaler\n",
    "\n",
    "\n",
    "date_columns = Merged.select_dtypes(include=['datetime64']).columns\n",
    "numeric_columns = Merged.select_dtypes(include=['float64', 'int64']).columns\n",
    "\n",
    "# Initialize MinMaxScaler\n",
    "scaler = MinMaxScaler()\n",
    "\n",
    "# Scale only the numeric columns\n",
    "Merged[numeric_columns] = scaler.fit_transform(Merged[numeric_columns])"
   ]
  },
  {
   "cell_type": "code",
   "execution_count": 33,
   "metadata": {},
   "outputs": [
    {
     "name": "stdout",
     "output_type": "stream",
     "text": [
      "Are there any missing values? False\n"
     ]
    }
   ],
   "source": [
    "# check for missing values\n",
    "BTC_USD_Missing = Merged.isnull().any().any()\n",
    "print(f\"Are there any missing values? {BTC_USD_Missing}\")"
   ]
  },
  {
   "cell_type": "code",
   "execution_count": 43,
   "metadata": {},
   "outputs": [
    {
     "data": {
      "text/html": [
       "<div>\n",
       "<style scoped>\n",
       "    .dataframe tbody tr th:only-of-type {\n",
       "        vertical-align: middle;\n",
       "    }\n",
       "\n",
       "    .dataframe tbody tr th {\n",
       "        vertical-align: top;\n",
       "    }\n",
       "\n",
       "    .dataframe thead th {\n",
       "        text-align: right;\n",
       "    }\n",
       "</style>\n",
       "<table border=\"1\" class=\"dataframe\">\n",
       "  <thead>\n",
       "    <tr style=\"text-align: right;\">\n",
       "      <th></th>\n",
       "      <th>Date</th>\n",
       "      <th>LTC_Price</th>\n",
       "      <th>LTC_Volume</th>\n",
       "      <th>ETH_Price</th>\n",
       "      <th>ETH_Volume</th>\n",
       "    </tr>\n",
       "  </thead>\n",
       "  <tbody>\n",
       "    <tr>\n",
       "      <th>27</th>\n",
       "      <td>2019-08-28</td>\n",
       "      <td>0.102652</td>\n",
       "      <td>0.154545</td>\n",
       "      <td>0.013460</td>\n",
       "      <td>0.056006</td>\n",
       "    </tr>\n",
       "    <tr>\n",
       "      <th>28</th>\n",
       "      <td>2019-08-29</td>\n",
       "      <td>0.093292</td>\n",
       "      <td>0.166255</td>\n",
       "      <td>0.012530</td>\n",
       "      <td>0.061260</td>\n",
       "    </tr>\n",
       "    <tr>\n",
       "      <th>29</th>\n",
       "      <td>2019-08-30</td>\n",
       "      <td>0.093953</td>\n",
       "      <td>0.126259</td>\n",
       "      <td>0.012385</td>\n",
       "      <td>0.044840</td>\n",
       "    </tr>\n",
       "    <tr>\n",
       "      <th>30</th>\n",
       "      <td>2019-08-31</td>\n",
       "      <td>0.094637</td>\n",
       "      <td>0.120992</td>\n",
       "      <td>0.013158</td>\n",
       "      <td>0.045492</td>\n",
       "    </tr>\n",
       "    <tr>\n",
       "      <th>31</th>\n",
       "      <td>2019-09-01</td>\n",
       "      <td>0.099049</td>\n",
       "      <td>0.117904</td>\n",
       "      <td>0.012980</td>\n",
       "      <td>0.042150</td>\n",
       "    </tr>\n",
       "  </tbody>\n",
       "</table>\n",
       "</div>"
      ],
      "text/plain": [
       "         Date  LTC_Price  LTC_Volume  ETH_Price  ETH_Volume\n",
       "27 2019-08-28   0.102652    0.154545   0.013460    0.056006\n",
       "28 2019-08-29   0.093292    0.166255   0.012530    0.061260\n",
       "29 2019-08-30   0.093953    0.126259   0.012385    0.044840\n",
       "30 2019-08-31   0.094637    0.120992   0.013158    0.045492\n",
       "31 2019-09-01   0.099049    0.117904   0.012980    0.042150"
      ]
     },
     "execution_count": 43,
     "metadata": {},
     "output_type": "execute_result"
    }
   ],
   "source": [
    "Merged.head()"
   ]
  },
  {
   "cell_type": "code",
   "execution_count": 38,
   "metadata": {},
   "outputs": [],
   "source": [
    "# remove unwanted dates - head\n",
    "start_date = '2019-08-01'\n",
    "end_date = '2019-08-27'\n",
    "\n",
    "Merged = Merged[~Merged['Date'].between(start_date, end_date)]"
   ]
  },
  {
   "cell_type": "code",
   "execution_count": 41,
   "metadata": {},
   "outputs": [],
   "source": [
    "# remove unwanted dates - tail\n",
    "start_date = '2024-08-24'\n",
    "end_date = '2024-08-31'\n",
    "\n",
    "Merged = Merged[~Merged['Date'].between(start_date, end_date)]"
   ]
  },
  {
   "cell_type": "code",
   "execution_count": 47,
   "metadata": {},
   "outputs": [],
   "source": [
    "# merge with the main dataset\n",
    "Merged_Final = Merged.merge(data, on=\"Date\", how=\"outer\")"
   ]
  },
  {
   "cell_type": "code",
   "execution_count": 49,
   "metadata": {},
   "outputs": [
    {
     "data": {
      "text/html": [
       "<div>\n",
       "<style scoped>\n",
       "    .dataframe tbody tr th:only-of-type {\n",
       "        vertical-align: middle;\n",
       "    }\n",
       "\n",
       "    .dataframe tbody tr th {\n",
       "        vertical-align: top;\n",
       "    }\n",
       "\n",
       "    .dataframe thead th {\n",
       "        text-align: right;\n",
       "    }\n",
       "</style>\n",
       "<table border=\"1\" class=\"dataframe\">\n",
       "  <thead>\n",
       "    <tr style=\"text-align: right;\">\n",
       "      <th></th>\n",
       "      <th>Unnamed: 0</th>\n",
       "      <th>Date</th>\n",
       "      <th>BTC_Price</th>\n",
       "      <th>BTC_Volume</th>\n",
       "      <th>Gold_Price</th>\n",
       "      <th>Interest_Rate</th>\n",
       "      <th>VIX_Close</th>\n",
       "    </tr>\n",
       "  </thead>\n",
       "  <tbody>\n",
       "    <tr>\n",
       "      <th>0</th>\n",
       "      <td>0</td>\n",
       "      <td>2019-08-28</td>\n",
       "      <td>0.070231</td>\n",
       "      <td>0.035507</td>\n",
       "      <td>0.079985</td>\n",
       "      <td>0.393195</td>\n",
       "      <td>0.109768</td>\n",
       "    </tr>\n",
       "    <tr>\n",
       "      <th>1</th>\n",
       "      <td>1</td>\n",
       "      <td>2019-08-29</td>\n",
       "      <td>0.066646</td>\n",
       "      <td>0.033893</td>\n",
       "      <td>0.071482</td>\n",
       "      <td>0.393195</td>\n",
       "      <td>0.089108</td>\n",
       "    </tr>\n",
       "    <tr>\n",
       "      <th>2</th>\n",
       "      <td>2</td>\n",
       "      <td>2019-08-30</td>\n",
       "      <td>0.067937</td>\n",
       "      <td>0.023910</td>\n",
       "      <td>0.064474</td>\n",
       "      <td>0.395085</td>\n",
       "      <td>0.104568</td>\n",
       "    </tr>\n",
       "    <tr>\n",
       "      <th>3</th>\n",
       "      <td>3</td>\n",
       "      <td>2019-08-31</td>\n",
       "      <td>0.068414</td>\n",
       "      <td>0.017717</td>\n",
       "      <td>0.064474</td>\n",
       "      <td>0.395085</td>\n",
       "      <td>0.104568</td>\n",
       "    </tr>\n",
       "    <tr>\n",
       "      <th>4</th>\n",
       "      <td>4</td>\n",
       "      <td>2019-09-01</td>\n",
       "      <td>0.070283</td>\n",
       "      <td>0.017690</td>\n",
       "      <td>0.064474</td>\n",
       "      <td>0.395085</td>\n",
       "      <td>0.104568</td>\n",
       "    </tr>\n",
       "  </tbody>\n",
       "</table>\n",
       "</div>"
      ],
      "text/plain": [
       "   Unnamed: 0       Date  BTC_Price  BTC_Volume  Gold_Price  Interest_Rate  \\\n",
       "0           0 2019-08-28   0.070231    0.035507    0.079985       0.393195   \n",
       "1           1 2019-08-29   0.066646    0.033893    0.071482       0.393195   \n",
       "2           2 2019-08-30   0.067937    0.023910    0.064474       0.395085   \n",
       "3           3 2019-08-31   0.068414    0.017717    0.064474       0.395085   \n",
       "4           4 2019-09-01   0.070283    0.017690    0.064474       0.395085   \n",
       "\n",
       "   VIX_Close  \n",
       "0   0.109768  \n",
       "1   0.089108  \n",
       "2   0.104568  \n",
       "3   0.104568  \n",
       "4   0.104568  "
      ]
     },
     "execution_count": 49,
     "metadata": {},
     "output_type": "execute_result"
    }
   ],
   "source": [
    "data.head()"
   ]
  },
  {
   "cell_type": "code",
   "execution_count": 51,
   "metadata": {},
   "outputs": [
    {
     "data": {
      "text/html": [
       "<div>\n",
       "<style scoped>\n",
       "    .dataframe tbody tr th:only-of-type {\n",
       "        vertical-align: middle;\n",
       "    }\n",
       "\n",
       "    .dataframe tbody tr th {\n",
       "        vertical-align: top;\n",
       "    }\n",
       "\n",
       "    .dataframe thead th {\n",
       "        text-align: right;\n",
       "    }\n",
       "</style>\n",
       "<table border=\"1\" class=\"dataframe\">\n",
       "  <thead>\n",
       "    <tr style=\"text-align: right;\">\n",
       "      <th></th>\n",
       "      <th>Date</th>\n",
       "      <th>LTC_Price</th>\n",
       "      <th>LTC_Volume</th>\n",
       "      <th>ETH_Price</th>\n",
       "      <th>ETH_Volume</th>\n",
       "      <th>BTC_Price</th>\n",
       "      <th>BTC_Volume</th>\n",
       "      <th>Gold_Price</th>\n",
       "      <th>Interest_Rate</th>\n",
       "      <th>VIX_Close</th>\n",
       "    </tr>\n",
       "  </thead>\n",
       "  <tbody>\n",
       "    <tr>\n",
       "      <th>0</th>\n",
       "      <td>2019-08-28</td>\n",
       "      <td>0.102652</td>\n",
       "      <td>0.154545</td>\n",
       "      <td>0.013460</td>\n",
       "      <td>0.056006</td>\n",
       "      <td>0.070231</td>\n",
       "      <td>0.035507</td>\n",
       "      <td>0.079985</td>\n",
       "      <td>0.393195</td>\n",
       "      <td>0.109768</td>\n",
       "    </tr>\n",
       "    <tr>\n",
       "      <th>1</th>\n",
       "      <td>2019-08-29</td>\n",
       "      <td>0.093292</td>\n",
       "      <td>0.166255</td>\n",
       "      <td>0.012530</td>\n",
       "      <td>0.061260</td>\n",
       "      <td>0.066646</td>\n",
       "      <td>0.033893</td>\n",
       "      <td>0.071482</td>\n",
       "      <td>0.393195</td>\n",
       "      <td>0.089108</td>\n",
       "    </tr>\n",
       "    <tr>\n",
       "      <th>2</th>\n",
       "      <td>2019-08-30</td>\n",
       "      <td>0.093953</td>\n",
       "      <td>0.126259</td>\n",
       "      <td>0.012385</td>\n",
       "      <td>0.044840</td>\n",
       "      <td>0.067937</td>\n",
       "      <td>0.023910</td>\n",
       "      <td>0.064474</td>\n",
       "      <td>0.395085</td>\n",
       "      <td>0.104568</td>\n",
       "    </tr>\n",
       "    <tr>\n",
       "      <th>3</th>\n",
       "      <td>2019-08-31</td>\n",
       "      <td>0.094637</td>\n",
       "      <td>0.120992</td>\n",
       "      <td>0.013158</td>\n",
       "      <td>0.045492</td>\n",
       "      <td>0.068414</td>\n",
       "      <td>0.017717</td>\n",
       "      <td>0.064474</td>\n",
       "      <td>0.395085</td>\n",
       "      <td>0.104568</td>\n",
       "    </tr>\n",
       "    <tr>\n",
       "      <th>4</th>\n",
       "      <td>2019-09-01</td>\n",
       "      <td>0.099049</td>\n",
       "      <td>0.117904</td>\n",
       "      <td>0.012980</td>\n",
       "      <td>0.042150</td>\n",
       "      <td>0.070283</td>\n",
       "      <td>0.017690</td>\n",
       "      <td>0.064474</td>\n",
       "      <td>0.395085</td>\n",
       "      <td>0.104568</td>\n",
       "    </tr>\n",
       "  </tbody>\n",
       "</table>\n",
       "</div>"
      ],
      "text/plain": [
       "        Date  LTC_Price  LTC_Volume  ETH_Price  ETH_Volume  BTC_Price  \\\n",
       "0 2019-08-28   0.102652    0.154545   0.013460    0.056006   0.070231   \n",
       "1 2019-08-29   0.093292    0.166255   0.012530    0.061260   0.066646   \n",
       "2 2019-08-30   0.093953    0.126259   0.012385    0.044840   0.067937   \n",
       "3 2019-08-31   0.094637    0.120992   0.013158    0.045492   0.068414   \n",
       "4 2019-09-01   0.099049    0.117904   0.012980    0.042150   0.070283   \n",
       "\n",
       "   BTC_Volume  Gold_Price  Interest_Rate  VIX_Close  \n",
       "0    0.035507    0.079985       0.393195   0.109768  \n",
       "1    0.033893    0.071482       0.393195   0.089108  \n",
       "2    0.023910    0.064474       0.395085   0.104568  \n",
       "3    0.017717    0.064474       0.395085   0.104568  \n",
       "4    0.017690    0.064474       0.395085   0.104568  "
      ]
     },
     "execution_count": 51,
     "metadata": {},
     "output_type": "execute_result"
    }
   ],
   "source": [
    "Merged_Final.head()"
   ]
  },
  {
   "cell_type": "code",
   "execution_count": 50,
   "metadata": {},
   "outputs": [],
   "source": [
    "Merged_Final = Merged_Final.drop(columns=['Unnamed: 0'])"
   ]
  },
  {
   "cell_type": "code",
   "execution_count": 52,
   "metadata": {},
   "outputs": [],
   "source": [
    "Merged_Final.to_csv('Merged_Final.csv', index=False)"
   ]
  },
  {
   "cell_type": "code",
   "execution_count": null,
   "metadata": {},
   "outputs": [],
   "source": []
  }
 ],
 "metadata": {
  "kernelspec": {
   "display_name": "base",
   "language": "python",
   "name": "python3"
  },
  "language_info": {
   "codemirror_mode": {
    "name": "ipython",
    "version": 3
   },
   "file_extension": ".py",
   "mimetype": "text/x-python",
   "name": "python",
   "nbconvert_exporter": "python",
   "pygments_lexer": "ipython3",
   "version": "3.12.4"
  }
 },
 "nbformat": 4,
 "nbformat_minor": 2
}
